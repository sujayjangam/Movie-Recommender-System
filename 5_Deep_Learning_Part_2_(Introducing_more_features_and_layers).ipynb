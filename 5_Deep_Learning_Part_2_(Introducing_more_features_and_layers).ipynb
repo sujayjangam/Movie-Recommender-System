{
 "cells": [
  {
   "cell_type": "markdown",
   "id": "13c38d51",
   "metadata": {},
   "source": [
    "# Deep Learning for Recommender Systems (Part 2)"
   ]
  },
  {
   "cell_type": "markdown",
   "id": "9de1b51e",
   "metadata": {},
   "source": [
    "In the previous notebook, we managed to build a simple `NN` with a `Retrieval` and `Ranking` model. In this notebook, we will expand on that and aim to build a more complicated model with all the features we have available in our dataset."
   ]
  },
  {
   "cell_type": "markdown",
   "id": "769f2b42",
   "metadata": {},
   "source": [
    "Let's jump right in!"
   ]
  },
  {
   "cell_type": "markdown",
   "id": "cf6eff12",
   "metadata": {},
   "source": [
    "This is the **FIFTH** of five notebooks:<br>\n",
    "[1. Data Exploration and EDA](1_Data_Exploration_and_EDA.ipynb)</br>\n",
    "[2. Simple Content and Collaborative Filtering Methods](2_Simple_Content_and_Collaborative_Filtering_Models.ipynb)</br>\n",
    "[3. Surprise Library Models](3_Surprise_Library_Models.ipynb)</br>\n",
    "[4. Deep Learning Part 1](4_Deep_Learning_Part_1_(Basic).ipynb)</br>\n",
    "**5. Deep Learning Part 2 (Current Notebook)**</br>"
   ]
  },
  {
   "cell_type": "markdown",
   "id": "1dbdc18e",
   "metadata": {},
   "source": [
    "# Contents of this notebook:\n",
    "[1. Imports](#Imports)<br>\n",
    "[2. Reading in the data](#Reading-in-the-data)<br>\n",
    "[3. Model Architecture](#Model-Architecture)<br>\n",
    "[4. Retrieval Model](#Retrieval-Model)<br>\n",
    "* [MovieIds and UserIds](#MovieIds-and-UserIds)<br>\n",
    "* [Genres](#Genres)<br>\n",
    "* [Movie Titles](#Movie-Titles)<br>\n",
    "* [Query Tower](#Query-Tower)<br>\n",
    "* [Candidate Tower](#Candidate-Tower)<br>\n",
    "* [Combined Retrieval Model](#Combined-Retrieval-Model)<br>\n",
    "\n",
    "[5. Running the Retrieval model](#Running-the-Retrieval-model)<br>\n",
    "* [Evaluating the different depths](#Evaluating-the-different-depths)<br>\n",
    "* [Querying the Retrieval Model](#Querying-the-Retrieval-Model)<br>\n",
    "\n",
    "[6. Ranking Model](#Ranking-Model)<br>\n",
    "* [Creating the RankingModel classes](#Creating-the-RankingModel-classes)<br>\n",
    "\n",
    "[7. Running the Ranking model](#Running-the-Ranking-model)<br>\n",
    "[8. Getting Predictions](#Getting-Predictions)<br>\n",
    "[9. Custom Prediction Function](#Custom-Prediction-Function)<br>\n",
    "[10. Overall Model Evaluation](#Overall-Model-Evaluation)<br>\n",
    "* [Pros of the Neural Network Model](#Pros-of-the-Neural-Network-Model)<br>\n",
    "* [Cons of the Neural Network Model](#Cons-of-the-Neural-Network-Model)<br>\n",
    "\n",
    "[11. Next Steps](#Next-Steps)<br>\n",
    "[12. Learnings from this challenge](#Learnings-from-this-challenge)<br>"
   ]
  },
  {
   "cell_type": "markdown",
   "id": "586df615",
   "metadata": {},
   "source": [
    "---"
   ]
  },
  {
   "cell_type": "markdown",
   "id": "9ce4ce84",
   "metadata": {},
   "source": [
    "# Imports"
   ]
  },
  {
   "cell_type": "code",
   "execution_count": 1,
   "id": "7633f04f",
   "metadata": {},
   "outputs": [],
   "source": [
    "import os\n",
    "import pprint\n",
    "import tempfile\n",
    "\n",
    "from typing import Dict, Text\n",
    "\n",
    "import numpy as np\n",
    "import tensorflow as tf\n",
    "import tensorflow_datasets as tfds"
   ]
  },
  {
   "cell_type": "code",
   "execution_count": 2,
   "id": "4c469e7a",
   "metadata": {},
   "outputs": [],
   "source": [
    "import tensorflow_recommenders as tfrs"
   ]
  },
  {
   "cell_type": "code",
   "execution_count": 3,
   "id": "21c908e7",
   "metadata": {},
   "outputs": [],
   "source": [
    "import pandas as pd\n",
    "import numpy as np\n",
    "import matplotlib.pyplot as plt\n",
    "import random\n",
    "import time"
   ]
  },
  {
   "cell_type": "markdown",
   "id": "824e6c5f",
   "metadata": {},
   "source": [
    "---"
   ]
  },
  {
   "cell_type": "markdown",
   "id": "c2f2f9f3",
   "metadata": {},
   "source": [
    "# Reading in the data"
   ]
  },
  {
   "cell_type": "code",
   "execution_count": 4,
   "id": "bc300ba5",
   "metadata": {},
   "outputs": [],
   "source": [
    "df = pd.read_csv('./datasets/merged_users+movies.csv')\n",
    "movie_df = pd.read_csv('./datasets/movies.csv')"
   ]
  },
  {
   "cell_type": "code",
   "execution_count": 5,
   "id": "50ba6e67",
   "metadata": {},
   "outputs": [
    {
     "data": {
      "text/html": [
       "<div>\n",
       "<style scoped>\n",
       "    .dataframe tbody tr th:only-of-type {\n",
       "        vertical-align: middle;\n",
       "    }\n",
       "\n",
       "    .dataframe tbody tr th {\n",
       "        vertical-align: top;\n",
       "    }\n",
       "\n",
       "    .dataframe thead th {\n",
       "        text-align: right;\n",
       "    }\n",
       "</style>\n",
       "<table border=\"1\" class=\"dataframe\">\n",
       "  <thead>\n",
       "    <tr style=\"text-align: right;\">\n",
       "      <th></th>\n",
       "      <th>userId</th>\n",
       "      <th>movieId</th>\n",
       "      <th>rating</th>\n",
       "      <th>timestamp</th>\n",
       "      <th>title</th>\n",
       "      <th>genres</th>\n",
       "    </tr>\n",
       "  </thead>\n",
       "  <tbody>\n",
       "    <tr>\n",
       "      <th>0</th>\n",
       "      <td>1</td>\n",
       "      <td>1</td>\n",
       "      <td>4.0</td>\n",
       "      <td>964982703</td>\n",
       "      <td>Toy Story (1995)</td>\n",
       "      <td>Adventure Animation Children Comedy Fantasy</td>\n",
       "    </tr>\n",
       "    <tr>\n",
       "      <th>1</th>\n",
       "      <td>5</td>\n",
       "      <td>1</td>\n",
       "      <td>4.0</td>\n",
       "      <td>847434962</td>\n",
       "      <td>Toy Story (1995)</td>\n",
       "      <td>Adventure Animation Children Comedy Fantasy</td>\n",
       "    </tr>\n",
       "    <tr>\n",
       "      <th>2</th>\n",
       "      <td>7</td>\n",
       "      <td>1</td>\n",
       "      <td>4.5</td>\n",
       "      <td>1106635946</td>\n",
       "      <td>Toy Story (1995)</td>\n",
       "      <td>Adventure Animation Children Comedy Fantasy</td>\n",
       "    </tr>\n",
       "    <tr>\n",
       "      <th>3</th>\n",
       "      <td>15</td>\n",
       "      <td>1</td>\n",
       "      <td>2.5</td>\n",
       "      <td>1510577970</td>\n",
       "      <td>Toy Story (1995)</td>\n",
       "      <td>Adventure Animation Children Comedy Fantasy</td>\n",
       "    </tr>\n",
       "    <tr>\n",
       "      <th>4</th>\n",
       "      <td>17</td>\n",
       "      <td>1</td>\n",
       "      <td>4.5</td>\n",
       "      <td>1305696483</td>\n",
       "      <td>Toy Story (1995)</td>\n",
       "      <td>Adventure Animation Children Comedy Fantasy</td>\n",
       "    </tr>\n",
       "  </tbody>\n",
       "</table>\n",
       "</div>"
      ],
      "text/plain": [
       "   userId  movieId  rating   timestamp             title  \\\n",
       "0       1        1     4.0   964982703  Toy Story (1995)   \n",
       "1       5        1     4.0   847434962  Toy Story (1995)   \n",
       "2       7        1     4.5  1106635946  Toy Story (1995)   \n",
       "3      15        1     2.5  1510577970  Toy Story (1995)   \n",
       "4      17        1     4.5  1305696483  Toy Story (1995)   \n",
       "\n",
       "                                        genres  \n",
       "0  Adventure Animation Children Comedy Fantasy  \n",
       "1  Adventure Animation Children Comedy Fantasy  \n",
       "2  Adventure Animation Children Comedy Fantasy  \n",
       "3  Adventure Animation Children Comedy Fantasy  \n",
       "4  Adventure Animation Children Comedy Fantasy  "
      ]
     },
     "execution_count": 5,
     "metadata": {},
     "output_type": "execute_result"
    }
   ],
   "source": [
    "df.head()"
   ]
  },
  {
   "cell_type": "markdown",
   "id": "41d36e34",
   "metadata": {},
   "source": [
    "In a deep learning model, we can make use of features that we were not able to do so with our `SVD` model previously.<br>\n",
    "\n",
    "We will attempt to create a deep learning model using all 6 features of our dataset. Namely these are: `userId`, `movieId`, `rating`, `timestamp`, `title`, `genres`.\n",
    "\n",
    "We will keep the overall structure of our model the same as before. To make things clear, I have drawn out the architecture of the model below"
   ]
  },
  {
   "cell_type": "markdown",
   "id": "fcae0a11",
   "metadata": {},
   "source": [
    "---"
   ]
  },
  {
   "cell_type": "markdown",
   "id": "dca55f60",
   "metadata": {},
   "source": [
    "# Model Architecture"
   ]
  },
  {
   "cell_type": "markdown",
   "id": "66e8b529",
   "metadata": {},
   "source": [
    "For more details about how the model works, please check out the `TensorFlow-Recommenders` documentation and guide [here](https://www.tensorflow.org/recommenders)."
   ]
  },
  {
   "cell_type": "markdown",
   "id": "0aa169c5",
   "metadata": {},
   "source": [
    "## Overall Model Architecture\n",
    "\n",
    "![overall](images/model_structure_1.png)"
   ]
  },
  {
   "cell_type": "markdown",
   "id": "16f56461",
   "metadata": {},
   "source": [
    "## Retrieval Model Architecture\n",
    "\n",
    "We will keep the embedding dimensions the same, the final model we ended up with was the 3 layer model with the number of neurons per layer as shown below.\n",
    "\n",
    "![retrieval](images/retrieval_structure.png)"
   ]
  },
  {
   "cell_type": "markdown",
   "id": "c8e99c03",
   "metadata": {},
   "source": [
    "## Ranking Model Architecture\n",
    "\n",
    "For the ranking model, we've kept it largely the same, we just added one more deep layer, and ran through more epochs. We also tried changing the learning rate to `0.01` and that seemed to have had a positive effect.\n",
    "\n",
    "![ranking](images/ranking_structure.png)"
   ]
  },
  {
   "cell_type": "markdown",
   "id": "17e1852e",
   "metadata": {},
   "source": [
    "---"
   ]
  },
  {
   "cell_type": "markdown",
   "id": "ea6b9e76",
   "metadata": {},
   "source": [
    "# Retrieval Model"
   ]
  },
  {
   "cell_type": "markdown",
   "id": "03dbace3",
   "metadata": {},
   "source": [
    "In order to add all the features to our model, we will need to create `embeddings` for each of them. We can use the `Embedding` method in `Keras` to help with this. Let's start by first creating a tensorflow compatible dataset that we will then use for creation of any `embeddings` we need."
   ]
  },
  {
   "cell_type": "markdown",
   "id": "27805aa0",
   "metadata": {},
   "source": [
    "We will start off by converting our all our required data to a tensorflow dataset that will work with methods like `batch` and `map`."
   ]
  },
  {
   "cell_type": "code",
   "execution_count": 8,
   "id": "06858ec3",
   "metadata": {},
   "outputs": [],
   "source": [
    "retrieval_dataset = {\n",
    "    'movieId': df['movieId'].tolist(),\n",
    "    'genres': df['genres'].tolist(),\n",
    "    'title': df['title'].tolist(),\n",
    "    'userId': df['userId'].tolist(),\n",
    "    'timestamp': df['timestamp'].tolist(),\n",
    "}"
   ]
  },
  {
   "cell_type": "code",
   "execution_count": 9,
   "id": "d4cb3961",
   "metadata": {},
   "outputs": [],
   "source": [
    "retrieval_dataset = tf.data.Dataset.from_tensor_slices(retrieval_dataset)"
   ]
  },
  {
   "cell_type": "code",
   "execution_count": 10,
   "id": "320e45fc",
   "metadata": {},
   "outputs": [],
   "source": [
    "# defining an empty dictionary to store the predicted ratingsaaaaaaaaaaaaaaaaaa"
   ]
  },
  {
   "cell_type": "code",
   "execution_count": 78,
   "id": "fc883a20",
   "metadata": {},
   "outputs": [],
   "source": [
    "retrieval_dataset = retrieval_dataset.map(lambda x: {\n",
    "    'movieId': x['movieId'],\n",
    "    'genres': x['genres'],\n",
    "    'title': x['title'],\n",
    "    'userId': x['userId'],\n",
    "    'timestamp': x['timestamp'],\n",
    "})\n",
    "\n",
    "# creating separate datasets in case we need to use them to be \n",
    "# added to the model.\n",
    "movies = retrieval_dataset.map(lambda x: x['movieId'])\n",
    "genres = retrieval_dataset.map(lambda x: x['genres'])\n",
    "movie_titles = retrieval_dataset.map(lambda x: x['title'])\n",
    "users = retrieval_dataset.map(lambda x: x['userId'])\n",
    "timestamps = retrieval_dataset.map(lambda x: x['timestamp'])\n",
    "movie_related = retrieval_dataset.map(lambda x: {\n",
    "    'movieId': x['movieId'],\n",
    "    'genres': x['genres'],\n",
    "    'title': x['title']\n",
    "})"
   ]
  },
  {
   "cell_type": "code",
   "execution_count": 12,
   "id": "6668d6cb",
   "metadata": {},
   "outputs": [
    {
     "data": {
      "text/plain": [
       "<MapDataset element_spec={'movieId': TensorSpec(shape=(), dtype=tf.int32, name=None), 'genres': TensorSpec(shape=(), dtype=tf.string, name=None), 'title': TensorSpec(shape=(), dtype=tf.string, name=None), 'userId': TensorSpec(shape=(), dtype=tf.int32, name=None), 'timestamp': TensorSpec(shape=(), dtype=tf.int32, name=None)}>"
      ]
     },
     "execution_count": 12,
     "metadata": {},
     "output_type": "execute_result"
    }
   ],
   "source": [
    "# sanity check once again to ensure that we have \n",
    "# a 'MapDataset' object\n",
    "retrieval_dataset"
   ]
  },
  {
   "cell_type": "markdown",
   "id": "02d12431",
   "metadata": {},
   "source": [
    "Now let's create the vocabularies for our `categorical` embeddings."
   ]
  },
  {
   "cell_type": "markdown",
   "id": "065edfe7",
   "metadata": {},
   "source": [
    "---"
   ]
  },
  {
   "cell_type": "markdown",
   "id": "a827a9f2",
   "metadata": {},
   "source": [
    "## MovieIds and UserIds"
   ]
  },
  {
   "cell_type": "code",
   "execution_count": 13,
   "id": "3052824b",
   "metadata": {},
   "outputs": [],
   "source": [
    "# creating a list of unique userIds\n",
    "unique_user_ids = np.unique(df['userId'].tolist())\n",
    "\n",
    "# creating a list of unique movieIds\n",
    "unique_movie_ids = np.unique(df['movieId'].tolist())"
   ]
  },
  {
   "cell_type": "code",
   "execution_count": 14,
   "id": "ac602be4",
   "metadata": {},
   "outputs": [],
   "source": [
    "# defining an empty dictionary to store the predicted ratingsaaaaaaaaaaaaaaaaaa"
   ]
  },
  {
   "cell_type": "code",
   "execution_count": 15,
   "id": "7d0d6b31",
   "metadata": {},
   "outputs": [],
   "source": [
    "# defining the embedding dimension that we will use across all embedding \n",
    "# layers. We have kept this number relatively small so that the model will \n",
    "# work a little faster.\n",
    "embedding_dimension = 32"
   ]
  },
  {
   "cell_type": "code",
   "execution_count": 16,
   "id": "c9e4ba21",
   "metadata": {},
   "outputs": [],
   "source": [
    "# embedding unique userIds\n",
    "user_id_model = tf.keras.Sequential([\n",
    "    tf.keras.layers.IntegerLookup(\n",
    "        vocabulary=unique_user_ids, mask_token=None),\n",
    "    # We add some additional embeddings to account for unknown tokens.\n",
    "    tf.keras.layers.Embedding(len(unique_user_ids) + 1, embedding_dimension)\n",
    "])"
   ]
  },
  {
   "cell_type": "code",
   "execution_count": 17,
   "id": "89e543e8",
   "metadata": {},
   "outputs": [
    {
     "name": "stdout",
     "output_type": "stream",
     "text": [
      "WARNING:tensorflow:Layers in a Sequential model should only have a single input tensor. Received: inputs=[<tf.Tensor: shape=(), dtype=int32, numpy=512>]. Consider rewriting this model with the Functional API.\n"
     ]
    },
    {
     "data": {
      "text/plain": [
       "<tf.Tensor: shape=(1, 32), dtype=float32, numpy=\n",
       "array([[ 0.00081122, -0.02875767, -0.04360918, -0.01942483, -0.04483289,\n",
       "        -0.04232473, -0.00328261,  0.03390611, -0.01417794,  0.03610729,\n",
       "         0.02313039, -0.04455442,  0.03058723, -0.023033  , -0.03950164,\n",
       "        -0.04518759,  0.00608736,  0.00129064,  0.00457434, -0.01988406,\n",
       "        -0.02892946, -0.0474653 , -0.00715746,  0.04118115,  0.00501484,\n",
       "        -0.00406092, -0.04110572,  0.03379187,  0.02222545,  0.02411193,\n",
       "        -0.0143726 ,  0.01857961]], dtype=float32)>"
      ]
     },
     "execution_count": 17,
     "metadata": {},
     "output_type": "execute_result"
    }
   ],
   "source": [
    "# check to see the vector embedding of 'userIds'\n",
    "user_id_model([512])"
   ]
  },
  {
   "cell_type": "code",
   "execution_count": 18,
   "id": "7390c147",
   "metadata": {},
   "outputs": [],
   "source": [
    "# defining an empty dictionary to store the predicted ratingsaaaaaaaaaaaaaaaaaa"
   ]
  },
  {
   "cell_type": "code",
   "execution_count": 19,
   "id": "f21d671d",
   "metadata": {},
   "outputs": [],
   "source": [
    "# embedding unique movie titles\n",
    "movie_id_model = tf.keras.Sequential([\n",
    "    tf.keras.layers.IntegerLookup(\n",
    "        vocabulary=unique_movie_ids, mask_token=None), \n",
    "    # We add some additional embeddings to account for unknown tokens.    \n",
    "    tf.keras.layers.Embedding(len(unique_movie_ids) + 1, \n",
    "                              embedding_dimension)\n",
    "])\n"
   ]
  },
  {
   "cell_type": "code",
   "execution_count": 20,
   "id": "238645c3",
   "metadata": {},
   "outputs": [
    {
     "name": "stdout",
     "output_type": "stream",
     "text": [
      "WARNING:tensorflow:Layers in a Sequential model should only have a single input tensor. Received: inputs=[<tf.Tensor: shape=(), dtype=int32, numpy=9772>]. Consider rewriting this model with the Functional API.\n"
     ]
    },
    {
     "data": {
      "text/plain": [
       "<tf.Tensor: shape=(1, 32), dtype=float32, numpy=\n",
       "array([[ 0.01577159, -0.03597652, -0.04406003, -0.00708966,  0.04410957,\n",
       "        -0.00859253,  0.03370399, -0.04356829, -0.02139441, -0.04574819,\n",
       "         0.01672593,  0.04311106, -0.00391455,  0.04563994,  0.0453303 ,\n",
       "         0.01165255, -0.02140977,  0.01890771, -0.01297603, -0.026446  ,\n",
       "         0.04934862,  0.012067  , -0.01430515,  0.01237873, -0.04249377,\n",
       "         0.00539269,  0.00693144, -0.04606635,  0.00485566,  0.00824876,\n",
       "        -0.01065079,  0.01006881]], dtype=float32)>"
      ]
     },
     "execution_count": 20,
     "metadata": {},
     "output_type": "execute_result"
    }
   ],
   "source": [
    "movie_id_model([9772])"
   ]
  },
  {
   "cell_type": "markdown",
   "id": "d1df2cd0",
   "metadata": {},
   "source": [
    "---"
   ]
  },
  {
   "cell_type": "markdown",
   "id": "908d7a46",
   "metadata": {},
   "source": [
    "### Genres"
   ]
  },
  {
   "cell_type": "markdown",
   "id": "230d21c1",
   "metadata": {},
   "source": [
    "Next we will create a `word embedding` for the genres feature.\n",
    "There are 34 movies in the `movies_df` that have 'no genres listed'. This may cause our model with the genres feature added into it to recommend movies with genres list, and not those without any genres. However we will still add genres into our model and for those with 'no genres listed', ....\n",
    "\n",
    "We will use the inbuilt text vectorizer in keras to vectorize our genres for us."
   ]
  },
  {
   "cell_type": "code",
   "execution_count": 23,
   "id": "858cb082",
   "metadata": {},
   "outputs": [],
   "source": [
    "# defining max_tokens for use in vectorizers\n",
    "max_tokens = 10_000"
   ]
  },
  {
   "cell_type": "code",
   "execution_count": 24,
   "id": "1548efde",
   "metadata": {},
   "outputs": [],
   "source": [
    "# initializing the vectorizer\n",
    "genre_text = tf.keras.layers.TextVectorization(\n",
    "    max_tokens=max_tokens,\n",
    "    standardize='lower_and_strip_punctuation',\n",
    "    split='whitespace',\n",
    "    ngrams=1,\n",
    "    output_mode='int',\n",
    ")"
   ]
  },
  {
   "cell_type": "code",
   "execution_count": 25,
   "id": "4fd3445d",
   "metadata": {},
   "outputs": [],
   "source": [
    "# using adapt method to get vocab\n",
    "genre_text.adapt(genres)"
   ]
  },
  {
   "cell_type": "code",
   "execution_count": 26,
   "id": "011ab85a",
   "metadata": {},
   "outputs": [],
   "source": [
    "# creating the embedding layer\n",
    "genre_embedding = tf.keras.layers.Embedding(\n",
    "    # Let's use the explicit vocabulary lookup.\n",
    "    input_dim=max_tokens,\n",
    "    output_dim=embedding_dimension,\n",
    "    mask_zero=True,\n",
    ")"
   ]
  },
  {
   "cell_type": "code",
   "execution_count": 28,
   "id": "10cca6f1",
   "metadata": {},
   "outputs": [],
   "source": [
    "# embedding genres\n",
    "genres_model = tf.keras.Sequential([genre_text, \n",
    "                                    genre_embedding,\n",
    "                                    tf.keras.layers.GlobalAveragePooling1D()\n",
    "                                   ])"
   ]
  },
  {
   "cell_type": "code",
   "execution_count": 29,
   "id": "30b2c688",
   "metadata": {},
   "outputs": [
    {
     "name": "stdout",
     "output_type": "stream",
     "text": [
      "WARNING:tensorflow:Layers in a Sequential model should only have a single input tensor. Received: inputs=['Adventure Animation Children Comedy Fantasy']. Consider rewriting this model with the Functional API.\n"
     ]
    },
    {
     "data": {
      "text/plain": [
       "<tf.Tensor: shape=(1, 32), dtype=float32, numpy=\n",
       "array([[ 0.00583466,  0.01426386,  0.01211957,  0.00869819,  0.03331385,\n",
       "        -0.01178429,  0.01008566,  0.03154489, -0.00229541,  0.01152138,\n",
       "         0.03370294,  0.00079418,  0.01142957, -0.00050997, -0.01653682,\n",
       "        -0.02293302,  0.00657728,  0.01717502, -0.0086735 ,  0.02924502,\n",
       "         0.00860718,  0.00576533,  0.01102587, -0.00850808,  0.00587832,\n",
       "        -0.01510449,  0.00360906,  0.0103816 , -0.01017557, -0.00611506,\n",
       "         0.00241281,  0.009604  ]], dtype=float32)>"
      ]
     },
     "execution_count": 29,
     "metadata": {},
     "output_type": "execute_result"
    }
   ],
   "source": [
    "# sanity to check to ensure it has been done properly\n",
    "genres_model(['Adventure Animation Children Comedy Fantasy'])"
   ]
  },
  {
   "cell_type": "markdown",
   "id": "4a10b5af",
   "metadata": {},
   "source": [
    "---"
   ]
  },
  {
   "cell_type": "markdown",
   "id": "915d8252",
   "metadata": {},
   "source": [
    "### Movie Titles"
   ]
  },
  {
   "cell_type": "markdown",
   "id": "6d63247f",
   "metadata": {},
   "source": [
    "Next we will create a `word embedding` for the `title` feature.\n",
    "Since there are some movies with missing genres, and since we have the `title` feature available to use, we will add this in to our deep learning model. \n",
    "\n",
    "We will use the inbuilt text vectorizer in keras to vectorize our movie titles for us."
   ]
  },
  {
   "cell_type": "code",
   "execution_count": 30,
   "id": "83d87e0d",
   "metadata": {},
   "outputs": [],
   "source": [
    "# initializing the vectorizer\n",
    "title_text = tf.keras.layers.TextVectorization(\n",
    "    max_tokens=max_tokens\n",
    ")"
   ]
  },
  {
   "cell_type": "code",
   "execution_count": 31,
   "id": "c2dbf261",
   "metadata": {},
   "outputs": [],
   "source": [
    "# using adapt method to get vocabulary\n",
    "title_text.adapt(movie_titles)"
   ]
  },
  {
   "cell_type": "code",
   "execution_count": 32,
   "id": "2345ae79",
   "metadata": {},
   "outputs": [],
   "source": [
    "# creating the embedding layer\n",
    "title_embedding = tf.keras.layers.Embedding(\n",
    "    input_dim=max_tokens,\n",
    "    output_dim=embedding_dimension,\n",
    "    mask_zero=True,   \n",
    ")"
   ]
  },
  {
   "cell_type": "code",
   "execution_count": 34,
   "id": "01a1f3be",
   "metadata": {},
   "outputs": [],
   "source": [
    "# embedding titles\n",
    "titles_model = tf.keras.Sequential([title_text, \n",
    "                                    title_embedding, \n",
    "                                    tf.keras.layers.GlobalAveragePooling1D()\n",
    "                                   ])"
   ]
  },
  {
   "cell_type": "markdown",
   "id": "46b8c7b7",
   "metadata": {},
   "source": [
    "---"
   ]
  },
  {
   "cell_type": "markdown",
   "id": "63cb1482",
   "metadata": {},
   "source": [
    "### Timestamp"
   ]
  },
  {
   "cell_type": "markdown",
   "id": "f01b9ba9",
   "metadata": {},
   "source": [
    "Now let's handle the `timestamp` feature. Let's first take a look at what we are working with."
   ]
  },
  {
   "cell_type": "code",
   "execution_count": 35,
   "id": "273a20ec",
   "metadata": {},
   "outputs": [
    {
     "data": {
      "text/plain": [
       "0     964982703\n",
       "1     847434962\n",
       "2    1106635946\n",
       "3    1510577970\n",
       "4    1305696483\n",
       "Name: timestamp, dtype: int64"
      ]
     },
     "execution_count": 35,
     "metadata": {},
     "output_type": "execute_result"
    }
   ],
   "source": [
    "df['timestamp'].head()"
   ]
  },
  {
   "cell_type": "markdown",
   "id": "11a4ee31",
   "metadata": {},
   "source": [
    "These numbers are too large for us to directly use in a deep model. So we will first preprocess it.<br>\n",
    "\n",
    "There are a few methods to do this. However to keep things simple, we will do this as per the [tensorflow-recommenders guide](https://www.tensorflow.org/recommenders/examples/featurization), with discretion."
   ]
  },
  {
   "cell_type": "code",
   "execution_count": 36,
   "id": "13487a80",
   "metadata": {},
   "outputs": [
    {
     "name": "stdout",
     "output_type": "stream",
     "text": [
      "Buckets: [8.28124615e+08 8.28835000e+08 8.29545385e+08]\n"
     ]
    }
   ],
   "source": [
    "# getting the max and min values\n",
    "max_timestamp = retrieval_dataset.map(lambda x: x[\"timestamp\"]).reduce(\n",
    "    tf.cast(0, tf.int32), tf.maximum).numpy().max()\n",
    "min_timestamp = retrieval_dataset.map(lambda x: x[\"timestamp\"]).reduce(\n",
    "    np.int32(1e9), tf.minimum).numpy().min()\n",
    "\n",
    "# creating buckets\n",
    "timestamp_buckets = np.linspace(\n",
    "    min_timestamp, max_timestamp, num=1000)\n",
    "\n",
    "print(f\"Buckets: {timestamp_buckets[:3]}\")"
   ]
  },
  {
   "cell_type": "code",
   "execution_count": 37,
   "id": "9354d181",
   "metadata": {},
   "outputs": [
    {
     "name": "stdout",
     "output_type": "stream",
     "text": [
      "Timestamp embedding: [[ 0.02029595 -0.04984224  0.026773    0.0451501  -0.02596587  0.04548092\n",
      "   0.00908453  0.02414939  0.03531845 -0.00969007 -0.02192471 -0.03559488\n",
      "   0.00668986  0.02945537  0.01807607 -0.03582012 -0.04681113 -0.02754462\n",
      "  -0.00475822  0.00580887  0.03047646  0.03907968  0.04415162  0.02680471\n",
      "   0.02846401  0.00576955 -0.015428    0.02374153  0.02423288 -0.03800857\n",
      "   0.0380904  -0.00707637]].\n"
     ]
    }
   ],
   "source": [
    "# embedding timestamp\n",
    "timestamp_embedding_model = tf.keras.Sequential([\n",
    "  tf.keras.layers.Discretization(timestamp_buckets.tolist()),\n",
    "  tf.keras.layers.Embedding(len(timestamp_buckets) + 1, 32)\n",
    "])\n",
    "\n",
    "# check to see how timestamp has been vectorized\n",
    "for timestamp in retrieval_dataset.take(1).map(lambda x: x[\"timestamp\"]).\\\n",
    "batch(1).as_numpy_iterator():\n",
    "  print(f\"Timestamp embedding: {timestamp_embedding_model(timestamp)}.\")"
   ]
  },
  {
   "cell_type": "markdown",
   "id": "c760f949",
   "metadata": {},
   "source": [
    "With this done, we can move on to building the candidate and query towers."
   ]
  },
  {
   "cell_type": "markdown",
   "id": "503f69a8",
   "metadata": {},
   "source": [
    "---"
   ]
  },
  {
   "cell_type": "markdown",
   "id": "61b97c59",
   "metadata": {},
   "source": [
    "## Query Tower"
   ]
  },
  {
   "cell_type": "markdown",
   "id": "578d24c2",
   "metadata": {},
   "source": [
    "While building the `Query` and `Candidate` towers, we will not be able to reuse the previously instantiate models (e.g. `user_id_model`, as we will run into errors while saving them. We will have to reinstantiate all of them."
   ]
  },
  {
   "cell_type": "code",
   "execution_count": 81,
   "id": "f7ea1172",
   "metadata": {},
   "outputs": [],
   "source": [
    "class UserModel(tf.keras.Model):\n",
    "    \"\"\"Model to accept features and pass back embeddings.\"\"\"\n",
    "\n",
    "    def __init__(self):\n",
    "        super().__init__()\n",
    "\n",
    "        # using previously defined and created user_id_model\n",
    "        self.user_embedding = user_id_model\n",
    "\n",
    "        # using previously defined and created timestamp_embedding_model\n",
    "        self.timestamp_embedding = timestamp_embedding_model\n",
    "        self.normalized_timestamp = tf.keras.layers.Normalization(\n",
    "            axis=None\n",
    "        )\n",
    "        \n",
    "        # normalizing the timestamp\n",
    "        self.normalized_timestamp.adapt(timestamps)\n",
    "\n",
    "    def call(self, inputs):\n",
    "        # Take the input dictionary, pass it through each input layer,\n",
    "        # and concatenate the result.\n",
    "        return tf.concat([\n",
    "            self.user_embedding(inputs['userId']),\n",
    "            self.timestamp_embedding(inputs['timestamp']),\n",
    "            tf.reshape(self.normalized_timestamp(inputs['timestamp']), (-1, 1))\n",
    "        ], axis=1)"
   ]
  },
  {
   "cell_type": "code",
   "execution_count": 82,
   "id": "279abb36",
   "metadata": {},
   "outputs": [],
   "source": [
    "class QueryModel(tf.keras.Model):\n",
    "    \"\"\"Model for encoding user queries.\"\"\"\n",
    "\n",
    "    def __init__(self, layer_sizes):\n",
    "        \"\"\"Model for encoding user queries.\n",
    "\n",
    "        Args:\n",
    "          layer_sizes:\n",
    "            A list of integers where the i-th entry represents the number of units\n",
    "            the i-th layer contains.\n",
    "        \"\"\"\n",
    "        super().__init__()\n",
    "\n",
    "        # We first use the user model for generating embeddings.\n",
    "        self.embedding_model = UserModel()\n",
    "\n",
    "        # Then construct the layers.\n",
    "        self.dense_layers = tf.keras.Sequential()    \n",
    "\n",
    "        # Use the ReLU activation for all but the last layer.\n",
    "        for layer_size in layer_sizes[:-1]:\n",
    "            self.dense_layers.add(tf.keras.layers.Dense(layer_size, \n",
    "                                                      activation=\"relu\"))\n",
    "\n",
    "        # No activation for the last layer.\n",
    "        for layer_size in layer_sizes[-1:]:\n",
    "            self.dense_layers.add(tf.keras.layers.Dense(layer_size))\n",
    "\n",
    "    def call(self, inputs):\n",
    "        feature_embedding = self.embedding_model(inputs)\n",
    "        return self.dense_layers(feature_embedding)"
   ]
  },
  {
   "cell_type": "markdown",
   "id": "db73d5da",
   "metadata": {},
   "source": [
    "---"
   ]
  },
  {
   "cell_type": "markdown",
   "id": "46f1a772",
   "metadata": {},
   "source": [
    "## Candidate Tower"
   ]
  },
  {
   "cell_type": "code",
   "execution_count": 110,
   "id": "e201ad5d",
   "metadata": {},
   "outputs": [],
   "source": [
    "class MovieModel(tf.keras.Model):\n",
    "    \"\"\"Model to accept features and pass back embeddings.\"\"\"\n",
    "\n",
    "    def __init__(self):\n",
    "        super().__init__()\n",
    "\n",
    "        # using previously defined and created movie_id_model\n",
    "        self.movie_id_embedding = movie_id_model\n",
    "        \n",
    "        # using previously defined and created genres_model\n",
    "        self.genre_text_embedding = genres_model\n",
    "\n",
    "        # using previously defined and created titles_model\n",
    "        self.title_text_embedding = titles_model\n",
    "\n",
    "    def call(self, inputs):    \n",
    "        return tf.concat([\n",
    "                self.genre_text_embedding(inputs['genres']),\n",
    "                self.movie_id_embedding(inputs['movieId']),\n",
    "                self.title_text_embedding(inputs['title'])\n",
    "            ], axis=1)"
   ]
  },
  {
   "cell_type": "code",
   "execution_count": 111,
   "id": "d66d51cf",
   "metadata": {},
   "outputs": [],
   "source": [
    "class CandidateModel(tf.keras.Model):\n",
    "    \"\"\"Model for encoding movies.\"\"\"\n",
    "\n",
    "    def __init__(self, layer_sizes):\n",
    "        \"\"\"Model for encoding movies.\n",
    "\n",
    "        Args:\n",
    "          layer_sizes:\n",
    "            A list of integers where the i-th entry represents the number of units\n",
    "            the i-th layer contains.\n",
    "        \"\"\"\n",
    "        super().__init__()\n",
    "\n",
    "        self.embedding_model = MovieModel()\n",
    "\n",
    "        # Then construct the layers.\n",
    "        self.dense_layers = tf.keras.Sequential()\n",
    "\n",
    "        # Use the ReLU activation for all but the last layer.\n",
    "        for layer_size in layer_sizes[:-1]:\n",
    "            self.dense_layers.add(tf.keras.layers.Dense(layer_size, \n",
    "                                                      activation=\"relu\"))\n",
    "\n",
    "        # No activation for the last layer.\n",
    "        for layer_size in layer_sizes[-1:]:\n",
    "            self.dense_layers.add(tf.keras.layers.Dense(layer_size))\n",
    "\n",
    "    def call(self, inputs):\n",
    "        feature_embedding = self.embedding_model(inputs)\n",
    "        return self.dense_layers(feature_embedding)"
   ]
  },
  {
   "cell_type": "markdown",
   "id": "7d95ce37",
   "metadata": {},
   "source": [
    "Now all that is left to do is to combine these two towers into one retrieval model."
   ]
  },
  {
   "cell_type": "markdown",
   "id": "3bc921cf",
   "metadata": {},
   "source": [
    "---"
   ]
  },
  {
   "cell_type": "markdown",
   "id": "312b06d9",
   "metadata": {},
   "source": [
    "## Combined Retrieval Model"
   ]
  },
  {
   "cell_type": "code",
   "execution_count": 112,
   "id": "720b2466",
   "metadata": {},
   "outputs": [],
   "source": [
    "class MovielensModel_retrieval(tfrs.models.Model):\n",
    "\n",
    "    def __init__(self, layer_sizes):\n",
    "        super().__init__()\n",
    "        self.query_model = QueryModel(layer_sizes)\n",
    "        self.candidate_model = CandidateModel(layer_sizes)\n",
    "        self.task = tfrs.tasks.Retrieval(\n",
    "            metrics=tfrs.metrics.FactorizedTopK(\n",
    "                candidates=movie_related.batch(128).map(self.candidate_model),\n",
    "            ),\n",
    "        )\n",
    "\n",
    "    def compute_loss(self, features, training=False):\n",
    "        # We only pass the user id and timestamp features into the query model. This\n",
    "        # is to ensure that the training inputs would have the same keys as the\n",
    "        # query inputs. Otherwise the discrepancy in input structure would cause an\n",
    "        # error when loading the query model after saving it.\n",
    "        \n",
    "        query_embeddings = self.query_model({\n",
    "            'userId': features['userId'],\n",
    "            'timestamp': features['timestamp'],\n",
    "            'genres': features['genres'],\n",
    "            'title': features['title']\n",
    "        })\n",
    "\n",
    "        movie_embeddings = self.candidate_model({\n",
    "            'movieId': features['movieId'],\n",
    "            'genres': features['genres'],\n",
    "            'title': features['title']\n",
    "        })\n",
    "\n",
    "        return self.task(\n",
    "            query_embeddings, movie_embeddings, compute_metrics=not training)"
   ]
  },
  {
   "cell_type": "markdown",
   "id": "389e3891",
   "metadata": {},
   "source": [
    "Now with the model built, we are ready to train our model."
   ]
  },
  {
   "cell_type": "markdown",
   "id": "72b32c81",
   "metadata": {},
   "source": [
    "---"
   ]
  },
  {
   "cell_type": "markdown",
   "id": "4264741b",
   "metadata": {},
   "source": [
    "## Train, Test split"
   ]
  },
  {
   "cell_type": "markdown",
   "id": "daac30f8",
   "metadata": {},
   "source": [
    "Now we are ready to train our model, let's do a train_test_split on our data."
   ]
  },
  {
   "cell_type": "code",
   "execution_count": 43,
   "id": "ad4c1fb1",
   "metadata": {},
   "outputs": [],
   "source": [
    "# setting random seed\n",
    "tf.random.set_seed(42)\n",
    "\n",
    "# shuffling the dataset to create a \"training\" dataset\n",
    "retrieval_shuffled = retrieval_dataset.shuffle(100_000, \n",
    "                           seed=42,\n",
    "                           reshuffle_each_iteration=False)\n",
    "\n",
    "\n",
    "# taking the first 80_836 ratings\n",
    "retrieval_train = retrieval_shuffled.take(80_836)\n",
    "\n",
    "# taking the next 20_000 ratings\n",
    "retrieval_test = retrieval_shuffled.skip(80_836).take(20_000)\n",
    "\n",
    "\n",
    "\n",
    "# caching the train and test dataset to speed up model fitting\n",
    "retrieval_cached_train = retrieval_train.shuffle(100_000)\\\n",
    "                            .batch(8192).cache()\n",
    "retrieval_cached_test = retrieval_test.batch(4096).cache()"
   ]
  },
  {
   "cell_type": "markdown",
   "id": "424838f8",
   "metadata": {},
   "source": [
    "Trial for model with seperated user and movie features"
   ]
  },
  {
   "cell_type": "markdown",
   "id": "dd445f18",
   "metadata": {},
   "source": [
    "---"
   ]
  },
  {
   "cell_type": "markdown",
   "id": "d0751719",
   "metadata": {},
   "source": [
    "# Running the Retrieval model"
   ]
  },
  {
   "cell_type": "code",
   "execution_count": 175,
   "id": "0f1ae0ce",
   "metadata": {},
   "outputs": [],
   "source": [
    "# defining the number of epochs we will run\n",
    "num_epochs = 30\n",
    "\n",
    "# instantiate a 1 layer retrieval model with 32 neurons\n",
    "retrieval_1_layer = MovielensModel_retrieval([32])\n",
    "\n",
    "# compiling model with Adagrad optimzier, and a learning rate of 0.05\n",
    "retrieval_1_layer.compile(optimizer=tf.keras.optimizers.Adagrad(0.05))"
   ]
  },
  {
   "cell_type": "code",
   "execution_count": 176,
   "id": "04e07125",
   "metadata": {},
   "outputs": [],
   "source": [
    "# fitting our model\n",
    "retrieval_1_layer_history = retrieval_1_layer.fit(\n",
    "    retrieval_cached_train,\n",
    "    validation_data=retrieval_cached_test,\n",
    "    validation_freq=1,\n",
    "    epochs=num_epochs,\n",
    "    verbose=0\n",
    ")"
   ]
  },
  {
   "cell_type": "code",
   "execution_count": 177,
   "id": "09e3ab50",
   "metadata": {},
   "outputs": [],
   "source": [
    "# instantiating a 2 layer retrieval model with 64, and 32 neurons\n",
    "retrieval_2_layer = MovielensModel_retrieval([64, 32])\n",
    "\n",
    "# compiling model with Adagrad optimzier, and a learning rate of 0.05\n",
    "retrieval_2_layer.compile(optimizer=tf.keras.optimizers.Adagrad(0.05))"
   ]
  },
  {
   "cell_type": "code",
   "execution_count": 178,
   "id": "18c3d48a",
   "metadata": {},
   "outputs": [],
   "source": [
    "# fitting a 2 layer model neural network\n",
    "retrieval_2_layer_history= retrieval_2_layer.fit(\n",
    "    retrieval_cached_train,\n",
    "    validation_data=retrieval_cached_test,\n",
    "    validation_freq=1,\n",
    "    epochs=num_epochs,\n",
    "    verbose=0\n",
    ")"
   ]
  },
  {
   "cell_type": "code",
   "execution_count": 179,
   "id": "570ec86f",
   "metadata": {},
   "outputs": [],
   "source": [
    "# instantiating a 3 layer retrieval model with 128, 64, and 32 neurons\n",
    "retrieval_3_layer = MovielensModel_retrieval([128, 64, 32])\n",
    "\n",
    "# compiling model with Adagrad optimzier, and a learning rate of 0.05\n",
    "retrieval_3_layer.compile(optimizer=tf.keras.optimizers.Adagrad(0.05))"
   ]
  },
  {
   "cell_type": "code",
   "execution_count": 180,
   "id": "10616e41",
   "metadata": {},
   "outputs": [],
   "source": [
    "# fitting a 3 layer model neural network\n",
    "retrieval_3_layer_history= retrieval_3_layer.fit(\n",
    "    retrieval_cached_train,\n",
    "    validation_data=retrieval_cached_test,\n",
    "    validation_freq=1,\n",
    "    epochs=num_epochs,\n",
    "    verbose=0\n",
    ")"
   ]
  },
  {
   "cell_type": "markdown",
   "id": "3732ca0b",
   "metadata": {},
   "source": [
    "Now that we have tried out a model with 1 layer, and a model with 2 layers, let's take a look at each of their performances to see which one has performed better.\n",
    "\n",
    "First let's evaluate each model individually by plotting the `train_loss` against the `test_loss`."
   ]
  },
  {
   "cell_type": "markdown",
   "id": "69a15662",
   "metadata": {},
   "source": [
    "Now let's take a look at which `RetrievalModel` gave us a better performance in terms of accuracy."
   ]
  },
  {
   "cell_type": "markdown",
   "id": "7e8c08cf",
   "metadata": {},
   "source": [
    "---"
   ]
  },
  {
   "cell_type": "markdown",
   "id": "5d6eeb1b",
   "metadata": {},
   "source": [
    "## Evaluating the different depths"
   ]
  },
  {
   "cell_type": "code",
   "execution_count": 182,
   "id": "ac5831d8",
   "metadata": {},
   "outputs": [
    {
     "data": {
      "image/png": "[encoded data removed]",
      "text/plain": [
       "<Figure size 864x864 with 1 Axes>"
      ]
     },
     "metadata": {
      "needs_background": "light"
     },
     "output_type": "display_data"
    }
   ],
   "source": [
    "epochs = [_ for _ in range(num_epochs)]\n",
    "\n",
    "plt.figure(figsize=(12,12))\n",
    "plt.plot(epochs, retrieval_1_layer_history.history[\"val_factorized_top_k/top_100_categorical_accuracy\"], label=\"1 layer\")\n",
    "plt.plot(epochs, retrieval_2_layer_history.history[\"val_factorized_top_k/top_100_categorical_accuracy\"], label=\"2 layers\")\n",
    "plt.plot(epochs, retrieval_3_layer_history.history[\"val_factorized_top_k/top_100_categorical_accuracy\"], label=\"3 layers\")\n",
    "plt.title(\"Accuracy vs epoch\")\n",
    "plt.xlabel(\"epoch\")\n",
    "plt.ylabel(\"Top-100 accuracy\")\n",
    "plt.legend();"
   ]
  },
  {
   "cell_type": "code",
   "execution_count": 183,
   "id": "8af4029c",
   "metadata": {},
   "outputs": [
    {
     "name": "stdout",
     "output_type": "stream",
     "text": [
      "Top-100 accuracy for 1 layer model: 0.0012.\n",
      "Top-100 accuracy for 2 layer model: 0.0015.\n",
      "Top-100 accuracy for 3 layer model: 0.0047.\n"
     ]
    }
   ],
   "source": [
    "accuracy_1_layer = retrieval_1_layer_history.history[\"val_factorized_top_k/top_100_categorical_accuracy\"][-1]\n",
    "accuracy_2_layer = retrieval_2_layer_history.history[\"val_factorized_top_k/top_100_categorical_accuracy\"][-1]\n",
    "accuracy_3_layer = retrieval_3_layer_history.history[\"val_factorized_top_k/top_100_categorical_accuracy\"][-1]\n",
    "print(f\"Top-100 accuracy for 1 layer model: {accuracy_1_layer:.4f}.\")\n",
    "print(f\"Top-100 accuracy for 2 layer model: {accuracy_2_layer:.4f}.\")\n",
    "print(f\"Top-100 accuracy for 3 layer model: {accuracy_3_layer:.4f}.\")"
   ]
  },
  {
   "cell_type": "markdown",
   "id": "8f692919",
   "metadata": {},
   "source": [
    "First of all, let's recall that the accuracy score for our first basic neural network model was **0.019%**. We have improved this score by 23 times to **0.47%**, just from adding more layers and adding in the additional context features to our model.\n",
    "\n",
    "As we can see above, the `3 layer` model performs  better than both the `1 layer` and the `2 layer` model. We would intuitively think that a deeper model will perform better, however, careful tuning is required for a deeper model to perform well.\n",
    "\n",
    "An example of a hyperparameter that could be tuned is different optimizers, and different learning rates. There are a whole host of other hyper parameters that could be tuned as well."
   ]
  },
  {
   "cell_type": "markdown",
   "id": "bebc549b",
   "metadata": {},
   "source": [
    "For now, since the `3 layer` model has performed best, we will use that model going forward in this notebook. "
   ]
  },
  {
   "cell_type": "markdown",
   "id": "5a12711b",
   "metadata": {},
   "source": [
    "---"
   ]
  },
  {
   "cell_type": "markdown",
   "id": "102de603",
   "metadata": {},
   "source": [
    "## Querying the Retrieval Model"
   ]
  },
  {
   "cell_type": "markdown",
   "id": "2b2321a9",
   "metadata": {},
   "source": [
    "Let's test querying the model for retrieving potential recommendations for a `userId`. For this we will make use of `BruteForce` as outlined in the tensorflow-recommender system guide."
   ]
  },
  {
   "cell_type": "code",
   "execution_count": 189,
   "id": "77a64cdd",
   "metadata": {},
   "outputs": [
    {
     "name": "stdout",
     "output_type": "stream",
     "text": [
      "Recommendations for user 512: [  2457   6104   7843   8383  32460  66198  69278  71252  72167  78116\n",
      "  79073  82053  86504  86835  90430  90890  92439  95307  96520  96728\n",
      " 102123 113573 125221 127323 137517 152711 160271 165075]\n",
      "CPU times: total: 3.48 s\n",
      "Wall time: 933 ms\n"
     ]
    }
   ],
   "source": [
    "%%time\n",
    "# Create a model that takes in raw query features, and\n",
    "index = tfrs.layers.factorized_top_k.BruteForce(retrieval_3_layer.query_model,\n",
    "                                                k=100)\n",
    "\n",
    "# recommends movieIds out of the entire movies dataset.\n",
    "index.index_from_dataset(\n",
    "  tf.data.Dataset.zip((movies.batch(100), \n",
    "                       movies.batch(100)\\\n",
    "                       .map(retrieval_3_layer\\\n",
    "                            .candidate_model\\\n",
    "                            .embedding_model\\\n",
    "                            .movie_id_embedding)\n",
    "                      )\n",
    "                     )\n",
    ")\n",
    "\n",
    "\n",
    "# Get recommendations for a random 'userId', 512\n",
    "_, m_ids = index({'userId': tf.constant([512]), 'timestamp': tf.constant([round(time.time())])})\n",
    "print(f\"Recommendations for user 512: {np.unique(m_ids)}\")"
   ]
  },
  {
   "cell_type": "markdown",
   "id": "e3db88b6",
   "metadata": {},
   "source": [
    "Now we have recommendations for `userId` **512**. However, just for sanity's sake, lets check once to see if these are new titles that are being recommended, or if some of these titles have already been seen by this user.\n",
    "\n",
    "*Note: The above can be modified to give us recommended genres, or recommended movie_text_titles as well!*"
   ]
  },
  {
   "cell_type": "code",
   "execution_count": 190,
   "id": "486e89e4",
   "metadata": {},
   "outputs": [
    {
     "name": "stdout",
     "output_type": "stream",
     "text": [
      "0 recommendations are repeated.\n"
     ]
    }
   ],
   "source": [
    "# get a list of movieIds already watched by userId 512\n",
    "seen_mids_512 = df.loc[df['userId'] == 512, 'movieId'].unique().tolist()\n",
    "\n",
    "# defining a list of unique recommended titles for userId 512\n",
    "unique_reco_mids = np.unique([mid for mid in m_ids.numpy()[0]])\n",
    "\n",
    "# getting a list of repeated titles\n",
    "repeated_mids_reco = [mid for mid in unique_reco_mids if mid in seen_mids_512]\n",
    "\n",
    "if repeated_mids_reco:\n",
    "    for mid in repeated_mids_reco:\n",
    "        print(f'{mid} is a repeated title')\n",
    "else:\n",
    "    print(f'{len(repeated_mids_reco)} recommendations are repeated.')"
   ]
  },
  {
   "cell_type": "markdown",
   "id": "49a2692e",
   "metadata": {},
   "source": [
    "As we can see from the above output, it seems that the model has learnt to give unique recommendations on it's own. \n",
    "This could be (how many times on average does a user watch a movie?)\n",
    "\n",
    "For further exploration, I found out that there is a method called [query_with_exclusions](https://www.tensorflow.org/recommenders/api_docs/python/tfrs/layers/factorized_top_k/TopK#query_with_exclusions), that works if we want only want to get recommendations that have not been seen before."
   ]
  },
  {
   "cell_type": "markdown",
   "id": "7c96019c",
   "metadata": {},
   "source": [
    "---"
   ]
  },
  {
   "cell_type": "markdown",
   "id": "1d5104d5",
   "metadata": {},
   "source": [
    "# Ranking Model"
   ]
  },
  {
   "cell_type": "markdown",
   "id": "37cf70f8",
   "metadata": {},
   "source": [
    "Previously, we created a basic `ranking_model` where we only used 2 features of the dataset:\n",
    "1. `userId`\n",
    "2. `movieId`\n",
    "\n",
    "and the target: `rating`. In the following model, we are going to add all the features in our dataset, similar to what we did for the `retrieval` model in the hopes of improved performance."
   ]
  },
  {
   "cell_type": "markdown",
   "id": "c9571fe9",
   "metadata": {},
   "source": [
    "Let's start out by first creating the dataset that we will need. This time we will need to use the `rating` feature, so we will create a new dataset to keep things neat.<br> \n",
    "\n",
    "*There may be other more efficient ways to convert a dataset to a tensor dataset, however, for use in a recommender system, I found that the guide used a `mapdataset` object. As such I have used the following technique to achieve the same.*"
   ]
  },
  {
   "cell_type": "code",
   "execution_count": 191,
   "id": "f35380c0",
   "metadata": {},
   "outputs": [],
   "source": [
    "# creating a dictionary of all the features we need\n",
    "ranking_dataset = {\n",
    "    'movieId': df['movieId'].tolist(),\n",
    "    'genres': df['genres'].tolist(),\n",
    "    'title': df['title'].tolist(),\n",
    "    'userId': df['userId'].tolist(),\n",
    "    'timestamp': df['timestamp'].tolist(), \n",
    "    'rating': df['rating'].tolist()\n",
    "}\n",
    "\n",
    "# converting dictionary to tensor\n",
    "ranking_dataset = tf.data.Dataset.from_tensor_slices(ranking_dataset)\n",
    "\n",
    "# creating a mapdataset object\n",
    "ranking_dataset = ranking_dataset.map(lambda x: {\n",
    "    'movieId': x['movieId'],\n",
    "    'genres': x['genres'],\n",
    "    'title': x['title'],\n",
    "    'userId': x['userId'],\n",
    "    'timestamp': x['timestamp'],\n",
    "    'rating': x['rating']\n",
    "})"
   ]
  },
  {
   "cell_type": "code",
   "execution_count": 192,
   "id": "1123cc0f",
   "metadata": {},
   "outputs": [
    {
     "data": {
      "text/plain": [
       "<MapDataset element_spec={'movieId': TensorSpec(shape=(), dtype=tf.int32, name=None), 'genres': TensorSpec(shape=(), dtype=tf.string, name=None), 'title': TensorSpec(shape=(), dtype=tf.string, name=None), 'userId': TensorSpec(shape=(), dtype=tf.int32, name=None), 'timestamp': TensorSpec(shape=(), dtype=tf.int32, name=None), 'rating': TensorSpec(shape=(), dtype=tf.float32, name=None)}>"
      ]
     },
     "execution_count": 192,
     "metadata": {},
     "output_type": "execute_result"
    }
   ],
   "source": [
    "# sanity check to ensure we have a mapdataset object\n",
    "ranking_dataset"
   ]
  },
  {
   "cell_type": "markdown",
   "id": "3ee9a9e7",
   "metadata": {},
   "source": [
    "---"
   ]
  },
  {
   "cell_type": "markdown",
   "id": "934847b6",
   "metadata": {},
   "source": [
    "## Creating the RankingModel classes"
   ]
  },
  {
   "cell_type": "code",
   "execution_count": 193,
   "id": "16d25c99",
   "metadata": {},
   "outputs": [],
   "source": [
    "class RankingModel(tf.keras.Model):\n",
    "\n",
    "    def __init__(self):\n",
    "        super().__init__()\n",
    "        embedding_dimension = 32\n",
    "\n",
    "        # Compute embeddings for users.\n",
    "        # using previously defined and created user_id_model\n",
    "        self.user_embedding = user_id_model\n",
    "\n",
    "        # Compute embeddings for movies.\n",
    "        # using previously defined and created movie_id_model\n",
    "        self.movie_id_embedding = movie_id_model\n",
    "\n",
    "        # using previously defined and created timestamp_embedding_model\n",
    "        self.timestamp_embedding = timestamp_embedding_model\n",
    "        self.normalized_timestamp = tf.keras.layers.Normalization(\n",
    "            axis=None\n",
    "        )\n",
    "\n",
    "        self.normalized_timestamp.adapt(timestamps)\n",
    "\n",
    "        # using previously defined and created genres_model\n",
    "        self.genre_text_embedding = genres_model\n",
    "\n",
    "        # using previously defined and created titles_model\n",
    "        self.title_text_embedding = titles_model\n",
    "\n",
    "        # Compute predictions.\n",
    "        self.ratings = tf.keras.Sequential([\n",
    "            # Learn multiple dense layers.\n",
    "            tf.keras.layers.Dense(256, activation=\"relu\"),\n",
    "            tf.keras.layers.Dense(64, activation=\"relu\"),\n",
    "            tf.keras.layers.Dense(32, activation=\"relu\"),\n",
    "            # Make rating predictions in the final layer.\n",
    "            tf.keras.layers.Dense(1)\n",
    "        ])\n",
    "\n",
    "    def call(self, inputs):\n",
    "\n",
    "        return self.ratings(tf.concat([\n",
    "            self.user_embedding(inputs['userId']),\n",
    "            self.movie_id_embedding(inputs['movieId']),\n",
    "            self.timestamp_embedding(inputs['timestamp']),\n",
    "            tf.reshape(self.normalized_timestamp(inputs['timestamp']), (-1, 1)),\n",
    "            self.genre_text_embedding(inputs['genres']),\n",
    "            self.title_text_embedding(inputs['title'])\n",
    "        ], axis=1))"
   ]
  },
  {
   "cell_type": "code",
   "execution_count": 194,
   "id": "a825a629",
   "metadata": {},
   "outputs": [],
   "source": [
    "class MovielensModel_ranking(tfrs.models.Model):\n",
    "\n",
    "    def __init__(self):\n",
    "        super().__init__()\n",
    "        self.ranking_model: tf.keras.Model = RankingModel()\n",
    "        self.task: tf.keras.layers.Layer = tfrs.tasks.Ranking(\n",
    "          loss = tf.keras.losses.MeanSquaredError(),\n",
    "          metrics=[tf.keras.metrics.RootMeanSquaredError()]\n",
    "        )\n",
    "\n",
    "    def call(self, features)-> tf.Tensor:\n",
    "        return self.ranking_model(features)\n",
    "    \n",
    "    def compute_loss(self, features, training=False)-> tf.Tensor:\n",
    "        labels = features.pop(\"rating\")\n",
    "\n",
    "        rating_predictions = self(features)\n",
    "\n",
    "        # The task computes the loss and the metrics.\n",
    "        return self.task(labels=labels, predictions=rating_predictions)"
   ]
  },
  {
   "cell_type": "markdown",
   "id": "6b2c5223",
   "metadata": {},
   "source": [
    "---"
   ]
  },
  {
   "cell_type": "markdown",
   "id": "7915eb20",
   "metadata": {},
   "source": [
    "## Train, Test split"
   ]
  },
  {
   "cell_type": "markdown",
   "id": "f7dd77ca",
   "metadata": {},
   "source": [
    "Now we are ready to train our `RankingModel`, let's do a train_test_split on our data."
   ]
  },
  {
   "cell_type": "code",
   "execution_count": 195,
   "id": "91031adf",
   "metadata": {},
   "outputs": [],
   "source": [
    "# setting random seed\n",
    "tf.random.set_seed(42)\n",
    "\n",
    "# shuffling the dataset to create a \"training\" dataset\n",
    "shuffled_ranking = ranking_dataset.shuffle(100_000,\n",
    "                                           seed=42, \n",
    "                                           reshuffle_each_iteration=False\n",
    "                                          )\n",
    "\n",
    "# taking the first 80_836 ratings\n",
    "ranking_train = shuffled_ranking.take(80_836)\n",
    "\n",
    "# taking the next 20_000 ratings\n",
    "ranking_test = shuffled_ranking.skip(80_836).take(20_000)\n",
    "\n",
    "\n",
    "# caching the train and test dataset to speed up model fitting\n",
    "cached_ranking_train = ranking_train.shuffle(100_000)\\\n",
    "                        .batch(8192).cache()\n",
    "cached_ranking_test = ranking_test.batch(4096).cache()"
   ]
  },
  {
   "cell_type": "code",
   "execution_count": 196,
   "id": "406779eb",
   "metadata": {},
   "outputs": [],
   "source": [
    "# instantiate the movielens ranking model\n",
    "ranking_model_1 = MovielensModel_ranking()\n",
    "\n",
    "# compiling model with Adagrad optimzier, and a learning rate of 0.1\n",
    "ranking_model_1.compile(optimizer=tf.keras.optimizers.Adagrad(learning_rate=0.01))"
   ]
  },
  {
   "cell_type": "markdown",
   "id": "60a2b31e",
   "metadata": {},
   "source": [
    "---"
   ]
  },
  {
   "cell_type": "markdown",
   "id": "9fe3efbc",
   "metadata": {},
   "source": [
    "# Running the Ranking model"
   ]
  },
  {
   "cell_type": "code",
   "execution_count": 197,
   "id": "bcb08e36",
   "metadata": {},
   "outputs": [],
   "source": [
    "# fitting the ranking model\n",
    "num_epochs = 300\n",
    "\n",
    "ranking_history = ranking_model_1.fit(\n",
    "    cached_ranking_train, \n",
    "    validation_data=cached_ranking_test,\n",
    "    validation_freq=1,\n",
    "    epochs=num_epochs,\n",
    "    verbose=0\n",
    ")"
   ]
  },
  {
   "cell_type": "code",
   "execution_count": 201,
   "id": "84623fce",
   "metadata": {},
   "outputs": [
    {
     "data": {
      "image/png": "[encoded data removed]",
      "text/plain": [
       "<Figure size 864x576 with 1 Axes>"
      ]
     },
     "metadata": {
      "needs_background": "light"
     },
     "output_type": "display_data"
    }
   ],
   "source": [
    "train_loss_ranking = ranking_history.history['root_mean_squared_error']\n",
    "test_loss_ranking = ranking_history.history['val_root_mean_squared_error']\n",
    "\n",
    "plt.figure(figsize=(12, 8))\n",
    "plt.plot(train_loss_ranking, label='Training loss', color='navy')\n",
    "plt.plot(test_loss_ranking, label='Testing loss', color='skyblue')\n",
    "plt.title('Ranking Model')\n",
    "plt.legend();"
   ]
  },
  {
   "cell_type": "markdown",
   "id": "eaa85483",
   "metadata": {},
   "source": [
    "Here again we can see that the model has overfit on training data. Let's take a look at the `test_rmse`. From the previous notebook, our best `SVD` model, after tuning had a `rmse` error of **0.8533**."
   ]
  },
  {
   "cell_type": "code",
   "execution_count": 199,
   "id": "0be5d0e2",
   "metadata": {},
   "outputs": [
    {
     "name": "stdout",
     "output_type": "stream",
     "text": [
      "5/5 [==============================] - 0s 53ms/step - root_mean_squared_error: 0.8713 - loss: 0.7563 - regularization_loss: 0.0000e+00 - total_loss: 0.7563\n"
     ]
    },
    {
     "data": {
      "text/plain": [
       "{'root_mean_squared_error': 0.8713064193725586,\n",
       " 'loss': 0.7439044713973999,\n",
       " 'regularization_loss': 0,\n",
       " 'total_loss': 0.7439044713973999}"
      ]
     },
     "execution_count": 199,
     "metadata": {},
     "output_type": "execute_result"
    }
   ],
   "source": [
    "ranking_model_1.evaluate(cached_ranking_test, return_dict=True)"
   ]
  },
  {
   "cell_type": "markdown",
   "id": "1957c411",
   "metadata": {},
   "source": [
    "As we can see here, we have managed to get a `test_rmse` of **0.8713**.<br>\n",
    "\n",
    "Keep in mind we have not tuned our model yet! All we have done is that we have added in all of the features available in our dataset, and added 1 more dense layer of 32 neurons as seen in the model architecture earlier, and changed the learning rate to `0.01`. There is a high possibility that tuning the neural network model will most likely yield a model that has a high retrieval `accuracy`, and a low `rmse` of the rating prediction. "
   ]
  },
  {
   "cell_type": "markdown",
   "id": "20046211",
   "metadata": {},
   "source": [
    "---"
   ]
  },
  {
   "cell_type": "markdown",
   "id": "4818b254",
   "metadata": {},
   "source": [
    "# Getting Predictions"
   ]
  },
  {
   "cell_type": "markdown",
   "id": "d0400fda",
   "metadata": {},
   "source": [
    "Now let's test out how we can obtain predicted ratings for some movies for a random `userId` from our `RankingModel`. We will use user number **512** as a test `userId`, and we will use `movieId` **1085**, **1544**, and **1931** as test movieIds. This method is defined in the guide which can be referred to [here](https://www.tensorflow.org/recommenders/examples/basic_ranking).\n",
    "\n",
    "* For the `timestamp` feature, we will use the current time. In an actual scenario, the recommender system would need to provide recommendations in realtime, which means that it will use the actual time currently.\n",
    "* The format required for `timestamp` is `Unix` time. This can be obtained by using the `time.time()` method."
   ]
  },
  {
   "cell_type": "code",
   "execution_count": 203,
   "id": "638a63f2",
   "metadata": {},
   "outputs": [
    {
     "name": "stdout",
     "output_type": "stream",
     "text": [
      "Ratings for userId 512:\n",
      "1931: 4.1407341957092285\n",
      "1544: 3.7178800106048584\n",
      "1085: 3.5293071269989014\n"
     ]
    }
   ],
   "source": [
    "# defining an empty dictionary to store the predicted ratings\n",
    "test_ratings = {}\n",
    "\n",
    "# defining the movie ids\n",
    "test_movie_ids = [1085, 1544, 1931]\n",
    "\n",
    "# for loop to put the movieIds and other \n",
    "# required variables through \n",
    "for movie_id in test_movie_ids:\n",
    "    test_ratings[movie_id] = ranking_model_1({\n",
    "      'userId': np.array([512]),\n",
    "      'movieId': np.array([movie_id]),\n",
    "      'timestamp': np.array([round(time.time())]),\n",
    "      'genres': movie_df.loc[movie_df['movieId'] == movie_id, 'genres']\\\n",
    "        .values,\n",
    "      'title': movie_df.loc[movie_df['movieId'] == movie_id, 'title']\\\n",
    "        .values\n",
    "  }).numpy()[0][0]\n",
    "    \n",
    "# for loop to print out the ratings for userId 512\n",
    "\n",
    "print('Ratings for userId 512:')\n",
    "for movie_id, score in sorted(test_ratings.items(), \n",
    "                              key=lambda x: x[1], \n",
    "                              reverse=True):\n",
    "    print(f\"{movie_id}: {score}\")"
   ]
  },
  {
   "cell_type": "markdown",
   "id": "ab979129",
   "metadata": {},
   "source": [
    "We are able to obtain the ratings for the movies, just by passing in the `userId` and the `movieId` features. The rest of the information can be obtained from the dataset itself. Now, let's combine the prediction method for the `RetrievalModel` and the `RankingModel` into 1 custom function."
   ]
  },
  {
   "cell_type": "markdown",
   "id": "12345f2d",
   "metadata": {},
   "source": [
    "---"
   ]
  },
  {
   "cell_type": "markdown",
   "id": "b9d0a7e3",
   "metadata": {},
   "source": [
    "# Custom Prediction Function"
   ]
  },
  {
   "cell_type": "code",
   "execution_count": 210,
   "id": "41356a4e",
   "metadata": {},
   "outputs": [],
   "source": [
    "def get_top_movies(userID, num_of_movies=None):\n",
    "    \"\"\"This function accepts input of a userId (int), and outputs the \n",
    "    top 5 movies that should be recommender to them, with the predicted \n",
    "    rating the user will give. When loading the models, ensure that the \n",
    "    RetrievalModel is defined as 'retrieval_model', and the RankingModel \n",
    "    is definied as 'ranking_model. If this is not done, the function will \n",
    "    not work.'\"\"\"\n",
    "    \n",
    "    # defining userId\n",
    "    userId = userID\n",
    "    \n",
    "    \n",
    "    # Create a model that takes in raw query features, and\n",
    "    index = tfrs.layers.factorized_top_k.BruteForce(retrieval_3_layer.query_model,\n",
    "                                                k=100)\n",
    "\n",
    "    # recommends movies out of the entire movies dataset.\n",
    "    index.index_from_dataset(\n",
    "      tf.data.Dataset.zip((movies.batch(100), \n",
    "                           movies.batch(100)\\\n",
    "                           .map(retrieval_3_layer\\\n",
    "                                .candidate_model\\\n",
    "                                .embedding_model\\\n",
    "                                .movie_id_embedding)\n",
    "                          )\n",
    "                         )\n",
    "    )\n",
    "\n",
    "    # Get recommendations for a random 'userId', 512\n",
    "    _, m_ids = index({'userId': tf.constant([512]), 'timestamp': tf.constant([round(time.time())])})\n",
    "    \n",
    "    \n",
    "    # takes the recommended movieIds and puts them through the ranking model\n",
    "    \n",
    "    test_movie_ids = [movie_id for movie_id in np.unique(m_ids)]\n",
    "    \n",
    "    timestamp = round(time.time())\n",
    "    pred_dict = {}\n",
    "    pred_dict['title'] = [movie_df.loc[movie_df['movieId'] == id, 'title'].values[0] \n",
    "                            for id in test_movie_ids]\n",
    "    pred_dict['predicted_rating'] = [ranking_model_1({\n",
    "            'userId': np.array([userId]), \n",
    "            'movieId': np.array([movie_id]), \n",
    "            'timestamp': np.array([timestamp]), \n",
    "            'genres': movie_df.loc[movie_df['movieId'] == movie_id, 'genres'].values, \n",
    "            'title': movie_df.loc[movie_df['movieId'] == movie_id, 'title'].values\n",
    "        }).numpy()[0][0] for movie_id in test_movie_ids]\n",
    "    pred_dict['userId'] = [userId for _ in test_movie_ids]\n",
    "    pred_dict['movieId'] = test_movie_ids\n",
    "    pred_dict['genres'] = [movie_df.loc[movie_df['movieId'] == id, 'genres'].values[0] \n",
    "                            for id in test_movie_ids]\n",
    "    pred_dict['timestamp'] = [timestamp for id in test_movie_ids]\n",
    "    \n",
    "    \n",
    "    \n",
    "    pred_df = pd.DataFrame(pred_dict)\n",
    "    pred_df.sort_values(by='predicted_rating', ascending=False, inplace=True)\n",
    "    \n",
    "    if num_of_movies and len(pred_df) > num_of_movies:\n",
    "        return pred_df.head(num_of_movies)[['title', 'predicted_rating','userId']]\n",
    "    else:\n",
    "        return pred_df[['title', 'predicted_rating','userId']]"
   ]
  },
  {
   "cell_type": "markdown",
   "id": "8479f0bb",
   "metadata": {},
   "source": [
    "Now that we have a function, let's test it out.\n",
    "\n",
    "We will simulate a real-life scenario by doing the following things.\n",
    "1. We will pass in a random `userId` value from our dataset. \n",
    "2. We will use a real time `timestamp` value in `UNIX` format.\n",
    "3. We will output the time taken for functino to execute, and output the recommendations."
   ]
  },
  {
   "cell_type": "code",
   "execution_count": 213,
   "id": "19308f4b",
   "metadata": {},
   "outputs": [
    {
     "name": "stdout",
     "output_type": "stream",
     "text": [
      "CPU times: total: 4.16 s\n",
      "Wall time: 1.73 s\n"
     ]
    },
    {
     "data": {
      "text/html": [
       "<div>\n",
       "<style scoped>\n",
       "    .dataframe tbody tr th:only-of-type {\n",
       "        vertical-align: middle;\n",
       "    }\n",
       "\n",
       "    .dataframe tbody tr th {\n",
       "        vertical-align: top;\n",
       "    }\n",
       "\n",
       "    .dataframe thead th {\n",
       "        text-align: right;\n",
       "    }\n",
       "</style>\n",
       "<table border=\"1\" class=\"dataframe\">\n",
       "  <thead>\n",
       "    <tr style=\"text-align: right;\">\n",
       "      <th></th>\n",
       "      <th>title</th>\n",
       "      <th>predicted_rating</th>\n",
       "      <th>userId</th>\n",
       "    </tr>\n",
       "  </thead>\n",
       "  <tbody>\n",
       "    <tr>\n",
       "      <th>4</th>\n",
       "      <td>Knockin' on Heaven's Door (1997)</td>\n",
       "      <td>4.344704</td>\n",
       "      <td>39</td>\n",
       "    </tr>\n",
       "    <tr>\n",
       "      <th>19</th>\n",
       "      <td>Master, The (2012)</td>\n",
       "      <td>4.150574</td>\n",
       "      <td>39</td>\n",
       "    </tr>\n",
       "    <tr>\n",
       "      <th>1</th>\n",
       "      <td>Monty Python Live at the Hollywood Bowl (1982)</td>\n",
       "      <td>4.144925</td>\n",
       "      <td>39</td>\n",
       "    </tr>\n",
       "    <tr>\n",
       "      <th>27</th>\n",
       "      <td>London Town (2016)</td>\n",
       "      <td>4.131389</td>\n",
       "      <td>39</td>\n",
       "    </tr>\n",
       "    <tr>\n",
       "      <th>25</th>\n",
       "      <td>Who Killed Chea Vichea? (2010)</td>\n",
       "      <td>4.116331</td>\n",
       "      <td>39</td>\n",
       "    </tr>\n",
       "  </tbody>\n",
       "</table>\n",
       "</div>"
      ],
      "text/plain": [
       "                                             title  predicted_rating  userId\n",
       "4                 Knockin' on Heaven's Door (1997)          4.344704      39\n",
       "19                              Master, The (2012)          4.150574      39\n",
       "1   Monty Python Live at the Hollywood Bowl (1982)          4.144925      39\n",
       "27                              London Town (2016)          4.131389      39\n",
       "25                  Who Killed Chea Vichea? (2010)          4.116331      39"
      ]
     },
     "execution_count": 213,
     "metadata": {},
     "output_type": "execute_result"
    }
   ],
   "source": [
    "%%time\n",
    "get_top_movies(random.choice([user for user in range(1, 611)]), num_of_movies=5)"
   ]
  },
  {
   "cell_type": "code",
   "execution_count": 214,
   "id": "61d9822b",
   "metadata": {},
   "outputs": [
    {
     "name": "stdout",
     "output_type": "stream",
     "text": [
      "CPU times: total: 4.09 s\n",
      "Wall time: 1.68 s\n"
     ]
    },
    {
     "data": {
      "text/html": [
       "<div>\n",
       "<style scoped>\n",
       "    .dataframe tbody tr th:only-of-type {\n",
       "        vertical-align: middle;\n",
       "    }\n",
       "\n",
       "    .dataframe tbody tr th {\n",
       "        vertical-align: top;\n",
       "    }\n",
       "\n",
       "    .dataframe thead th {\n",
       "        text-align: right;\n",
       "    }\n",
       "</style>\n",
       "<table border=\"1\" class=\"dataframe\">\n",
       "  <thead>\n",
       "    <tr style=\"text-align: right;\">\n",
       "      <th></th>\n",
       "      <th>title</th>\n",
       "      <th>predicted_rating</th>\n",
       "      <th>userId</th>\n",
       "    </tr>\n",
       "  </thead>\n",
       "  <tbody>\n",
       "    <tr>\n",
       "      <th>25</th>\n",
       "      <td>Who Killed Chea Vichea? (2010)</td>\n",
       "      <td>3.749257</td>\n",
       "      <td>57</td>\n",
       "    </tr>\n",
       "    <tr>\n",
       "      <th>4</th>\n",
       "      <td>Knockin' on Heaven's Door (1997)</td>\n",
       "      <td>3.739535</td>\n",
       "      <td>57</td>\n",
       "    </tr>\n",
       "    <tr>\n",
       "      <th>27</th>\n",
       "      <td>London Town (2016)</td>\n",
       "      <td>3.578048</td>\n",
       "      <td>57</td>\n",
       "    </tr>\n",
       "    <tr>\n",
       "      <th>12</th>\n",
       "      <td>Voices from the List (2004)</td>\n",
       "      <td>3.540498</td>\n",
       "      <td>57</td>\n",
       "    </tr>\n",
       "    <tr>\n",
       "      <th>11</th>\n",
       "      <td>Casino Jack (2010)</td>\n",
       "      <td>3.501882</td>\n",
       "      <td>57</td>\n",
       "    </tr>\n",
       "  </tbody>\n",
       "</table>\n",
       "</div>"
      ],
      "text/plain": [
       "                               title  predicted_rating  userId\n",
       "25    Who Killed Chea Vichea? (2010)          3.749257      57\n",
       "4   Knockin' on Heaven's Door (1997)          3.739535      57\n",
       "27                London Town (2016)          3.578048      57\n",
       "12       Voices from the List (2004)          3.540498      57\n",
       "11                Casino Jack (2010)          3.501882      57"
      ]
     },
     "execution_count": 214,
     "metadata": {},
     "output_type": "execute_result"
    }
   ],
   "source": [
    "%%time\n",
    "get_top_movies(random.choice([user for user in range(1, 611)]), num_of_movies=5)"
   ]
  },
  {
   "cell_type": "code",
   "execution_count": 215,
   "id": "ddfa1b8a",
   "metadata": {},
   "outputs": [
    {
     "name": "stdout",
     "output_type": "stream",
     "text": [
      "CPU times: total: 3.89 s\n",
      "Wall time: 1.66 s\n"
     ]
    },
    {
     "data": {
      "text/html": [
       "<div>\n",
       "<style scoped>\n",
       "    .dataframe tbody tr th:only-of-type {\n",
       "        vertical-align: middle;\n",
       "    }\n",
       "\n",
       "    .dataframe tbody tr th {\n",
       "        vertical-align: top;\n",
       "    }\n",
       "\n",
       "    .dataframe thead th {\n",
       "        text-align: right;\n",
       "    }\n",
       "</style>\n",
       "<table border=\"1\" class=\"dataframe\">\n",
       "  <thead>\n",
       "    <tr style=\"text-align: right;\">\n",
       "      <th></th>\n",
       "      <th>title</th>\n",
       "      <th>predicted_rating</th>\n",
       "      <th>userId</th>\n",
       "    </tr>\n",
       "  </thead>\n",
       "  <tbody>\n",
       "    <tr>\n",
       "      <th>4</th>\n",
       "      <td>Knockin' on Heaven's Door (1997)</td>\n",
       "      <td>4.780338</td>\n",
       "      <td>554</td>\n",
       "    </tr>\n",
       "    <tr>\n",
       "      <th>27</th>\n",
       "      <td>London Town (2016)</td>\n",
       "      <td>4.602211</td>\n",
       "      <td>554</td>\n",
       "    </tr>\n",
       "    <tr>\n",
       "      <th>12</th>\n",
       "      <td>Voices from the List (2004)</td>\n",
       "      <td>4.590581</td>\n",
       "      <td>554</td>\n",
       "    </tr>\n",
       "    <tr>\n",
       "      <th>25</th>\n",
       "      <td>Who Killed Chea Vichea? (2010)</td>\n",
       "      <td>4.478752</td>\n",
       "      <td>554</td>\n",
       "    </tr>\n",
       "    <tr>\n",
       "      <th>14</th>\n",
       "      <td>Carnage (2011)</td>\n",
       "      <td>4.394801</td>\n",
       "      <td>554</td>\n",
       "    </tr>\n",
       "  </tbody>\n",
       "</table>\n",
       "</div>"
      ],
      "text/plain": [
       "                               title  predicted_rating  userId\n",
       "4   Knockin' on Heaven's Door (1997)          4.780338     554\n",
       "27                London Town (2016)          4.602211     554\n",
       "12       Voices from the List (2004)          4.590581     554\n",
       "25    Who Killed Chea Vichea? (2010)          4.478752     554\n",
       "14                    Carnage (2011)          4.394801     554"
      ]
     },
     "execution_count": 215,
     "metadata": {},
     "output_type": "execute_result"
    }
   ],
   "source": [
    "%%time\n",
    "get_top_movies(random.choice([user for user in range(1, 611)]), num_of_movies=5)"
   ]
  },
  {
   "cell_type": "code",
   "execution_count": 216,
   "id": "9cb4216b",
   "metadata": {},
   "outputs": [
    {
     "name": "stdout",
     "output_type": "stream",
     "text": [
      "CPU times: total: 4.36 s\n",
      "Wall time: 1.93 s\n"
     ]
    },
    {
     "data": {
      "text/html": [
       "<div>\n",
       "<style scoped>\n",
       "    .dataframe tbody tr th:only-of-type {\n",
       "        vertical-align: middle;\n",
       "    }\n",
       "\n",
       "    .dataframe tbody tr th {\n",
       "        vertical-align: top;\n",
       "    }\n",
       "\n",
       "    .dataframe thead th {\n",
       "        text-align: right;\n",
       "    }\n",
       "</style>\n",
       "<table border=\"1\" class=\"dataframe\">\n",
       "  <thead>\n",
       "    <tr style=\"text-align: right;\">\n",
       "      <th></th>\n",
       "      <th>title</th>\n",
       "      <th>predicted_rating</th>\n",
       "      <th>userId</th>\n",
       "    </tr>\n",
       "  </thead>\n",
       "  <tbody>\n",
       "    <tr>\n",
       "      <th>12</th>\n",
       "      <td>Voices from the List (2004)</td>\n",
       "      <td>3.953906</td>\n",
       "      <td>1310</td>\n",
       "    </tr>\n",
       "    <tr>\n",
       "      <th>4</th>\n",
       "      <td>Knockin' on Heaven's Door (1997)</td>\n",
       "      <td>3.947484</td>\n",
       "      <td>1310</td>\n",
       "    </tr>\n",
       "    <tr>\n",
       "      <th>25</th>\n",
       "      <td>Who Killed Chea Vichea? (2010)</td>\n",
       "      <td>3.887461</td>\n",
       "      <td>1310</td>\n",
       "    </tr>\n",
       "    <tr>\n",
       "      <th>27</th>\n",
       "      <td>London Town (2016)</td>\n",
       "      <td>3.674131</td>\n",
       "      <td>1310</td>\n",
       "    </tr>\n",
       "    <tr>\n",
       "      <th>16</th>\n",
       "      <td>Art of Getting By, The (2011)</td>\n",
       "      <td>3.648631</td>\n",
       "      <td>1310</td>\n",
       "    </tr>\n",
       "  </tbody>\n",
       "</table>\n",
       "</div>"
      ],
      "text/plain": [
       "                               title  predicted_rating  userId\n",
       "12       Voices from the List (2004)          3.953906    1310\n",
       "4   Knockin' on Heaven's Door (1997)          3.947484    1310\n",
       "25    Who Killed Chea Vichea? (2010)          3.887461    1310\n",
       "27                London Town (2016)          3.674131    1310\n",
       "16     Art of Getting By, The (2011)          3.648631    1310"
      ]
     },
     "execution_count": 216,
     "metadata": {},
     "output_type": "execute_result"
    }
   ],
   "source": [
    "%%time\n",
    "get_top_movies(1310, num_of_movies=5)"
   ]
  },
  {
   "cell_type": "code",
   "execution_count": 58,
   "id": "e7db55c1",
   "metadata": {},
   "outputs": [
    {
     "data": {
      "text/html": [
       "<div>\n",
       "<style scoped>\n",
       "    .dataframe tbody tr th:only-of-type {\n",
       "        vertical-align: middle;\n",
       "    }\n",
       "\n",
       "    .dataframe tbody tr th {\n",
       "        vertical-align: top;\n",
       "    }\n",
       "\n",
       "    .dataframe thead th {\n",
       "        text-align: right;\n",
       "    }\n",
       "</style>\n",
       "<table border=\"1\" class=\"dataframe\">\n",
       "  <thead>\n",
       "    <tr style=\"text-align: right;\">\n",
       "      <th></th>\n",
       "      <th>userId</th>\n",
       "      <th>movieId</th>\n",
       "      <th>rating</th>\n",
       "      <th>timestamp</th>\n",
       "      <th>title</th>\n",
       "      <th>genres</th>\n",
       "    </tr>\n",
       "  </thead>\n",
       "  <tbody>\n",
       "  </tbody>\n",
       "</table>\n",
       "</div>"
      ],
      "text/plain": [
       "Empty DataFrame\n",
       "Columns: [userId, movieId, rating, timestamp, title, genres]\n",
       "Index: []"
      ]
     },
     "execution_count": 58,
     "metadata": {},
     "output_type": "execute_result"
    }
   ],
   "source": [
    "df[df['userId'] == 1310]"
   ]
  },
  {
   "cell_type": "markdown",
   "id": "ba4d35d2",
   "metadata": {},
   "source": [
    "Remember that we previously mentioned the threshold of **3 seconds**. As we can see from the above output, our model takes roughly 1-2 seconds to return predictions, the longest was for a the `userId` 1310 that is a new user. So we can see that the model does fall within the threshold and as a bonus, it can even solve the cold start problem!"
   ]
  },
  {
   "cell_type": "markdown",
   "id": "8e2d94a2",
   "metadata": {},
   "source": [
    "---"
   ]
  },
  {
   "cell_type": "markdown",
   "id": "b2a7c236",
   "metadata": {},
   "source": [
    "# Overall Model Evaluation"
   ]
  },
  {
   "cell_type": "markdown",
   "id": "ee8df7bb",
   "metadata": {},
   "source": [
    "## Pros of the Neural Network Model"
   ]
  },
  {
   "cell_type": "markdown",
   "id": "4b676716",
   "metadata": {},
   "source": [
    "* The `NN` can actually accept more than just the `userId`, `movieId` and `rating` features. I believe this is one of the biggest advantages of this model over the `SVD`.\n",
    "* Since you can add in an additional embeddings for unknown tokens, the model above was actually able to give recommendations for a completely new user, that did not exist in the dataset. In order to evaluate the recommendations, we would need to create another simulation where we withhold that user data from the trainset.\n",
    "* The ranking model was able to reach close to the `SVD` model `rmse` with a relatively low amount of effort considering that we haven't yet tuned the model. We have only touched on the depth of the model, and features in the model, no hyperparameter tuning."
   ]
  },
  {
   "cell_type": "markdown",
   "id": "62bf6c4e",
   "metadata": {},
   "source": [
    "## Cons of the Neural Network Model"
   ]
  },
  {
   "cell_type": "markdown",
   "id": "3bc4c395",
   "metadata": {},
   "source": [
    "* The `NN` model is not easy to train, and it is complicated to learn about the model as compared to the `SVD` model.\n",
    "* Time taken to train the `NN` model can be hours or even days. In comparison, the `SVD` took just minutes to train on the 100k dataset.\n",
    "* For deeper models, careful tuning of all the hyperparameters is required, including the number of dimensions for feature embedding. Without tuning, the model's performance will not be great."
   ]
  },
  {
   "cell_type": "markdown",
   "id": "824c4dee",
   "metadata": {},
   "source": [
    "---"
   ]
  },
  {
   "cell_type": "markdown",
   "id": "e90e3ae3",
   "metadata": {},
   "source": [
    "# Next Steps"
   ]
  },
  {
   "cell_type": "markdown",
   "id": "f81fa441",
   "metadata": {},
   "source": [
    "1. Further research can be done on how to obtain other user features like `age`, `occupation`, `geography` etc. With those kinds of features, especially those that are not user history dependent, we can solve the cold start problem and give the user some level of personalization in the recommendations presented to them.\n",
    "2. Tuning the model. This goes without saying as we have mentioned preivously that most likely we need to explore tuning the model used here with the `Keras Tuner` library.\n",
    "3. `Google` itself uses a `NN` recommender system for YouTube, and they have decided to implement a extreme multiclass classification model for the candidate retrieval part. I think further exploration into that is also possible, and some learnings from there can be implemented in your own `NN`. "
   ]
  },
  {
   "cell_type": "markdown",
   "id": "391b8f7f",
   "metadata": {},
   "source": [
    "---"
   ]
  },
  {
   "cell_type": "markdown",
   "id": "e335a7f6",
   "metadata": {},
   "source": [
    "# Learnings from this challenge"
   ]
  },
  {
   "cell_type": "markdown",
   "id": "c88b99e4",
   "metadata": {},
   "source": [
    "## 1. There is never enough time to do all the things you wish to do in a project!"
   ]
  },
  {
   "cell_type": "markdown",
   "id": "bc607db1",
   "metadata": {},
   "source": [
    "I learnt that the more I researched and pursused a method, the more I came across new information that I felt I HAD to include. It is very easy to go down the rabbit hole, so I think there is merit to give yourself a fixed scope to work within, and always check that you are indeed working within the scope."
   ]
  },
  {
   "cell_type": "markdown",
   "id": "082eb36b",
   "metadata": {},
   "source": [
    "## 2. I have learnt that even though figuring out information is difficult, with enough research, you can do it.\n"
   ]
  },
  {
   "cell_type": "markdown",
   "id": "90714c9b",
   "metadata": {},
   "source": [
    "The `TensorFlow-Recommenders` library was completely new to me, and even though I had heard of Keras, I had not really had much contact with it. Figuring out how to use the library meant tons of research, and lots of trial and error, but by the end I think I gained the skill of how to search out information to help me, and how to make educational guesses of what the issue might be by following the logic in the code."
   ]
  },
  {
   "cell_type": "markdown",
   "id": "6df937ff",
   "metadata": {},
   "source": [
    "## 3. Take a break"
   ]
  },
  {
   "cell_type": "markdown",
   "id": "99aadecb",
   "metadata": {},
   "source": [
    "Sometimes when I was really stumped on a problem, and I have searched all the stacked overflow forums, all the github posts, all the documentation, to no avail, I found that it helps me to stop. Do something else, take a short walk, anything. And then after about 20-30 mins later, sometimes, I magically have the solution. Or other times, I eventually figure it out because I am able to look at the problem again with a calm mind."
   ]
  },
  {
   "cell_type": "markdown",
   "id": "6673c688",
   "metadata": {},
   "source": [
    "With these next steps and learnings, I look forward to exploring more about the up and coming research in recommender systems."
   ]
  }
 ],
 "metadata": {
  "kernelspec": {
   "display_name": "Python 3 (ipykernel)",
   "language": "python",
   "name": "python3"
  },
  "language_info": {
   "codemirror_mode": {
    "name": "ipython",
    "version": 3
   },
   "file_extension": ".py",
   "mimetype": "text/x-python",
   "name": "python",
   "nbconvert_exporter": "python",
   "pygments_lexer": "ipython3",
   "version": "3.8.13"
  }
 },
 "nbformat": 4,
 "nbformat_minor": 5
}
