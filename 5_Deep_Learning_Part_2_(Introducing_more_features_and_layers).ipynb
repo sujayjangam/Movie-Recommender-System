{
 "cells": [
  {
   "cell_type": "markdown",
   "id": "13c38d51",
   "metadata": {},
   "source": [
    "# Neural Network for Recommender Systems"
   ]
  },
  {
   "cell_type": "code",
   "execution_count": 1,
   "id": "68334c8b",
   "metadata": {},
   "outputs": [],
   "source": [
    "import os\n",
    "import pprint\n",
    "import tempfile\n",
    "\n",
    "from typing import Dict, Text\n",
    "\n",
    "import numpy as np\n",
    "import tensorflow as tf\n",
    "import tensorflow_datasets as tfds"
   ]
  },
  {
   "cell_type": "code",
   "execution_count": 2,
   "id": "0892506d",
   "metadata": {},
   "outputs": [],
   "source": [
    "import tensorflow_recommenders as tfrs"
   ]
  },
  {
   "cell_type": "code",
   "execution_count": 3,
   "id": "aac09783",
   "metadata": {},
   "outputs": [],
   "source": [
    "import pandas as pd\n",
    "import numpy as np\n",
    "import matplotlib.pyplot as plt\n",
    "import random\n",
    "import time"
   ]
  },
  {
   "cell_type": "code",
   "execution_count": 4,
   "id": "1d7f0b42",
   "metadata": {},
   "outputs": [],
   "source": [
    "# import keras_tuner as kt"
   ]
  },
  {
   "cell_type": "code",
   "execution_count": 5,
   "id": "bc300ba5",
   "metadata": {},
   "outputs": [],
   "source": [
    "df = pd.read_csv('./datasets/merged_users+movies.csv')\n",
    "movie_df = pd.read_csv('./datasets/movies.csv')"
   ]
  },
  {
   "cell_type": "code",
   "execution_count": 83,
   "id": "50ba6e67",
   "metadata": {},
   "outputs": [
    {
     "data": {
      "text/html": [
       "<div>\n",
       "<style scoped>\n",
       "    .dataframe tbody tr th:only-of-type {\n",
       "        vertical-align: middle;\n",
       "    }\n",
       "\n",
       "    .dataframe tbody tr th {\n",
       "        vertical-align: top;\n",
       "    }\n",
       "\n",
       "    .dataframe thead th {\n",
       "        text-align: right;\n",
       "    }\n",
       "</style>\n",
       "<table border=\"1\" class=\"dataframe\">\n",
       "  <thead>\n",
       "    <tr style=\"text-align: right;\">\n",
       "      <th></th>\n",
       "      <th>userId</th>\n",
       "      <th>movieId</th>\n",
       "      <th>rating</th>\n",
       "      <th>timestamp</th>\n",
       "      <th>title</th>\n",
       "      <th>genres</th>\n",
       "    </tr>\n",
       "  </thead>\n",
       "  <tbody>\n",
       "    <tr>\n",
       "      <th>0</th>\n",
       "      <td>1</td>\n",
       "      <td>1</td>\n",
       "      <td>4.0</td>\n",
       "      <td>964982703</td>\n",
       "      <td>Toy Story (1995)</td>\n",
       "      <td>Adventure Animation Children Comedy Fantasy</td>\n",
       "    </tr>\n",
       "    <tr>\n",
       "      <th>1</th>\n",
       "      <td>5</td>\n",
       "      <td>1</td>\n",
       "      <td>4.0</td>\n",
       "      <td>847434962</td>\n",
       "      <td>Toy Story (1995)</td>\n",
       "      <td>Adventure Animation Children Comedy Fantasy</td>\n",
       "    </tr>\n",
       "    <tr>\n",
       "      <th>2</th>\n",
       "      <td>7</td>\n",
       "      <td>1</td>\n",
       "      <td>4.5</td>\n",
       "      <td>1106635946</td>\n",
       "      <td>Toy Story (1995)</td>\n",
       "      <td>Adventure Animation Children Comedy Fantasy</td>\n",
       "    </tr>\n",
       "    <tr>\n",
       "      <th>3</th>\n",
       "      <td>15</td>\n",
       "      <td>1</td>\n",
       "      <td>2.5</td>\n",
       "      <td>1510577970</td>\n",
       "      <td>Toy Story (1995)</td>\n",
       "      <td>Adventure Animation Children Comedy Fantasy</td>\n",
       "    </tr>\n",
       "    <tr>\n",
       "      <th>4</th>\n",
       "      <td>17</td>\n",
       "      <td>1</td>\n",
       "      <td>4.5</td>\n",
       "      <td>1305696483</td>\n",
       "      <td>Toy Story (1995)</td>\n",
       "      <td>Adventure Animation Children Comedy Fantasy</td>\n",
       "    </tr>\n",
       "  </tbody>\n",
       "</table>\n",
       "</div>"
      ],
      "text/plain": [
       "   userId  movieId  rating   timestamp             title  \\\n",
       "0       1        1     4.0   964982703  Toy Story (1995)   \n",
       "1       5        1     4.0   847434962  Toy Story (1995)   \n",
       "2       7        1     4.5  1106635946  Toy Story (1995)   \n",
       "3      15        1     2.5  1510577970  Toy Story (1995)   \n",
       "4      17        1     4.5  1305696483  Toy Story (1995)   \n",
       "\n",
       "                                        genres  \n",
       "0  Adventure Animation Children Comedy Fantasy  \n",
       "1  Adventure Animation Children Comedy Fantasy  \n",
       "2  Adventure Animation Children Comedy Fantasy  \n",
       "3  Adventure Animation Children Comedy Fantasy  \n",
       "4  Adventure Animation Children Comedy Fantasy  "
      ]
     },
     "execution_count": 83,
     "metadata": {},
     "output_type": "execute_result"
    }
   ],
   "source": [
    "df.head()"
   ]
  },
  {
   "cell_type": "code",
   "execution_count": 85,
   "id": "e8958964",
   "metadata": {},
   "outputs": [],
   "source": [
    "retrieval_df = pd.read_csv('./datasets/retrieval_model_scores.csv')\n",
    "ranking_df = pd.read_csv('./datasets/retrieval_model_scores.csv')"
   ]
  },
  {
   "cell_type": "code",
   "execution_count": 86,
   "id": "517736cb",
   "metadata": {},
   "outputs": [],
   "source": [
    "retrieval_dict = retrieval_df.to_dict(orient='list')\n",
    "ranking_dict = ranking_df.to_dict(orient='list')"
   ]
  },
  {
   "cell_type": "code",
   "execution_count": null,
   "id": "2a7f27d2",
   "metadata": {},
   "outputs": [],
   "source": []
  },
  {
   "cell_type": "markdown",
   "id": "41d36e34",
   "metadata": {},
   "source": [
    "In a deep learning model, we can make use of features that we were not able to do so with our `SVD` model previously.<br>\n",
    "\n",
    "We will attempt to create a deep learning model using all 6 features of our dataset. Namely these are: `userId`, `movieId`, `rating`, `timestamp`, `title`, `genres`.\n",
    "\n",
    "We will be building a two step model, as is outlined in the tensorflow-recommenders guide. A retrieval model, and a ranking model. These two models will allow us to ....\n",
    "\n",
    "We will first start with the retrieval model."
   ]
  },
  {
   "cell_type": "markdown",
   "id": "ea6b9e76",
   "metadata": {},
   "source": [
    "## Retrieval Model"
   ]
  },
  {
   "cell_type": "markdown",
   "id": "03dbace3",
   "metadata": {},
   "source": [
    "In order to add all the features to our model, we will need to create `embeddings` for each of them. We can use the `Embedding` method in `Keras` to help with this. Let's start by first creating a tensorflow compatible dataset that we will then use for creation of any `embeddings` we need."
   ]
  },
  {
   "cell_type": "markdown",
   "id": "27805aa0",
   "metadata": {},
   "source": [
    "We will start off by converting our all our required data to a tensorflow dataset that will work with methods like `batch` and `map`."
   ]
  },
  {
   "cell_type": "code",
   "execution_count": 7,
   "id": "06858ec3",
   "metadata": {},
   "outputs": [],
   "source": [
    "retrieval_dataset = {\n",
    "    'movieId': df['movieId'].tolist(),\n",
    "    'genres': df['genres'].tolist(),\n",
    "    'title': df['title'].tolist(),\n",
    "    'userId': df['userId'].tolist(),\n",
    "    'timestamp': df['timestamp'].tolist(),\n",
    "}"
   ]
  },
  {
   "cell_type": "code",
   "execution_count": 8,
   "id": "d4cb3961",
   "metadata": {},
   "outputs": [],
   "source": [
    "retrieval_dataset = tf.data.Dataset.from_tensor_slices(retrieval_dataset)"
   ]
  },
  {
   "cell_type": "code",
   "execution_count": 9,
   "id": "320e45fc",
   "metadata": {},
   "outputs": [],
   "source": [
    "# defining an empty dictionary to store the predicted ratingsaaaaaaaaaaaaaaaaaa"
   ]
  },
  {
   "cell_type": "code",
   "execution_count": 10,
   "id": "fc883a20",
   "metadata": {},
   "outputs": [],
   "source": [
    "retrieval_dataset = retrieval_dataset.map(lambda x: {\n",
    "    'movieId': x['movieId'],\n",
    "    'genres': x['genres'],\n",
    "    'title': x['title'],\n",
    "    'userId': x['userId'],\n",
    "    'timestamp': x['timestamp'],\n",
    "})\n",
    "\n",
    "# creating separate datasets in case we need to use them to be \n",
    "# added to the model.\n",
    "movies = retrieval_dataset.map(lambda x: x['movieId'])\n",
    "genres = retrieval_dataset.map(lambda x: x['genres'])\n",
    "movie_titles = retrieval_dataset.map(lambda x: x['title'])\n",
    "users = retrieval_dataset.map(lambda x: x['userId'])\n",
    "timestamps = retrieval_dataset.map(lambda x: x['timestamp'])\n",
    "movie_related = retrieval_dataset.map(lambda x: {\n",
    "    'movieId': x['movieId'],\n",
    "    'genres': x['genres'],\n",
    "    'title': x['title']\n",
    "})"
   ]
  },
  {
   "cell_type": "code",
   "execution_count": 11,
   "id": "6668d6cb",
   "metadata": {},
   "outputs": [
    {
     "data": {
      "text/plain": [
       "<MapDataset element_spec={'movieId': TensorSpec(shape=(), dtype=tf.int32, name=None), 'genres': TensorSpec(shape=(), dtype=tf.string, name=None), 'title': TensorSpec(shape=(), dtype=tf.string, name=None), 'userId': TensorSpec(shape=(), dtype=tf.int32, name=None), 'timestamp': TensorSpec(shape=(), dtype=tf.int32, name=None)}>"
      ]
     },
     "execution_count": 11,
     "metadata": {},
     "output_type": "execute_result"
    }
   ],
   "source": [
    "# sanity check once again to ensure that we have \n",
    "# a 'MapDataset' object\n",
    "retrieval_dataset"
   ]
  },
  {
   "cell_type": "markdown",
   "id": "02d12431",
   "metadata": {},
   "source": [
    "Now let's create the vocabularies for our `categorical` embeddings."
   ]
  },
  {
   "cell_type": "markdown",
   "id": "a827a9f2",
   "metadata": {},
   "source": [
    "### MovieIds and UserIds"
   ]
  },
  {
   "cell_type": "code",
   "execution_count": 12,
   "id": "3052824b",
   "metadata": {},
   "outputs": [],
   "source": [
    "# creating a list of unique userIds\n",
    "unique_user_ids = np.unique(df['userId'].tolist())\n",
    "\n",
    "# creating a list of unique movieIds\n",
    "unique_movie_ids = np.unique(df['movieId'].tolist())"
   ]
  },
  {
   "cell_type": "code",
   "execution_count": 13,
   "id": "ac602be4",
   "metadata": {},
   "outputs": [],
   "source": [
    "# defining an empty dictionary to store the predicted ratingsaaaaaaaaaaaaaaaaaa"
   ]
  },
  {
   "cell_type": "code",
   "execution_count": 14,
   "id": "7d0d6b31",
   "metadata": {},
   "outputs": [],
   "source": [
    "# defining the embedding dimension that we will use across all embedding \n",
    "# layers. We have kept this number relatively small so that the model will \n",
    "# work a little faster.\n",
    "embedding_dimension = 32"
   ]
  },
  {
   "cell_type": "code",
   "execution_count": 15,
   "id": "c9e4ba21",
   "metadata": {},
   "outputs": [],
   "source": [
    "# embedding unique userIds\n",
    "user_id_model = tf.keras.Sequential([\n",
    "    tf.keras.layers.IntegerLookup(\n",
    "        vocabulary=unique_user_ids, mask_token=None),\n",
    "    # We add some additional embeddings to account for unknown tokens.\n",
    "    tf.keras.layers.Embedding(len(unique_user_ids) + 1, embedding_dimension)\n",
    "])"
   ]
  },
  {
   "cell_type": "code",
   "execution_count": 16,
   "id": "89e543e8",
   "metadata": {},
   "outputs": [
    {
     "name": "stdout",
     "output_type": "stream",
     "text": [
      "WARNING:tensorflow:Layers in a Sequential model should only have a single input tensor. Received: inputs=[<tf.Tensor: shape=(), dtype=int32, numpy=512>]. Consider rewriting this model with the Functional API.\n"
     ]
    },
    {
     "data": {
      "text/plain": [
       "<tf.Tensor: shape=(1, 32), dtype=float32, numpy=\n",
       "array([[-0.03128015,  0.03438071, -0.01174592,  0.0101427 ,  0.02118118,\n",
       "        -0.038535  , -0.02383973, -0.04257793,  0.04730797, -0.03115307,\n",
       "         0.01441553,  0.04310058, -0.02741833, -0.0054088 , -0.03259417,\n",
       "         0.04947333,  0.03272885, -0.04545831, -0.01818838,  0.04232411,\n",
       "        -0.01569668, -0.04511279, -0.02215107, -0.01029055,  0.03575362,\n",
       "        -0.04870703, -0.0018393 ,  0.01275836, -0.02766782,  0.03315471,\n",
       "        -0.00111959, -0.03475295]], dtype=float32)>"
      ]
     },
     "execution_count": 16,
     "metadata": {},
     "output_type": "execute_result"
    }
   ],
   "source": [
    "# check to see the vector embedding of 'userIds'\n",
    "user_id_model([512])"
   ]
  },
  {
   "cell_type": "code",
   "execution_count": 17,
   "id": "7390c147",
   "metadata": {},
   "outputs": [],
   "source": [
    "# defining an empty dictionary to store the predicted ratingsaaaaaaaaaaaaaaaaaa"
   ]
  },
  {
   "cell_type": "code",
   "execution_count": 18,
   "id": "f21d671d",
   "metadata": {},
   "outputs": [],
   "source": [
    "# embedding unique movie titles\n",
    "movie_id_model = tf.keras.Sequential([\n",
    "    tf.keras.layers.IntegerLookup(\n",
    "        vocabulary=unique_movie_ids, mask_token=None), \n",
    "    # We add some additional embeddings to account for unknown tokens.    \n",
    "    tf.keras.layers.Embedding(len(unique_movie_ids) + 1, \n",
    "                              embedding_dimension)\n",
    "])\n"
   ]
  },
  {
   "cell_type": "code",
   "execution_count": 19,
   "id": "238645c3",
   "metadata": {},
   "outputs": [
    {
     "name": "stdout",
     "output_type": "stream",
     "text": [
      "WARNING:tensorflow:Layers in a Sequential model should only have a single input tensor. Received: inputs=[<tf.Tensor: shape=(), dtype=int32, numpy=9772>]. Consider rewriting this model with the Functional API.\n"
     ]
    },
    {
     "data": {
      "text/plain": [
       "<tf.Tensor: shape=(1, 32), dtype=float32, numpy=\n",
       "array([[ 0.02520246, -0.03815152, -0.04186211, -0.01645218,  0.02076913,\n",
       "         0.00377073, -0.03175095, -0.03725419, -0.04842513, -0.01137273,\n",
       "         0.01077969,  0.04457656,  0.01085545, -0.02769569,  0.03951421,\n",
       "        -0.04472519, -0.01050532, -0.00969529,  0.00785844,  0.01408844,\n",
       "        -0.00632553,  0.03473219, -0.01108712,  0.041569  ,  0.02897431,\n",
       "         0.01296527,  0.02073428,  0.04186301,  0.0102808 ,  0.0402603 ,\n",
       "        -0.04730649, -0.04233315]], dtype=float32)>"
      ]
     },
     "execution_count": 19,
     "metadata": {},
     "output_type": "execute_result"
    }
   ],
   "source": [
    "movie_id_model([9772])"
   ]
  },
  {
   "cell_type": "markdown",
   "id": "d1df2cd0",
   "metadata": {},
   "source": [
    "---"
   ]
  },
  {
   "cell_type": "markdown",
   "id": "908d7a46",
   "metadata": {},
   "source": [
    "### Genres"
   ]
  },
  {
   "cell_type": "markdown",
   "id": "230d21c1",
   "metadata": {},
   "source": [
    "Next we will create a `word embedding` for the genres feature.\n",
    "There are 34 movies in the `movies_df` that have 'no genres listed'. This may cause our model with the genres feature added into it to recommend movies with genres list, and not those without any genres. However we will still add genres into our model and for those with 'no genres listed', ....\n",
    "\n",
    "We will use the inbuilt text vectorizer in keras to vectorize our genres for us."
   ]
  },
  {
   "cell_type": "code",
   "execution_count": 20,
   "id": "6d551c78",
   "metadata": {},
   "outputs": [],
   "source": [
    "# defining an empty dictionary to store the predicted ratingsaaaaaaaaaaaaaaaaaa"
   ]
  },
  {
   "cell_type": "code",
   "execution_count": 21,
   "id": "85db2a08",
   "metadata": {},
   "outputs": [],
   "source": [
    "# replacing '(no genres listed)' with 'no_genres_listed' \n",
    "# for creation of genre vocabulary\n",
    "movie_df['genres'] = movie_df['genres'].map(lambda x: 'no_genres_listed' \n",
    "                                            if x == '(no genres listed)' \n",
    "                                            else x)\n",
    "\n",
    "df['genres'] = df['genres'].map(lambda x: 'no_genres_listed' \n",
    "                                if x == '(no genres listed)' \n",
    "                                else x)"
   ]
  },
  {
   "cell_type": "code",
   "execution_count": 22,
   "id": "858cb082",
   "metadata": {},
   "outputs": [],
   "source": [
    "# defining max_tokens for use in vectorizers\n",
    "max_tokens = 10_000"
   ]
  },
  {
   "cell_type": "code",
   "execution_count": 23,
   "id": "1548efde",
   "metadata": {},
   "outputs": [],
   "source": [
    "genre_text = tf.keras.layers.TextVectorization(\n",
    "    max_tokens=max_tokens,\n",
    "    standardize='lower_and_strip_punctuation',\n",
    "    split='whitespace',\n",
    "    ngrams=1,\n",
    "    output_mode='int',\n",
    ")"
   ]
  },
  {
   "cell_type": "code",
   "execution_count": 24,
   "id": "4fd3445d",
   "metadata": {},
   "outputs": [],
   "source": [
    "genre_text.adapt(genres)"
   ]
  },
  {
   "cell_type": "code",
   "execution_count": 25,
   "id": "011ab85a",
   "metadata": {},
   "outputs": [],
   "source": [
    "genre_embedding = tf.keras.layers.Embedding(\n",
    "    # Let's use the explicit vocabulary lookup.\n",
    "    input_dim=max_tokens,\n",
    "    output_dim=embedding_dimension,\n",
    "    mask_zero=True,\n",
    ")"
   ]
  },
  {
   "cell_type": "code",
   "execution_count": 26,
   "id": "50d48817",
   "metadata": {},
   "outputs": [],
   "source": [
    "# defining an empty dictionary to store the predicted ratingsaaaaaaaaaaaaaaaaaa"
   ]
  },
  {
   "cell_type": "code",
   "execution_count": 27,
   "id": "10cca6f1",
   "metadata": {},
   "outputs": [],
   "source": [
    "genres_model = tf.keras.Sequential([genre_text, \n",
    "                                    genre_embedding,\n",
    "                                    tf.keras.layers.GlobalAveragePooling1D()\n",
    "                                   ])"
   ]
  },
  {
   "cell_type": "code",
   "execution_count": 28,
   "id": "30b2c688",
   "metadata": {},
   "outputs": [
    {
     "name": "stdout",
     "output_type": "stream",
     "text": [
      "WARNING:tensorflow:Layers in a Sequential model should only have a single input tensor. Received: inputs=['Adventure Animation Children Comedy Fantasy']. Consider rewriting this model with the Functional API.\n"
     ]
    },
    {
     "data": {
      "text/plain": [
       "<tf.Tensor: shape=(1, 32), dtype=float32, numpy=\n",
       "array([[-0.01258272, -0.0299936 , -0.00948113, -0.00350076,  0.01284445,\n",
       "        -0.01011085,  0.02273605,  0.01227723, -0.00367955,  0.00456476,\n",
       "        -0.01549315, -0.01898145, -0.01221539, -0.00834654,  0.009825  ,\n",
       "        -0.01776847,  0.00645914, -0.00363041, -0.00544813, -0.0112711 ,\n",
       "        -0.00412033,  0.00191099, -0.0192741 ,  0.01081954,  0.00523438,\n",
       "         0.02921953,  0.01287186,  0.00138298, -0.0007148 , -0.00089285,\n",
       "        -0.01149138,  0.00676622]], dtype=float32)>"
      ]
     },
     "execution_count": 28,
     "metadata": {},
     "output_type": "execute_result"
    }
   ],
   "source": [
    "genres_model(['Adventure Animation Children Comedy Fantasy'])"
   ]
  },
  {
   "cell_type": "markdown",
   "id": "915d8252",
   "metadata": {},
   "source": [
    "### Movie Titles"
   ]
  },
  {
   "cell_type": "markdown",
   "id": "6d63247f",
   "metadata": {},
   "source": [
    "Next we will create a `word embedding` for the `title` feature.\n",
    "Since there are some movies with missing genres, and since we have the `title` feature available to use, we will add this in to our deep learning model. \n",
    "\n",
    "We will use the inbuilt text vectorizer in keras to vectorize our movie titles for us."
   ]
  },
  {
   "cell_type": "code",
   "execution_count": 29,
   "id": "83d87e0d",
   "metadata": {},
   "outputs": [],
   "source": [
    "title_text = tf.keras.layers.TextVectorization(\n",
    "    max_tokens=max_tokens\n",
    ")"
   ]
  },
  {
   "cell_type": "code",
   "execution_count": 30,
   "id": "c2dbf261",
   "metadata": {},
   "outputs": [],
   "source": [
    "title_text.adapt(movie_titles)"
   ]
  },
  {
   "cell_type": "code",
   "execution_count": 31,
   "id": "2345ae79",
   "metadata": {},
   "outputs": [],
   "source": [
    "title_embedding = tf.keras.layers.Embedding(\n",
    "    input_dim=max_tokens,\n",
    "    output_dim=embedding_dimension,\n",
    "    mask_zero=True,   \n",
    ")"
   ]
  },
  {
   "cell_type": "code",
   "execution_count": 32,
   "id": "64780b68",
   "metadata": {},
   "outputs": [],
   "source": [
    "# defining an empty dictionary to store the predicted ratingsaaaaaaaaaaaaaaaaaa"
   ]
  },
  {
   "cell_type": "code",
   "execution_count": 33,
   "id": "01a1f3be",
   "metadata": {},
   "outputs": [],
   "source": [
    "titles_model = tf.keras.Sequential([title_text, \n",
    "                                    title_embedding, \n",
    "                                    tf.keras.layers.GlobalAveragePooling1D()\n",
    "                                   ])"
   ]
  },
  {
   "cell_type": "markdown",
   "id": "63cb1482",
   "metadata": {},
   "source": [
    "### Timestamp"
   ]
  },
  {
   "cell_type": "markdown",
   "id": "f01b9ba9",
   "metadata": {},
   "source": [
    "Now let's handle the `timestamp` feature. Let's first take a look at what we are working with."
   ]
  },
  {
   "cell_type": "code",
   "execution_count": 34,
   "id": "273a20ec",
   "metadata": {},
   "outputs": [
    {
     "data": {
      "text/plain": [
       "0     964982703\n",
       "1     847434962\n",
       "2    1106635946\n",
       "3    1510577970\n",
       "4    1305696483\n",
       "Name: timestamp, dtype: int64"
      ]
     },
     "execution_count": 34,
     "metadata": {},
     "output_type": "execute_result"
    }
   ],
   "source": [
    "df['timestamp'].head()"
   ]
  },
  {
   "cell_type": "markdown",
   "id": "11a4ee31",
   "metadata": {},
   "source": [
    "These numbers are too large for us to directly use in a deep model. So we will first preprocess it.<br>\n",
    "\n",
    "There are a few methods to do this. However to keep things simple, we will do this as per the [tensorflow-recommenders guide](https://www.tensorflow.org/recommenders/examples/featurization), with discretion."
   ]
  },
  {
   "cell_type": "code",
   "execution_count": 35,
   "id": "ced620a9",
   "metadata": {},
   "outputs": [],
   "source": [
    "# NEED TO CHECK, FINAL MODEL MAY NOT REQUIRE US TO USE NORMALIZATION. DURING CLEANUP, REMOVE IF THAT IS THE CASE.\n",
    "\n",
    "# timestamp_normalization = tf.keras.layers.Normalization(\n",
    "#     axis=None\n",
    "# )\n",
    "# timestamp_normalization.adapt(retrieval_dataset.map(lambda x: x['timestamp']).batch(1024))\n",
    "\n",
    "# # sanity check to ensure that normalization has taken place\n",
    "# for x in retrieval_dataset.take(3).as_numpy_iterator():\n",
    "#   print(f\"Normalized timestamp: {timestamp_normalization(x['timestamp'])}.\")"
   ]
  },
  {
   "cell_type": "code",
   "execution_count": 36,
   "id": "e0c1127c",
   "metadata": {},
   "outputs": [],
   "source": [
    "# defining an empty dictionary to store the predicted ratingsaaaaaaaaaaaaaaaaaa"
   ]
  },
  {
   "cell_type": "code",
   "execution_count": 37,
   "id": "13487a80",
   "metadata": {},
   "outputs": [
    {
     "name": "stdout",
     "output_type": "stream",
     "text": [
      "Buckets: [8.28124615e+08 8.28835000e+08 8.29545385e+08]\n"
     ]
    }
   ],
   "source": [
    "max_timestamp = retrieval_dataset.map(lambda x: x[\"timestamp\"]).reduce(\n",
    "    tf.cast(0, tf.int32), tf.maximum).numpy().max()\n",
    "min_timestamp = retrieval_dataset.map(lambda x: x[\"timestamp\"]).reduce(\n",
    "    np.int32(1e9), tf.minimum).numpy().min()\n",
    "\n",
    "timestamp_buckets = np.linspace(\n",
    "    min_timestamp, max_timestamp, num=1000)\n",
    "\n",
    "print(f\"Buckets: {timestamp_buckets[:3]}\")"
   ]
  },
  {
   "cell_type": "code",
   "execution_count": 38,
   "id": "9354d181",
   "metadata": {},
   "outputs": [
    {
     "name": "stdout",
     "output_type": "stream",
     "text": [
      "Timestamp embedding: [[ 0.04355207  0.04604546 -0.01791181 -0.00857268 -0.03673953  0.04415006\n",
      "  -0.02973536 -0.04912153 -0.04772126  0.0364258   0.03865731  0.00887359\n",
      "  -0.01217462 -0.00877739 -0.04286722 -0.00929123  0.03759333 -0.04285849\n",
      "   0.0010479   0.01999794 -0.03515495 -0.02327979 -0.04029771 -0.04987928\n",
      "   0.04927119  0.0454672   0.03528044 -0.00803007 -0.04584267  0.03916614\n",
      "  -0.02085972 -0.02549737]].\n"
     ]
    }
   ],
   "source": [
    "timestamp_embedding_model = tf.keras.Sequential([\n",
    "  tf.keras.layers.Discretization(timestamp_buckets.tolist()),\n",
    "  tf.keras.layers.Embedding(len(timestamp_buckets) + 1, 32)\n",
    "])\n",
    "\n",
    "# check to see how timestamp has been vectorized\n",
    "for timestamp in retrieval_dataset.take(1).map(lambda x: x[\"timestamp\"]).\\\n",
    "batch(1).as_numpy_iterator():\n",
    "  print(f\"Timestamp embedding: {timestamp_embedding_model(timestamp)}.\")"
   ]
  },
  {
   "cell_type": "markdown",
   "id": "c760f949",
   "metadata": {},
   "source": [
    "With this done, we can move on to building the candidate and query towers."
   ]
  },
  {
   "cell_type": "markdown",
   "id": "61b97c59",
   "metadata": {},
   "source": [
    "## Query Tower"
   ]
  },
  {
   "cell_type": "markdown",
   "id": "578d24c2",
   "metadata": {},
   "source": [
    "While building the `Query` and `Candidate` towers, we will not be able to reuse the previously instantiate models (e.g. `user_id_model`, as we will run into errors while saving them. We will have to reinstantiate all of them."
   ]
  },
  {
   "cell_type": "code",
   "execution_count": 39,
   "id": "61a23cf7",
   "metadata": {},
   "outputs": [],
   "source": [
    "# defining an empty dictionary to store the predicted ratingsaaaaaaaaaaaaaaaaaa"
   ]
  },
  {
   "cell_type": "code",
   "execution_count": 40,
   "id": "f7ea1172",
   "metadata": {},
   "outputs": [],
   "source": [
    "class UserModel(tf.keras.Model):\n",
    "\n",
    "    def __init__(self):\n",
    "        super().__init__()\n",
    "\n",
    "        # using previously defined and created user_id_model\n",
    "        self.user_embedding = user_id_model\n",
    "\n",
    "        # using previously defined and created timestamp_embedding_model\n",
    "        self.timestamp_embedding = timestamp_embedding_model\n",
    "        self.normalized_timestamp = tf.keras.layers.Normalization(\n",
    "            axis=None\n",
    "        )\n",
    "\n",
    "        self.normalized_timestamp.adapt(timestamps)\n",
    "\n",
    "        # using previously defined and created genres_model\n",
    "        self.genre_text_embedding = genres_model\n",
    "\n",
    "        # using previously defined and created titles_model\n",
    "        self.title_text_embedding = titles_model\n",
    "\n",
    "    def call(self, inputs):\n",
    "        # Take the input dictionary, pass it through each input layer,\n",
    "        # and concatenate the result.\n",
    "        return tf.concat([\n",
    "            self.user_embedding(inputs['userId']),\n",
    "            self.timestamp_embedding(inputs['timestamp']),\n",
    "            tf.reshape(self.normalized_timestamp(inputs['timestamp']), (-1, 1)),\n",
    "            self.genre_text_embedding(inputs['genres']),\n",
    "            self.title_text_embedding(inputs['title'])\n",
    "        ], axis=1)"
   ]
  },
  {
   "cell_type": "code",
   "execution_count": 41,
   "id": "279abb36",
   "metadata": {},
   "outputs": [],
   "source": [
    "class QueryModel(tf.keras.Model):\n",
    "    \"\"\"Model for encoding user queries.\"\"\"\n",
    "\n",
    "    def __init__(self, layer_sizes):\n",
    "        \"\"\"Model for encoding user queries.\n",
    "\n",
    "        Args:\n",
    "          layer_sizes:\n",
    "            A list of integers where the i-th entry represents the number of units\n",
    "            the i-th layer contains.\n",
    "        \"\"\"\n",
    "        super().__init__()\n",
    "\n",
    "        # We first use the user model for generating embeddings.\n",
    "        self.embedding_model = UserModel()\n",
    "\n",
    "        # Then construct the layers.\n",
    "        self.dense_layers = tf.keras.Sequential()    \n",
    "\n",
    "        # Use the ReLU activation for all but the last layer.\n",
    "        for layer_size in layer_sizes[:-1]:\n",
    "            self.dense_layers.add(tf.keras.layers.Dense(layer_size, \n",
    "                                                      activation=\"relu\"))\n",
    "\n",
    "        # No activation for the last layer.\n",
    "        for layer_size in layer_sizes[-1:]:\n",
    "            self.dense_layers.add(tf.keras.layers.Dense(layer_size))\n",
    "\n",
    "    def call(self, inputs):\n",
    "        feature_embedding = self.embedding_model(inputs)\n",
    "        return self.dense_layers(feature_embedding)"
   ]
  },
  {
   "cell_type": "markdown",
   "id": "46f1a772",
   "metadata": {},
   "source": [
    "## Candidate Tower"
   ]
  },
  {
   "cell_type": "code",
   "execution_count": 42,
   "id": "e201ad5d",
   "metadata": {},
   "outputs": [],
   "source": [
    "class MovieModel(tf.keras.Model):\n",
    "\n",
    "    def __init__(self):\n",
    "        super().__init__()\n",
    "\n",
    "        # using previously defined and created movie_id_model\n",
    "        self.movie_id_embedding = movie_id_model\n",
    "\n",
    "    def call(self, inputs):\n",
    "        return self.movie_id_embedding(inputs)"
   ]
  },
  {
   "cell_type": "code",
   "execution_count": 43,
   "id": "d66d51cf",
   "metadata": {},
   "outputs": [],
   "source": [
    "class CandidateModel(tf.keras.Model):\n",
    "    \"\"\"Model for encoding movies.\"\"\"\n",
    "\n",
    "    def __init__(self, layer_sizes):\n",
    "        \"\"\"Model for encoding movies.\n",
    "\n",
    "        Args:\n",
    "          layer_sizes:\n",
    "            A list of integers where the i-th entry represents the number of units\n",
    "            the i-th layer contains.\n",
    "        \"\"\"\n",
    "        super().__init__()\n",
    "\n",
    "        self.embedding_model = MovieModel()\n",
    "\n",
    "        # Then construct the layers.\n",
    "        self.dense_layers = tf.keras.Sequential()\n",
    "\n",
    "        # Use the ReLU activation for all but the last layer.\n",
    "        for layer_size in layer_sizes[:-1]:\n",
    "            self.dense_layers.add(tf.keras.layers.Dense(layer_size, \n",
    "                                                      activation=\"relu\"))\n",
    "\n",
    "        # No activation for the last layer.\n",
    "        for layer_size in layer_sizes[-1:]:\n",
    "            self.dense_layers.add(tf.keras.layers.Dense(layer_size))\n",
    "\n",
    "    def call(self, inputs):\n",
    "        feature_embedding = self.embedding_model(inputs)\n",
    "        return self.dense_layers(feature_embedding)"
   ]
  },
  {
   "cell_type": "markdown",
   "id": "7d95ce37",
   "metadata": {},
   "source": [
    "Now all that is left to do is to combine these two towers into one retrieval model."
   ]
  },
  {
   "cell_type": "markdown",
   "id": "3bc921cf",
   "metadata": {},
   "source": [
    "---"
   ]
  },
  {
   "cell_type": "markdown",
   "id": "312b06d9",
   "metadata": {},
   "source": [
    "## Combined Retrieval Model"
   ]
  },
  {
   "cell_type": "code",
   "execution_count": 44,
   "id": "720b2466",
   "metadata": {},
   "outputs": [],
   "source": [
    "class MovielensModel_retrieval(tfrs.models.Model):\n",
    "\n",
    "    def __init__(self, layer_sizes):\n",
    "        super().__init__()\n",
    "        self.query_model = QueryModel(layer_sizes)\n",
    "        self.candidate_model = CandidateModel(layer_sizes)\n",
    "        self.task = tfrs.tasks.Retrieval(\n",
    "            metrics=tfrs.metrics.FactorizedTopK(\n",
    "                candidates=movies.batch(128).map(self.candidate_model),\n",
    "            ),\n",
    "        )\n",
    "\n",
    "    def compute_loss(self, features, training=False):\n",
    "        # We only pass the user id and timestamp features into the query model. This\n",
    "        # is to ensure that the training inputs would have the same keys as the\n",
    "        # query inputs. Otherwise the discrepancy in input structure would cause an\n",
    "        # error when loading the query model after saving it.\n",
    "        query_embeddings = self.query_model({\n",
    "            'userId': features['userId'],\n",
    "            'timestamp': features['timestamp'],\n",
    "            'genres': features['genres'],\n",
    "            'title': features['title']\n",
    "        })\n",
    "\n",
    "        movie_embeddings = self.candidate_model(features['movieId'])\n",
    "\n",
    "        return self.task(\n",
    "            query_embeddings, movie_embeddings, compute_metrics=not training)"
   ]
  },
  {
   "cell_type": "markdown",
   "id": "389e3891",
   "metadata": {},
   "source": [
    "Now with the model built, we are ready to train our model."
   ]
  },
  {
   "cell_type": "markdown",
   "id": "72b32c81",
   "metadata": {},
   "source": [
    "---"
   ]
  },
  {
   "cell_type": "markdown",
   "id": "4264741b",
   "metadata": {},
   "source": [
    "## Train, Test split"
   ]
  },
  {
   "cell_type": "markdown",
   "id": "daac30f8",
   "metadata": {},
   "source": [
    "Now we are ready to train our model, let's do a train_test_split on our data."
   ]
  },
  {
   "cell_type": "code",
   "execution_count": 45,
   "id": "ad4c1fb1",
   "metadata": {},
   "outputs": [],
   "source": [
    "# setting random seed\n",
    "tf.random.set_seed(42)\n",
    "\n",
    "# shuffling the dataset to create a \"training\" dataset\n",
    "retrieval_shuffled = retrieval_dataset.shuffle(100_000, \n",
    "                           seed=42,\n",
    "                           reshuffle_each_iteration=False)\n",
    "\n",
    "\n",
    "# taking the first 80_836 ratings\n",
    "retrieval_train = retrieval_shuffled.take(80_836)\n",
    "\n",
    "# taking the next 20_000 ratings\n",
    "retrieval_test = retrieval_shuffled.skip(80_836).take(20_000)\n",
    "\n",
    "\n",
    "\n",
    "# caching the train and test dataset to speed up model fitting\n",
    "retrieval_cached_train = retrieval_train.shuffle(100_000)\\\n",
    "                            .batch(8192).cache()\n",
    "retrieval_cached_test = retrieval_test.batch(4096).cache()"
   ]
  },
  {
   "cell_type": "code",
   "execution_count": 46,
   "id": "0f1ae0ce",
   "metadata": {},
   "outputs": [],
   "source": [
    "# defining the number of epochs we will run\n",
    "num_epochs = 30\n",
    "\n",
    "# instantiate a 1 layer retrieval model with 32 neurons\n",
    "retrieval_1_layer = MovielensModel_retrieval([32])\n",
    "\n",
    "# compiling model with Adagrad optimzier, and a learning rate of 0.1\n",
    "retrieval_1_layer.compile(optimizer=tf.keras.optimizers.Adagrad(0.1))"
   ]
  },
  {
   "cell_type": "code",
   "execution_count": 47,
   "id": "04e07125",
   "metadata": {},
   "outputs": [],
   "source": [
    "# fitting our model\n",
    "retrieval_1_layer_history = retrieval_1_layer.fit(\n",
    "    retrieval_cached_train,\n",
    "    validation_data=retrieval_cached_test,\n",
    "    validation_freq=1,\n",
    "    epochs=num_epochs,\n",
    "    verbose=0\n",
    ")"
   ]
  },
  {
   "cell_type": "code",
   "execution_count": 48,
   "id": "09e3ab50",
   "metadata": {},
   "outputs": [],
   "source": [
    "# instantiating a 2 layer retrieval model with 64, and 32 neurons\n",
    "retrieval_2_layer = MovielensModel_retrieval([64, 32])\n",
    "\n",
    "# compiling model with Adagrad optimzier, and a learning rate of 0.1\n",
    "retrieval_2_layer.compile(optimizer=tf.keras.optimizers.Adagrad(0.1))"
   ]
  },
  {
   "cell_type": "code",
   "execution_count": 49,
   "id": "18c3d48a",
   "metadata": {},
   "outputs": [],
   "source": [
    "# fitting a 2 layer model neural network\n",
    "retrieval_2_layer_history= retrieval_2_layer.fit(\n",
    "    retrieval_cached_train,\n",
    "    validation_data=retrieval_cached_test,\n",
    "    validation_freq=1,\n",
    "    epochs=num_epochs,\n",
    "    verbose=0\n",
    ")"
   ]
  },
  {
   "cell_type": "markdown",
   "id": "3732ca0b",
   "metadata": {},
   "source": [
    "Now that we have tried out a model with 1 layer, and a model with 2 layers, let's take a look at each of their performances to see which one has performed better.\n",
    "\n",
    "First let's evaluate each model individually by plotting the `train_loss` against the `test_loss`."
   ]
  },
  {
   "cell_type": "code",
   "execution_count": 50,
   "id": "15e94125",
   "metadata": {},
   "outputs": [
    {
     "data": {
      "image/png": "[encoded data removed]",
      "text/plain": [
       "<Figure size 864x576 with 1 Axes>"
      ]
     },
     "metadata": {
      "needs_background": "light"
     },
     "output_type": "display_data"
    }
   ],
   "source": [
    "train_loss_1_layer = retrieval_1_layer_history.history['loss']\n",
    "test_loss_1_layer = retrieval_1_layer_history.history['val_loss']\n",
    "\n",
    "plt.figure(figsize=(12, 8))\n",
    "plt.plot(train_loss_1_layer, label='Training loss', color='navy')\n",
    "plt.plot(test_loss_1_layer, label='Testing loss', color='skyblue')\n",
    "plt.title('1 Layer Retrieval Model')\n",
    "plt.legend();"
   ]
  },
  {
   "cell_type": "markdown",
   "id": "d6cce1b9",
   "metadata": {},
   "source": [
    "For the 1 layer model, it seems that the lowest testing loss was actually observed between the 3rd to 5th epoch.\n",
    "\n",
    "It also seems that about 6-7 epochs is the best number to avoid overtraining. After that the model begins to overtrain. "
   ]
  },
  {
   "cell_type": "code",
   "execution_count": 51,
   "id": "d806c61d",
   "metadata": {},
   "outputs": [
    {
     "data": {
      "image/png": "[encoded data removed]",
      "text/plain": [
       "<Figure size 864x576 with 1 Axes>"
      ]
     },
     "metadata": {
      "needs_background": "light"
     },
     "output_type": "display_data"
    }
   ],
   "source": [
    "train_loss_2_layer = retrieval_2_layer_history.history['loss']\n",
    "test_loss_2_layer = retrieval_2_layer_history.history['val_loss']\n",
    "\n",
    "plt.figure(figsize=(12, 8))\n",
    "plt.plot(train_loss_2_layer, label='Training loss', color='navy')\n",
    "plt.plot(test_loss_2_layer, label='Testing loss', color='skyblue')\n",
    "plt.title('2 Layer Retrieval Model')\n",
    "plt.legend();"
   ]
  },
  {
   "cell_type": "markdown",
   "id": "9e54b0e7",
   "metadata": {},
   "source": [
    "For the 2 layer model as well, it seems that the lowest testing loss was actually observed between the 3rd to 5th epoch. After 30 epochs, the model is not seeing overtraining, however it is approaching that as we see towards the end."
   ]
  },
  {
   "cell_type": "markdown",
   "id": "69a15662",
   "metadata": {},
   "source": [
    "Now let's take a look at which model gave us a better performance."
   ]
  },
  {
   "cell_type": "code",
   "execution_count": 52,
   "id": "ac5831d8",
   "metadata": {},
   "outputs": [
    {
     "data": {
      "image/png": "[encoded data removed]",
      "text/plain": [
       "<Figure size 864x864 with 1 Axes>"
      ]
     },
     "metadata": {
      "needs_background": "light"
     },
     "output_type": "display_data"
    }
   ],
   "source": [
    "epochs = [_ for _ in range(num_epochs)]\n",
    "\n",
    "plt.figure(figsize=(12,12))\n",
    "plt.plot(epochs, retrieval_1_layer_history.history[\"val_factorized_top_k/top_100_categorical_accuracy\"], label=\"1 layer\")\n",
    "plt.plot(epochs, retrieval_2_layer_history.history[\"val_factorized_top_k/top_100_categorical_accuracy\"], label=\"2 layers\")\n",
    "plt.title(\"Accuracy vs epoch\")\n",
    "plt.xlabel(\"epoch\")\n",
    "plt.ylabel(\"Top-100 accuracy\")\n",
    "plt.legend();"
   ]
  },
  {
   "cell_type": "code",
   "execution_count": 88,
   "id": "93ac0309",
   "metadata": {},
   "outputs": [
    {
     "name": "stdout",
     "output_type": "stream",
     "text": [
      "Top-100 accuracy for 1 layer model: 0.8960.\n",
      "Top-100 accuracy for 2 layer model: 0.8861.\n"
     ]
    }
   ],
   "source": [
    "accuracy_1_layer = retrieval_1_layer_history.history[\"val_factorized_top_k/top_100_categorical_accuracy\"][-1]\n",
    "accuracy_2_layer = retrieval_2_layer_history.history[\"val_factorized_top_k/top_100_categorical_accuracy\"][-1]\n",
    "print(f\"Top-100 accuracy for 1 layer model: {accuracy_1_layer:.4f}.\")\n",
    "print(f\"Top-100 accuracy for 2 layer model: {accuracy_2_layer:.4f}.\")"
   ]
  },
  {
   "cell_type": "markdown",
   "id": "8f692919",
   "metadata": {},
   "source": [
    "First of all, let's recall that the accuracy score for our first basic neural network model was **0.27**. We have massively improved this score just from adding 1 layer and adding in the additional context features to our model.\n",
    "\n",
    "As we can see above, the `1 layer` model performs slightly better than the `2 layer` model. We would intuitively think that a deeper model will perform better, however, careful tuning is required for a deeper model to perform well.\n",
    "\n",
    "An example of a hyperparameter that could be tuned is different optimizers, and different learning rates. There are a whole host of other hyper parameters that could be tuned as well."
   ]
  },
  {
   "cell_type": "markdown",
   "id": "bebc549b",
   "metadata": {},
   "source": [
    "For now, since the `1 layer` model has performed best, we will use that model going forward in this notebook. Let's add both the two scores into our `retrival_dict` to keep track of the scores."
   ]
  },
  {
   "cell_type": "code",
   "execution_count": 89,
   "id": "c07eca12",
   "metadata": {},
   "outputs": [],
   "source": [
    "retrieval_dict['model_name'].append('1 layer model')\n",
    "retrieval_dict['model_name'].append('2 layer model')\n",
    "retrieval_dict['top-100 accuracy'].append(0.8960)\n",
    "retrieval_dict['top-100 accuracy'].append(0.8861)"
   ]
  },
  {
   "cell_type": "markdown",
   "id": "2b2321a9",
   "metadata": {},
   "source": [
    "Let's test querying the model for retrieving potential recommendations for a `userId`. For this we will make use of `BruteForce` as outlined in the tensorflow-recommender system guide."
   ]
  },
  {
   "cell_type": "code",
   "execution_count": 54,
   "id": "ee4f7d11",
   "metadata": {},
   "outputs": [
    {
     "name": "stdout",
     "output_type": "stream",
     "text": [
      "Recommendations for user 512: [ 6448  6934 48738 67923]\n"
     ]
    }
   ],
   "source": [
    "# Create a model that takes in raw query features, and\n",
    "index = tfrs.layers.factorized_top_k.BruteForce(retrieval_1_layer.\\\n",
    "                                                query_model.embedding_model.\\\n",
    "                                                user_embedding,\n",
    "                                                k=100)\n",
    "\n",
    "# recommends movies out of the entire movies dataset.\n",
    "index.index_from_dataset(\n",
    "  tf.data.Dataset.zip((movies.batch(1024), \n",
    "                       movies.batch(1024).map(retrieval_1_layer.\\\n",
    "                                              candidate_model.\\\n",
    "                                              embedding_model.\\\n",
    "                                              movie_id_embedding)\n",
    "                      )\n",
    "                     )\n",
    ")\n",
    "\n",
    "# Get recommendations for a random 'userId', 512\n",
    "_, titles = index(tf.constant([512]))\n",
    "print(f\"Recommendations for user 512: {np.unique(titles)}\")"
   ]
  },
  {
   "cell_type": "markdown",
   "id": "e3db88b6",
   "metadata": {},
   "source": [
    "Now we have recommendations for `userId` **512**. However, just for sanity's sake, lets check once to see if these are new titles that are being recommended, or if some of these titles have already been seen by this user."
   ]
  },
  {
   "cell_type": "code",
   "execution_count": 55,
   "id": "486e89e4",
   "metadata": {},
   "outputs": [
    {
     "name": "stdout",
     "output_type": "stream",
     "text": [
      "0 recommendations are repeated.\n"
     ]
    }
   ],
   "source": [
    "# get a list of movieIds already watched by userId 512\n",
    "seen_titles_512 = df.loc[df['userId'] == 512, 'movieId'].unique().tolist()\n",
    "\n",
    "# defining a list of unique recommended titles for userId 512\n",
    "unique_reco_titles = np.unique([title for title in titles.numpy()[0]])\n",
    "\n",
    "# getting a list of repeated titles\n",
    "repeated_title_reco = [title for title in unique_reco_titles if title in seen_titles_512]\n",
    "\n",
    "if repeated_title_reco:\n",
    "    for title in repeated_title_reco:\n",
    "        print(f'{title} is a repeated title')\n",
    "else:\n",
    "    print(f'{len(repeated_title_reco)} recommendations are repeated.')"
   ]
  },
  {
   "cell_type": "markdown",
   "id": "49a2692e",
   "metadata": {},
   "source": [
    "As we can see from the above output, it seems that the model has learnt to give unique recommendations on it's own. For further exploration, I found out that there is a method called [query_with_exclusions](https://www.tensorflow.org/recommenders/api_docs/python/tfrs/layers/factorized_top_k/TopK#query_with_exclusions), that works if we want only want to get recommendations that have not been seen before."
   ]
  },
  {
   "cell_type": "markdown",
   "id": "1d5104d5",
   "metadata": {},
   "source": [
    "# Ranking Model"
   ]
  },
  {
   "cell_type": "markdown",
   "id": "37cf70f8",
   "metadata": {},
   "source": [
    "Previously, we created a basic `ranking_model` where we only used 2 features of the dataset:\n",
    "1. `userId`\n",
    "2. `movieId`\n",
    "\n",
    "and the target: `rating`. In the following model, we are going to add all the features in our dataset, similar to what we did for the `retrieval` model in the hopes of improved performance."
   ]
  },
  {
   "cell_type": "markdown",
   "id": "c9571fe9",
   "metadata": {},
   "source": [
    "Let's start out by first creating the dataset that we will need. This time we will need to use the `rating` feature, so we will create a new dataset to keep things neat.<br> \n",
    "\n",
    "*There may be other more efficient ways to convert a dataset to a tensor dataset, however, for use in a recommender system, I found that the guide used a `mapdataset` object. As such I have used the following technique to achieve the same.*"
   ]
  },
  {
   "cell_type": "code",
   "execution_count": 56,
   "id": "f35380c0",
   "metadata": {},
   "outputs": [],
   "source": [
    "# creating a dictionary of all the features we need\n",
    "ranking_dataset = {\n",
    "    'movieId': df['movieId'].tolist(),\n",
    "    'genres': df['genres'].tolist(),\n",
    "    'title': df['title'].tolist(),\n",
    "    'userId': df['userId'].tolist(),\n",
    "    'timestamp': df['timestamp'].tolist(), \n",
    "    'rating': df['rating'].tolist()\n",
    "}\n",
    "\n",
    "# converting dictionary to tensor\n",
    "ranking_dataset = tf.data.Dataset.from_tensor_slices(ranking_dataset)\n",
    "\n",
    "# creating a mapdataset object\n",
    "ranking_dataset = ranking_dataset.map(lambda x: {\n",
    "    'movieId': x['movieId'],\n",
    "    'genres': x['genres'],\n",
    "    'title': x['title'],\n",
    "    'userId': x['userId'],\n",
    "    'timestamp': x['timestamp'],\n",
    "    'rating': x['rating']\n",
    "})"
   ]
  },
  {
   "cell_type": "code",
   "execution_count": 57,
   "id": "1123cc0f",
   "metadata": {},
   "outputs": [
    {
     "data": {
      "text/plain": [
       "<MapDataset element_spec={'movieId': TensorSpec(shape=(), dtype=tf.int32, name=None), 'genres': TensorSpec(shape=(), dtype=tf.string, name=None), 'title': TensorSpec(shape=(), dtype=tf.string, name=None), 'userId': TensorSpec(shape=(), dtype=tf.int32, name=None), 'timestamp': TensorSpec(shape=(), dtype=tf.int32, name=None), 'rating': TensorSpec(shape=(), dtype=tf.float32, name=None)}>"
      ]
     },
     "execution_count": 57,
     "metadata": {},
     "output_type": "execute_result"
    }
   ],
   "source": [
    "# sanity check to ensure we have a mapdataset object\n",
    "ranking_dataset"
   ]
  },
  {
   "cell_type": "markdown",
   "id": "3ee9a9e7",
   "metadata": {},
   "source": [
    "---"
   ]
  },
  {
   "cell_type": "markdown",
   "id": "934847b6",
   "metadata": {},
   "source": [
    "### Creating the RankingModel classes"
   ]
  },
  {
   "cell_type": "code",
   "execution_count": 58,
   "id": "16d25c99",
   "metadata": {},
   "outputs": [],
   "source": [
    "class RankingModel(tf.keras.Model):\n",
    "\n",
    "  def __init__(self):\n",
    "    super().__init__()\n",
    "    embedding_dimension = 32\n",
    "\n",
    "    # Compute embeddings for users.\n",
    "    # using previously defined and created user_id_model\n",
    "    self.user_embedding = user_id_model\n",
    "\n",
    "    # Compute embeddings for movies.\n",
    "    # using previously defined and created movie_id_model\n",
    "    self.movie_id_embedding = movie_id_model\n",
    "    \n",
    "    # using previously defined and created timestamp_embedding_model\n",
    "    self.timestamp_embedding = timestamp_embedding_model\n",
    "    self.normalized_timestamp = tf.keras.layers.Normalization(\n",
    "        axis=None\n",
    "    )\n",
    "\n",
    "    self.normalized_timestamp.adapt(timestamps)\n",
    "    \n",
    "    # using previously defined and created genres_model\n",
    "    self.genre_text_embedding = genres_model\n",
    "    \n",
    "    # using previously defined and created titles_model\n",
    "    self.title_text_embedding = titles_model\n",
    "\n",
    "    # Compute predictions.\n",
    "    self.ratings = tf.keras.Sequential([\n",
    "        # Learn multiple dense layers.\n",
    "        tf.keras.layers.Dense(256, activation=\"relu\"),\n",
    "        tf.keras.layers.Dense(64, activation=\"relu\"),\n",
    "        tf.keras.layers.Dense(32, activation=\"relu\"),\n",
    "        # Make rating predictions in the final layer.\n",
    "        tf.keras.layers.Dense(1)\n",
    "    ])\n",
    "\n",
    "  def call(self, inputs):\n",
    "\n",
    "    return self.ratings(tf.concat([\n",
    "        self.user_embedding(inputs['userId']),\n",
    "        self.movie_id_embedding(inputs['movieId']),\n",
    "        self.timestamp_embedding(inputs['timestamp']),\n",
    "        tf.reshape(self.normalized_timestamp(inputs['timestamp']), (-1, 1)),\n",
    "        self.genre_text_embedding(inputs['genres']),\n",
    "        self.title_text_embedding(inputs['title'])\n",
    "    ], axis=1))"
   ]
  },
  {
   "cell_type": "code",
   "execution_count": 59,
   "id": "a825a629",
   "metadata": {},
   "outputs": [],
   "source": [
    "class MovielensModel_ranking(tfrs.models.Model):\n",
    "\n",
    "  def __init__(self):\n",
    "    super().__init__()\n",
    "    self.ranking_model: tf.keras.Model = RankingModel()\n",
    "    self.task: tf.keras.layers.Layer = tfrs.tasks.Ranking(\n",
    "      loss = tf.keras.losses.MeanSquaredError(),\n",
    "      metrics=[tf.keras.metrics.RootMeanSquaredError()]\n",
    "    )\n",
    "\n",
    "  def call(self, features)-> tf.Tensor:\n",
    "    return self.ranking_model(features)\n",
    "#         (features['userId'], \n",
    "#          features['movieId'],\n",
    "#          features['timestamp'],\n",
    "#          features['genres'],\n",
    "#          features['title'],\n",
    "#         ))\n",
    "\n",
    "  def compute_loss(self, features, training=False)-> tf.Tensor:\n",
    "    labels = features.pop(\"rating\")\n",
    "\n",
    "    rating_predictions = self(features)\n",
    "\n",
    "    # The task computes the loss and the metrics.\n",
    "    return self.task(labels=labels, predictions=rating_predictions)"
   ]
  },
  {
   "cell_type": "markdown",
   "id": "7915eb20",
   "metadata": {},
   "source": [
    "## Train, Test split"
   ]
  },
  {
   "cell_type": "markdown",
   "id": "f7dd77ca",
   "metadata": {},
   "source": [
    "Now we are ready to train our `RankingModel`, let's do a train_test_split on our data."
   ]
  },
  {
   "cell_type": "code",
   "execution_count": 60,
   "id": "91031adf",
   "metadata": {},
   "outputs": [],
   "source": [
    "# setting random seed\n",
    "tf.random.set_seed(42)\n",
    "\n",
    "# shuffling the dataset to create a \"training\" dataset\n",
    "shuffled_ranking = ranking_dataset.shuffle(100_000,\n",
    "                                           seed=42, \n",
    "                                           reshuffle_each_iteration=False\n",
    "                                          )\n",
    "\n",
    "# taking the first 80_836 ratings\n",
    "ranking_train = shuffled_ranking.take(80_836)\n",
    "\n",
    "# taking the next 20_000 ratings\n",
    "ranking_test = shuffled_ranking.skip(80_836).take(20_000)\n",
    "\n",
    "\n",
    "# caching the train and test dataset to speed up model fitting\n",
    "cached_ranking_train = ranking_train.shuffle(100_000)\\\n",
    "                        .batch(8192).cache()\n",
    "cached_ranking_test = ranking_test.batch(4096).cache()"
   ]
  },
  {
   "cell_type": "code",
   "execution_count": 61,
   "id": "406779eb",
   "metadata": {},
   "outputs": [],
   "source": [
    "# instantiate the movielens ranking model\n",
    "ranking_model_1 = MovielensModel_ranking()\n",
    "\n",
    "# compiling model with Adagrad optimzier, and a learning rate of 0.1\n",
    "ranking_model_1.compile(optimizer=tf.keras.optimizers.Adagrad(learning_rate=0.01))"
   ]
  },
  {
   "cell_type": "code",
   "execution_count": 62,
   "id": "bcb08e36",
   "metadata": {},
   "outputs": [],
   "source": [
    "# fitting the ranking model\n",
    "num_epochs = 300\n",
    "\n",
    "ranking_history = ranking_model_1.fit(\n",
    "    cached_ranking_train, \n",
    "    validation_data=cached_ranking_test,\n",
    "    validation_freq=1,\n",
    "    epochs=num_epochs,\n",
    "    verbose=0\n",
    ")"
   ]
  },
  {
   "cell_type": "code",
   "execution_count": 63,
   "id": "84623fce",
   "metadata": {},
   "outputs": [
    {
     "data": {
      "image/png": "[encoded data removed]",
      "text/plain": [
       "<Figure size 864x576 with 1 Axes>"
      ]
     },
     "metadata": {
      "needs_background": "light"
     },
     "output_type": "display_data"
    }
   ],
   "source": [
    "train_loss_ranking = ranking_history.history['loss']\n",
    "test_loss_ranking = ranking_history.history['val_loss']\n",
    "\n",
    "plt.figure(figsize=(12, 8))\n",
    "plt.plot(train_loss_ranking, label='Training loss', color='navy')\n",
    "plt.plot(test_loss_ranking, label='Testing loss', color='skyblue')\n",
    "plt.title('Ranking Model')\n",
    "plt.legend();"
   ]
  },
  {
   "cell_type": "markdown",
   "id": "eaa85483",
   "metadata": {},
   "source": [
    "Here again we can see that the model has overfit on training data. Let's take a look at the `test_rmse`. From the previous notebook, our best `SVD` model, after tuning had a `rmse` error of **0.8442**."
   ]
  },
  {
   "cell_type": "code",
   "execution_count": 64,
   "id": "0be5d0e2",
   "metadata": {},
   "outputs": [
    {
     "name": "stdout",
     "output_type": "stream",
     "text": [
      "5/5 [==============================] - 0s 15ms/step - root_mean_squared_error: 0.8862 - loss: 0.7796 - regularization_loss: 0.0000e+00 - total_loss: 0.7796\n"
     ]
    },
    {
     "data": {
      "text/plain": [
       "{'root_mean_squared_error': 0.8862238526344299,\n",
       " 'loss': 0.754324734210968,\n",
       " 'regularization_loss': 0,\n",
       " 'total_loss': 0.754324734210968}"
      ]
     },
     "execution_count": 64,
     "metadata": {},
     "output_type": "execute_result"
    }
   ],
   "source": [
    "ranking_model_1.evaluate(cached_ranking_test, return_dict=True)"
   ]
  },
  {
   "cell_type": "markdown",
   "id": "1957c411",
   "metadata": {},
   "source": [
    "As we can see here, we have managed to get a `test_rmse` of **0.8862**.<br>\n",
    "\n",
    "Keep in mind we have not tuned our model yet! All we have done is that we have added in all of the features available in our dataset, and added 1 more dense layer of 32 neurons as seen in the model architecture earlier. There is a high possibility that tuning the neural network model will most likely yield a model that has a high retrieval `accuracy`, and a low `rmse` of the rating prediction. \n",
    "\n",
    "Let's add this score into our `ranking_dict` to keep track of the scores.\n",
    "\n",
    "### If there is time, I will tune this model in the next notebook."
   ]
  },
  {
   "cell_type": "code",
   "execution_count": 92,
   "id": "e2304c25",
   "metadata": {},
   "outputs": [],
   "source": [
    "ranking_dict['model_name'].append('3 layer model')\n",
    "ranking_dict['top-100 accuracy'].append(0.8862)"
   ]
  },
  {
   "cell_type": "markdown",
   "id": "d0400fda",
   "metadata": {},
   "source": [
    "Now let's test out how we can obtain predicted ratings for some movies for a random `userId` from our `RankingModel`. We will use user number **512** as a test `userId`, and we will use `movieId` **1085**, **1544**, and **1931** as test movieIds. This method is defined in the guide which can be referred to [here](https://www.tensorflow.org/recommenders/examples/basic_ranking).\n",
    "\n",
    "* For the `timestamp` feature, we will use the current time. In an actual scenario, the recommender system would need to provide recommendations in realtime, which means that it will use the actual time currently.\n",
    "* The format required for `timestamp` is `Unix` time. This can be obtained by using the `time.time()` method."
   ]
  },
  {
   "cell_type": "code",
   "execution_count": 65,
   "id": "638a63f2",
   "metadata": {},
   "outputs": [
    {
     "name": "stdout",
     "output_type": "stream",
     "text": [
      "Ratings for userId 512:\n",
      "1931: 4.054357528686523\n",
      "1085: 3.757417678833008\n",
      "1544: 2.9500272274017334\n"
     ]
    }
   ],
   "source": [
    "# defining an empty dictionary to store the predicted ratings\n",
    "test_ratings = {}\n",
    "\n",
    "# defining the movie ids\n",
    "test_movie_ids = [1085, 1544, 1931]\n",
    "\n",
    "# for loop to put the movieIds and other \n",
    "# required variables through \n",
    "for movie_id in test_movie_ids:\n",
    "    test_ratings[movie_id] = ranking_model_1({\n",
    "      'userId': np.array([512]),\n",
    "      'movieId': np.array([movie_id]),\n",
    "      'timestamp': np.array([round(time.time())]),\n",
    "      'genres': movie_df.loc[movie_df['movieId'] == 1544, 'genres']\\\n",
    "        .values,\n",
    "      'title': movie_df.loc[movie_df['movieId'] == 1544, 'title']\\\n",
    "        .values\n",
    "  }).numpy()[0][0]\n",
    "    \n",
    "# for loop to print out the ratings for userId 512\n",
    "\n",
    "print('Ratings for userId 512:')\n",
    "for movie_id, score in sorted(test_ratings.items(), \n",
    "                              key=lambda x: x[1], \n",
    "                              reverse=True):\n",
    "    print(f\"{movie_id}: {score}\")"
   ]
  },
  {
   "cell_type": "markdown",
   "id": "ab979129",
   "metadata": {},
   "source": [
    "We are able to obtain the ratings for the movies, just by passing in the `userId` and the `movieId` features. The rest of the information can be obtained from the dataset itself. Now, let's combine the prediction method for the `RetrievalModel` and the `RankingModel` into 1 custom function."
   ]
  },
  {
   "cell_type": "code",
   "execution_count": 66,
   "id": "41356a4e",
   "metadata": {},
   "outputs": [],
   "source": [
    "def get_top_movies(userID, num_of_movies=None):\n",
    "    \"\"\"This function accepts input of a userId (int), and outputs the \n",
    "    top 5 movies that should be recommender to them, with the predicted \n",
    "    rating the user will give. When loading the models, ensure that the \n",
    "    RetrievalModel is defined as 'retrieval_model', and the RankingModel \n",
    "    is definied as 'ranking_model. If this is not done, the function will \n",
    "    not work.'\"\"\"\n",
    "    \n",
    "    # defining userId\n",
    "    userId = userID\n",
    "    \n",
    "    # Create a model that takes in raw query features, and\n",
    "    index = tfrs.layers.factorized_top_k.BruteForce(retrieval_1_layer.\\\n",
    "                                                    query_model.embedding_model.\\\n",
    "                                                    user_embedding,\n",
    "                                                    k=100)\n",
    "\n",
    "    # recommends movies out of the entire movies dataset.\n",
    "    index.index_from_dataset(\n",
    "      tf.data.Dataset.zip((movies.batch(1024), \n",
    "                           movies.batch(1024).map(retrieval_1_layer.\\\n",
    "                                                  candidate_model.\\\n",
    "                                                  embedding_model.\\\n",
    "                                                  movie_id_embedding)\n",
    "                          )\n",
    "                         )\n",
    "    )\n",
    "\n",
    "    # Get recommendations for a random 'userId', 512\n",
    "    _, titles = index(tf.constant([userId]))\n",
    "    \n",
    "    # takes the recommended movieIds and puts them through the ranking model\n",
    "    \n",
    "    test_movie_ids = [movie_id for movie_id in np.unique(titles)]\n",
    "    \n",
    "    timestamp = random.choice(df.loc[df['userId'] == 512, 'timestamp'].unique())\n",
    "    pred_dict = {}\n",
    "    pred_dict['title'] = [movie_df.loc[movie_df['movieId'] == id, 'title'].values[0] \n",
    "                            for id in test_movie_ids]\n",
    "    pred_dict['predicted_rating'] = [ranking_model_1({\n",
    "            'userId': np.array([userId]), \n",
    "            'movieId': np.array([movie_id]), \n",
    "            'timestamp': np.array([timestamp]), \n",
    "            'genres': movie_df.loc[movie_df['movieId'] == movie_id, 'genres'].values, \n",
    "            'title': movie_df.loc[movie_df['movieId'] == movie_id, 'title'].values\n",
    "        }).numpy()[0][0] for movie_id in test_movie_ids]\n",
    "    pred_dict['userId'] = [userId for _ in test_movie_ids]\n",
    "    pred_dict['movieId'] = test_movie_ids\n",
    "    pred_dict['genres'] = [movie_df.loc[movie_df['movieId'] == id, 'genres'].values[0] \n",
    "                            for id in test_movie_ids]\n",
    "    pred_dict['timestamp'] = [timestamp for id in test_movie_ids]\n",
    "    \n",
    "    \n",
    "    \n",
    "    pred_df = pd.DataFrame(pred_dict)\n",
    "    pred_df.sort_values(by='predicted_rating', ascending=False, inplace=True)\n",
    "    \n",
    "    if num_of_movies and len(pred_df) > num_of_movies:\n",
    "        return pred_df.head(num_of_movies)[['title', 'predicted_rating','userId']]\n",
    "    else:\n",
    "        return pred_df[['title', 'predicted_rating','userId']]"
   ]
  },
  {
   "cell_type": "markdown",
   "id": "8479f0bb",
   "metadata": {},
   "source": [
    "Now that we have a function, let's test it out.\n",
    "\n",
    "We will simulate a real-life scenario by doing the following things.\n",
    "1. We will pass in a random `userId` value from our dataset. \n",
    "2. We will use a real time `timestamp` value in `UNIX` format.\n",
    "3. We will output the time taken for functino to execute, and output the recommendations."
   ]
  },
  {
   "cell_type": "code",
   "execution_count": 67,
   "id": "19308f4b",
   "metadata": {},
   "outputs": [
    {
     "name": "stdout",
     "output_type": "stream",
     "text": [
      "CPU times: total: 3.48 s\n",
      "Wall time: 1.28 s\n"
     ]
    },
    {
     "data": {
      "text/html": [
       "<div>\n",
       "<style scoped>\n",
       "    .dataframe tbody tr th:only-of-type {\n",
       "        vertical-align: middle;\n",
       "    }\n",
       "\n",
       "    .dataframe tbody tr th {\n",
       "        vertical-align: top;\n",
       "    }\n",
       "\n",
       "    .dataframe thead th {\n",
       "        text-align: right;\n",
       "    }\n",
       "</style>\n",
       "<table border=\"1\" class=\"dataframe\">\n",
       "  <thead>\n",
       "    <tr style=\"text-align: right;\">\n",
       "      <th></th>\n",
       "      <th>title</th>\n",
       "      <th>predicted_rating</th>\n",
       "      <th>userId</th>\n",
       "    </tr>\n",
       "  </thead>\n",
       "  <tbody>\n",
       "    <tr>\n",
       "      <th>1</th>\n",
       "      <td>Unforgiven (1992)</td>\n",
       "      <td>3.625554</td>\n",
       "      <td>140</td>\n",
       "    </tr>\n",
       "    <tr>\n",
       "      <th>7</th>\n",
       "      <td>Face in the Crowd, A (1957)</td>\n",
       "      <td>3.604611</td>\n",
       "      <td>140</td>\n",
       "    </tr>\n",
       "    <tr>\n",
       "      <th>12</th>\n",
       "      <td>11'09\"01 - September 11 (2002)</td>\n",
       "      <td>3.560477</td>\n",
       "      <td>140</td>\n",
       "    </tr>\n",
       "    <tr>\n",
       "      <th>15</th>\n",
       "      <td>Hachiko: A Dog's Story (a.k.a. Hachi: A Dog's ...</td>\n",
       "      <td>3.552211</td>\n",
       "      <td>140</td>\n",
       "    </tr>\n",
       "    <tr>\n",
       "      <th>10</th>\n",
       "      <td>My Dinner with André (1981)</td>\n",
       "      <td>3.485780</td>\n",
       "      <td>140</td>\n",
       "    </tr>\n",
       "  </tbody>\n",
       "</table>\n",
       "</div>"
      ],
      "text/plain": [
       "                                                title  predicted_rating  \\\n",
       "1                                   Unforgiven (1992)          3.625554   \n",
       "7                         Face in the Crowd, A (1957)          3.604611   \n",
       "12                     11'09\"01 - September 11 (2002)          3.560477   \n",
       "15  Hachiko: A Dog's Story (a.k.a. Hachi: A Dog's ...          3.552211   \n",
       "10                        My Dinner with André (1981)          3.485780   \n",
       "\n",
       "    userId  \n",
       "1      140  \n",
       "7      140  \n",
       "12     140  \n",
       "15     140  \n",
       "10     140  "
      ]
     },
     "execution_count": 67,
     "metadata": {},
     "output_type": "execute_result"
    }
   ],
   "source": [
    "%%time\n",
    "get_top_movies(random.choice([user for user in range(1, 611)]), num_of_movies=5)"
   ]
  },
  {
   "cell_type": "code",
   "execution_count": 68,
   "id": "61d9822b",
   "metadata": {},
   "outputs": [
    {
     "name": "stdout",
     "output_type": "stream",
     "text": [
      "CPU times: total: 2.94 s\n",
      "Wall time: 776 ms\n"
     ]
    },
    {
     "data": {
      "text/html": [
       "<div>\n",
       "<style scoped>\n",
       "    .dataframe tbody tr th:only-of-type {\n",
       "        vertical-align: middle;\n",
       "    }\n",
       "\n",
       "    .dataframe tbody tr th {\n",
       "        vertical-align: top;\n",
       "    }\n",
       "\n",
       "    .dataframe thead th {\n",
       "        text-align: right;\n",
       "    }\n",
       "</style>\n",
       "<table border=\"1\" class=\"dataframe\">\n",
       "  <thead>\n",
       "    <tr style=\"text-align: right;\">\n",
       "      <th></th>\n",
       "      <th>title</th>\n",
       "      <th>predicted_rating</th>\n",
       "      <th>userId</th>\n",
       "    </tr>\n",
       "  </thead>\n",
       "  <tbody>\n",
       "    <tr>\n",
       "      <th>3</th>\n",
       "      <td>Boiler Room (2000)</td>\n",
       "      <td>3.862054</td>\n",
       "      <td>604</td>\n",
       "    </tr>\n",
       "    <tr>\n",
       "      <th>1</th>\n",
       "      <td>Perfect Murder, A (1998)</td>\n",
       "      <td>3.756729</td>\n",
       "      <td>604</td>\n",
       "    </tr>\n",
       "    <tr>\n",
       "      <th>5</th>\n",
       "      <td>Cercle Rouge, Le (Red Circle, The) (1970)</td>\n",
       "      <td>3.730356</td>\n",
       "      <td>604</td>\n",
       "    </tr>\n",
       "    <tr>\n",
       "      <th>4</th>\n",
       "      <td>Das Experiment (Experiment, The) (2001)</td>\n",
       "      <td>3.606194</td>\n",
       "      <td>604</td>\n",
       "    </tr>\n",
       "    <tr>\n",
       "      <th>2</th>\n",
       "      <td>Out of Sight (1998)</td>\n",
       "      <td>3.566495</td>\n",
       "      <td>604</td>\n",
       "    </tr>\n",
       "  </tbody>\n",
       "</table>\n",
       "</div>"
      ],
      "text/plain": [
       "                                       title  predicted_rating  userId\n",
       "3                         Boiler Room (2000)          3.862054     604\n",
       "1                   Perfect Murder, A (1998)          3.756729     604\n",
       "5  Cercle Rouge, Le (Red Circle, The) (1970)          3.730356     604\n",
       "4    Das Experiment (Experiment, The) (2001)          3.606194     604\n",
       "2                        Out of Sight (1998)          3.566495     604"
      ]
     },
     "execution_count": 68,
     "metadata": {},
     "output_type": "execute_result"
    }
   ],
   "source": [
    "%%time\n",
    "get_top_movies(random.choice([user for user in range(1, 611)]), num_of_movies=5)"
   ]
  },
  {
   "cell_type": "code",
   "execution_count": 69,
   "id": "ddfa1b8a",
   "metadata": {},
   "outputs": [
    {
     "name": "stdout",
     "output_type": "stream",
     "text": [
      "CPU times: total: 3.02 s\n",
      "Wall time: 709 ms\n"
     ]
    },
    {
     "data": {
      "text/html": [
       "<div>\n",
       "<style scoped>\n",
       "    .dataframe tbody tr th:only-of-type {\n",
       "        vertical-align: middle;\n",
       "    }\n",
       "\n",
       "    .dataframe tbody tr th {\n",
       "        vertical-align: top;\n",
       "    }\n",
       "\n",
       "    .dataframe thead th {\n",
       "        text-align: right;\n",
       "    }\n",
       "</style>\n",
       "<table border=\"1\" class=\"dataframe\">\n",
       "  <thead>\n",
       "    <tr style=\"text-align: right;\">\n",
       "      <th></th>\n",
       "      <th>title</th>\n",
       "      <th>predicted_rating</th>\n",
       "      <th>userId</th>\n",
       "    </tr>\n",
       "  </thead>\n",
       "  <tbody>\n",
       "    <tr>\n",
       "      <th>1</th>\n",
       "      <td>Easy Rider (1969)</td>\n",
       "      <td>4.528473</td>\n",
       "      <td>544</td>\n",
       "    </tr>\n",
       "    <tr>\n",
       "      <th>2</th>\n",
       "      <td>Close Encounters of the Third Kind (1977)</td>\n",
       "      <td>4.383904</td>\n",
       "      <td>544</td>\n",
       "    </tr>\n",
       "    <tr>\n",
       "      <th>0</th>\n",
       "      <td>Secret of NIMH, The (1982)</td>\n",
       "      <td>4.205155</td>\n",
       "      <td>544</td>\n",
       "    </tr>\n",
       "    <tr>\n",
       "      <th>3</th>\n",
       "      <td>Station Agent, The (2003)</td>\n",
       "      <td>4.167224</td>\n",
       "      <td>544</td>\n",
       "    </tr>\n",
       "  </tbody>\n",
       "</table>\n",
       "</div>"
      ],
      "text/plain": [
       "                                       title  predicted_rating  userId\n",
       "1                          Easy Rider (1969)          4.528473     544\n",
       "2  Close Encounters of the Third Kind (1977)          4.383904     544\n",
       "0                 Secret of NIMH, The (1982)          4.205155     544\n",
       "3                  Station Agent, The (2003)          4.167224     544"
      ]
     },
     "execution_count": 69,
     "metadata": {},
     "output_type": "execute_result"
    }
   ],
   "source": [
    "%%time\n",
    "get_top_movies(random.choice([user for user in range(1, 611)]), num_of_movies=5)"
   ]
  },
  {
   "cell_type": "markdown",
   "id": "ba4d35d2",
   "metadata": {},
   "source": [
    "For each of the cells, we can observe 2 outputs:\n",
    "1. Cpu Time and Wall Time\n",
    "2. The table containing the top 5 recommended movies\n",
    "\n",
    "To evaluate the time taken for a model to predict and output the recommendations, we will use wall time, as mentioned in the previous notebook [2. Surprise Models].\n",
    "\n",
    "In that notebook we saw that ....\n",
    "\n",
    "We can see that our Recommender System Neural Network takes an average of 1 second or so of wall time to predict and output the table of movies."
   ]
  },
  {
   "cell_type": "markdown",
   "id": "238f9c5c",
   "metadata": {},
   "source": [
    "* Strategies to reduce the time further.\n",
    "* Tuning\n",
    "* user contextual features (age, occupation, user_country, etc)\n",
    "* Next steps"
   ]
  },
  {
   "cell_type": "code",
   "execution_count": 72,
   "id": "d3669f59",
   "metadata": {},
   "outputs": [
    {
     "data": {
      "text/plain": [
       "0.9216666666666665"
      ]
     },
     "execution_count": 72,
     "metadata": {},
     "output_type": "execute_result"
    }
   ],
   "source": [
    "(1.28+.709+.776)/3"
   ]
  },
  {
   "cell_type": "code",
   "execution_count": 95,
   "id": "3d62454e",
   "metadata": {},
   "outputs": [
    {
     "data": {
      "text/html": [
       "<div>\n",
       "<style scoped>\n",
       "    .dataframe tbody tr th:only-of-type {\n",
       "        vertical-align: middle;\n",
       "    }\n",
       "\n",
       "    .dataframe tbody tr th {\n",
       "        vertical-align: top;\n",
       "    }\n",
       "\n",
       "    .dataframe thead th {\n",
       "        text-align: right;\n",
       "    }\n",
       "</style>\n",
       "<table border=\"1\" class=\"dataframe\">\n",
       "  <thead>\n",
       "    <tr style=\"text-align: right;\">\n",
       "      <th></th>\n",
       "      <th>model_name</th>\n",
       "      <th>top-100 accuracy</th>\n",
       "    </tr>\n",
       "  </thead>\n",
       "  <tbody>\n",
       "    <tr>\n",
       "      <th>0</th>\n",
       "      <td>basic_retrival_model</td>\n",
       "      <td>0.001049</td>\n",
       "    </tr>\n",
       "    <tr>\n",
       "      <th>1</th>\n",
       "      <td>1 layer model</td>\n",
       "      <td>0.896000</td>\n",
       "    </tr>\n",
       "    <tr>\n",
       "      <th>2</th>\n",
       "      <td>2 layer model</td>\n",
       "      <td>0.886100</td>\n",
       "    </tr>\n",
       "  </tbody>\n",
       "</table>\n",
       "</div>"
      ],
      "text/plain": [
       "             model_name  top-100 accuracy\n",
       "0  basic_retrival_model          0.001049\n",
       "1         1 layer model          0.896000\n",
       "2         2 layer model          0.886100"
      ]
     },
     "execution_count": 95,
     "metadata": {},
     "output_type": "execute_result"
    }
   ],
   "source": [
    "retrieval_df = pd.DataFrame(retrieval_dict)\n",
    "retrieval_df"
   ]
  },
  {
   "cell_type": "code",
   "execution_count": 96,
   "id": "234535d8",
   "metadata": {},
   "outputs": [
    {
     "data": {
      "text/html": [
       "<div>\n",
       "<style scoped>\n",
       "    .dataframe tbody tr th:only-of-type {\n",
       "        vertical-align: middle;\n",
       "    }\n",
       "\n",
       "    .dataframe tbody tr th {\n",
       "        vertical-align: top;\n",
       "    }\n",
       "\n",
       "    .dataframe thead th {\n",
       "        text-align: right;\n",
       "    }\n",
       "</style>\n",
       "<table border=\"1\" class=\"dataframe\">\n",
       "  <thead>\n",
       "    <tr style=\"text-align: right;\">\n",
       "      <th></th>\n",
       "      <th>model_name</th>\n",
       "      <th>top-100 accuracy</th>\n",
       "    </tr>\n",
       "  </thead>\n",
       "  <tbody>\n",
       "    <tr>\n",
       "      <th>0</th>\n",
       "      <td>basic_retrival_model</td>\n",
       "      <td>0.001049</td>\n",
       "    </tr>\n",
       "    <tr>\n",
       "      <th>1</th>\n",
       "      <td>3 layer model</td>\n",
       "      <td>0.886200</td>\n",
       "    </tr>\n",
       "  </tbody>\n",
       "</table>\n",
       "</div>"
      ],
      "text/plain": [
       "             model_name  top-100 accuracy\n",
       "0  basic_retrival_model          0.001049\n",
       "1         3 layer model          0.886200"
      ]
     },
     "execution_count": 96,
     "metadata": {},
     "output_type": "execute_result"
    }
   ],
   "source": [
    "ranking_df = pd.DataFrame(ranking_dict)\n",
    "ranking_df"
   ]
  },
  {
   "cell_type": "code",
   "execution_count": 97,
   "id": "5a9b8825",
   "metadata": {},
   "outputs": [],
   "source": [
    "retrieval_df.to_csv('./datasets/retrieval_model_scores.csv', index=False)\n",
    "ranking_df.to_csv('./datasets/ranking_model_scores.csv', index=False)"
   ]
  },
  {
   "cell_type": "markdown",
   "id": "70c20f31",
   "metadata": {},
   "source": [
    "Retrieval, Ranking, and Post-Ranking"
   ]
  },
  {
   "cell_type": "markdown",
   "id": "3d18aabd",
   "metadata": {},
   "source": [
    "**One thing I need to figure out is how I can pass in the movie genres into the Neural Network. I will need to create embeddings for it, and then compile it into the model.**"
   ]
  },
  {
   "cell_type": "markdown",
   "id": "151b7ffb",
   "metadata": {},
   "source": [
    "## What are Embeddings?"
   ]
  },
  {
   "cell_type": "markdown",
   "id": "1ce4e17e",
   "metadata": {},
   "source": [
    "They allow additionaly information to be inserted in your neural network. This can be an alternative to 1-hot-encoding. It gets impractical the more dimensionality you will have. 1 dummy variable for every variable may not be useful. It will increase the dimensionality of the data, however the hope is to improve the model score at the end of the day."
   ]
  },
  {
   "cell_type": "markdown",
   "id": "1214421f",
   "metadata": {},
   "source": [
    "How to \"train\" the embedding layer?\n",
    "What's the vocabulary size? Let's say you have 10 genres, so your input_dim is 10, and you can set the output_dim to be a vector with n number of rows. Let's say output_dim=4. It won't just be 0s and 1s either. Input length is just referring to the length of the sequence. So for me, it's just going to be 1, as 1 word = 1 feature for genre.\n",
    "\n",
    "so this \"neural network\" has only 1 layer. It only kicks out the embeddings. It doesn't really do anything much, but you've created the embedding layer. \n",
    "Now you have a \"lookup table\" that is your embedding. \n",
    "so in the above example, we will have a table of 10 cols, and 4 rows. So an array of [1, 2] will return a \"prediction\". What it outputs is actually a bunch of random weights. You' can't really make sense of this. It will make sense if you compare it to the embedding layer weights. Be careful that this weights should not be trained, because they aren't meant to be treated as weights, but rather as lookup table."
   ]
  },
  {
   "cell_type": "code",
   "execution_count": null,
   "id": "cc189878",
   "metadata": {},
   "outputs": [],
   "source": []
  },
  {
   "cell_type": "code",
   "execution_count": 70,
   "id": "520263fc",
   "metadata": {},
   "outputs": [],
   "source": [
    "results = {'retrieval_NN': ['1st_run', '2nd_run', '3rd_run'],\n",
    "           'top-100 accuracy': [0.27, 0.86, 0.88],\n",
    "           'ranking_NN': ['1st_run', '2nd_run', '3rd_run'],\n",
    "           'rating_rmse': [1.1813, 0.9418, 0.8681]\n",
    "          }\n",
    "\n",
    "# the difference between the runs for retrieval is, I added deeper layers, and I added in all the features\n",
    "# the difference between the runs for ranking is, I added 1 more deeper layer, and I added in all the features"
   ]
  }
 ],
 "metadata": {
  "kernelspec": {
   "display_name": "Python 3 (ipykernel)",
   "language": "python",
   "name": "python3"
  },
  "language_info": {
   "codemirror_mode": {
    "name": "ipython",
    "version": 3
   },
   "file_extension": ".py",
   "mimetype": "text/x-python",
   "name": "python",
   "nbconvert_exporter": "python",
   "pygments_lexer": "ipython3",
   "version": "3.8.13"
  }
 },
 "nbformat": 4,
 "nbformat_minor": 5
}
