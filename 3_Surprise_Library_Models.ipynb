{
 "cells": [
  {
   "cell_type": "markdown",
   "id": "791f10fa",
   "metadata": {},
   "source": [
    "# The Surprise Library"
   ]
  },
  {
   "cell_type": "markdown",
   "id": "53dab20f",
   "metadata": {},
   "source": [
    "In the previous notebook, we built **Content Based** and **Memory-Based Collaborative Filtering** models, and we saw their limited capacity in terms of what they can and cannot do. \n",
    "\n",
    "As a reminder, we are focusing on the `rmse` as the metric to evaluate our models, as well as the a threshold of **3 seconds** to output predictions. Previously, we saw a RMSE of 3.2, which on the surface may seem to be alright, however if we interpret it, it means that our memory-based collaborative filtering approach predicts the rating to be either **64%** more or less than the actual rating. This is not ideal, and there are a few possible reasons for this. \n",
    "\n",
    "1. Our model has overfit on training data.\n",
    "* To deal with this, we would need to apply some dimensionality reduction techniques to improve the `rmse` score.\n",
    "\n",
    "2. Doesn't scale well to massive datasets. \n",
    "* The dataset we have elected to use is the 100k dataset, and in reality, there are many many more times larger datasets in real-life production scenarios, the largest dataset offered by [movielens is 45M](https://grouplens.org/datasets/movielens/)."
   ]
  },
  {
   "cell_type": "markdown",
   "id": "ad2d3349",
   "metadata": {},
   "source": [
    "To achieve this, we will make use of the `SurPrise` library that is available in python for building and analyzing recommender systems that deal with explicit rating data. [A paper going into much greater detail about this awesome library is cited here!](https://doi.org/10.21105/joss.02174). This is relevant here as we have a 100 Thousand dataset with explicit rating for movies. The library contains a mixture of memory based and model based techniques, for example, the `KNN` models are memory based, and the `SVD` models are model based. \n",
    "\n",
    "Once we have selected our best model, we will go more in depth into that model.\n",
    "\n",
    "*The name SurPRISE (roughly :) ) stands for Simple Python RecommendatIon System Engine*"
   ]
  },
  {
   "cell_type": "markdown",
   "id": "d281bd8d",
   "metadata": {},
   "source": [
    "This is the **THIRD** of five notebooks:<br>\n",
    "[1. Data Exploration and EDA](1_Data_Exploration_and_EDA.ipynb)</br>\n",
    "[2. Simple Content and Collaborative Filtering Methods](2_Simple_Content_and_Collaborative_Filtering_Models.ipynb)</br>\n",
    "**3. Surprise Library Models (Current Notebook)**</br>\n",
    "[4. Deep Learning Part 1 ](4_Deep_Learning_Part_1_(Basic).ipynb)</br>\n",
    "[5. Deep Learning Part 2](5_Deep_Learning_Part_2_(Introducing_more_features_and_layers).ipynb)</br>"
   ]
  },
  {
   "cell_type": "markdown",
   "id": "efb65cd3",
   "metadata": {},
   "source": [
    "# Contents of this notebook:\n",
    "[1. Imports](#Imports)<br>\n",
    "[2. Reading in the data](#Reading-in-the-data)<br>\n",
    "[3. Base Models](#Base-Models)<br>\n",
    "[4. Tuning our best models](#Tuning-our-best-models)<br>\n",
    "* [KNNBaseline Tuning](#KNNBaseline-Tuning)<br>\n",
    "* [SVD Tuning](#SVD-Tuning)<br>\n",
    "* [SVDpp Tuning](#SVDpp-Tuning)<br>\n",
    "\n",
    "[5. Best Model Selection](#Best-Model-Selection)<br>\n",
    "[6. The SVD Model](#The-SVD-Model)<br>\n",
    "\n",
    "[7. Best Model Evaluation](#Best-Model-Evaluation)<br>\n",
    "* [Get top n Predictions](#Get-top-n-Predictions)<br>\n",
    "* [Error Analysis](#Error-Analysis)<br>\n",
    "* [Overall Model Evaluation](#Overall-Model-Evaluation)<br>"
   ]
  },
  {
   "cell_type": "markdown",
   "id": "93821958",
   "metadata": {},
   "source": [
    "---"
   ]
  },
  {
   "cell_type": "markdown",
   "id": "8fadbe8a",
   "metadata": {},
   "source": [
    "# Imports"
   ]
  },
  {
   "cell_type": "code",
   "execution_count": 1,
   "id": "5c3cffeb",
   "metadata": {},
   "outputs": [],
   "source": [
    "from surprise import (BaselineOnly, KNNBasic, KNNWithMeans, KNNWithZScore, KNNBaseline, SVD, SVDpp, NMF, SlopeOne, \n",
    "CoClustering)\n",
    "from surprise import Dataset, Reader\n",
    "from surprise.model_selection import cross_validate, GridSearchCV, train_test_split\n",
    "from surprise.accuracy import rmse, mae\n",
    "from sklearn.metrics import mean_squared_error"
   ]
  },
  {
   "cell_type": "code",
   "execution_count": 76,
   "id": "5ab3ef9c",
   "metadata": {},
   "outputs": [],
   "source": [
    "import pandas as pd\n",
    "import numpy as np\n",
    "import matplotlib.pyplot as plt\n",
    "import seaborn as sns\n",
    "from math import sqrt\n",
    "from collections import defaultdict\n",
    "import statistics"
   ]
  },
  {
   "cell_type": "markdown",
   "id": "e500b736",
   "metadata": {},
   "source": [
    "In order to have reproducible results, we will create a random seed for this whole notebook."
   ]
  },
  {
   "cell_type": "code",
   "execution_count": 4,
   "id": "bcf61121",
   "metadata": {},
   "outputs": [],
   "source": [
    "import random\n",
    "\n",
    "my_seed = 42\n",
    "random.seed(my_seed)\n",
    "np.random.seed(my_seed)"
   ]
  },
  {
   "cell_type": "code",
   "execution_count": 129,
   "id": "74623757",
   "metadata": {},
   "outputs": [],
   "source": [
    "# setting global font size for charts to be 12\n",
    "plt.rcParams['font.size'] = 12"
   ]
  },
  {
   "cell_type": "markdown",
   "id": "d53f2939",
   "metadata": {},
   "source": [
    "---"
   ]
  },
  {
   "cell_type": "markdown",
   "id": "c2b17333",
   "metadata": {},
   "source": [
    "# Reading in the data"
   ]
  },
  {
   "cell_type": "code",
   "execution_count": 143,
   "id": "7ea1e59c",
   "metadata": {},
   "outputs": [],
   "source": [
    "df = pd.read_csv('./datasets/merged_users+movies.csv')"
   ]
  },
  {
   "cell_type": "code",
   "execution_count": 61,
   "id": "a2d812fc",
   "metadata": {},
   "outputs": [],
   "source": [
    "movie_df = pd.read_csv('./datasets/movies.csv')"
   ]
  },
  {
   "cell_type": "code",
   "execution_count": 6,
   "id": "46ba34d4",
   "metadata": {},
   "outputs": [
    {
     "data": {
      "text/html": [
       "<div>\n",
       "<style scoped>\n",
       "    .dataframe tbody tr th:only-of-type {\n",
       "        vertical-align: middle;\n",
       "    }\n",
       "\n",
       "    .dataframe tbody tr th {\n",
       "        vertical-align: top;\n",
       "    }\n",
       "\n",
       "    .dataframe thead th {\n",
       "        text-align: right;\n",
       "    }\n",
       "</style>\n",
       "<table border=\"1\" class=\"dataframe\">\n",
       "  <thead>\n",
       "    <tr style=\"text-align: right;\">\n",
       "      <th></th>\n",
       "      <th>userId</th>\n",
       "      <th>movieId</th>\n",
       "      <th>rating</th>\n",
       "      <th>timestamp</th>\n",
       "      <th>title</th>\n",
       "      <th>genres</th>\n",
       "    </tr>\n",
       "  </thead>\n",
       "  <tbody>\n",
       "    <tr>\n",
       "      <th>0</th>\n",
       "      <td>1</td>\n",
       "      <td>1</td>\n",
       "      <td>4.0</td>\n",
       "      <td>964982703</td>\n",
       "      <td>Toy Story (1995)</td>\n",
       "      <td>Adventure Animation Children Comedy Fantasy</td>\n",
       "    </tr>\n",
       "    <tr>\n",
       "      <th>1</th>\n",
       "      <td>5</td>\n",
       "      <td>1</td>\n",
       "      <td>4.0</td>\n",
       "      <td>847434962</td>\n",
       "      <td>Toy Story (1995)</td>\n",
       "      <td>Adventure Animation Children Comedy Fantasy</td>\n",
       "    </tr>\n",
       "    <tr>\n",
       "      <th>2</th>\n",
       "      <td>7</td>\n",
       "      <td>1</td>\n",
       "      <td>4.5</td>\n",
       "      <td>1106635946</td>\n",
       "      <td>Toy Story (1995)</td>\n",
       "      <td>Adventure Animation Children Comedy Fantasy</td>\n",
       "    </tr>\n",
       "    <tr>\n",
       "      <th>3</th>\n",
       "      <td>15</td>\n",
       "      <td>1</td>\n",
       "      <td>2.5</td>\n",
       "      <td>1510577970</td>\n",
       "      <td>Toy Story (1995)</td>\n",
       "      <td>Adventure Animation Children Comedy Fantasy</td>\n",
       "    </tr>\n",
       "    <tr>\n",
       "      <th>4</th>\n",
       "      <td>17</td>\n",
       "      <td>1</td>\n",
       "      <td>4.5</td>\n",
       "      <td>1305696483</td>\n",
       "      <td>Toy Story (1995)</td>\n",
       "      <td>Adventure Animation Children Comedy Fantasy</td>\n",
       "    </tr>\n",
       "  </tbody>\n",
       "</table>\n",
       "</div>"
      ],
      "text/plain": [
       "   userId  movieId  rating   timestamp             title  \\\n",
       "0       1        1     4.0   964982703  Toy Story (1995)   \n",
       "1       5        1     4.0   847434962  Toy Story (1995)   \n",
       "2       7        1     4.5  1106635946  Toy Story (1995)   \n",
       "3      15        1     2.5  1510577970  Toy Story (1995)   \n",
       "4      17        1     4.5  1305696483  Toy Story (1995)   \n",
       "\n",
       "                                        genres  \n",
       "0  Adventure Animation Children Comedy Fantasy  \n",
       "1  Adventure Animation Children Comedy Fantasy  \n",
       "2  Adventure Animation Children Comedy Fantasy  \n",
       "3  Adventure Animation Children Comedy Fantasy  \n",
       "4  Adventure Animation Children Comedy Fantasy  "
      ]
     },
     "execution_count": 6,
     "metadata": {},
     "output_type": "execute_result"
    }
   ],
   "source": [
    "df.head()"
   ]
  },
  {
   "cell_type": "markdown",
   "id": "c8108bdd",
   "metadata": {},
   "source": [
    "Even though the surprise library has been modeled and inspired by the excellent scikit library, the way some of the methods are used is different since we are dealing with a library that has been built specifically for recommender systems for datasets with explicit ratings. We will make use of the documentation found [here](http://surpriselib.com/)."
   ]
  },
  {
   "cell_type": "code",
   "execution_count": 7,
   "id": "5f5d30d3",
   "metadata": {},
   "outputs": [],
   "source": [
    "# we will use the min and max ratings observed from our data\n",
    "reader = Reader(rating_scale=(min(df['rating']), max(df['rating'])))\n",
    "data = Dataset.load_from_df(df[['userId', 'movieId', 'rating']], reader)"
   ]
  },
  {
   "cell_type": "markdown",
   "id": "035b443c",
   "metadata": {},
   "source": [
    "Now we are ready to start modeling."
   ]
  },
  {
   "cell_type": "markdown",
   "id": "fed771af",
   "metadata": {},
   "source": [
    "---"
   ]
  },
  {
   "cell_type": "markdown",
   "id": "61605208",
   "metadata": {},
   "source": [
    "# Base Models"
   ]
  },
  {
   "cell_type": "markdown",
   "id": "3e95579c",
   "metadata": {},
   "source": [
    "Now we are ready to start modeling. Due to the way the surprise library is built, the way we fit our data for our model with and without `GridSearchCV` is different. So we will need to redefine our `data` once we are ready to perform hyper parameter tuning. Let's start with all the base models first."
   ]
  },
  {
   "cell_type": "code",
   "execution_count": 92,
   "id": "4dd77989",
   "metadata": {},
   "outputs": [],
   "source": [
    "# Creating models dict for modeling function\n",
    "models = {'baseline': BaselineOnly(),\n",
    "          'knn_basic': KNNBasic(),\n",
    "          'knn_means': KNNWithMeans(),\n",
    "          'knn_zscore': KNNWithZScore(),\n",
    "          'knn_baseline': KNNBaseline(),\n",
    "          'svd': SVD(),\n",
    "          'svdpp': SVDpp(),\n",
    "          'nmf': NMF(),\n",
    "          'slope': SlopeOne(),\n",
    "          'cluster': CoClustering(),\n",
    "         }"
   ]
  },
  {
   "cell_type": "code",
   "execution_count": 93,
   "id": "b78a71f7",
   "metadata": {},
   "outputs": [],
   "source": [
    "# creating empty list to store modeling results\n",
    "model_eval = []"
   ]
  },
  {
   "cell_type": "code",
   "execution_count": 404,
   "id": "bd21e82e",
   "metadata": {},
   "outputs": [],
   "source": [
    "# Function to run model -- input model\n",
    "def get_base_model_scores(model_name,\n",
    "                          mod):\n",
    "    \n",
    "    \"\"\"Function accepts following inputs:\n",
    "    Name of model (str), model to be used (str).\"\"\"\n",
    "    \n",
    "    # empty dict for appending results\n",
    "    results = {}\n",
    "    \n",
    "    cross_val_model = cross_validate(models[mod],\n",
    "                                     data,\n",
    "                                     measures=['rmse'],\n",
    "                                     cv=3,\n",
    "                                     return_train_measures=True,\n",
    "                                     n_jobs=-1,\n",
    "                                     verbose=False\n",
    "                                    )\n",
    "    \n",
    "    # adding model metrics to results\n",
    "    results['model_name'] = model_name\n",
    "    results['model'] = mod\n",
    "    results['train_rmse'] = cross_val_model['train_rmse'].mean()\n",
    "    results['test_rmse'] = cross_val_model['test_rmse'].mean()\n",
    "    \n",
    "    # using statistics method as the below two attributes\n",
    "    # are tuples, so the .mean() method will not work\n",
    "    # the above are arrays, so the .mean() method works\n",
    "    \n",
    "    results['fit_time'] = statistics.mean(cross_val_model['fit_time'])\n",
    "    results['test_time'] = statistics.mean(cross_val_model['test_time'])\n",
    "    \n",
    "    # adding model scores to evaluation list\n",
    "    model_eval.append(results)\n",
    "    print('Base model fit is complete.')\n",
    "    \n",
    "    return cross_val_model"
   ]
  },
  {
   "cell_type": "markdown",
   "id": "2a286b4a",
   "metadata": {},
   "source": [
    "Now that we have our modeling function, we will get all of our baseline model scores."
   ]
  },
  {
   "cell_type": "code",
   "execution_count": 414,
   "id": "3c424d06",
   "metadata": {},
   "outputs": [
    {
     "name": "stdout",
     "output_type": "stream",
     "text": [
      "Base model fit is complete.\n"
     ]
    }
   ],
   "source": [
    "base_baseline_only = get_base_model_scores('base_baseline_only', 'baseline')"
   ]
  },
  {
   "cell_type": "code",
   "execution_count": 413,
   "id": "74bb65ca",
   "metadata": {},
   "outputs": [
    {
     "name": "stdout",
     "output_type": "stream",
     "text": [
      "Base model fit is complete.\n"
     ]
    }
   ],
   "source": [
    "base_knn_basic = get_base_model_scores('base_knn_basic', 'knn_basic')"
   ]
  },
  {
   "cell_type": "code",
   "execution_count": 412,
   "id": "fb65af94",
   "metadata": {},
   "outputs": [
    {
     "name": "stdout",
     "output_type": "stream",
     "text": [
      "Base model fit is complete.\n"
     ]
    }
   ],
   "source": [
    "base_knn_means = get_base_model_scores('base_knn_means', 'knn_means')"
   ]
  },
  {
   "cell_type": "code",
   "execution_count": 411,
   "id": "8665c2ed",
   "metadata": {},
   "outputs": [
    {
     "name": "stdout",
     "output_type": "stream",
     "text": [
      "Base model fit is complete.\n"
     ]
    }
   ],
   "source": [
    "base_knn_zscore = get_base_model_scores('base_knn_zscore', 'knn_zscore')"
   ]
  },
  {
   "cell_type": "code",
   "execution_count": 410,
   "id": "a6190a02",
   "metadata": {},
   "outputs": [
    {
     "name": "stdout",
     "output_type": "stream",
     "text": [
      "Base model fit is complete.\n"
     ]
    }
   ],
   "source": [
    "base_knn_baseline = get_base_model_scores('base_knn_baseline', 'knn_baseline')"
   ]
  },
  {
   "cell_type": "code",
   "execution_count": 409,
   "id": "5704eeb5",
   "metadata": {},
   "outputs": [
    {
     "name": "stdout",
     "output_type": "stream",
     "text": [
      "Base model fit is complete.\n"
     ]
    }
   ],
   "source": [
    "base_svd = get_base_model_scores('base_svd', 'svd')"
   ]
  },
  {
   "cell_type": "code",
   "execution_count": 408,
   "id": "f59f4413",
   "metadata": {},
   "outputs": [
    {
     "name": "stdout",
     "output_type": "stream",
     "text": [
      "Base model fit is complete.\n"
     ]
    }
   ],
   "source": [
    "base_svdpp = get_base_model_scores('base_svdpp', 'svdpp')"
   ]
  },
  {
   "cell_type": "code",
   "execution_count": 407,
   "id": "741f06eb",
   "metadata": {},
   "outputs": [
    {
     "name": "stdout",
     "output_type": "stream",
     "text": [
      "Base model fit is complete.\n"
     ]
    }
   ],
   "source": [
    "base_nmf = get_base_model_scores('base_nmf', 'nmf')"
   ]
  },
  {
   "cell_type": "code",
   "execution_count": 406,
   "id": "c05bc548",
   "metadata": {},
   "outputs": [
    {
     "name": "stdout",
     "output_type": "stream",
     "text": [
      "Base model fit is complete.\n"
     ]
    }
   ],
   "source": [
    "base_slop = get_base_model_scores('base_slop', 'slope')"
   ]
  },
  {
   "cell_type": "code",
   "execution_count": 405,
   "id": "dc8a9d85",
   "metadata": {},
   "outputs": [
    {
     "name": "stdout",
     "output_type": "stream",
     "text": [
      "Base model fit is complete.\n"
     ]
    }
   ],
   "source": [
    "base_cluster = get_base_model_scores('base_cluster', 'cluster')"
   ]
  },
  {
   "cell_type": "markdown",
   "id": "922a9200",
   "metadata": {},
   "source": [
    "That was easy! Luckily the `SurPRISE` library, and the custom function we wrote is doing all the heavy lifting for us, it makes our code look very nice and clean. \n",
    "\n",
    "Now let's take a look at the results we have so far."
   ]
  },
  {
   "cell_type": "code",
   "execution_count": 417,
   "id": "1c25b598",
   "metadata": {},
   "outputs": [],
   "source": [
    "# creating dataframe from model_eval scores\n",
    "base_model_scores = pd.DataFrame(model_eval)"
   ]
  },
  {
   "cell_type": "code",
   "execution_count": 418,
   "id": "a7a60e95",
   "metadata": {},
   "outputs": [
    {
     "data": {
      "text/html": [
       "<div>\n",
       "<style scoped>\n",
       "    .dataframe tbody tr th:only-of-type {\n",
       "        vertical-align: middle;\n",
       "    }\n",
       "\n",
       "    .dataframe tbody tr th {\n",
       "        vertical-align: top;\n",
       "    }\n",
       "\n",
       "    .dataframe thead th {\n",
       "        text-align: right;\n",
       "    }\n",
       "</style>\n",
       "<table border=\"1\" class=\"dataframe\">\n",
       "  <thead>\n",
       "    <tr style=\"text-align: right;\">\n",
       "      <th></th>\n",
       "      <th>model_name</th>\n",
       "      <th>model</th>\n",
       "      <th>train_rmse</th>\n",
       "      <th>test_rmse</th>\n",
       "      <th>fit_time</th>\n",
       "      <th>test_time</th>\n",
       "    </tr>\n",
       "  </thead>\n",
       "  <tbody>\n",
       "    <tr>\n",
       "      <th>6</th>\n",
       "      <td>base_svdpp</td>\n",
       "      <td>svdpp</td>\n",
       "      <td>0.675951</td>\n",
       "      <td>0.866679</td>\n",
       "      <td>302.668346</td>\n",
       "      <td>6.992896</td>\n",
       "    </tr>\n",
       "    <tr>\n",
       "      <th>0</th>\n",
       "      <td>base_baseline_only</td>\n",
       "      <td>baseline</td>\n",
       "      <td>0.837641</td>\n",
       "      <td>0.876241</td>\n",
       "      <td>0.050725</td>\n",
       "      <td>0.111516</td>\n",
       "    </tr>\n",
       "    <tr>\n",
       "      <th>5</th>\n",
       "      <td>base_svd</td>\n",
       "      <td>svd</td>\n",
       "      <td>0.639353</td>\n",
       "      <td>0.879827</td>\n",
       "      <td>2.926874</td>\n",
       "      <td>0.167982</td>\n",
       "    </tr>\n",
       "    <tr>\n",
       "      <th>4</th>\n",
       "      <td>base_knn_baseline</td>\n",
       "      <td>knn_baseline</td>\n",
       "      <td>0.655359</td>\n",
       "      <td>0.882639</td>\n",
       "      <td>0.160189</td>\n",
       "      <td>1.926270</td>\n",
       "    </tr>\n",
       "    <tr>\n",
       "      <th>3</th>\n",
       "      <td>base_knn_zscore</td>\n",
       "      <td>knn_zscore</td>\n",
       "      <td>0.668391</td>\n",
       "      <td>0.903679</td>\n",
       "      <td>0.157216</td>\n",
       "      <td>1.621699</td>\n",
       "    </tr>\n",
       "    <tr>\n",
       "      <th>2</th>\n",
       "      <td>base_knn_means</td>\n",
       "      <td>knn_means</td>\n",
       "      <td>0.673119</td>\n",
       "      <td>0.904506</td>\n",
       "      <td>0.111510</td>\n",
       "      <td>1.488612</td>\n",
       "    </tr>\n",
       "    <tr>\n",
       "      <th>8</th>\n",
       "      <td>base_slop</td>\n",
       "      <td>slope</td>\n",
       "      <td>0.551231</td>\n",
       "      <td>0.909538</td>\n",
       "      <td>2.661436</td>\n",
       "      <td>4.934569</td>\n",
       "    </tr>\n",
       "    <tr>\n",
       "      <th>7</th>\n",
       "      <td>base_nmf</td>\n",
       "      <td>nmf</td>\n",
       "      <td>0.577744</td>\n",
       "      <td>0.937035</td>\n",
       "      <td>3.727779</td>\n",
       "      <td>0.152249</td>\n",
       "    </tr>\n",
       "    <tr>\n",
       "      <th>9</th>\n",
       "      <td>base_cluster</td>\n",
       "      <td>cluster</td>\n",
       "      <td>0.812592</td>\n",
       "      <td>0.954283</td>\n",
       "      <td>1.698625</td>\n",
       "      <td>0.132729</td>\n",
       "    </tr>\n",
       "    <tr>\n",
       "      <th>1</th>\n",
       "      <td>base_knn_basic</td>\n",
       "      <td>knn_basic</td>\n",
       "      <td>0.697346</td>\n",
       "      <td>0.959823</td>\n",
       "      <td>0.094301</td>\n",
       "      <td>1.339809</td>\n",
       "    </tr>\n",
       "  </tbody>\n",
       "</table>\n",
       "</div>"
      ],
      "text/plain": [
       "           model_name         model  train_rmse  test_rmse    fit_time  \\\n",
       "6          base_svdpp         svdpp    0.675951   0.866679  302.668346   \n",
       "0  base_baseline_only      baseline    0.837641   0.876241    0.050725   \n",
       "5            base_svd           svd    0.639353   0.879827    2.926874   \n",
       "4   base_knn_baseline  knn_baseline    0.655359   0.882639    0.160189   \n",
       "3     base_knn_zscore    knn_zscore    0.668391   0.903679    0.157216   \n",
       "2      base_knn_means     knn_means    0.673119   0.904506    0.111510   \n",
       "8           base_slop         slope    0.551231   0.909538    2.661436   \n",
       "7            base_nmf           nmf    0.577744   0.937035    3.727779   \n",
       "9        base_cluster       cluster    0.812592   0.954283    1.698625   \n",
       "1      base_knn_basic     knn_basic    0.697346   0.959823    0.094301   \n",
       "\n",
       "   test_time  \n",
       "6   6.992896  \n",
       "0   0.111516  \n",
       "5   0.167982  \n",
       "4   1.926270  \n",
       "3   1.621699  \n",
       "2   1.488612  \n",
       "8   4.934569  \n",
       "7   0.152249  \n",
       "9   0.132729  \n",
       "1   1.339809  "
      ]
     },
     "execution_count": 418,
     "metadata": {},
     "output_type": "execute_result"
    }
   ],
   "source": [
    "# sorting by 'test_rmse' metric\n",
    "base_model_scores.sort_values('test_rmse')"
   ]
  },
  {
   "cell_type": "markdown",
   "id": "49210b7b",
   "metadata": {},
   "source": [
    "Based on the above table, we can see that the lowest(below 90%) `rmse` scores are for the `SVD++`, `BaselineOnly`, `SVD` amd `KNNBaseline`. As `BaselineOnly` predicts a rating based on the distribution of the training set, (assumed to be normal), because of this, we will not choose this model for further tuning. The reason for this is so that this model could be applicable to other movie rating datasets, and may follow a different distribution, (*not normal*).\n",
    "\n",
    "Instead, we will focus on the `SVD++`, `SVD` and `KNNBaseline`.\n",
    "\n",
    "In the following section, we will tune the hyperparameters of these three models using the `surprise` library `GridSearchCV` method.\n",
    "\n",
    "Considering that the base `SVD++` model took 302s (5mins) on average to fit 1 fold, we will start with `SVD`, then move on to `KNNBaseline` and then move to `SVD++`. `SVD++` hyperparameters tuning will most likley take a lot of time, even if it is our best performing model so far."
   ]
  },
  {
   "cell_type": "markdown",
   "id": "df91e698",
   "metadata": {},
   "source": [
    "---"
   ]
  },
  {
   "cell_type": "markdown",
   "id": "b4329247",
   "metadata": {},
   "source": [
    "# Tuning our best models"
   ]
  },
  {
   "cell_type": "markdown",
   "id": "b7189602",
   "metadata": {},
   "source": [
    "Since we are using `GridSearchCV`, we will need to make some changes to our modeling function we used previously. We will also need to re-instantiate our models in the way that is specifically required for `GridSearchCV`. "
   ]
  },
  {
   "cell_type": "code",
   "execution_count": 440,
   "id": "1330920c",
   "metadata": {},
   "outputs": [],
   "source": [
    "# as per the surprise documentation, the models\n",
    "# must be instatiated in GridSearchCV without\n",
    "# parentheses\n",
    "model_tuned = {'knn_baseline': KNNBaseline,\n",
    "               'svd': SVD,\n",
    "               'svdpp': SVDpp,\n",
    "              }"
   ]
  },
  {
   "cell_type": "code",
   "execution_count": 319,
   "id": "50891a42",
   "metadata": {},
   "outputs": [],
   "source": [
    "# Function to run model -- input model\n",
    "def tuned_model_scores(model_name, \n",
    "                       mod, \n",
    "                       mod_params={}):\n",
    "    \n",
    "    \"\"\"Function accepts following inputs:\n",
    "    Name of model (str), model to be used (str), \n",
    "    model params(dict, optional).\"\"\"\n",
    "    \n",
    "    # empty dict for appending results\n",
    "    results = {}\n",
    "    \n",
    "    # instantiate GridSearchCV\n",
    "    gs = GridSearchCV(model_tuned[mod], \n",
    "                      param_grid=mod_params,\n",
    "                      measures=['rmse'],\n",
    "                      cv=3,\n",
    "                      n_jobs=-1,\n",
    "                      return_train_measures=True\n",
    "                     )\n",
    "\n",
    "    # fit model\n",
    "    gs.fit(data)\n",
    "    \n",
    "    temp_df = pd.DataFrame(gs.cv_results)\n",
    "    num_fits = len(temp_df)*3\n",
    "\n",
    "    temp_df = temp_df.loc[gs.best_index['rmse'], \n",
    "                          ['mean_train_rmse', \n",
    "                           'mean_test_rmse', \n",
    "                           'mean_fit_time', \n",
    "                           'mean_test_time', \n",
    "                           'params']].values.tolist()\n",
    "    \n",
    "    # Retrieve metrics and add to results\n",
    "    results['model_name'] = model_name\n",
    "    results['model'] = mod\n",
    "    results['train_rmse'] = temp_df[0]\n",
    "    results['test_rmse'] = temp_df[1]\n",
    "    results['fit_time'] = temp_df[2]\n",
    "    results['test_time'] = temp_df[3]\n",
    "    \n",
    "    # add results to list for model evaluation later\n",
    "    model_eval.append(results)\n",
    "    \n",
    "    print(f'{num_fits} fits have been completed.')\n",
    "    \n",
    "    return gs"
   ]
  },
  {
   "cell_type": "markdown",
   "id": "f30100f3",
   "metadata": {},
   "source": [
    "With this function, we are now ready to begin with hyperparameter tuning for our 3 selected models."
   ]
  },
  {
   "cell_type": "markdown",
   "id": "668d8386",
   "metadata": {},
   "source": [
    "## SVD Tuning"
   ]
  },
  {
   "cell_type": "code",
   "execution_count": 304,
   "id": "da0998eb",
   "metadata": {},
   "outputs": [],
   "source": [
    "# defining SVD parameters\n",
    "svd_params = {'n_factors': [80, 90, 100, 110, 120], \n",
    "              'n_epochs': [15, 20, 25, 30, 35], \n",
    "              'biased': [True, False], \n",
    "              'lr_all': [0.003, 0.004, 0.005, 0.006, 0.007],\n",
    "              'reg_all': [0.01, 0.02, 0.03, 0.04]\n",
    "             }"
   ]
  },
  {
   "cell_type": "code",
   "execution_count": 338,
   "id": "f404ced3",
   "metadata": {},
   "outputs": [
    {
     "name": "stdout",
     "output_type": "stream",
     "text": [
      "3000 fits have been completed.\n"
     ]
    }
   ],
   "source": [
    "# first tuning attempt\n",
    "svd_tuned_1 = tuned_model_scores('svd_tuned_1', \n",
    "                                 'svd', \n",
    "                                 mod_params=svd_params)"
   ]
  },
  {
   "cell_type": "code",
   "execution_count": 339,
   "id": "9f8241b3",
   "metadata": {},
   "outputs": [
    {
     "data": {
      "text/plain": [
       "{'rmse': {'n_factors': 80,\n",
       "  'n_epochs': 25,\n",
       "  'biased': True,\n",
       "  'lr_all': 0.007,\n",
       "  'reg_all': 0.04}}"
      ]
     },
     "execution_count": 339,
     "metadata": {},
     "output_type": "execute_result"
    }
   ],
   "source": [
    "# getting best params\n",
    "svd_tuned_1.best_params"
   ]
  },
  {
   "cell_type": "code",
   "execution_count": 420,
   "id": "b53cb84c",
   "metadata": {},
   "outputs": [
    {
     "data": {
      "text/plain": [
       "{'rmse': 0.8705537233081375}"
      ]
     },
     "execution_count": 420,
     "metadata": {},
     "output_type": "execute_result"
    }
   ],
   "source": [
    "# getting rmse, base rmse was 0.879827\n",
    "svd_tuned_1.best_score"
   ]
  },
  {
   "cell_type": "markdown",
   "id": "f698707b",
   "metadata": {},
   "source": [
    "We have managed to see an improvement in `rmse` by almost **0.01**. <br>\n",
    "However, if we compare the best parameters chosen by `GridSeachCV`, we can see that more tuning can be done for `n_factors`, `lr_all`, and `reg_all`. Let's continue tuning the model, by redefining new params for `GridSearchCV` to search through."
   ]
  },
  {
   "cell_type": "code",
   "execution_count": 341,
   "id": "cc285b25",
   "metadata": {},
   "outputs": [],
   "source": [
    "# redefining new params based on previous tuned model\n",
    "svd_params_V2 = {'n_factors': [30, 50, 80], \n",
    "                 'n_epochs': [25], \n",
    "                 'biased': [True], \n",
    "                 'lr_all': [0.007, 0.008, 0.009],\n",
    "                 'reg_all': [0.04, 0.05, 0.06, 0.07, 0.08]\n",
    "                }"
   ]
  },
  {
   "cell_type": "code",
   "execution_count": 342,
   "id": "cb01576e",
   "metadata": {},
   "outputs": [
    {
     "name": "stdout",
     "output_type": "stream",
     "text": [
      "135 fits have been completed.\n"
     ]
    }
   ],
   "source": [
    "# second tuning attempt\n",
    "svd_tuned_2 = tuned_model_scores('svd_tuned_2', \n",
    "                                 'svd', \n",
    "                                 mod_params=svd_params_V2)"
   ]
  },
  {
   "cell_type": "code",
   "execution_count": 344,
   "id": "8f150c4b",
   "metadata": {},
   "outputs": [
    {
     "data": {
      "text/plain": [
       "{'rmse': {'n_factors': 80,\n",
       "  'n_epochs': 25,\n",
       "  'biased': True,\n",
       "  'lr_all': 0.009,\n",
       "  'reg_all': 0.08}}"
      ]
     },
     "execution_count": 344,
     "metadata": {},
     "output_type": "execute_result"
    }
   ],
   "source": [
    "svd_tuned_2.best_params"
   ]
  },
  {
   "cell_type": "code",
   "execution_count": 421,
   "id": "e7c350cb",
   "metadata": {},
   "outputs": [
    {
     "data": {
      "text/plain": [
       "{'rmse': 0.8655018320388175}"
      ]
     },
     "execution_count": 421,
     "metadata": {},
     "output_type": "execute_result"
    }
   ],
   "source": [
    "# getting rmse, base rmse was 0.879827\n",
    "svd_tuned_2.best_score"
   ]
  },
  {
   "cell_type": "markdown",
   "id": "12e97f93",
   "metadata": {},
   "source": [
    "We have managed to see an improvement in `rmse` by **0.005** more. <br>\n",
    "Again, if we compare the best parameters chosen by `GridSeachCV`, we can see that more tuning can be done for `lr_all`, and `reg_all`. Let's continue tuning the model, by redefining new params for `GridSearchCV` to search through."
   ]
  },
  {
   "cell_type": "code",
   "execution_count": 346,
   "id": "2e603665",
   "metadata": {},
   "outputs": [],
   "source": [
    "# redefining new params based on previous tuned model\n",
    "svd_params_V3 = {'n_factors': [60, 70, 80], \n",
    "                 'n_epochs': [25], \n",
    "                 'biased': [True], \n",
    "                 'lr_all': [0.0085, 0.009, 0.01],\n",
    "                 'reg_all': [0.075, 0.08, 0.09]\n",
    "                }"
   ]
  },
  {
   "cell_type": "code",
   "execution_count": 347,
   "id": "1a531a36",
   "metadata": {},
   "outputs": [
    {
     "name": "stdout",
     "output_type": "stream",
     "text": [
      "81 fits have been completed.\n"
     ]
    }
   ],
   "source": [
    "# third tuning attempt\n",
    "svd_tuned_3 = tuned_model_scores('svd_tuned_3', \n",
    "                                 'svd', \n",
    "                                 mod_params=svd_params_V3)"
   ]
  },
  {
   "cell_type": "code",
   "execution_count": 348,
   "id": "7e0f9075",
   "metadata": {},
   "outputs": [
    {
     "data": {
      "text/plain": [
       "{'rmse': {'n_factors': 80,\n",
       "  'n_epochs': 25,\n",
       "  'biased': True,\n",
       "  'lr_all': 0.01,\n",
       "  'reg_all': 0.075}}"
      ]
     },
     "execution_count": 348,
     "metadata": {},
     "output_type": "execute_result"
    }
   ],
   "source": [
    "# getting best params\n",
    "svd_tuned_3.best_params"
   ]
  },
  {
   "cell_type": "code",
   "execution_count": 422,
   "id": "b484f724",
   "metadata": {},
   "outputs": [
    {
     "data": {
      "text/plain": [
       "{'rmse': 0.8629833150886892}"
      ]
     },
     "execution_count": 422,
     "metadata": {},
     "output_type": "execute_result"
    }
   ],
   "source": [
    "# getting rmse, base rmse was 0.879827\n",
    "svd_tuned_3.best_score"
   ]
  },
  {
   "cell_type": "markdown",
   "id": "9d5a663b",
   "metadata": {},
   "source": [
    "We have managed to see an improvement in `rmse` by **0.003** more. <br>\n",
    "Again, if we compare the best parameters chosen by `GridSeachCV`, we can see that more tuning can be done for `lr_all`. Let's continue tuning the model, by redefining new params for `GridSearchCV` to search through."
   ]
  },
  {
   "cell_type": "code",
   "execution_count": 350,
   "id": "63f2862c",
   "metadata": {},
   "outputs": [],
   "source": [
    "# redefining new params based on previous tuned model\n",
    "svd_params_V4 = {'n_factors': [80], \n",
    "                 'n_epochs': [25], \n",
    "                 'biased': [True], \n",
    "                 'lr_all': [0.0095, 0.01, 0.012, 0.014],\n",
    "                 'reg_all': [0.075]\n",
    "                }"
   ]
  },
  {
   "cell_type": "code",
   "execution_count": 351,
   "id": "0a5c9649",
   "metadata": {},
   "outputs": [
    {
     "name": "stdout",
     "output_type": "stream",
     "text": [
      "12 fits have been completed.\n"
     ]
    }
   ],
   "source": [
    "# fourth tuning attempt\n",
    "svd_tuned_4 = tuned_model_scores('svd_tuned_4', \n",
    "                                 'svd', \n",
    "                                 mod_params=svd_params_V4)"
   ]
  },
  {
   "cell_type": "code",
   "execution_count": 353,
   "id": "d71b88d2",
   "metadata": {},
   "outputs": [
    {
     "data": {
      "text/plain": [
       "{'rmse': {'n_factors': 80,\n",
       "  'n_epochs': 25,\n",
       "  'biased': True,\n",
       "  'lr_all': 0.014,\n",
       "  'reg_all': 0.075}}"
      ]
     },
     "execution_count": 353,
     "metadata": {},
     "output_type": "execute_result"
    }
   ],
   "source": [
    "# getting best params\n",
    "svd_tuned_4.best_params"
   ]
  },
  {
   "cell_type": "code",
   "execution_count": 423,
   "id": "4d4b0300",
   "metadata": {},
   "outputs": [
    {
     "data": {
      "text/plain": [
       "{'rmse': 0.8621820643257244}"
      ]
     },
     "execution_count": 423,
     "metadata": {},
     "output_type": "execute_result"
    }
   ],
   "source": [
    "# getting rmse, base rmse was 0.879827\n",
    "svd_tuned_4.best_score"
   ]
  },
  {
   "cell_type": "markdown",
   "id": "14cb7135",
   "metadata": {},
   "source": [
    "We have managed to see an improvement in `rmse` by **0.0008** more. This is now a very small improvement in the model. <br>\n",
    "Again, if we compare the best parameters chosen by `GridSeachCV`, we can see that more tuning can be done for `lr_all`. Let's make one final attempt to tune our `SVD` model. "
   ]
  },
  {
   "cell_type": "code",
   "execution_count": null,
   "id": "ed5dda2f",
   "metadata": {},
   "outputs": [],
   "source": [
    "# redefining new params based on previous tuned model\n",
    "svd_params_V5 = {'n_factors': [80], \n",
    "                 'n_epochs': [25], \n",
    "                 'biased': [True], \n",
    "                 'lr_all': [0.014, 0.018, 0.02, 0.03, 0.05],\n",
    "                 'reg_all': [0.075]\n",
    "                }"
   ]
  },
  {
   "cell_type": "code",
   "execution_count": 367,
   "id": "174b9bf7",
   "metadata": {},
   "outputs": [
    {
     "name": "stdout",
     "output_type": "stream",
     "text": [
      "15 fits have been completed.\n"
     ]
    }
   ],
   "source": [
    "# fifth tuning attempt\n",
    "svd_tuned_5 = tuned_model_scores('svd_tuned_5', \n",
    "                                 'svd', \n",
    "                                 mod_params=svd_params_V5)"
   ]
  },
  {
   "cell_type": "code",
   "execution_count": 368,
   "id": "e6d37de5",
   "metadata": {},
   "outputs": [
    {
     "data": {
      "text/plain": [
       "{'rmse': {'n_factors': 80,\n",
       "  'n_epochs': 25,\n",
       "  'biased': True,\n",
       "  'lr_all': 0.014,\n",
       "  'reg_all': 0.075}}"
      ]
     },
     "execution_count": 368,
     "metadata": {},
     "output_type": "execute_result"
    }
   ],
   "source": [
    "svd_tuned_5.best_params"
   ]
  },
  {
   "cell_type": "code",
   "execution_count": 380,
   "id": "e7324849",
   "metadata": {},
   "outputs": [
    {
     "data": {
      "text/plain": [
       "{'rmse': 0.861168716056909}"
      ]
     },
     "execution_count": 380,
     "metadata": {},
     "output_type": "execute_result"
    }
   ],
   "source": [
    "svd_tuned_5.best_score"
   ]
  },
  {
   "cell_type": "markdown",
   "id": "9babb681",
   "metadata": {},
   "source": [
    "We have managed to see an improvement in `rmse` by **0.001** more. Oddly enough we are seeing the same parameters.<br>\n",
    "Most likely we are close to the best possible model, if not the best for `SVD`. As such, this will be our final `SVD` tuned model. Let's take a look at all the scores so far."
   ]
  },
  {
   "cell_type": "code",
   "execution_count": 34,
   "id": "a3755c52",
   "metadata": {},
   "outputs": [
    {
     "data": {
      "text/html": [
       "<div>\n",
       "<style scoped>\n",
       "    .dataframe tbody tr th:only-of-type {\n",
       "        vertical-align: middle;\n",
       "    }\n",
       "\n",
       "    .dataframe tbody tr th {\n",
       "        vertical-align: top;\n",
       "    }\n",
       "\n",
       "    .dataframe thead th {\n",
       "        text-align: right;\n",
       "    }\n",
       "</style>\n",
       "<table border=\"1\" class=\"dataframe\">\n",
       "  <thead>\n",
       "    <tr style=\"text-align: right;\">\n",
       "      <th></th>\n",
       "      <th>model_name</th>\n",
       "      <th>model</th>\n",
       "      <th>train_rmse</th>\n",
       "      <th>test_rmse</th>\n",
       "      <th>fit_time</th>\n",
       "      <th>test_time</th>\n",
       "    </tr>\n",
       "  </thead>\n",
       "  <tbody>\n",
       "    <tr>\n",
       "      <th>5</th>\n",
       "      <td>base_svd</td>\n",
       "      <td>svd</td>\n",
       "      <td>0.639353</td>\n",
       "      <td>0.879827</td>\n",
       "      <td>2.926874</td>\n",
       "      <td>0.167982</td>\n",
       "    </tr>\n",
       "    <tr>\n",
       "      <th>10</th>\n",
       "      <td>svd_tuned_1</td>\n",
       "      <td>svd</td>\n",
       "      <td>0.569728</td>\n",
       "      <td>0.870554</td>\n",
       "      <td>7.784396</td>\n",
       "      <td>0.455209</td>\n",
       "    </tr>\n",
       "    <tr>\n",
       "      <th>11</th>\n",
       "      <td>svd_tuned_2</td>\n",
       "      <td>svd</td>\n",
       "      <td>0.644704</td>\n",
       "      <td>0.865502</td>\n",
       "      <td>6.249327</td>\n",
       "      <td>0.207198</td>\n",
       "    </tr>\n",
       "    <tr>\n",
       "      <th>12</th>\n",
       "      <td>svd_tuned_3</td>\n",
       "      <td>svd</td>\n",
       "      <td>0.603065</td>\n",
       "      <td>0.862983</td>\n",
       "      <td>7.057509</td>\n",
       "      <td>0.376290</td>\n",
       "    </tr>\n",
       "    <tr>\n",
       "      <th>13</th>\n",
       "      <td>svd_tuned_4</td>\n",
       "      <td>svd</td>\n",
       "      <td>0.521653</td>\n",
       "      <td>0.862182</td>\n",
       "      <td>6.787233</td>\n",
       "      <td>0.303089</td>\n",
       "    </tr>\n",
       "    <tr>\n",
       "      <th>14</th>\n",
       "      <td>svd_tuned_5</td>\n",
       "      <td>svd</td>\n",
       "      <td>0.521521</td>\n",
       "      <td>0.861169</td>\n",
       "      <td>6.284704</td>\n",
       "      <td>0.372672</td>\n",
       "    </tr>\n",
       "  </tbody>\n",
       "</table>\n",
       "</div>"
      ],
      "text/plain": [
       "     model_name model  train_rmse  test_rmse  fit_time  test_time\n",
       "5      base_svd   svd    0.639353   0.879827  2.926874   0.167982\n",
       "10  svd_tuned_1   svd    0.569728   0.870554  7.784396   0.455209\n",
       "11  svd_tuned_2   svd    0.644704   0.865502  6.249327   0.207198\n",
       "12  svd_tuned_3   svd    0.603065   0.862983  7.057509   0.376290\n",
       "13  svd_tuned_4   svd    0.521653   0.862182  6.787233   0.303089\n",
       "14  svd_tuned_5   svd    0.521521   0.861169  6.284704   0.372672"
      ]
     },
     "execution_count": 34,
     "metadata": {},
     "output_type": "execute_result"
    }
   ],
   "source": [
    "model_scores = pd.DataFrame(model_eval)\n",
    "model_scores[model_scores['model'] == 'svd']"
   ]
  },
  {
   "cell_type": "markdown",
   "id": "ee776f76",
   "metadata": {},
   "source": [
    "As we can see from the above, we have managed to see an improvement in our `test_rmse` score for the `SVD` model, by **0.01866**. I believe we have pushed this model as far as it can go."
   ]
  },
  {
   "cell_type": "markdown",
   "id": "92081c5d",
   "metadata": {},
   "source": [
    "---"
   ]
  },
  {
   "cell_type": "markdown",
   "id": "98a7b938",
   "metadata": {},
   "source": [
    "## KNNBaseline Tuning"
   ]
  },
  {
   "cell_type": "markdown",
   "id": "c2590aa0",
   "metadata": {},
   "source": [
    "Let's move on to tuning the `KNNBaseline` model."
   ]
  },
  {
   "cell_type": "code",
   "execution_count": 438,
   "id": "ff5b7baa",
   "metadata": {},
   "outputs": [],
   "source": [
    "# creating separate params for the two different baseline options\n",
    "\n",
    "# als baseline params\n",
    "knnbase_params_als = {'k': [20, 30, 40, 50, 60], \n",
    "                      'min_k': [1, 2, 3],\n",
    "                      'bsl_options': {'method': ['als'],\n",
    "                                      'n_epochs': [8, 9, 10, 11, 12], \n",
    "                                      'reg_u': [13, 14, 15, 16, 17],\n",
    "                                      'reg_i': [8, 9, 10, 11, 12]\n",
    "                                  }\n",
    "                     }\n",
    "\n",
    "# sgd baseline params\n",
    "knnbase_params_sgd = {'k': [20, 30, 40, 50, 60], \n",
    "                      'min_k': [1, 2, 3], \n",
    "                      'bsl_options': {'method': ['sgd'], \n",
    "                                      'learning_rate': [0.00003, 0.00004, 0.00005, 0.00006, 0.00007]\n",
    "                                     }\n",
    "                     }"
   ]
  },
  {
   "cell_type": "code",
   "execution_count": 441,
   "id": "343fd4aa",
   "metadata": {},
   "outputs": [
    {
     "name": "stdout",
     "output_type": "stream",
     "text": [
      "5625 fits have been completed.\n"
     ]
    }
   ],
   "source": [
    "knn_als_tuned_1 = tuned_model_scores('knn_als_tuned_1', \n",
    "                                     'knn_baseline', \n",
    "                                     mod_params=knnbase_params_als)"
   ]
  },
  {
   "cell_type": "code",
   "execution_count": 442,
   "id": "b32fef89",
   "metadata": {},
   "outputs": [
    {
     "name": "stdout",
     "output_type": "stream",
     "text": [
      "225 fits have been completed.\n"
     ]
    }
   ],
   "source": [
    "knn_sgd_tuned_1 = tuned_model_scores('knn_sgd_tuned_1', \n",
    "                                     'knn_baseline', \n",
    "                                     mod_params=knnbase_params_sgd)"
   ]
  },
  {
   "cell_type": "markdown",
   "id": "5353d49b",
   "metadata": {},
   "source": [
    "After evaluating the two baseline methods scores, I have decided to continue tuning the `als` baseline as that is the one that showed most improvement."
   ]
  },
  {
   "cell_type": "code",
   "execution_count": 444,
   "id": "4e79ea18",
   "metadata": {},
   "outputs": [
    {
     "data": {
      "text/plain": [
       "{'rmse': {'k': 30,\n",
       "  'min_k': 3,\n",
       "  'bsl_options': {'method': 'als', 'n_epochs': 12, 'reg_u': 13, 'reg_i': 8}}}"
      ]
     },
     "execution_count": 444,
     "metadata": {},
     "output_type": "execute_result"
    }
   ],
   "source": [
    "knn_als_tuned_1.best_params"
   ]
  },
  {
   "cell_type": "code",
   "execution_count": 446,
   "id": "d7269de3",
   "metadata": {},
   "outputs": [],
   "source": [
    "# redefining params based on preivious run\n",
    "knnbase_params_als_V2 = {'k': [30], \n",
    "                         'min_k': [3, 4, 5], \n",
    "                         'bsl_options': {'method': ['als'], \n",
    "                                         'n_epochs': [12, 13, 14], \n",
    "                                         'reg_u': [11, 12, 13], \n",
    "                                         'reg_i': [6, 7, 8] \n",
    "                                        }\n",
    "                        }"
   ]
  },
  {
   "cell_type": "code",
   "execution_count": 447,
   "id": "b9441f96",
   "metadata": {},
   "outputs": [
    {
     "name": "stdout",
     "output_type": "stream",
     "text": [
      "243 fits have been completed.\n"
     ]
    }
   ],
   "source": [
    "knn_als_tuned_2 = tuned_model_scores('knn_als_tuned_2', \n",
    "                                     'knn_baseline', \n",
    "                                     mod_params=knnbase_params_als_V2)"
   ]
  },
  {
   "cell_type": "code",
   "execution_count": 450,
   "id": "301cb74c",
   "metadata": {},
   "outputs": [
    {
     "data": {
      "text/plain": [
       "{'rmse': 0.8700311882994001}"
      ]
     },
     "execution_count": 450,
     "metadata": {},
     "output_type": "execute_result"
    }
   ],
   "source": [
    "knn_als_tuned_2.best_score"
   ]
  },
  {
   "cell_type": "code",
   "execution_count": 451,
   "id": "38e677cb",
   "metadata": {},
   "outputs": [
    {
     "data": {
      "text/plain": [
       "{'rmse': {'k': 30,\n",
       "  'min_k': 5,\n",
       "  'bsl_options': {'method': 'als', 'n_epochs': 14, 'reg_u': 11, 'reg_i': 6}}}"
      ]
     },
     "execution_count": 451,
     "metadata": {},
     "output_type": "execute_result"
    }
   ],
   "source": [
    "knn_als_tuned_2.best_params"
   ]
  },
  {
   "cell_type": "markdown",
   "id": "b66a5daf",
   "metadata": {},
   "source": [
    "Note the following cell had an error while writing markdown, the tuning was run, and you can see the `test_rmse` score below."
   ]
  },
  {
   "cell_type": "code",
   "execution_count": 237,
   "id": "de5b6d40",
   "metadata": {},
   "outputs": [
    {
     "ename": "IndentationError",
     "evalue": "unindent does not match any outer indentation level (<tokenize>, line 8)",
     "output_type": "error",
     "traceback": [
      "\u001b[1;36m  File \u001b[1;32m\"<tokenize>\"\u001b[1;36m, line \u001b[1;32m8\u001b[0m\n\u001b[1;33m    }\u001b[0m\n\u001b[1;37m    ^\u001b[0m\n\u001b[1;31mIndentationError\u001b[0m\u001b[1;31m:\u001b[0m unindent does not match any outer indentation level\n"
     ]
    }
   ],
   "source": [
    "# redefining params based on preivious run\n",
    "knnbase_params_als_V3 = {'k': [30], \n",
    "                         'min_k': [5, 10, 15], \n",
    "                         'bsl_options': {'method': ['als'], \n",
    "                                         'n_epochs': [14, 18, 22], \n",
    "                                         'reg_u': [7, 9, 11], \n",
    "                                         'reg_i': [2, 4, 6] \n",
    "                                        }\n",
    "                        }"
   ]
  },
  {
   "cell_type": "code",
   "execution_count": 453,
   "id": "29265b3d",
   "metadata": {},
   "outputs": [
    {
     "name": "stdout",
     "output_type": "stream",
     "text": [
      "243 fits have been completed.\n"
     ]
    }
   ],
   "source": [
    "knn_als_tuned_3 = tuned_model_scores('knn_als_tuned_3', \n",
    "                                     'knn_baseline', \n",
    "                                     mod_params=knnbase_params_als_V3)"
   ]
  },
  {
   "cell_type": "code",
   "execution_count": 455,
   "id": "5cfe39e4",
   "metadata": {},
   "outputs": [
    {
     "data": {
      "text/plain": [
       "{'rmse': {'k': 30,\n",
       "  'min_k': 10,\n",
       "  'bsl_options': {'method': 'als', 'n_epochs': 22, 'reg_u': 7, 'reg_i': 2}}}"
      ]
     },
     "execution_count": 455,
     "metadata": {},
     "output_type": "execute_result"
    }
   ],
   "source": [
    "knn_als_tuned_3.best_params"
   ]
  },
  {
   "cell_type": "code",
   "execution_count": 457,
   "id": "28f0c0a9",
   "metadata": {},
   "outputs": [
    {
     "data": {
      "text/plain": [
       "{'rmse': 0.86391808648022}"
      ]
     },
     "execution_count": 457,
     "metadata": {},
     "output_type": "execute_result"
    }
   ],
   "source": [
    "knn_als_tuned_3.best_score"
   ]
  },
  {
   "cell_type": "markdown",
   "id": "70f85cbd",
   "metadata": {},
   "source": [
    "Here we can see that there is more tuning we can do for `n_epochs`, `reg_u`, and `reg_i`."
   ]
  },
  {
   "cell_type": "code",
   "execution_count": 458,
   "id": "00d393f7",
   "metadata": {},
   "outputs": [],
   "source": [
    "# redefining params based on preivious run\n",
    "knnbase_params_als_V4 = {'k': [30], \n",
    "                         'min_k': [10], \n",
    "                         'bsl_options': {'method': ['als'], \n",
    "                                         'n_epochs': [22, 25, 30], \n",
    "                                         'reg_u': [3, 5, 7], \n",
    "                                         'reg_i': [0.5, 1, 1.5, 2] \n",
    "                                        }\n",
    "                        }"
   ]
  },
  {
   "cell_type": "code",
   "execution_count": 459,
   "id": "2b484733",
   "metadata": {},
   "outputs": [
    {
     "name": "stdout",
     "output_type": "stream",
     "text": [
      "108 fits have been completed.\n"
     ]
    }
   ],
   "source": [
    "knn_als_tuned_4 = tuned_model_scores('knn_als_tuned_4', \n",
    "                                     'knn_baseline', \n",
    "                                     mod_params=knnbase_params_als_V4)"
   ]
  },
  {
   "cell_type": "code",
   "execution_count": 461,
   "id": "99b9e246",
   "metadata": {},
   "outputs": [
    {
     "data": {
      "text/plain": [
       "{'rmse': {'k': 30,\n",
       "  'min_k': 10,\n",
       "  'bsl_options': {'method': 'als', 'n_epochs': 30, 'reg_u': 7, 'reg_i': 2}}}"
      ]
     },
     "execution_count": 461,
     "metadata": {},
     "output_type": "execute_result"
    }
   ],
   "source": [
    "knn_als_tuned_4.best_params"
   ]
  },
  {
   "cell_type": "code",
   "execution_count": 462,
   "id": "6791f10f",
   "metadata": {},
   "outputs": [
    {
     "data": {
      "text/plain": [
       "{'rmse': 0.8647604619133166}"
      ]
     },
     "execution_count": 462,
     "metadata": {},
     "output_type": "execute_result"
    }
   ],
   "source": [
    "knn_als_tuned_4.best_score"
   ]
  },
  {
   "cell_type": "markdown",
   "id": "e55cdde0",
   "metadata": {},
   "source": [
    "We will attempt tuning one more time, as I think we can make just a bit more improvement on this model."
   ]
  },
  {
   "cell_type": "code",
   "execution_count": 483,
   "id": "7c574937",
   "metadata": {},
   "outputs": [],
   "source": [
    "# redefining params based on preivious run\n",
    "knnbase_params_als_V5 = {'k': [30], \n",
    "                         'min_k': [10], \n",
    "                         'bsl_options': {'method': ['als'], \n",
    "                                         'n_epochs': [30, 50, 100, 120], \n",
    "                                         'reg_u': [7], \n",
    "                                         'reg_i': [2] \n",
    "                                        }\n",
    "                        }"
   ]
  },
  {
   "cell_type": "code",
   "execution_count": 484,
   "id": "cd602890",
   "metadata": {},
   "outputs": [
    {
     "name": "stdout",
     "output_type": "stream",
     "text": [
      "12 fits have been completed.\n"
     ]
    }
   ],
   "source": [
    "knn_als_tuned_5 = tuned_model_scores('knn_als_tuned_5', \n",
    "                                     'knn_baseline', \n",
    "                                     mod_params=knnbase_params_als_V5)"
   ]
  },
  {
   "cell_type": "code",
   "execution_count": 485,
   "id": "edaef6cd",
   "metadata": {},
   "outputs": [
    {
     "data": {
      "text/plain": [
       "{'rmse': 0.8637914129499696}"
      ]
     },
     "execution_count": 485,
     "metadata": {},
     "output_type": "execute_result"
    }
   ],
   "source": [
    "knn_als_tuned_5.best_score"
   ]
  },
  {
   "cell_type": "code",
   "execution_count": 486,
   "id": "e248b9be",
   "metadata": {},
   "outputs": [
    {
     "data": {
      "text/plain": [
       "{'rmse': {'k': 30,\n",
       "  'min_k': 10,\n",
       "  'bsl_options': {'method': 'als', 'n_epochs': 120, 'reg_u': 7, 'reg_i': 2}}}"
      ]
     },
     "execution_count": 486,
     "metadata": {},
     "output_type": "execute_result"
    }
   ],
   "source": [
    "knn_als_tuned_5.best_params"
   ]
  },
  {
   "cell_type": "markdown",
   "id": "408f386b",
   "metadata": {},
   "source": [
    "Based on this result here, after tuning our model, we still see that the `SVD` tuned model has the lowest `rmse` score so far. We will stop tuning this model here. <br>\n",
    "Let's evaluate the score of this model vs all the tuning iterations that we have done so far."
   ]
  },
  {
   "cell_type": "code",
   "execution_count": 32,
   "id": "3f2e4875",
   "metadata": {},
   "outputs": [
    {
     "data": {
      "text/html": [
       "<div>\n",
       "<style scoped>\n",
       "    .dataframe tbody tr th:only-of-type {\n",
       "        vertical-align: middle;\n",
       "    }\n",
       "\n",
       "    .dataframe tbody tr th {\n",
       "        vertical-align: top;\n",
       "    }\n",
       "\n",
       "    .dataframe thead th {\n",
       "        text-align: right;\n",
       "    }\n",
       "</style>\n",
       "<table border=\"1\" class=\"dataframe\">\n",
       "  <thead>\n",
       "    <tr style=\"text-align: right;\">\n",
       "      <th></th>\n",
       "      <th>model_name</th>\n",
       "      <th>model</th>\n",
       "      <th>train_rmse</th>\n",
       "      <th>test_rmse</th>\n",
       "      <th>fit_time</th>\n",
       "      <th>test_time</th>\n",
       "    </tr>\n",
       "  </thead>\n",
       "  <tbody>\n",
       "    <tr>\n",
       "      <th>4</th>\n",
       "      <td>base_knn_baseline</td>\n",
       "      <td>knn_baseline</td>\n",
       "      <td>0.655359</td>\n",
       "      <td>0.882639</td>\n",
       "      <td>0.160189</td>\n",
       "      <td>1.926270</td>\n",
       "    </tr>\n",
       "    <tr>\n",
       "      <th>15</th>\n",
       "      <td>knn_als_tuned_1</td>\n",
       "      <td>knn_baseline</td>\n",
       "      <td>0.684323</td>\n",
       "      <td>0.872226</td>\n",
       "      <td>0.390730</td>\n",
       "      <td>4.714972</td>\n",
       "    </tr>\n",
       "    <tr>\n",
       "      <th>16</th>\n",
       "      <td>knn_sgd_tuned_1</td>\n",
       "      <td>knn_baseline</td>\n",
       "      <td>0.691578</td>\n",
       "      <td>0.909773</td>\n",
       "      <td>0.749931</td>\n",
       "      <td>4.241354</td>\n",
       "    </tr>\n",
       "    <tr>\n",
       "      <th>17</th>\n",
       "      <td>knn_als_tuned_2</td>\n",
       "      <td>knn_baseline</td>\n",
       "      <td>0.701165</td>\n",
       "      <td>0.870031</td>\n",
       "      <td>0.392658</td>\n",
       "      <td>4.737912</td>\n",
       "    </tr>\n",
       "    <tr>\n",
       "      <th>18</th>\n",
       "      <td>knn_als_tuned_3</td>\n",
       "      <td>knn_baseline</td>\n",
       "      <td>0.701315</td>\n",
       "      <td>0.863918</td>\n",
       "      <td>0.667222</td>\n",
       "      <td>4.990317</td>\n",
       "    </tr>\n",
       "    <tr>\n",
       "      <th>19</th>\n",
       "      <td>knn_als_tuned_4</td>\n",
       "      <td>knn_baseline</td>\n",
       "      <td>0.701389</td>\n",
       "      <td>0.864760</td>\n",
       "      <td>0.633972</td>\n",
       "      <td>5.162850</td>\n",
       "    </tr>\n",
       "    <tr>\n",
       "      <th>20</th>\n",
       "      <td>knn_als_tuned_5</td>\n",
       "      <td>knn_baseline</td>\n",
       "      <td>0.701122</td>\n",
       "      <td>0.863791</td>\n",
       "      <td>1.595689</td>\n",
       "      <td>3.787077</td>\n",
       "    </tr>\n",
       "  </tbody>\n",
       "</table>\n",
       "</div>"
      ],
      "text/plain": [
       "           model_name         model  train_rmse  test_rmse  fit_time  \\\n",
       "4   base_knn_baseline  knn_baseline    0.655359   0.882639  0.160189   \n",
       "15    knn_als_tuned_1  knn_baseline    0.684323   0.872226  0.390730   \n",
       "16    knn_sgd_tuned_1  knn_baseline    0.691578   0.909773  0.749931   \n",
       "17    knn_als_tuned_2  knn_baseline    0.701165   0.870031  0.392658   \n",
       "18    knn_als_tuned_3  knn_baseline    0.701315   0.863918  0.667222   \n",
       "19    knn_als_tuned_4  knn_baseline    0.701389   0.864760  0.633972   \n",
       "20    knn_als_tuned_5  knn_baseline    0.701122   0.863791  1.595689   \n",
       "\n",
       "    test_time  \n",
       "4    1.926270  \n",
       "15   4.714972  \n",
       "16   4.241354  \n",
       "17   4.737912  \n",
       "18   4.990317  \n",
       "19   5.162850  \n",
       "20   3.787077  "
      ]
     },
     "execution_count": 32,
     "metadata": {},
     "output_type": "execute_result"
    }
   ],
   "source": [
    "model_scores = pd.DataFrame(model_eval)\n",
    "model_scores[model_scores['model'] == 'knn_baseline']"
   ]
  },
  {
   "cell_type": "markdown",
   "id": "db501bbb",
   "metadata": {},
   "source": [
    "From this we can see that we have improved the `knn_baseline` model `test_rmse` performance by **0.0188**. This is a great improvement, however our best model so far is the `SVD` tuned model that we tuned before.<br>\n",
    "Let's move on to our final model we are going to tune from the surprise library, `SVD++`."
   ]
  },
  {
   "cell_type": "markdown",
   "id": "cf8685ad",
   "metadata": {},
   "source": [
    "---"
   ]
  },
  {
   "cell_type": "markdown",
   "id": "b71631db",
   "metadata": {},
   "source": [
    "## SVDpp Tuning"
   ]
  },
  {
   "cell_type": "markdown",
   "id": "c95e9167",
   "metadata": {},
   "source": [
    "When we ran the base models, our `SVD++` model took the longest time for fitting. **302s** to be exact. This was much longer than any of the other models. As such, let's first try out the hyperparamters that we have tuned for our `SVD` model, and see if we can use that to help us tune the `SVD++` model."
   ]
  },
  {
   "cell_type": "code",
   "execution_count": 498,
   "id": "6d0e9e71",
   "metadata": {},
   "outputs": [
    {
     "data": {
      "text/plain": [
       "{'rmse': {'n_factors': 80,\n",
       "  'n_epochs': 25,\n",
       "  'biased': True,\n",
       "  'lr_all': 0.014,\n",
       "  'reg_all': 0.075}}"
      ]
     },
     "execution_count": 498,
     "metadata": {},
     "output_type": "execute_result"
    }
   ],
   "source": [
    "svd_tuned_5.best_params"
   ]
  },
  {
   "cell_type": "code",
   "execution_count": 501,
   "id": "10e8773d",
   "metadata": {},
   "outputs": [],
   "source": [
    "svdpp_params = {'n_factors': [80], \n",
    "                'n_epochs': [25], \n",
    "                'lr_all': [0.014],\n",
    "                'reg_all': [0.075], \n",
    "                'init_mean': [0, 5, 10], \n",
    "                'init_std_dev': [0.05, 0.1, 0.2]\n",
    "               }"
   ]
  },
  {
   "cell_type": "code",
   "execution_count": 502,
   "id": "206c874c",
   "metadata": {},
   "outputs": [
    {
     "name": "stdout",
     "output_type": "stream",
     "text": [
      "27 fits have been completed.\n"
     ]
    }
   ],
   "source": [
    "svdpp_tuned_1 = tuned_model_scores('svdpp_tuned_1', \n",
    "                                   'svdpp', \n",
    "                                   mod_params=svdpp_params\n",
    "                                  )"
   ]
  },
  {
   "cell_type": "code",
   "execution_count": 503,
   "id": "26c4ab35",
   "metadata": {},
   "outputs": [
    {
     "data": {
      "text/plain": [
       "{'rmse': 0.8552280403135537}"
      ]
     },
     "execution_count": 503,
     "metadata": {},
     "output_type": "execute_result"
    }
   ],
   "source": [
    "svdpp_tuned_1.best_score"
   ]
  },
  {
   "cell_type": "code",
   "execution_count": 504,
   "id": "f3c130b6",
   "metadata": {},
   "outputs": [
    {
     "data": {
      "text/plain": [
       "{'rmse': {'n_factors': 80,\n",
       "  'n_epochs': 25,\n",
       "  'lr_all': 0.014,\n",
       "  'reg_all': 0.075,\n",
       "  'init_mean': 0,\n",
       "  'init_std_dev': 0.05}}"
      ]
     },
     "execution_count": 504,
     "metadata": {},
     "output_type": "execute_result"
    }
   ],
   "source": [
    "svdpp_tuned_1.best_params"
   ]
  },
  {
   "cell_type": "markdown",
   "id": "b1f50b96",
   "metadata": {},
   "source": [
    "This fit took a couple of hours, so let's just try one more tuning attempt. So far this is the best model we have with the lowest `test_rmse` score."
   ]
  },
  {
   "cell_type": "code",
   "execution_count": 507,
   "id": "adc7f435",
   "metadata": {},
   "outputs": [],
   "source": [
    "svdpp_params_V2 = {'n_factors': [80], \n",
    "                   'n_epochs': [25], \n",
    "                   'lr_all': [0.014], \n",
    "                   'reg_all': [0.075], \n",
    "                   'init_mean': [0], \n",
    "                   'init_std_dev': [0.01, 0.025, 0.05]\n",
    "                  }"
   ]
  },
  {
   "cell_type": "code",
   "execution_count": 508,
   "id": "9684419d",
   "metadata": {},
   "outputs": [
    {
     "name": "stdout",
     "output_type": "stream",
     "text": [
      "9 fits have been completed.\n"
     ]
    }
   ],
   "source": [
    "svdpp_tuned_2 = tuned_model_scores('svdpp_tuned_2', \n",
    "                                   'svdpp', \n",
    "                                   mod_params=svdpp_params_V2\n",
    "                                  )"
   ]
  },
  {
   "cell_type": "markdown",
   "id": "d8873bb0",
   "metadata": {},
   "source": [
    "Even the above 9 fits took close to 1 hour, the difficulty in tuning this model is to do with the time taken to tune it."
   ]
  },
  {
   "cell_type": "code",
   "execution_count": 509,
   "id": "61967b23",
   "metadata": {},
   "outputs": [
    {
     "data": {
      "text/plain": [
       "{'rmse': {'n_factors': 80,\n",
       "  'n_epochs': 25,\n",
       "  'lr_all': 0.014,\n",
       "  'reg_all': 0.075,\n",
       "  'init_mean': 0,\n",
       "  'init_std_dev': 0.025}}"
      ]
     },
     "execution_count": 509,
     "metadata": {},
     "output_type": "execute_result"
    }
   ],
   "source": [
    "svdpp_tuned_2.best_params"
   ]
  },
  {
   "cell_type": "code",
   "execution_count": 510,
   "id": "388a3da5",
   "metadata": {},
   "outputs": [
    {
     "data": {
      "text/plain": [
       "{'rmse': 0.853009224619437}"
      ]
     },
     "execution_count": 510,
     "metadata": {},
     "output_type": "execute_result"
    }
   ],
   "source": [
    "svdpp_tuned_2.best_score"
   ]
  },
  {
   "cell_type": "markdown",
   "id": "a91cbe87",
   "metadata": {},
   "source": [
    "Let's take a look at all the `SVD++` scores so far."
   ]
  },
  {
   "cell_type": "code",
   "execution_count": 29,
   "id": "90e1f6fa",
   "metadata": {},
   "outputs": [
    {
     "data": {
      "text/html": [
       "<div>\n",
       "<style scoped>\n",
       "    .dataframe tbody tr th:only-of-type {\n",
       "        vertical-align: middle;\n",
       "    }\n",
       "\n",
       "    .dataframe tbody tr th {\n",
       "        vertical-align: top;\n",
       "    }\n",
       "\n",
       "    .dataframe thead th {\n",
       "        text-align: right;\n",
       "    }\n",
       "</style>\n",
       "<table border=\"1\" class=\"dataframe\">\n",
       "  <thead>\n",
       "    <tr style=\"text-align: right;\">\n",
       "      <th></th>\n",
       "      <th>model_name</th>\n",
       "      <th>model</th>\n",
       "      <th>train_rmse</th>\n",
       "      <th>test_rmse</th>\n",
       "      <th>fit_time</th>\n",
       "      <th>test_time</th>\n",
       "    </tr>\n",
       "  </thead>\n",
       "  <tbody>\n",
       "    <tr>\n",
       "      <th>6</th>\n",
       "      <td>base_svdpp</td>\n",
       "      <td>svdpp</td>\n",
       "      <td>0.675951</td>\n",
       "      <td>0.866679</td>\n",
       "      <td>302.668346</td>\n",
       "      <td>6.992896</td>\n",
       "    </tr>\n",
       "    <tr>\n",
       "      <th>21</th>\n",
       "      <td>svdpp_tuned_1</td>\n",
       "      <td>svdpp</td>\n",
       "      <td>0.543026</td>\n",
       "      <td>0.855228</td>\n",
       "      <td>2312.054770</td>\n",
       "      <td>18.585806</td>\n",
       "    </tr>\n",
       "    <tr>\n",
       "      <th>22</th>\n",
       "      <td>svdpp_tuned_2</td>\n",
       "      <td>svdpp</td>\n",
       "      <td>0.613652</td>\n",
       "      <td>0.853009</td>\n",
       "      <td>1801.290747</td>\n",
       "      <td>14.459661</td>\n",
       "    </tr>\n",
       "  </tbody>\n",
       "</table>\n",
       "</div>"
      ],
      "text/plain": [
       "       model_name  model  train_rmse  test_rmse     fit_time  test_time\n",
       "6      base_svdpp  svdpp    0.675951   0.866679   302.668346   6.992896\n",
       "21  svdpp_tuned_1  svdpp    0.543026   0.855228  2312.054770  18.585806\n",
       "22  svdpp_tuned_2  svdpp    0.613652   0.853009  1801.290747  14.459661"
      ]
     },
     "execution_count": 29,
     "metadata": {},
     "output_type": "execute_result"
    }
   ],
   "source": [
    "model_scores = pd.DataFrame(model_eval)\n",
    "model_scores[model_scores['model'] == 'svdpp']"
   ]
  },
  {
   "cell_type": "markdown",
   "id": "e08df131",
   "metadata": {},
   "source": [
    "From this we can see that we managed to improve our based model `test_rmse` score by **0.0137**. Considering the amount of time taken for this model to be trained, we will stop here for the tuning of this model."
   ]
  },
  {
   "cell_type": "markdown",
   "id": "88119799",
   "metadata": {},
   "source": [
    "---"
   ]
  },
  {
   "cell_type": "markdown",
   "id": "53c1e590",
   "metadata": {},
   "source": [
    "# Best Model Selection"
   ]
  },
  {
   "cell_type": "markdown",
   "id": "162b9ef0",
   "metadata": {},
   "source": [
    "Now lets take a look at our three best models and compare the `test_rmse` scores."
   ]
  },
  {
   "cell_type": "code",
   "execution_count": 31,
   "id": "10700c56",
   "metadata": {},
   "outputs": [
    {
     "data": {
      "text/html": [
       "<div>\n",
       "<style scoped>\n",
       "    .dataframe tbody tr th:only-of-type {\n",
       "        vertical-align: middle;\n",
       "    }\n",
       "\n",
       "    .dataframe tbody tr th {\n",
       "        vertical-align: top;\n",
       "    }\n",
       "\n",
       "    .dataframe thead th {\n",
       "        text-align: right;\n",
       "    }\n",
       "</style>\n",
       "<table border=\"1\" class=\"dataframe\">\n",
       "  <thead>\n",
       "    <tr style=\"text-align: right;\">\n",
       "      <th></th>\n",
       "      <th>model_name</th>\n",
       "      <th>model</th>\n",
       "      <th>test_rmse</th>\n",
       "    </tr>\n",
       "  </thead>\n",
       "  <tbody>\n",
       "    <tr>\n",
       "      <th>14</th>\n",
       "      <td>svd_tuned_5</td>\n",
       "      <td>svd</td>\n",
       "      <td>0.861169</td>\n",
       "    </tr>\n",
       "    <tr>\n",
       "      <th>20</th>\n",
       "      <td>knn_als_tuned_5</td>\n",
       "      <td>knn_baseline</td>\n",
       "      <td>0.863791</td>\n",
       "    </tr>\n",
       "    <tr>\n",
       "      <th>22</th>\n",
       "      <td>svdpp_tuned_2</td>\n",
       "      <td>svdpp</td>\n",
       "      <td>0.853009</td>\n",
       "    </tr>\n",
       "  </tbody>\n",
       "</table>\n",
       "</div>"
      ],
      "text/plain": [
       "         model_name         model  test_rmse\n",
       "14      svd_tuned_5           svd   0.861169\n",
       "20  knn_als_tuned_5  knn_baseline   0.863791\n",
       "22    svdpp_tuned_2         svdpp   0.853009"
      ]
     },
     "execution_count": 31,
     "metadata": {},
     "output_type": "execute_result"
    }
   ],
   "source": [
    "model_scores.loc[[14, 20, 22],['model_name', 'model', 'test_rmse']]"
   ]
  },
  {
   "cell_type": "markdown",
   "id": "a45a6630",
   "metadata": {},
   "source": [
    "From the above table, we can see that our best model is indeed the `SVD++` model with a `test_rmse` of **0.853**. Interpreting this with reference to our dataset, this means that our model is likely to predict a rating for a movie for a specific user within a range of plus-minus **17%** of the actual rating. <br>\n",
    "\n",
    "Let's take a closer look at our best model and conduct some error analysis on our model."
   ]
  },
  {
   "cell_type": "markdown",
   "id": "86cd293d",
   "metadata": {},
   "source": [
    "---"
   ]
  },
  {
   "cell_type": "markdown",
   "id": "4ccf51d3",
   "metadata": {},
   "source": [
    "We will Re-read in out data, and fit a new model with our best params for the error analysis."
   ]
  },
  {
   "cell_type": "code",
   "execution_count": 8,
   "id": "ba0711c0",
   "metadata": {},
   "outputs": [],
   "source": [
    "# we will use the min and max ratings observed from our data\n",
    "reader = Reader(rating_scale=(min(df['rating']), max(df['rating'])))\n",
    "data = Dataset.load_from_df(df[['userId', 'movieId', 'rating']], reader)"
   ]
  },
  {
   "cell_type": "code",
   "execution_count": 9,
   "id": "f9b1c25a",
   "metadata": {},
   "outputs": [],
   "source": [
    "# train test split on the dataset\n",
    "trainset, testset = train_test_split(data,\n",
    "                                    test_size=0.2,\n",
    "                                    random_state=42\n",
    "                                    )"
   ]
  },
  {
   "cell_type": "markdown",
   "id": "eb9d271e",
   "metadata": {},
   "source": [
    "We will define all the parameters of the `SVDpp` model as per the best params that we saw earlier."
   ]
  },
  {
   "cell_type": "code",
   "execution_count": 13,
   "id": "39cd918c",
   "metadata": {},
   "outputs": [],
   "source": [
    "# defining our best model\n",
    "algo_best_model = SVDpp(n_factors=80, \n",
    "                        n_epochs=25, \n",
    "                        lr_all=0.014, \n",
    "                        reg_all=0.075, \n",
    "                        init_mean=0, \n",
    "                        init_std_dev=0.025, \n",
    "                        verbose=False\n",
    "                       )"
   ]
  },
  {
   "cell_type": "markdown",
   "id": "0509550b",
   "metadata": {},
   "source": [
    "We will use the `%%time` method to check how long our model takes to output the predictions. As one of our criteria is a threshold of 3 seconds, we will need to check this."
   ]
  },
  {
   "cell_type": "code",
   "execution_count": 14,
   "id": "ea6b8ec9",
   "metadata": {},
   "outputs": [
    {
     "name": "stdout",
     "output_type": "stream",
     "text": [
      "Wall time: 21min 43s\n"
     ]
    },
    {
     "data": {
      "text/plain": [
       "<surprise.prediction_algorithms.matrix_factorization.SVDpp at 0x1bc74fca1f0>"
      ]
     },
     "execution_count": 14,
     "metadata": {},
     "output_type": "execute_result"
    }
   ],
   "source": [
    "# %% time will output the time taken for this cell to execute\n",
    "%%time\n",
    "\n",
    "# fit the model on the trainset\n",
    "algo_best_model.fit(trainset);"
   ]
  },
  {
   "cell_type": "code",
   "execution_count": 22,
   "id": "999eb893",
   "metadata": {},
   "outputs": [
    {
     "name": "stdout",
     "output_type": "stream",
     "text": [
      "Wall time: 5.26 s\n"
     ]
    }
   ],
   "source": [
    "# %% time will output the time taken for this cell to execute\n",
    "%%time\n",
    "\n",
    "# generate the predictions for SVDpp model\n",
    "predictions_best_model = algo_best_model.test(testset)"
   ]
  },
  {
   "cell_type": "code",
   "execution_count": 16,
   "id": "f6baa3d1",
   "metadata": {},
   "outputs": [
    {
     "name": "stdout",
     "output_type": "stream",
     "text": [
      "RMSE: 0.8442\n",
      "Wall time: 27.9 ms\n"
     ]
    },
    {
     "data": {
      "text/plain": [
       "0.8442193432294534"
      ]
     },
     "execution_count": 16,
     "metadata": {},
     "output_type": "execute_result"
    }
   ],
   "source": [
    "# %% time will output the time taken for this cell to execute\n",
    "%%time\n",
    "\n",
    "# calculate the rmse score\n",
    "rmse(predictions_best_model)"
   ]
  },
  {
   "cell_type": "markdown",
   "id": "f9948b1e",
   "metadata": {},
   "source": [
    "Here we can see that the `rmse` is even better than when we were tuning. However the predictions took about **5.2 seconds** to generate. \n",
    "\n",
    "From the external research during our EDA, we found that loading times can differentiate the success of the webpage or app. The benchmark for us, to have a measure of success is **3 seconds**, and after running the predictions cell a couple of times, the lowest time I got was about **5.21s**. Due to a longer prediction time, this model may not be the best model when it comes to movie recommendations. Most users will just switch to another app where the predictions may occur faster.\n",
    "\n",
    "Let's test out how long the `SVD` model *(our 2nd best model)* takes to create predictions."
   ]
  },
  {
   "cell_type": "markdown",
   "id": "c248b06b",
   "metadata": {},
   "source": [
    "We will instantiate our `SVD` model with the best params that we found for that model."
   ]
  },
  {
   "cell_type": "code",
   "execution_count": 17,
   "id": "a6791a6c",
   "metadata": {},
   "outputs": [],
   "source": [
    "# instantiate SVD with best params\n",
    "algo_2nd_best = SVD(n_factors=80,\n",
    "                    n_epochs=25, \n",
    "                    biased=True,\n",
    "                    lr_all=0.014,\n",
    "                    reg_all=0.075,\n",
    "                    verbose=False\n",
    "                   )"
   ]
  },
  {
   "cell_type": "code",
   "execution_count": 18,
   "id": "8e285b57",
   "metadata": {},
   "outputs": [
    {
     "name": "stdout",
     "output_type": "stream",
     "text": [
      "Wall time: 3.53 s\n"
     ]
    },
    {
     "data": {
      "text/plain": [
       "<surprise.prediction_algorithms.matrix_factorization.SVD at 0x1bc6f9491f0>"
      ]
     },
     "execution_count": 18,
     "metadata": {},
     "output_type": "execute_result"
    }
   ],
   "source": [
    "# %% time will output the time taken for this cell to execute\n",
    "%%time\n",
    "\n",
    "# fit the model on the trainset\n",
    "algo_2nd_best.fit(trainset);"
   ]
  },
  {
   "cell_type": "code",
   "execution_count": 19,
   "id": "cc219834",
   "metadata": {},
   "outputs": [
    {
     "name": "stdout",
     "output_type": "stream",
     "text": [
      "Wall time: 177 ms\n"
     ]
    }
   ],
   "source": [
    "# %% time will output the time taken for this cell to execute\n",
    "%%time\n",
    "\n",
    "# generate the predictions for SVD model\n",
    "predictions_2nd_best = algo_2nd_best.test(testset)"
   ]
  },
  {
   "cell_type": "code",
   "execution_count": 20,
   "id": "ce8e9fac",
   "metadata": {},
   "outputs": [
    {
     "name": "stdout",
     "output_type": "stream",
     "text": [
      "RMSE: 0.8533\n",
      "Wall time: 14.9 ms\n"
     ]
    },
    {
     "data": {
      "text/plain": [
       "0.8533256808314602"
      ]
     },
     "execution_count": 20,
     "metadata": {},
     "output_type": "execute_result"
    }
   ],
   "source": [
    "# %% time will output the time taken for this cell to execute\n",
    "%%time\n",
    "\n",
    "# calculate the rmse score\n",
    "rmse(predictions_2nd_best)"
   ]
  },
  {
   "cell_type": "markdown",
   "id": "57c64a24",
   "metadata": {},
   "source": [
    "The `rmse` score of the `SVD` model is **0.8533**, compared to the score of **0.8442** for the `SVDpp` model. However the time taken to generate predictions via the `SVD` model is only 177ms. This is only **3.7%** of the time taken for the `SVDpp` model. In this case, I believe it makes the most sense for us to accept the `SVD` model as our best model, taking into accound the prediction load times."
   ]
  },
  {
   "cell_type": "markdown",
   "id": "fc06f97d",
   "metadata": {},
   "source": [
    "## The SVD Model"
   ]
  },
  {
   "cell_type": "markdown",
   "id": "cc82392f",
   "metadata": {},
   "source": [
    "## So what is the `SVD` model? \n",
    "\n",
    "At a high level, the Singular Value Decomposition(SVD) is an algorithm that decomposes a matrix A into two low rank matrix approximations.\n",
    "\n",
    "![svd](images/matrix_factorization.png)"
   ]
  },
  {
   "cell_type": "markdown",
   "id": "153d7455",
   "metadata": {},
   "source": [
    "The columns `k` in the user matrix, as well as the columns `k` in the items matrix are latent factors that this method identifies. Thankfully for us, the `SurPRISE` library does all the heavy lifting for us behind the scenes and allows us to use simple `fit` methods."
   ]
  },
  {
   "cell_type": "markdown",
   "id": "76c0e314",
   "metadata": {},
   "source": [
    "The model calculates the rating for users with the following formula: \n",
    "![svd_formula](images/svd_formula2.png)"
   ]
  },
  {
   "cell_type": "markdown",
   "id": "a63a1836",
   "metadata": {},
   "source": [
    "This approach was made popular during the Netflix Prize competition, by [Simon Funk](https://sifter.org/~simon/journal/20061211.html). Afterwhich the `SurPRISE` library was built and is currently maintained by [Nicolas Hug](http://nicolas-hug.com/)."
   ]
  },
  {
   "cell_type": "markdown",
   "id": "00e4cf63",
   "metadata": {},
   "source": [
    "Now that we know all this information, let's evaluate our best model."
   ]
  },
  {
   "cell_type": "markdown",
   "id": "0b77f737",
   "metadata": {},
   "source": [
    "---"
   ]
  },
  {
   "cell_type": "markdown",
   "id": "62be1337",
   "metadata": {},
   "source": [
    "# Best Model Evaluation"
   ]
  },
  {
   "cell_type": "markdown",
   "id": "bc8e8e0f",
   "metadata": {},
   "source": [
    "Now that we have our best model, we will evaluate it. Let's start by creating a custom function that gives us recommended movies for a `userId`. This custom function is written with the help of the documentation in the surprise library."
   ]
  },
  {
   "cell_type": "markdown",
   "id": "dd2ee86e",
   "metadata": {},
   "source": [
    "## Get top n Predictions"
   ]
  },
  {
   "cell_type": "code",
   "execution_count": 229,
   "id": "4e388789",
   "metadata": {},
   "outputs": [],
   "source": [
    "def get_top_n_userId(uid, predictions, n=10):\n",
    "    \"\"\"Return the top-N recommendation for a specific user from a set of \n",
    "    predictions.\n",
    "\n",
    "    Args:\n",
    "        userId(int): a specific userId e.g. 42.\n",
    "        \n",
    "        predictions(list of Prediction objects): The list of predictions, \n",
    "        asreturned by the test method of an algorithm.\n",
    "        \n",
    "        n(int): The number of recommendation to output this userId.\n",
    "        Default is 10.\n",
    "\n",
    "    Returns:\n",
    "    A DataFrame where keys are user (raw) ids and values are lists of tuples:\n",
    "        [(raw item id, rating estimation), ...] of size n.\n",
    "    \"\"\"\n",
    "    \n",
    "    def get_top_n(predictions, n):\n",
    "        \"\"\"Return the top-N recommendation for each user from a set of predictions.\n",
    "\n",
    "        Args:\n",
    "            predictions(list of Prediction objects): The list of predictions, as\n",
    "                returned by the test method of an algorithm.\n",
    "            n(int): The number of recommendation to output for each user. Default\n",
    "                is 10.\n",
    "\n",
    "        Returns:\n",
    "        A dict where keys are user (raw) ids and values are lists of tuples:\n",
    "            [(raw item id, rating estimation), ...] of size n.\n",
    "        \"\"\"\n",
    "\n",
    "        # First map the predictions to each user.\n",
    "        top_n = defaultdict(list)\n",
    "        for userId, movieId, user_rating, pred_rating, _ in predictions:\n",
    "            top_n[userId].append((movieId, pred_rating))\n",
    "\n",
    "        # Then sort the predictions for each user and retrieve the k highest ones.\n",
    "        for userId, user_ratings in top_n.items():\n",
    "            user_ratings.sort(key=lambda x: x[1], reverse=True)\n",
    "            top_n[userId] = user_ratings[:n]\n",
    "\n",
    "        return top_n\n",
    "    \n",
    "    userId = uid\n",
    "    predictions = predictions\n",
    "    n = n\n",
    "    user_recommendations = pd.DataFrame(columns=['userId', \n",
    "                                                 'movieId', \n",
    "                                                 'title', \n",
    "                                                 'genres'])\n",
    "    # if statement to check if existing or new user\n",
    "    if userId in df['userId'].unique():    \n",
    "    \n",
    "        top_n = get_top_n(predictions, n)\n",
    "\n",
    "        # Print the recommended items for each user\n",
    "        for uId, user_ratings in top_n.items():\n",
    "            if uId == userId:\n",
    "                user_recommendations['movieId'] = [movieId for (movieId, _) in user_ratings]\n",
    "\n",
    "\n",
    "        user_recommendations['userId'] = user_recommendations['movieId'].map(\n",
    "                                            lambda x: userId)\n",
    "        user_recommendations['title'] = user_recommendations['movieId'].map(\n",
    "                                        lambda x: movie_df.loc[movie_df['movieId'] == x,\n",
    "                                                               'title'].values[0])\n",
    "\n",
    "        user_recommendations['genres'] = user_recommendations['movieId'].map(\n",
    "                                        lambda x: movie_df.loc[movie_df['movieId'] == x,\n",
    "                                                               'genres'].values[0])\n",
    "        return user_recommendations\n",
    "    \n",
    "    # since new user, return top n most popular movies\n",
    "    else:\n",
    "        most_popular_movies = movie_ratings[['title', \n",
    "                                             'movieId', \n",
    "                                             'genres',\n",
    "                                             'mean_rating', \n",
    "                                             'times_rated']].\\\n",
    "        sort_values(by=['times_rated', \n",
    "                        'mean_rating',], \n",
    "                    ascending=False).head(n)\n",
    "        \n",
    "        # obtain values for each column from the most popular DataFrame\n",
    "        user_recommendations['movieId'] = most_popular_movies['movieId']\n",
    "        user_recommendations['title'] = most_popular_movies['title']\n",
    "        user_recommendations['genres'] = most_popular_movies['genres']\n",
    "        user_recommendations['userId'] = int(userId)\n",
    "        \n",
    "        return user_recommendations        "
   ]
  },
  {
   "cell_type": "code",
   "execution_count": 223,
   "id": "7772b5ea",
   "metadata": {},
   "outputs": [
    {
     "name": "stdout",
     "output_type": "stream",
     "text": [
      "Wall time: 25.9 ms\n"
     ]
    },
    {
     "data": {
      "text/html": [
       "<div>\n",
       "<style scoped>\n",
       "    .dataframe tbody tr th:only-of-type {\n",
       "        vertical-align: middle;\n",
       "    }\n",
       "\n",
       "    .dataframe tbody tr th {\n",
       "        vertical-align: top;\n",
       "    }\n",
       "\n",
       "    .dataframe thead th {\n",
       "        text-align: right;\n",
       "    }\n",
       "</style>\n",
       "<table border=\"1\" class=\"dataframe\">\n",
       "  <thead>\n",
       "    <tr style=\"text-align: right;\">\n",
       "      <th></th>\n",
       "      <th>userId</th>\n",
       "      <th>movieId</th>\n",
       "      <th>title</th>\n",
       "      <th>genres</th>\n",
       "    </tr>\n",
       "  </thead>\n",
       "  <tbody>\n",
       "    <tr>\n",
       "      <th>0</th>\n",
       "      <td>342</td>\n",
       "      <td>1198</td>\n",
       "      <td>Raiders of the Lost Ark (Indiana Jones and the...</td>\n",
       "      <td>Action Adventure</td>\n",
       "    </tr>\n",
       "    <tr>\n",
       "      <th>1</th>\n",
       "      <td>342</td>\n",
       "      <td>1959</td>\n",
       "      <td>Out of Africa (1985)</td>\n",
       "      <td>Drama Romance</td>\n",
       "    </tr>\n",
       "    <tr>\n",
       "      <th>2</th>\n",
       "      <td>342</td>\n",
       "      <td>2093</td>\n",
       "      <td>Return to Oz (1985)</td>\n",
       "      <td>Adventure Children Fantasy</td>\n",
       "    </tr>\n",
       "    <tr>\n",
       "      <th>3</th>\n",
       "      <td>342</td>\n",
       "      <td>2861</td>\n",
       "      <td>For Love of the Game (1999)</td>\n",
       "      <td>Comedy Drama</td>\n",
       "    </tr>\n",
       "    <tr>\n",
       "      <th>4</th>\n",
       "      <td>342</td>\n",
       "      <td>2881</td>\n",
       "      <td>Double Jeopardy (1999)</td>\n",
       "      <td>Action Crime Drama Thriller</td>\n",
       "    </tr>\n",
       "    <tr>\n",
       "      <th>5</th>\n",
       "      <td>342</td>\n",
       "      <td>2676</td>\n",
       "      <td>Instinct (1999)</td>\n",
       "      <td>Drama Thriller</td>\n",
       "    </tr>\n",
       "    <tr>\n",
       "      <th>6</th>\n",
       "      <td>342</td>\n",
       "      <td>2805</td>\n",
       "      <td>Mickey Blue Eyes (1999)</td>\n",
       "      <td>Comedy Romance</td>\n",
       "    </tr>\n",
       "    <tr>\n",
       "      <th>7</th>\n",
       "      <td>342</td>\n",
       "      <td>2901</td>\n",
       "      <td>Phantasm (1979)</td>\n",
       "      <td>Horror Sci-Fi</td>\n",
       "    </tr>\n",
       "    <tr>\n",
       "      <th>8</th>\n",
       "      <td>342</td>\n",
       "      <td>2723</td>\n",
       "      <td>Mystery Men (1999)</td>\n",
       "      <td>Action Comedy Fantasy</td>\n",
       "    </tr>\n",
       "    <tr>\n",
       "      <th>9</th>\n",
       "      <td>342</td>\n",
       "      <td>3754</td>\n",
       "      <td>Adventures of Rocky and Bullwinkle, The (2000)</td>\n",
       "      <td>Adventure Animation Children Comedy Fantasy</td>\n",
       "    </tr>\n",
       "  </tbody>\n",
       "</table>\n",
       "</div>"
      ],
      "text/plain": [
       "   userId  movieId                                              title  \\\n",
       "0     342     1198  Raiders of the Lost Ark (Indiana Jones and the...   \n",
       "1     342     1959                               Out of Africa (1985)   \n",
       "2     342     2093                                Return to Oz (1985)   \n",
       "3     342     2861                        For Love of the Game (1999)   \n",
       "4     342     2881                             Double Jeopardy (1999)   \n",
       "5     342     2676                                    Instinct (1999)   \n",
       "6     342     2805                            Mickey Blue Eyes (1999)   \n",
       "7     342     2901                                    Phantasm (1979)   \n",
       "8     342     2723                                 Mystery Men (1999)   \n",
       "9     342     3754     Adventures of Rocky and Bullwinkle, The (2000)   \n",
       "\n",
       "                                        genres  \n",
       "0                             Action Adventure  \n",
       "1                                Drama Romance  \n",
       "2                   Adventure Children Fantasy  \n",
       "3                                 Comedy Drama  \n",
       "4                  Action Crime Drama Thriller  \n",
       "5                               Drama Thriller  \n",
       "6                               Comedy Romance  \n",
       "7                                Horror Sci-Fi  \n",
       "8                        Action Comedy Fantasy  \n",
       "9  Adventure Animation Children Comedy Fantasy  "
      ]
     },
     "execution_count": 223,
     "metadata": {},
     "output_type": "execute_result"
    }
   ],
   "source": [
    "%%time\n",
    "get_top_n_userId(342, predictions_2nd_best, n=10)"
   ]
  },
  {
   "cell_type": "code",
   "execution_count": 232,
   "id": "2617abcf",
   "metadata": {},
   "outputs": [
    {
     "data": {
      "text/html": [
       "<div>\n",
       "<style scoped>\n",
       "    .dataframe tbody tr th:only-of-type {\n",
       "        vertical-align: middle;\n",
       "    }\n",
       "\n",
       "    .dataframe tbody tr th {\n",
       "        vertical-align: top;\n",
       "    }\n",
       "\n",
       "    .dataframe thead th {\n",
       "        text-align: right;\n",
       "    }\n",
       "</style>\n",
       "<table border=\"1\" class=\"dataframe\">\n",
       "  <thead>\n",
       "    <tr style=\"text-align: right;\">\n",
       "      <th></th>\n",
       "      <th>userId</th>\n",
       "      <th>movieId</th>\n",
       "      <th>rating</th>\n",
       "      <th>timestamp</th>\n",
       "      <th>title</th>\n",
       "      <th>genres</th>\n",
       "    </tr>\n",
       "  </thead>\n",
       "  <tbody>\n",
       "    <tr>\n",
       "      <th>1318</th>\n",
       "      <td>342</td>\n",
       "      <td>223</td>\n",
       "      <td>5.0</td>\n",
       "      <td>1042821962</td>\n",
       "      <td>Clerks (1994)</td>\n",
       "      <td>Comedy</td>\n",
       "    </tr>\n",
       "    <tr>\n",
       "      <th>65914</th>\n",
       "      <td>342</td>\n",
       "      <td>5014</td>\n",
       "      <td>5.0</td>\n",
       "      <td>1042821231</td>\n",
       "      <td>I Am Sam (2001)</td>\n",
       "      <td>Drama</td>\n",
       "    </tr>\n",
       "    <tr>\n",
       "      <th>83186</th>\n",
       "      <td>342</td>\n",
       "      <td>2881</td>\n",
       "      <td>4.0</td>\n",
       "      <td>1042821991</td>\n",
       "      <td>Double Jeopardy (1999)</td>\n",
       "      <td>Action Crime Drama Thriller</td>\n",
       "    </tr>\n",
       "    <tr>\n",
       "      <th>63239</th>\n",
       "      <td>342</td>\n",
       "      <td>3219</td>\n",
       "      <td>4.0</td>\n",
       "      <td>1042822170</td>\n",
       "      <td>Pacific Heights (1990)</td>\n",
       "      <td>Mystery Thriller</td>\n",
       "    </tr>\n",
       "    <tr>\n",
       "      <th>64185</th>\n",
       "      <td>342</td>\n",
       "      <td>3752</td>\n",
       "      <td>4.0</td>\n",
       "      <td>1042822111</td>\n",
       "      <td>Me, Myself &amp; Irene (2000)</td>\n",
       "      <td>Adventure Comedy</td>\n",
       "    </tr>\n",
       "    <tr>\n",
       "      <th>61581</th>\n",
       "      <td>342</td>\n",
       "      <td>2355</td>\n",
       "      <td>4.0</td>\n",
       "      <td>1042821962</td>\n",
       "      <td>Bug's Life, A (1998)</td>\n",
       "      <td>Adventure Animation Children Comedy</td>\n",
       "    </tr>\n",
       "    <tr>\n",
       "      <th>52468</th>\n",
       "      <td>342</td>\n",
       "      <td>2706</td>\n",
       "      <td>4.0</td>\n",
       "      <td>1042821871</td>\n",
       "      <td>American Pie (1999)</td>\n",
       "      <td>Comedy Romance</td>\n",
       "    </tr>\n",
       "    <tr>\n",
       "      <th>49676</th>\n",
       "      <td>342</td>\n",
       "      <td>3174</td>\n",
       "      <td>4.0</td>\n",
       "      <td>1042822111</td>\n",
       "      <td>Man on the Moon (1999)</td>\n",
       "      <td>Comedy Drama</td>\n",
       "    </tr>\n",
       "    <tr>\n",
       "      <th>45027</th>\n",
       "      <td>342</td>\n",
       "      <td>3863</td>\n",
       "      <td>4.0</td>\n",
       "      <td>1042821962</td>\n",
       "      <td>Cell, The (2000)</td>\n",
       "      <td>Drama Horror Thriller</td>\n",
       "    </tr>\n",
       "    <tr>\n",
       "      <th>76883</th>\n",
       "      <td>342</td>\n",
       "      <td>3298</td>\n",
       "      <td>4.0</td>\n",
       "      <td>1042821919</td>\n",
       "      <td>Boiler Room (2000)</td>\n",
       "      <td>Crime Drama Thriller</td>\n",
       "    </tr>\n",
       "  </tbody>\n",
       "</table>\n",
       "</div>"
      ],
      "text/plain": [
       "       userId  movieId  rating   timestamp                      title  \\\n",
       "1318      342      223     5.0  1042821962              Clerks (1994)   \n",
       "65914     342     5014     5.0  1042821231            I Am Sam (2001)   \n",
       "83186     342     2881     4.0  1042821991     Double Jeopardy (1999)   \n",
       "63239     342     3219     4.0  1042822170     Pacific Heights (1990)   \n",
       "64185     342     3752     4.0  1042822111  Me, Myself & Irene (2000)   \n",
       "61581     342     2355     4.0  1042821962       Bug's Life, A (1998)   \n",
       "52468     342     2706     4.0  1042821871        American Pie (1999)   \n",
       "49676     342     3174     4.0  1042822111     Man on the Moon (1999)   \n",
       "45027     342     3863     4.0  1042821962           Cell, The (2000)   \n",
       "76883     342     3298     4.0  1042821919         Boiler Room (2000)   \n",
       "\n",
       "                                    genres  \n",
       "1318                                Comedy  \n",
       "65914                                Drama  \n",
       "83186          Action Crime Drama Thriller  \n",
       "63239                     Mystery Thriller  \n",
       "64185                     Adventure Comedy  \n",
       "61581  Adventure Animation Children Comedy  \n",
       "52468                       Comedy Romance  \n",
       "49676                         Comedy Drama  \n",
       "45027                Drama Horror Thriller  \n",
       "76883                 Crime Drama Thriller  "
      ]
     },
     "execution_count": 232,
     "metadata": {},
     "output_type": "execute_result"
    }
   ],
   "source": [
    "df[df['userId'] == 342].sort_values('rating', ascending=False).head(10)"
   ]
  },
  {
   "cell_type": "markdown",
   "id": "b0345009",
   "metadata": {},
   "source": [
    "From the above two tables, we can see that our `SVD` model has done a good job of recommending top movies that have similar movie genres to the one the `userId` 342 has already watched. This means that the matrix factorization features as able to \"pick up\" on the underlying tastes and preferences of the user even though we did not pass in the genre of the movie as a feature."
   ]
  },
  {
   "cell_type": "markdown",
   "id": "ad190052",
   "metadata": {},
   "source": [
    "However what about recommending titles to a user that doesn't exist in our original dataset? In other words a **new user**? Let's try:"
   ]
  },
  {
   "cell_type": "code",
   "execution_count": 230,
   "id": "7173a7b6",
   "metadata": {},
   "outputs": [
    {
     "name": "stdout",
     "output_type": "stream",
     "text": [
      "1310\n",
      "Wall time: 9.93 ms\n"
     ]
    },
    {
     "data": {
      "text/html": [
       "<div>\n",
       "<style scoped>\n",
       "    .dataframe tbody tr th:only-of-type {\n",
       "        vertical-align: middle;\n",
       "    }\n",
       "\n",
       "    .dataframe tbody tr th {\n",
       "        vertical-align: top;\n",
       "    }\n",
       "\n",
       "    .dataframe thead th {\n",
       "        text-align: right;\n",
       "    }\n",
       "</style>\n",
       "<table border=\"1\" class=\"dataframe\">\n",
       "  <thead>\n",
       "    <tr style=\"text-align: right;\">\n",
       "      <th></th>\n",
       "      <th>userId</th>\n",
       "      <th>movieId</th>\n",
       "      <th>title</th>\n",
       "      <th>genres</th>\n",
       "    </tr>\n",
       "  </thead>\n",
       "  <tbody>\n",
       "    <tr>\n",
       "      <th>314</th>\n",
       "      <td>1310</td>\n",
       "      <td>356</td>\n",
       "      <td>Forrest Gump (1994)</td>\n",
       "      <td>Comedy Drama Romance War</td>\n",
       "    </tr>\n",
       "    <tr>\n",
       "      <th>277</th>\n",
       "      <td>1310</td>\n",
       "      <td>318</td>\n",
       "      <td>Shawshank Redemption, The (1994)</td>\n",
       "      <td>Crime Drama</td>\n",
       "    </tr>\n",
       "    <tr>\n",
       "      <th>257</th>\n",
       "      <td>1310</td>\n",
       "      <td>296</td>\n",
       "      <td>Pulp Fiction (1994)</td>\n",
       "      <td>Comedy Crime Drama Thriller</td>\n",
       "    </tr>\n",
       "    <tr>\n",
       "      <th>510</th>\n",
       "      <td>1310</td>\n",
       "      <td>593</td>\n",
       "      <td>Silence of the Lambs, The (1991)</td>\n",
       "      <td>Crime Horror Thriller</td>\n",
       "    </tr>\n",
       "    <tr>\n",
       "      <th>1939</th>\n",
       "      <td>1310</td>\n",
       "      <td>2571</td>\n",
       "      <td>Matrix, The (1999)</td>\n",
       "      <td>Action Sci-Fi Thriller</td>\n",
       "    </tr>\n",
       "    <tr>\n",
       "      <th>224</th>\n",
       "      <td>1310</td>\n",
       "      <td>260</td>\n",
       "      <td>Star Wars: Episode IV - A New Hope (1977)</td>\n",
       "      <td>Action Adventure Sci-Fi</td>\n",
       "    </tr>\n",
       "    <tr>\n",
       "      <th>418</th>\n",
       "      <td>1310</td>\n",
       "      <td>480</td>\n",
       "      <td>Jurassic Park (1993)</td>\n",
       "      <td>Action Adventure Sci-Fi Thriller</td>\n",
       "    </tr>\n",
       "    <tr>\n",
       "      <th>97</th>\n",
       "      <td>1310</td>\n",
       "      <td>110</td>\n",
       "      <td>Braveheart (1995)</td>\n",
       "      <td>Action Drama War</td>\n",
       "    </tr>\n",
       "    <tr>\n",
       "      <th>507</th>\n",
       "      <td>1310</td>\n",
       "      <td>589</td>\n",
       "      <td>Terminator 2: Judgment Day (1991)</td>\n",
       "      <td>Action Sci-Fi</td>\n",
       "    </tr>\n",
       "    <tr>\n",
       "      <th>461</th>\n",
       "      <td>1310</td>\n",
       "      <td>527</td>\n",
       "      <td>Schindler's List (1993)</td>\n",
       "      <td>Drama War</td>\n",
       "    </tr>\n",
       "  </tbody>\n",
       "</table>\n",
       "</div>"
      ],
      "text/plain": [
       "      userId  movieId                                      title  \\\n",
       "314     1310      356                        Forrest Gump (1994)   \n",
       "277     1310      318           Shawshank Redemption, The (1994)   \n",
       "257     1310      296                        Pulp Fiction (1994)   \n",
       "510     1310      593           Silence of the Lambs, The (1991)   \n",
       "1939    1310     2571                         Matrix, The (1999)   \n",
       "224     1310      260  Star Wars: Episode IV - A New Hope (1977)   \n",
       "418     1310      480                       Jurassic Park (1993)   \n",
       "97      1310      110                          Braveheart (1995)   \n",
       "507     1310      589          Terminator 2: Judgment Day (1991)   \n",
       "461     1310      527                    Schindler's List (1993)   \n",
       "\n",
       "                                genres  \n",
       "314           Comedy Drama Romance War  \n",
       "277                        Crime Drama  \n",
       "257        Comedy Crime Drama Thriller  \n",
       "510              Crime Horror Thriller  \n",
       "1939            Action Sci-Fi Thriller  \n",
       "224            Action Adventure Sci-Fi  \n",
       "418   Action Adventure Sci-Fi Thriller  \n",
       "97                    Action Drama War  \n",
       "507                      Action Sci-Fi  \n",
       "461                          Drama War  "
      ]
     },
     "execution_count": 230,
     "metadata": {},
     "output_type": "execute_result"
    }
   ],
   "source": [
    "%%time\n",
    "get_top_n_userId(1310, predictions_2nd_best, n=10)"
   ]
  },
  {
   "cell_type": "markdown",
   "id": "2a8cddcc",
   "metadata": {},
   "source": [
    "In the custom function, I have added a portion of code that checks if the user is a new user, then the top n recommendations returned are the top n popular movies, sorted by the number of times watched, and then sorted by the user rating. \n",
    "\n",
    "This allows us to resolve the cold start problem of the SVD model method, however the recommendations will **not** be personalized"
   ]
  },
  {
   "cell_type": "markdown",
   "id": "f3464d81",
   "metadata": {},
   "source": [
    "---"
   ]
  },
  {
   "cell_type": "markdown",
   "id": "bb1c228b",
   "metadata": {},
   "source": [
    "## Error Analysis"
   ]
  },
  {
   "cell_type": "markdown",
   "id": "52efd556",
   "metadata": {},
   "source": [
    "Now let's conduct a deeper error analysis on our predictions itself."
   ]
  },
  {
   "cell_type": "code",
   "execution_count": 115,
   "id": "4289fff6",
   "metadata": {},
   "outputs": [],
   "source": [
    "# converting our predictions to a dataframe\n",
    "pred_df = pd.DataFrame(predictions_2nd_best,\n",
    "                       columns=['userId', 'movieId', \n",
    "                                'user_rating', 'pred_rating',\n",
    "                                'details']\n",
    "                      )\n",
    "pred_df.drop(columns=['details'], inplace=True)"
   ]
  },
  {
   "cell_type": "code",
   "execution_count": 116,
   "id": "d53ead64",
   "metadata": {},
   "outputs": [
    {
     "data": {
      "text/html": [
       "<div>\n",
       "<style scoped>\n",
       "    .dataframe tbody tr th:only-of-type {\n",
       "        vertical-align: middle;\n",
       "    }\n",
       "\n",
       "    .dataframe tbody tr th {\n",
       "        vertical-align: top;\n",
       "    }\n",
       "\n",
       "    .dataframe thead th {\n",
       "        text-align: right;\n",
       "    }\n",
       "</style>\n",
       "<table border=\"1\" class=\"dataframe\">\n",
       "  <thead>\n",
       "    <tr style=\"text-align: right;\">\n",
       "      <th></th>\n",
       "      <th>userId</th>\n",
       "      <th>movieId</th>\n",
       "      <th>user_rating</th>\n",
       "      <th>pred_rating</th>\n",
       "    </tr>\n",
       "  </thead>\n",
       "  <tbody>\n",
       "    <tr>\n",
       "      <th>0</th>\n",
       "      <td>177</td>\n",
       "      <td>1288</td>\n",
       "      <td>3.5</td>\n",
       "      <td>4.051111</td>\n",
       "    </tr>\n",
       "    <tr>\n",
       "      <th>1</th>\n",
       "      <td>551</td>\n",
       "      <td>165549</td>\n",
       "      <td>1.0</td>\n",
       "      <td>3.775773</td>\n",
       "    </tr>\n",
       "    <tr>\n",
       "      <th>2</th>\n",
       "      <td>212</td>\n",
       "      <td>81834</td>\n",
       "      <td>4.0</td>\n",
       "      <td>3.807140</td>\n",
       "    </tr>\n",
       "    <tr>\n",
       "      <th>3</th>\n",
       "      <td>249</td>\n",
       "      <td>40815</td>\n",
       "      <td>3.5</td>\n",
       "      <td>3.956251</td>\n",
       "    </tr>\n",
       "    <tr>\n",
       "      <th>4</th>\n",
       "      <td>492</td>\n",
       "      <td>1363</td>\n",
       "      <td>4.0</td>\n",
       "      <td>3.746075</td>\n",
       "    </tr>\n",
       "  </tbody>\n",
       "</table>\n",
       "</div>"
      ],
      "text/plain": [
       "   userId  movieId  user_rating  pred_rating\n",
       "0     177     1288          3.5     4.051111\n",
       "1     551   165549          1.0     3.775773\n",
       "2     212    81834          4.0     3.807140\n",
       "3     249    40815          3.5     3.956251\n",
       "4     492     1363          4.0     3.746075"
      ]
     },
     "execution_count": 116,
     "metadata": {},
     "output_type": "execute_result"
    }
   ],
   "source": [
    "pred_df.head()"
   ]
  },
  {
   "cell_type": "markdown",
   "id": "2b17409d",
   "metadata": {},
   "source": [
    "Now let's add a column that computes the predicted rating error."
   ]
  },
  {
   "cell_type": "code",
   "execution_count": 117,
   "id": "b2359148",
   "metadata": {},
   "outputs": [],
   "source": [
    "# creating new column for prediction error\n",
    "pred_df['pred_err'] = abs(pred_df['user_rating'] - pred_df['pred_rating'])"
   ]
  },
  {
   "cell_type": "code",
   "execution_count": 118,
   "id": "8d294dbd",
   "metadata": {},
   "outputs": [],
   "source": [
    "# getting genres for each prediction\n",
    "pred_df['genres'] = pred_df['movieId'].map(lambda x: movie_df.\\\n",
    "                                           loc[movie_df['movieId'] == x, \n",
    "                                               'genres'].values[0])"
   ]
  },
  {
   "cell_type": "markdown",
   "id": "1be068a0",
   "metadata": {},
   "source": [
    "Let's take a look at some movie recommendations sorted by users."
   ]
  },
  {
   "cell_type": "code",
   "execution_count": 121,
   "id": "7503ede1",
   "metadata": {},
   "outputs": [
    {
     "data": {
      "text/html": [
       "<div>\n",
       "<style scoped>\n",
       "    .dataframe tbody tr th:only-of-type {\n",
       "        vertical-align: middle;\n",
       "    }\n",
       "\n",
       "    .dataframe tbody tr th {\n",
       "        vertical-align: top;\n",
       "    }\n",
       "\n",
       "    .dataframe thead th {\n",
       "        text-align: right;\n",
       "    }\n",
       "</style>\n",
       "<table border=\"1\" class=\"dataframe\">\n",
       "  <thead>\n",
       "    <tr style=\"text-align: right;\">\n",
       "      <th></th>\n",
       "      <th>userId</th>\n",
       "      <th>movieId</th>\n",
       "      <th>user_rating</th>\n",
       "      <th>pred_rating</th>\n",
       "      <th>pred_err</th>\n",
       "      <th>genres</th>\n",
       "    </tr>\n",
       "  </thead>\n",
       "  <tbody>\n",
       "    <tr>\n",
       "      <th>0</th>\n",
       "      <td>177</td>\n",
       "      <td>1288</td>\n",
       "      <td>3.5</td>\n",
       "      <td>4.051111</td>\n",
       "      <td>0.551111</td>\n",
       "      <td>Comedy</td>\n",
       "    </tr>\n",
       "    <tr>\n",
       "      <th>1</th>\n",
       "      <td>551</td>\n",
       "      <td>165549</td>\n",
       "      <td>1.0</td>\n",
       "      <td>3.775773</td>\n",
       "      <td>2.775773</td>\n",
       "      <td>Drama</td>\n",
       "    </tr>\n",
       "    <tr>\n",
       "      <th>2</th>\n",
       "      <td>212</td>\n",
       "      <td>81834</td>\n",
       "      <td>4.0</td>\n",
       "      <td>3.807140</td>\n",
       "      <td>0.192860</td>\n",
       "      <td>Action Adventure Fantasy IMAX</td>\n",
       "    </tr>\n",
       "    <tr>\n",
       "      <th>3</th>\n",
       "      <td>249</td>\n",
       "      <td>40815</td>\n",
       "      <td>3.5</td>\n",
       "      <td>3.956251</td>\n",
       "      <td>0.456251</td>\n",
       "      <td>Adventure Fantasy Thriller IMAX</td>\n",
       "    </tr>\n",
       "    <tr>\n",
       "      <th>4</th>\n",
       "      <td>492</td>\n",
       "      <td>1363</td>\n",
       "      <td>4.0</td>\n",
       "      <td>3.746075</td>\n",
       "      <td>0.253925</td>\n",
       "      <td>Drama</td>\n",
       "    </tr>\n",
       "  </tbody>\n",
       "</table>\n",
       "</div>"
      ],
      "text/plain": [
       "   userId  movieId  user_rating  pred_rating  pred_err  \\\n",
       "0     177     1288          3.5     4.051111  0.551111   \n",
       "1     551   165549          1.0     3.775773  2.775773   \n",
       "2     212    81834          4.0     3.807140  0.192860   \n",
       "3     249    40815          3.5     3.956251  0.456251   \n",
       "4     492     1363          4.0     3.746075  0.253925   \n",
       "\n",
       "                            genres  \n",
       "0                           Comedy  \n",
       "1                            Drama  \n",
       "2    Action Adventure Fantasy IMAX  \n",
       "3  Adventure Fantasy Thriller IMAX  \n",
       "4                            Drama  "
      ]
     },
     "execution_count": 121,
     "metadata": {},
     "output_type": "execute_result"
    }
   ],
   "source": [
    "pred_df.sort_values('userId', ascending=True).head(20)\n",
    "pred_df.head()"
   ]
  },
  {
   "cell_type": "markdown",
   "id": "0cf5357c",
   "metadata": {},
   "source": [
    "Now we can take a look at the top 10 best predictions and worst predictions as sorted by errors."
   ]
  },
  {
   "cell_type": "code",
   "execution_count": 40,
   "id": "26d0b7a9",
   "metadata": {},
   "outputs": [
    {
     "data": {
      "text/html": [
       "<div>\n",
       "<style scoped>\n",
       "    .dataframe tbody tr th:only-of-type {\n",
       "        vertical-align: middle;\n",
       "    }\n",
       "\n",
       "    .dataframe tbody tr th {\n",
       "        vertical-align: top;\n",
       "    }\n",
       "\n",
       "    .dataframe thead th {\n",
       "        text-align: right;\n",
       "    }\n",
       "</style>\n",
       "<table border=\"1\" class=\"dataframe\">\n",
       "  <thead>\n",
       "    <tr style=\"text-align: right;\">\n",
       "      <th></th>\n",
       "      <th>userId</th>\n",
       "      <th>movieId</th>\n",
       "      <th>user_rating</th>\n",
       "      <th>pred_rating</th>\n",
       "      <th>details</th>\n",
       "      <th>pred_err</th>\n",
       "    </tr>\n",
       "  </thead>\n",
       "  <tbody>\n",
       "    <tr>\n",
       "      <th>10358</th>\n",
       "      <td>375</td>\n",
       "      <td>318</td>\n",
       "      <td>5.0</td>\n",
       "      <td>5.000000</td>\n",
       "      <td>{'was_impossible': False}</td>\n",
       "      <td>0.000000</td>\n",
       "    </tr>\n",
       "    <tr>\n",
       "      <th>2888</th>\n",
       "      <td>25</td>\n",
       "      <td>1198</td>\n",
       "      <td>5.0</td>\n",
       "      <td>5.000000</td>\n",
       "      <td>{'was_impossible': False}</td>\n",
       "      <td>0.000000</td>\n",
       "    </tr>\n",
       "    <tr>\n",
       "      <th>14624</th>\n",
       "      <td>122</td>\n",
       "      <td>858</td>\n",
       "      <td>5.0</td>\n",
       "      <td>5.000000</td>\n",
       "      <td>{'was_impossible': False}</td>\n",
       "      <td>0.000000</td>\n",
       "    </tr>\n",
       "    <tr>\n",
       "      <th>4199</th>\n",
       "      <td>171</td>\n",
       "      <td>296</td>\n",
       "      <td>5.0</td>\n",
       "      <td>5.000000</td>\n",
       "      <td>{'was_impossible': False}</td>\n",
       "      <td>0.000000</td>\n",
       "    </tr>\n",
       "    <tr>\n",
       "      <th>8440</th>\n",
       "      <td>348</td>\n",
       "      <td>2959</td>\n",
       "      <td>5.0</td>\n",
       "      <td>5.000000</td>\n",
       "      <td>{'was_impossible': False}</td>\n",
       "      <td>0.000000</td>\n",
       "    </tr>\n",
       "    <tr>\n",
       "      <th>8318</th>\n",
       "      <td>413</td>\n",
       "      <td>1704</td>\n",
       "      <td>5.0</td>\n",
       "      <td>5.000000</td>\n",
       "      <td>{'was_impossible': False}</td>\n",
       "      <td>0.000000</td>\n",
       "    </tr>\n",
       "    <tr>\n",
       "      <th>13290</th>\n",
       "      <td>25</td>\n",
       "      <td>260</td>\n",
       "      <td>5.0</td>\n",
       "      <td>5.000000</td>\n",
       "      <td>{'was_impossible': False}</td>\n",
       "      <td>0.000000</td>\n",
       "    </tr>\n",
       "    <tr>\n",
       "      <th>9429</th>\n",
       "      <td>543</td>\n",
       "      <td>4886</td>\n",
       "      <td>5.0</td>\n",
       "      <td>5.000000</td>\n",
       "      <td>{'was_impossible': False}</td>\n",
       "      <td>0.000000</td>\n",
       "    </tr>\n",
       "    <tr>\n",
       "      <th>9891</th>\n",
       "      <td>53</td>\n",
       "      <td>2686</td>\n",
       "      <td>5.0</td>\n",
       "      <td>5.000000</td>\n",
       "      <td>{'was_impossible': False}</td>\n",
       "      <td>0.000000</td>\n",
       "    </tr>\n",
       "    <tr>\n",
       "      <th>14845</th>\n",
       "      <td>99</td>\n",
       "      <td>318</td>\n",
       "      <td>5.0</td>\n",
       "      <td>5.000000</td>\n",
       "      <td>{'was_impossible': False}</td>\n",
       "      <td>0.000000</td>\n",
       "    </tr>\n",
       "    <tr>\n",
       "      <th>7723</th>\n",
       "      <td>53</td>\n",
       "      <td>1982</td>\n",
       "      <td>5.0</td>\n",
       "      <td>5.000000</td>\n",
       "      <td>{'was_impossible': False}</td>\n",
       "      <td>0.000000</td>\n",
       "    </tr>\n",
       "    <tr>\n",
       "      <th>18986</th>\n",
       "      <td>348</td>\n",
       "      <td>318</td>\n",
       "      <td>5.0</td>\n",
       "      <td>5.000000</td>\n",
       "      <td>{'was_impossible': False}</td>\n",
       "      <td>0.000000</td>\n",
       "    </tr>\n",
       "    <tr>\n",
       "      <th>16267</th>\n",
       "      <td>515</td>\n",
       "      <td>318</td>\n",
       "      <td>5.0</td>\n",
       "      <td>5.000000</td>\n",
       "      <td>{'was_impossible': False}</td>\n",
       "      <td>0.000000</td>\n",
       "    </tr>\n",
       "    <tr>\n",
       "      <th>13594</th>\n",
       "      <td>515</td>\n",
       "      <td>2959</td>\n",
       "      <td>5.0</td>\n",
       "      <td>5.000000</td>\n",
       "      <td>{'was_impossible': False}</td>\n",
       "      <td>0.000000</td>\n",
       "    </tr>\n",
       "    <tr>\n",
       "      <th>491</th>\n",
       "      <td>43</td>\n",
       "      <td>356</td>\n",
       "      <td>5.0</td>\n",
       "      <td>5.000000</td>\n",
       "      <td>{'was_impossible': False}</td>\n",
       "      <td>0.000000</td>\n",
       "    </tr>\n",
       "    <tr>\n",
       "      <th>17089</th>\n",
       "      <td>122</td>\n",
       "      <td>2959</td>\n",
       "      <td>5.0</td>\n",
       "      <td>5.000000</td>\n",
       "      <td>{'was_impossible': False}</td>\n",
       "      <td>0.000000</td>\n",
       "    </tr>\n",
       "    <tr>\n",
       "      <th>15901</th>\n",
       "      <td>171</td>\n",
       "      <td>1104</td>\n",
       "      <td>5.0</td>\n",
       "      <td>5.000000</td>\n",
       "      <td>{'was_impossible': False}</td>\n",
       "      <td>0.000000</td>\n",
       "    </tr>\n",
       "    <tr>\n",
       "      <th>5253</th>\n",
       "      <td>274</td>\n",
       "      <td>6796</td>\n",
       "      <td>3.5</td>\n",
       "      <td>3.499913</td>\n",
       "      <td>{'was_impossible': False}</td>\n",
       "      <td>0.000087</td>\n",
       "    </tr>\n",
       "    <tr>\n",
       "      <th>4638</th>\n",
       "      <td>414</td>\n",
       "      <td>1950</td>\n",
       "      <td>4.0</td>\n",
       "      <td>3.999894</td>\n",
       "      <td>{'was_impossible': False}</td>\n",
       "      <td>0.000106</td>\n",
       "    </tr>\n",
       "    <tr>\n",
       "      <th>17483</th>\n",
       "      <td>51</td>\n",
       "      <td>2133</td>\n",
       "      <td>3.5</td>\n",
       "      <td>3.500148</td>\n",
       "      <td>{'was_impossible': False}</td>\n",
       "      <td>0.000148</td>\n",
       "    </tr>\n",
       "    <tr>\n",
       "      <th>6367</th>\n",
       "      <td>609</td>\n",
       "      <td>292</td>\n",
       "      <td>3.0</td>\n",
       "      <td>2.999835</td>\n",
       "      <td>{'was_impossible': False}</td>\n",
       "      <td>0.000165</td>\n",
       "    </tr>\n",
       "    <tr>\n",
       "      <th>9297</th>\n",
       "      <td>66</td>\n",
       "      <td>3072</td>\n",
       "      <td>4.0</td>\n",
       "      <td>3.999734</td>\n",
       "      <td>{'was_impossible': False}</td>\n",
       "      <td>0.000266</td>\n",
       "    </tr>\n",
       "    <tr>\n",
       "      <th>18392</th>\n",
       "      <td>414</td>\n",
       "      <td>2616</td>\n",
       "      <td>3.0</td>\n",
       "      <td>3.000300</td>\n",
       "      <td>{'was_impossible': False}</td>\n",
       "      <td>0.000300</td>\n",
       "    </tr>\n",
       "    <tr>\n",
       "      <th>13786</th>\n",
       "      <td>232</td>\n",
       "      <td>55276</td>\n",
       "      <td>4.0</td>\n",
       "      <td>3.999628</td>\n",
       "      <td>{'was_impossible': False}</td>\n",
       "      <td>0.000372</td>\n",
       "    </tr>\n",
       "    <tr>\n",
       "      <th>14981</th>\n",
       "      <td>93</td>\n",
       "      <td>736</td>\n",
       "      <td>4.0</td>\n",
       "      <td>3.999584</td>\n",
       "      <td>{'was_impossible': False}</td>\n",
       "      <td>0.000416</td>\n",
       "    </tr>\n",
       "    <tr>\n",
       "      <th>19650</th>\n",
       "      <td>422</td>\n",
       "      <td>4971</td>\n",
       "      <td>3.0</td>\n",
       "      <td>3.000439</td>\n",
       "      <td>{'was_impossible': False}</td>\n",
       "      <td>0.000439</td>\n",
       "    </tr>\n",
       "    <tr>\n",
       "      <th>11390</th>\n",
       "      <td>346</td>\n",
       "      <td>44555</td>\n",
       "      <td>4.0</td>\n",
       "      <td>4.000497</td>\n",
       "      <td>{'was_impossible': False}</td>\n",
       "      <td>0.000497</td>\n",
       "    </tr>\n",
       "    <tr>\n",
       "      <th>12644</th>\n",
       "      <td>121</td>\n",
       "      <td>282</td>\n",
       "      <td>3.0</td>\n",
       "      <td>2.999460</td>\n",
       "      <td>{'was_impossible': False}</td>\n",
       "      <td>0.000540</td>\n",
       "    </tr>\n",
       "    <tr>\n",
       "      <th>11951</th>\n",
       "      <td>68</td>\n",
       "      <td>51709</td>\n",
       "      <td>3.5</td>\n",
       "      <td>3.499436</td>\n",
       "      <td>{'was_impossible': False}</td>\n",
       "      <td>0.000564</td>\n",
       "    </tr>\n",
       "    <tr>\n",
       "      <th>4933</th>\n",
       "      <td>560</td>\n",
       "      <td>47725</td>\n",
       "      <td>3.5</td>\n",
       "      <td>3.499408</td>\n",
       "      <td>{'was_impossible': False}</td>\n",
       "      <td>0.000592</td>\n",
       "    </tr>\n",
       "  </tbody>\n",
       "</table>\n",
       "</div>"
      ],
      "text/plain": [
       "       userId  movieId  user_rating  pred_rating                    details  \\\n",
       "10358     375      318          5.0     5.000000  {'was_impossible': False}   \n",
       "2888       25     1198          5.0     5.000000  {'was_impossible': False}   \n",
       "14624     122      858          5.0     5.000000  {'was_impossible': False}   \n",
       "4199      171      296          5.0     5.000000  {'was_impossible': False}   \n",
       "8440      348     2959          5.0     5.000000  {'was_impossible': False}   \n",
       "8318      413     1704          5.0     5.000000  {'was_impossible': False}   \n",
       "13290      25      260          5.0     5.000000  {'was_impossible': False}   \n",
       "9429      543     4886          5.0     5.000000  {'was_impossible': False}   \n",
       "9891       53     2686          5.0     5.000000  {'was_impossible': False}   \n",
       "14845      99      318          5.0     5.000000  {'was_impossible': False}   \n",
       "7723       53     1982          5.0     5.000000  {'was_impossible': False}   \n",
       "18986     348      318          5.0     5.000000  {'was_impossible': False}   \n",
       "16267     515      318          5.0     5.000000  {'was_impossible': False}   \n",
       "13594     515     2959          5.0     5.000000  {'was_impossible': False}   \n",
       "491        43      356          5.0     5.000000  {'was_impossible': False}   \n",
       "17089     122     2959          5.0     5.000000  {'was_impossible': False}   \n",
       "15901     171     1104          5.0     5.000000  {'was_impossible': False}   \n",
       "5253      274     6796          3.5     3.499913  {'was_impossible': False}   \n",
       "4638      414     1950          4.0     3.999894  {'was_impossible': False}   \n",
       "17483      51     2133          3.5     3.500148  {'was_impossible': False}   \n",
       "6367      609      292          3.0     2.999835  {'was_impossible': False}   \n",
       "9297       66     3072          4.0     3.999734  {'was_impossible': False}   \n",
       "18392     414     2616          3.0     3.000300  {'was_impossible': False}   \n",
       "13786     232    55276          4.0     3.999628  {'was_impossible': False}   \n",
       "14981      93      736          4.0     3.999584  {'was_impossible': False}   \n",
       "19650     422     4971          3.0     3.000439  {'was_impossible': False}   \n",
       "11390     346    44555          4.0     4.000497  {'was_impossible': False}   \n",
       "12644     121      282          3.0     2.999460  {'was_impossible': False}   \n",
       "11951      68    51709          3.5     3.499436  {'was_impossible': False}   \n",
       "4933      560    47725          3.5     3.499408  {'was_impossible': False}   \n",
       "\n",
       "       pred_err  \n",
       "10358  0.000000  \n",
       "2888   0.000000  \n",
       "14624  0.000000  \n",
       "4199   0.000000  \n",
       "8440   0.000000  \n",
       "8318   0.000000  \n",
       "13290  0.000000  \n",
       "9429   0.000000  \n",
       "9891   0.000000  \n",
       "14845  0.000000  \n",
       "7723   0.000000  \n",
       "18986  0.000000  \n",
       "16267  0.000000  \n",
       "13594  0.000000  \n",
       "491    0.000000  \n",
       "17089  0.000000  \n",
       "15901  0.000000  \n",
       "5253   0.000087  \n",
       "4638   0.000106  \n",
       "17483  0.000148  \n",
       "6367   0.000165  \n",
       "9297   0.000266  \n",
       "18392  0.000300  \n",
       "13786  0.000372  \n",
       "14981  0.000416  \n",
       "19650  0.000439  \n",
       "11390  0.000497  \n",
       "12644  0.000540  \n",
       "11951  0.000564  \n",
       "4933   0.000592  "
      ]
     },
     "execution_count": 40,
     "metadata": {},
     "output_type": "execute_result"
    }
   ],
   "source": [
    "pred_df.sort_values('pred_err', ascending=True).head(30)"
   ]
  },
  {
   "cell_type": "markdown",
   "id": "9a2b82b0",
   "metadata": {},
   "source": [
    "The best predictions are actually pretty good. It looks like our model was able to capture the latent factors present in the data well enough to produce the above predicted ratings.\n",
    "\n",
    "Now let's take a look at the worst ratings our model has predicted."
   ]
  },
  {
   "cell_type": "code",
   "execution_count": 123,
   "id": "5f52f9ea",
   "metadata": {},
   "outputs": [
    {
     "data": {
      "text/html": [
       "<div>\n",
       "<style scoped>\n",
       "    .dataframe tbody tr th:only-of-type {\n",
       "        vertical-align: middle;\n",
       "    }\n",
       "\n",
       "    .dataframe tbody tr th {\n",
       "        vertical-align: top;\n",
       "    }\n",
       "\n",
       "    .dataframe thead th {\n",
       "        text-align: right;\n",
       "    }\n",
       "</style>\n",
       "<table border=\"1\" class=\"dataframe\">\n",
       "  <thead>\n",
       "    <tr style=\"text-align: right;\">\n",
       "      <th></th>\n",
       "      <th>userId</th>\n",
       "      <th>movieId</th>\n",
       "      <th>user_rating</th>\n",
       "      <th>pred_rating</th>\n",
       "      <th>pred_err</th>\n",
       "      <th>genres</th>\n",
       "    </tr>\n",
       "  </thead>\n",
       "  <tbody>\n",
       "    <tr>\n",
       "      <th>5979</th>\n",
       "      <td>256</td>\n",
       "      <td>7099</td>\n",
       "      <td>0.5</td>\n",
       "      <td>4.723436</td>\n",
       "      <td>4.223436</td>\n",
       "      <td>Adventure Animation Drama Fantasy Sci-Fi</td>\n",
       "    </tr>\n",
       "    <tr>\n",
       "      <th>17941</th>\n",
       "      <td>441</td>\n",
       "      <td>527</td>\n",
       "      <td>0.5</td>\n",
       "      <td>4.721436</td>\n",
       "      <td>4.221436</td>\n",
       "      <td>Drama War</td>\n",
       "    </tr>\n",
       "    <tr>\n",
       "      <th>9770</th>\n",
       "      <td>393</td>\n",
       "      <td>53996</td>\n",
       "      <td>0.5</td>\n",
       "      <td>4.314065</td>\n",
       "      <td>3.814065</td>\n",
       "      <td>Action Sci-Fi Thriller IMAX</td>\n",
       "    </tr>\n",
       "    <tr>\n",
       "      <th>19531</th>\n",
       "      <td>594</td>\n",
       "      <td>7115</td>\n",
       "      <td>0.5</td>\n",
       "      <td>4.295937</td>\n",
       "      <td>3.795937</td>\n",
       "      <td>Horror Mystery Thriller</td>\n",
       "    </tr>\n",
       "    <tr>\n",
       "      <th>9730</th>\n",
       "      <td>34</td>\n",
       "      <td>110</td>\n",
       "      <td>0.5</td>\n",
       "      <td>4.282295</td>\n",
       "      <td>3.782295</td>\n",
       "      <td>Action Drama War</td>\n",
       "    </tr>\n",
       "    <tr>\n",
       "      <th>8815</th>\n",
       "      <td>554</td>\n",
       "      <td>2070</td>\n",
       "      <td>1.0</td>\n",
       "      <td>4.772538</td>\n",
       "      <td>3.772538</td>\n",
       "      <td>Drama Romance Western</td>\n",
       "    </tr>\n",
       "    <tr>\n",
       "      <th>3213</th>\n",
       "      <td>573</td>\n",
       "      <td>44199</td>\n",
       "      <td>0.5</td>\n",
       "      <td>4.270326</td>\n",
       "      <td>3.770326</td>\n",
       "      <td>Crime Drama Thriller</td>\n",
       "    </tr>\n",
       "    <tr>\n",
       "      <th>10078</th>\n",
       "      <td>393</td>\n",
       "      <td>778</td>\n",
       "      <td>0.5</td>\n",
       "      <td>4.269970</td>\n",
       "      <td>3.769970</td>\n",
       "      <td>Comedy Crime Drama</td>\n",
       "    </tr>\n",
       "    <tr>\n",
       "      <th>1635</th>\n",
       "      <td>413</td>\n",
       "      <td>1246</td>\n",
       "      <td>1.0</td>\n",
       "      <td>4.759403</td>\n",
       "      <td>3.759403</td>\n",
       "      <td>Drama</td>\n",
       "    </tr>\n",
       "    <tr>\n",
       "      <th>20082</th>\n",
       "      <td>105</td>\n",
       "      <td>4027</td>\n",
       "      <td>0.5</td>\n",
       "      <td>4.252500</td>\n",
       "      <td>3.752500</td>\n",
       "      <td>Adventure Comedy Crime</td>\n",
       "    </tr>\n",
       "  </tbody>\n",
       "</table>\n",
       "</div>"
      ],
      "text/plain": [
       "       userId  movieId  user_rating  pred_rating  pred_err  \\\n",
       "5979      256     7099          0.5     4.723436  4.223436   \n",
       "17941     441      527          0.5     4.721436  4.221436   \n",
       "9770      393    53996          0.5     4.314065  3.814065   \n",
       "19531     594     7115          0.5     4.295937  3.795937   \n",
       "9730       34      110          0.5     4.282295  3.782295   \n",
       "8815      554     2070          1.0     4.772538  3.772538   \n",
       "3213      573    44199          0.5     4.270326  3.770326   \n",
       "10078     393      778          0.5     4.269970  3.769970   \n",
       "1635      413     1246          1.0     4.759403  3.759403   \n",
       "20082     105     4027          0.5     4.252500  3.752500   \n",
       "\n",
       "                                         genres  \n",
       "5979   Adventure Animation Drama Fantasy Sci-Fi  \n",
       "17941                                 Drama War  \n",
       "9770                Action Sci-Fi Thriller IMAX  \n",
       "19531                   Horror Mystery Thriller  \n",
       "9730                           Action Drama War  \n",
       "8815                      Drama Romance Western  \n",
       "3213                       Crime Drama Thriller  \n",
       "10078                        Comedy Crime Drama  \n",
       "1635                                      Drama  \n",
       "20082                    Adventure Comedy Crime  "
      ]
     },
     "execution_count": 123,
     "metadata": {},
     "output_type": "execute_result"
    }
   ],
   "source": [
    "worst_10_pred = pred_df.sort_values('pred_err', ascending=False).head(10)\n",
    "worst_10_pred"
   ]
  },
  {
   "cell_type": "markdown",
   "id": "d8bc8fa4",
   "metadata": {},
   "source": [
    "These ratings are pretty bad. We have a maximum error of **4.22** which is really bad. Let's take a look deeper into why this is the case. We will take the example of `movieId` 7099 for this."
   ]
  },
  {
   "cell_type": "code",
   "execution_count": 43,
   "id": "661699ef",
   "metadata": {},
   "outputs": [
    {
     "data": {
      "text/plain": [
       "count    23.000000\n",
       "mean      4.000000\n",
       "std       1.044466\n",
       "min       0.500000\n",
       "25%       3.500000\n",
       "50%       4.500000\n",
       "75%       4.750000\n",
       "max       5.000000\n",
       "Name: rating, dtype: float64"
      ]
     },
     "execution_count": 43,
     "metadata": {},
     "output_type": "execute_result"
    }
   ],
   "source": [
    "df.loc[df['movieId'] == 7099, 'rating'].describe()"
   ]
  },
  {
   "cell_type": "markdown",
   "id": "4965d6bd",
   "metadata": {},
   "source": [
    "As we can see from the above, it seems that the mean rating for this movie was a rating of **4** from various users. This gives us some understanding of why the model may have predicted this rating for the movie. Let's plot the histogram of the ratings for this movie."
   ]
  },
  {
   "cell_type": "code",
   "execution_count": 124,
   "id": "928879a4",
   "metadata": {},
   "outputs": [
    {
     "data": {
      "image/png": "[encoded data removed]",
      "text/plain": [
       "<Figure size 432x288 with 1 Axes>"
      ]
     },
     "metadata": {
      "needs_background": "light"
     },
     "output_type": "display_data"
    }
   ],
   "source": [
    "# passing in the series to plot histogram\n",
    "df.loc[df['movieId'] == 7099, 'rating'].plot.hist(bins=5)\n",
    "\n",
    "# setting chart title\n",
    "plt.title('user rated 0.5 for movie 7099')\n",
    "\n",
    "# setting x-axis label\n",
    "plt.xlabel('Ratings');"
   ]
  },
  {
   "cell_type": "markdown",
   "id": "8c0f2532",
   "metadata": {},
   "source": [
    "The above histogram seems to indicate that the user for which this was predicted wrongly is an outlier. There is only 1 instance of 0.5 rating, whereas most of the ratings lie between 4-5. Let's repeat this for the next 4 movies with the highest prediction error."
   ]
  },
  {
   "cell_type": "code",
   "execution_count": 130,
   "id": "c4e5b5a3",
   "metadata": {
    "scrolled": false
   },
   "outputs": [
    {
     "data": {
      "image/png": "[encoded data removed]",
      "text/plain": [
       "<Figure size 432x288 with 1 Axes>"
      ]
     },
     "metadata": {
      "needs_background": "light"
     },
     "output_type": "display_data"
    },
    {
     "data": {
      "image/png": "[encoded data removed]",
      "text/plain": [
       "<Figure size 432x288 with 1 Axes>"
      ]
     },
     "metadata": {
      "needs_background": "light"
     },
     "output_type": "display_data"
    },
    {
     "data": {
      "image/png": "[encoded data removed]",
      "text/plain": [
       "<Figure size 432x288 with 1 Axes>"
      ]
     },
     "metadata": {
      "needs_background": "light"
     },
     "output_type": "display_data"
    },
    {
     "data": {
      "image/png": "[encoded data removed]",
      "text/plain": [
       "<Figure size 432x288 with 1 Axes>"
      ]
     },
     "metadata": {
      "needs_background": "light"
     },
     "output_type": "display_data"
    }
   ],
   "source": [
    "for movieId in worst_10_pred['movieId'].tolist()[1:5]:\n",
    "    # calling .figure method so that each chart is a separate plot\n",
    "    plt.figure()\n",
    "    \n",
    "    # passing in the series to plot histogram\n",
    "    df.loc[df['movieId'] == movieId, 'rating'].plot.hist(bins=5)\n",
    "\n",
    "    # setting chart title\n",
    "    plt.title(f'user rated 0.5 for movie {movieId}')\n",
    "\n",
    "    # setting x-axis label\n",
    "    plt.xlabel('Ratings');"
   ]
  },
  {
   "cell_type": "markdown",
   "id": "53111edc",
   "metadata": {},
   "source": [
    "From this, it looks like our `SVD` model is making errors when the user's rating is an outlier compared to the ratings of the rest of the users. This is a possible drawback of this model.\n",
    "\n",
    "Another reason could also be that ratings mean different things to different users. Some users may wish to be \"kinder\" and therefore they might give a higher rating of **3.5** to any movie as long as they got at least some enjoyment from it. Other users may be much harsher in terms of their standards for what counts as a \"good\" or \"average\" movie. \n",
    "\n",
    "1 method to address this, could be mean-centering on a per user basis. i.e. to take a look at the mean rating for the user, and then center the user's mean to 3 by subtracting or adding the difference across all the ratings.\n",
    "\n",
    "Across the literature in data science, there are [different opinions on whether this truly makes a difference or not](https://link.springer.com/article/10.3758/s13428-015-0624-x#:~:text=Some%20researchers%20say%20that%20it,has%20no%20effect%20on%20multicollinearity.)."
   ]
  },
  {
   "cell_type": "markdown",
   "id": "15854589",
   "metadata": {},
   "source": [
    "After testing out mean-centering on a per user basis, I found that the score with mean centering was **0.8530** and the score we previously obtained was **0.8533**.  made no difference to the `test_rmse` score, so I have omitted that code here.\n",
    "\n",
    "This shows us that mean_centering all of our users to a 3.5 mean rating per user has not helped us to make much improvements to the model."
   ]
  },
  {
   "cell_type": "markdown",
   "id": "c6c2bc57",
   "metadata": {},
   "source": [
    "---\n",
    "\n",
    "It is highly likely that we will see more success attempting to create a deep model with contextual features to help us reduce the occurence of this type of error."
   ]
  },
  {
   "cell_type": "markdown",
   "id": "a2316abe",
   "metadata": {},
   "source": [
    "## Overall Model Evaluation"
   ]
  },
  {
   "cell_type": "markdown",
   "id": "f73a545f",
   "metadata": {},
   "source": [
    "## Pros of the SVD model"
   ]
  },
  {
   "cell_type": "markdown",
   "id": "a6e09f6d",
   "metadata": {},
   "source": [
    "* The `SVD` model is able to convert the sparse data into two low rank matrix approximation, which can remove noise from the data\n",
    "* The model was also able to pick up on underlying characteristics of the interactions between users and items. \n",
    "* Because of the above first two points, the model can scale to large amounts of data fairly easily. With a larger amount of data, the model's recommendation may be able to be improved.\n",
    "* The model is able to output predictions very quickly."
   ]
  },
  {
   "cell_type": "markdown",
   "id": "5a58c2cb",
   "metadata": {},
   "source": [
    "## Cons of the SVD Model"
   ]
  },
  {
   "cell_type": "markdown",
   "id": "c229cb94",
   "metadata": {},
   "source": [
    "* The `SVD` model is only able to extract the feature vectors of `userId`s and `movieId`s. This means that we are likely to lose some meaningful signals, that might not be lost if we use contextual features. Some interesting research is being done in this area to combine the `SVD` model with contextual features, like `CFSVD` etc. [linked here](https://www.sciencedirect.com/science/article/abs/pii/S0045790621003311)\n",
    "* Transformed data is hard to make sense of, e.g. even though the `SVD` model is able to identify latent underlying features, we don't know what these features are, and we will not be able to map these features either, for example, movie length.\n",
    "* The SVD algorithm is not able to make predictions for new users that are not already in the training set. This would result in a cold start problem. Our solution to this, was to recommend the top_n movies, based on popularity and rating. This is a common solution to the cold start problem, however, it is not the only solution.\n",
    "* The SVD algorithm is also not able to handle users that are outliers as we saw during error analysis."
   ]
  },
  {
   "cell_type": "markdown",
   "id": "2a8a90c4",
   "metadata": {},
   "source": [
    "In the next notebook, we will take a look at how we can build a neural network which will allow us to recommend movies to users."
   ]
  }
 ],
 "metadata": {
  "kernelspec": {
   "display_name": "Python 3 (ipykernel)",
   "language": "python",
   "name": "python3"
  },
  "language_info": {
   "codemirror_mode": {
    "name": "ipython",
    "version": 3
   },
   "file_extension": ".py",
   "mimetype": "text/x-python",
   "name": "python",
   "nbconvert_exporter": "python",
   "pygments_lexer": "ipython3",
   "version": "3.8.12"
  }
 },
 "nbformat": 4,
 "nbformat_minor": 5
}
