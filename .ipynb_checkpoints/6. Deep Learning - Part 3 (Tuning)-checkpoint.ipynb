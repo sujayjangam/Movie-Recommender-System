{
 "cells": [
  {
   "cell_type": "markdown",
   "id": "13c38d51",
   "metadata": {},
   "source": [
    "# Neural Network for Recommender Systems"
   ]
  },
  {
   "cell_type": "code",
   "execution_count": 2,
   "id": "68334c8b",
   "metadata": {},
   "outputs": [],
   "source": [
    "import os\n",
    "import pprint\n",
    "import tempfile\n",
    "\n",
    "from typing import Dict, Text\n",
    "\n",
    "import numpy as np\n",
    "import tensorflow as tf\n",
    "import tensorflow_datasets as tfds"
   ]
  },
  {
   "cell_type": "code",
   "execution_count": 3,
   "id": "0892506d",
   "metadata": {},
   "outputs": [],
   "source": [
    "import tensorflow_recommenders as tfrs"
   ]
  },
  {
   "cell_type": "code",
   "execution_count": 4,
   "id": "aac09783",
   "metadata": {},
   "outputs": [],
   "source": [
    "import pandas as pd\n",
    "import numpy as np\n",
    "import matplotlib.pyplot as plt"
   ]
  },
  {
   "cell_type": "code",
   "execution_count": 5,
   "id": "62521b97",
   "metadata": {},
   "outputs": [],
   "source": [
    "# import keras_tuner as kt"
   ]
  },
  {
   "cell_type": "code",
   "execution_count": 6,
   "id": "bc300ba5",
   "metadata": {},
   "outputs": [],
   "source": [
    "df = pd.read_csv('./datasets/merged_users+movies.csv')\n",
    "movie_df = pd.read_csv('./datasets/movies.csv')"
   ]
  },
  {
   "cell_type": "code",
   "execution_count": 7,
   "id": "50ba6e67",
   "metadata": {},
   "outputs": [
    {
     "data": {
      "text/html": [
       "<div>\n",
       "<style scoped>\n",
       "    .dataframe tbody tr th:only-of-type {\n",
       "        vertical-align: middle;\n",
       "    }\n",
       "\n",
       "    .dataframe tbody tr th {\n",
       "        vertical-align: top;\n",
       "    }\n",
       "\n",
       "    .dataframe thead th {\n",
       "        text-align: right;\n",
       "    }\n",
       "</style>\n",
       "<table border=\"1\" class=\"dataframe\">\n",
       "  <thead>\n",
       "    <tr style=\"text-align: right;\">\n",
       "      <th></th>\n",
       "      <th>userId</th>\n",
       "      <th>movieId</th>\n",
       "      <th>rating</th>\n",
       "      <th>timestamp</th>\n",
       "      <th>title</th>\n",
       "      <th>genres</th>\n",
       "    </tr>\n",
       "  </thead>\n",
       "  <tbody>\n",
       "    <tr>\n",
       "      <th>0</th>\n",
       "      <td>1</td>\n",
       "      <td>1</td>\n",
       "      <td>4.0</td>\n",
       "      <td>964982703</td>\n",
       "      <td>Toy Story (1995)</td>\n",
       "      <td>Adventure Animation Children Comedy Fantasy</td>\n",
       "    </tr>\n",
       "    <tr>\n",
       "      <th>1</th>\n",
       "      <td>5</td>\n",
       "      <td>1</td>\n",
       "      <td>4.0</td>\n",
       "      <td>847434962</td>\n",
       "      <td>Toy Story (1995)</td>\n",
       "      <td>Adventure Animation Children Comedy Fantasy</td>\n",
       "    </tr>\n",
       "    <tr>\n",
       "      <th>2</th>\n",
       "      <td>7</td>\n",
       "      <td>1</td>\n",
       "      <td>4.5</td>\n",
       "      <td>1106635946</td>\n",
       "      <td>Toy Story (1995)</td>\n",
       "      <td>Adventure Animation Children Comedy Fantasy</td>\n",
       "    </tr>\n",
       "    <tr>\n",
       "      <th>3</th>\n",
       "      <td>15</td>\n",
       "      <td>1</td>\n",
       "      <td>2.5</td>\n",
       "      <td>1510577970</td>\n",
       "      <td>Toy Story (1995)</td>\n",
       "      <td>Adventure Animation Children Comedy Fantasy</td>\n",
       "    </tr>\n",
       "    <tr>\n",
       "      <th>4</th>\n",
       "      <td>17</td>\n",
       "      <td>1</td>\n",
       "      <td>4.5</td>\n",
       "      <td>1305696483</td>\n",
       "      <td>Toy Story (1995)</td>\n",
       "      <td>Adventure Animation Children Comedy Fantasy</td>\n",
       "    </tr>\n",
       "    <tr>\n",
       "      <th>...</th>\n",
       "      <td>...</td>\n",
       "      <td>...</td>\n",
       "      <td>...</td>\n",
       "      <td>...</td>\n",
       "      <td>...</td>\n",
       "      <td>...</td>\n",
       "    </tr>\n",
       "    <tr>\n",
       "      <th>100831</th>\n",
       "      <td>610</td>\n",
       "      <td>160341</td>\n",
       "      <td>2.5</td>\n",
       "      <td>1479545749</td>\n",
       "      <td>Bloodmoon (1997)</td>\n",
       "      <td>Action Thriller</td>\n",
       "    </tr>\n",
       "    <tr>\n",
       "      <th>100832</th>\n",
       "      <td>610</td>\n",
       "      <td>160527</td>\n",
       "      <td>4.5</td>\n",
       "      <td>1479544998</td>\n",
       "      <td>Sympathy for the Underdog (1971)</td>\n",
       "      <td>Action Crime Drama</td>\n",
       "    </tr>\n",
       "    <tr>\n",
       "      <th>100833</th>\n",
       "      <td>610</td>\n",
       "      <td>160836</td>\n",
       "      <td>3.0</td>\n",
       "      <td>1493844794</td>\n",
       "      <td>Hazard (2005)</td>\n",
       "      <td>Action Drama Thriller</td>\n",
       "    </tr>\n",
       "    <tr>\n",
       "      <th>100834</th>\n",
       "      <td>610</td>\n",
       "      <td>163937</td>\n",
       "      <td>3.5</td>\n",
       "      <td>1493848789</td>\n",
       "      <td>Blair Witch (2016)</td>\n",
       "      <td>Horror Thriller</td>\n",
       "    </tr>\n",
       "    <tr>\n",
       "      <th>100835</th>\n",
       "      <td>610</td>\n",
       "      <td>163981</td>\n",
       "      <td>3.5</td>\n",
       "      <td>1493850155</td>\n",
       "      <td>31 (2016)</td>\n",
       "      <td>Horror</td>\n",
       "    </tr>\n",
       "  </tbody>\n",
       "</table>\n",
       "<p>100836 rows × 6 columns</p>\n",
       "</div>"
      ],
      "text/plain": [
       "        userId  movieId  rating   timestamp                             title  \\\n",
       "0            1        1     4.0   964982703                  Toy Story (1995)   \n",
       "1            5        1     4.0   847434962                  Toy Story (1995)   \n",
       "2            7        1     4.5  1106635946                  Toy Story (1995)   \n",
       "3           15        1     2.5  1510577970                  Toy Story (1995)   \n",
       "4           17        1     4.5  1305696483                  Toy Story (1995)   \n",
       "...        ...      ...     ...         ...                               ...   \n",
       "100831     610   160341     2.5  1479545749                  Bloodmoon (1997)   \n",
       "100832     610   160527     4.5  1479544998  Sympathy for the Underdog (1971)   \n",
       "100833     610   160836     3.0  1493844794                     Hazard (2005)   \n",
       "100834     610   163937     3.5  1493848789                Blair Witch (2016)   \n",
       "100835     610   163981     3.5  1493850155                         31 (2016)   \n",
       "\n",
       "                                             genres  \n",
       "0       Adventure Animation Children Comedy Fantasy  \n",
       "1       Adventure Animation Children Comedy Fantasy  \n",
       "2       Adventure Animation Children Comedy Fantasy  \n",
       "3       Adventure Animation Children Comedy Fantasy  \n",
       "4       Adventure Animation Children Comedy Fantasy  \n",
       "...                                             ...  \n",
       "100831                              Action Thriller  \n",
       "100832                           Action Crime Drama  \n",
       "100833                        Action Drama Thriller  \n",
       "100834                              Horror Thriller  \n",
       "100835                                       Horror  \n",
       "\n",
       "[100836 rows x 6 columns]"
      ]
     },
     "execution_count": 7,
     "metadata": {},
     "output_type": "execute_result"
    }
   ],
   "source": [
    "df"
   ]
  },
  {
   "cell_type": "markdown",
   "id": "41d36e34",
   "metadata": {},
   "source": [
    "In a deep learning model, we can make use of features that we were not able to do so with our `SVD` model previously.<br>\n",
    "\n",
    "We will attempt to create a deep learning model using all 6 features of our dataset. Namely these are: `userId`, `movieId`, `rating`, `timestamp`, `title`, `genres`.\n",
    "\n",
    "We will be building a two step model, as is outlined in the tensorflow-recommenders guide. A retrieval model, and a ranking model. These two models will allow us to ....\n",
    "\n",
    "We will first start with the retrieval model."
   ]
  },
  {
   "cell_type": "markdown",
   "id": "ea6b9e76",
   "metadata": {},
   "source": [
    "## Retrieval Model"
   ]
  },
  {
   "cell_type": "markdown",
   "id": "03dbace3",
   "metadata": {},
   "source": [
    "In order to add all the features to our model, we will need to create `embeddings` for each of them. We can use the `Embedding` method in `Keras` to help with this. Let's start by first creating a tensorflow compatible dataset that we will then use for creation of any `embeddings` we need."
   ]
  },
  {
   "cell_type": "markdown",
   "id": "27805aa0",
   "metadata": {},
   "source": [
    "Converting our all our `movieIds` to a tensorflow dataset that will work with methods like `batch` and `map`."
   ]
  },
  {
   "cell_type": "markdown",
   "id": "e51269e1",
   "metadata": {},
   "source": [
    "We will continue to follow the documentation and steps outlined in the TensorFlow Recommenders guide and documentation."
   ]
  },
  {
   "cell_type": "code",
   "execution_count": 8,
   "id": "06858ec3",
   "metadata": {},
   "outputs": [],
   "source": [
    "retrieval_dataset = {\n",
    "    'movieId': df['movieId'].tolist(),\n",
    "    'genres': df['genres'].tolist(),\n",
    "    'title': df['title'].tolist(),\n",
    "    'userId': df['userId'].tolist(),\n",
    "    'timestamp': df['timestamp'].tolist(),\n",
    "}"
   ]
  },
  {
   "cell_type": "code",
   "execution_count": 9,
   "id": "d4cb3961",
   "metadata": {},
   "outputs": [],
   "source": [
    "retrieval_dataset = tf.data.Dataset.from_tensor_slices(retrieval_dataset)"
   ]
  },
  {
   "cell_type": "code",
   "execution_count": 10,
   "id": "fc883a20",
   "metadata": {},
   "outputs": [],
   "source": [
    "retrieval_dataset = retrieval_dataset.map(lambda x: {\n",
    "    'movieId': x['movieId'],\n",
    "    'genres': x['genres'],\n",
    "    'title': x['title'],\n",
    "    'userId': x['userId'],\n",
    "    'timestamp': x['timestamp'],\n",
    "})\n",
    "\n",
    "# creating separate datasets in case we need to use them to be added to the model.\n",
    "movies = retrieval_dataset.map(lambda x: x['movieId'])\n",
    "genres = retrieval_dataset.map(lambda x: x['genres'])\n",
    "movie_titles = retrieval_dataset.map(lambda x: x['title'])\n",
    "users = retrieval_dataset.map(lambda x: x['userId'])\n",
    "timestamps = retrieval_dataset.map(lambda x: x['timestamp'])\n",
    "movie_related = retrieval_dataset.map(lambda x: {\n",
    "    'movieId': x['movieId'],\n",
    "    'genres': x['genres'],\n",
    "    'title': x['title']\n",
    "})"
   ]
  },
  {
   "cell_type": "code",
   "execution_count": 11,
   "id": "6668d6cb",
   "metadata": {},
   "outputs": [
    {
     "data": {
      "text/plain": [
       "<MapDataset element_spec={'movieId': TensorSpec(shape=(), dtype=tf.int32, name=None), 'genres': TensorSpec(shape=(), dtype=tf.string, name=None), 'title': TensorSpec(shape=(), dtype=tf.string, name=None), 'userId': TensorSpec(shape=(), dtype=tf.int32, name=None), 'timestamp': TensorSpec(shape=(), dtype=tf.int32, name=None)}>"
      ]
     },
     "execution_count": 11,
     "metadata": {},
     "output_type": "execute_result"
    }
   ],
   "source": [
    "# sanity check once again to ensure that we have \n",
    "# a 'MapDataset' object\n",
    "retrieval_dataset"
   ]
  },
  {
   "cell_type": "markdown",
   "id": "02d12431",
   "metadata": {},
   "source": [
    "Now let's create the vocabularies for our `categorical` embeddings."
   ]
  },
  {
   "cell_type": "markdown",
   "id": "a827a9f2",
   "metadata": {},
   "source": [
    "### MovieIds and UserIds"
   ]
  },
  {
   "cell_type": "code",
   "execution_count": 12,
   "id": "3052824b",
   "metadata": {},
   "outputs": [],
   "source": [
    "# creating a list of unique userIds\n",
    "unique_user_ids = np.unique(df['userId'].tolist())\n",
    "\n",
    "# creating a list of unique movieIds\n",
    "unique_movie_ids = np.unique(df['movieId'].tolist())"
   ]
  },
  {
   "cell_type": "code",
   "execution_count": 13,
   "id": "7d0d6b31",
   "metadata": {},
   "outputs": [],
   "source": [
    "# defining the embedding dimension that we will use across all embedding layers.\n",
    "# we have kept this number relatively small so that the model will work\n",
    "# a little faster.\n",
    "embedding_dimension = 32"
   ]
  },
  {
   "cell_type": "code",
   "execution_count": 14,
   "id": "c9e4ba21",
   "metadata": {},
   "outputs": [],
   "source": [
    "# embedding unique userIds\n",
    "user_id_model = tf.keras.Sequential([\n",
    "    tf.keras.layers.IntegerLookup(\n",
    "        vocabulary=unique_user_ids, mask_token=None),\n",
    "    # We add some additional embeddings to account for unknown tokens.\n",
    "    tf.keras.layers.Embedding(len(unique_user_ids) + 1, embedding_dimension)\n",
    "])"
   ]
  },
  {
   "cell_type": "code",
   "execution_count": 15,
   "id": "f21d671d",
   "metadata": {},
   "outputs": [],
   "source": [
    "# embedding unique movie titles\n",
    "movie_id_model = tf.keras.Sequential([\n",
    "    tf.keras.layers.IntegerLookup(\n",
    "        vocabulary=unique_movie_ids, mask_token=None), \n",
    "    # We add some additional embeddings to account for unknown tokens.    \n",
    "    tf.keras.layers.Embedding(len(unique_movie_ids) + 1, embedding_dimension)\n",
    "])\n"
   ]
  },
  {
   "cell_type": "markdown",
   "id": "d1df2cd0",
   "metadata": {},
   "source": [
    "---"
   ]
  },
  {
   "cell_type": "markdown",
   "id": "908d7a46",
   "metadata": {},
   "source": [
    "### Genres"
   ]
  },
  {
   "cell_type": "markdown",
   "id": "230d21c1",
   "metadata": {},
   "source": [
    "Next we will create a `word embedding` for the genres feature.\n",
    "There are 34 movies in the `movies_df` that have 'no genres listed'. This may cause our model with the genres feature added into it to recommend movies with genres list, and not those without any genres. However we will still add genres into our model and for those with 'no genres listed', ....\n",
    "\n",
    "We will use the inbuilt text vectorizer in keras to vectorize our genres for us."
   ]
  },
  {
   "cell_type": "code",
   "execution_count": 16,
   "id": "85db2a08",
   "metadata": {},
   "outputs": [],
   "source": [
    "# replacing '(no genres listed)' with 'no_genres_listed' \n",
    "# for creation of genre vocabulary\n",
    "movie_df['genres'] = movie_df['genres'].map(lambda x: 'no_genres_listed' if x == '(no genres listed)' else x)\n",
    "df['genres'] = df['genres'].map(lambda x: 'no_genres_listed' if x == '(no genres listed)' else x)"
   ]
  },
  {
   "cell_type": "code",
   "execution_count": 17,
   "id": "858cb082",
   "metadata": {},
   "outputs": [],
   "source": [
    "# defining max_tokens for use in vectorizers\n",
    "max_tokens = 10_000"
   ]
  },
  {
   "cell_type": "code",
   "execution_count": 18,
   "id": "1548efde",
   "metadata": {},
   "outputs": [],
   "source": [
    "genre_text = tf.keras.layers.TextVectorization(\n",
    "    max_tokens=max_tokens,\n",
    "    standardize='lower_and_strip_punctuation',\n",
    "    split='whitespace',\n",
    "    ngrams=1,\n",
    "    output_mode='int',\n",
    ")"
   ]
  },
  {
   "cell_type": "code",
   "execution_count": null,
   "id": "4fd3445d",
   "metadata": {},
   "outputs": [],
   "source": [
    "genre_text.adapt(genres)"
   ]
  },
  {
   "cell_type": "code",
   "execution_count": null,
   "id": "011ab85a",
   "metadata": {},
   "outputs": [],
   "source": [
    "genre_embedding = tf.keras.layers.Embedding(\n",
    "    # Let's use the explicit vocabulary lookup.\n",
    "    input_dim=max_tokens,\n",
    "    output_dim=embedding_dimension,\n",
    "    mask_zero=True,\n",
    ")"
   ]
  },
  {
   "cell_type": "code",
   "execution_count": null,
   "id": "10cca6f1",
   "metadata": {},
   "outputs": [],
   "source": [
    "genres_model = tf.keras.Sequential([genre_text, \n",
    "                                    genre_embedding,\n",
    "                                    tf.keras.layers.GlobalAveragePooling1D()\n",
    "                                   ])"
   ]
  },
  {
   "cell_type": "markdown",
   "id": "915d8252",
   "metadata": {},
   "source": [
    "### Movie Titles"
   ]
  },
  {
   "cell_type": "markdown",
   "id": "6d63247f",
   "metadata": {},
   "source": [
    "Next we will create a `word embedding` for the `title` feature.\n",
    "Since there are some movies with missing genres, and since we have the `title` feature available to use, we will add this in to our deep learning model. \n",
    "\n",
    "We will use the inbuilt text vectorizer in keras to vectorize our movie titles for us."
   ]
  },
  {
   "cell_type": "code",
   "execution_count": null,
   "id": "83d87e0d",
   "metadata": {},
   "outputs": [],
   "source": [
    "title_text = tf.keras.layers.TextVectorization(\n",
    "    max_tokens=max_tokens\n",
    ")"
   ]
  },
  {
   "cell_type": "code",
   "execution_count": null,
   "id": "c2dbf261",
   "metadata": {},
   "outputs": [],
   "source": [
    "title_text.adapt(movie_titles)"
   ]
  },
  {
   "cell_type": "code",
   "execution_count": null,
   "id": "2345ae79",
   "metadata": {},
   "outputs": [],
   "source": [
    "title_embedding = tf.keras.layers.Embedding(\n",
    "    input_dim=max_tokens,\n",
    "    output_dim=embedding_dimension,\n",
    "    mask_zero=True,   \n",
    ")"
   ]
  },
  {
   "cell_type": "code",
   "execution_count": null,
   "id": "01a1f3be",
   "metadata": {},
   "outputs": [],
   "source": [
    "titles_model = tf.keras.Sequential([title_text, \n",
    "                                    title_embedding, \n",
    "                                    tf.keras.layers.GlobalAveragePooling1D()\n",
    "                                   ])"
   ]
  },
  {
   "cell_type": "markdown",
   "id": "63cb1482",
   "metadata": {},
   "source": [
    "### Timestamp"
   ]
  },
  {
   "cell_type": "markdown",
   "id": "f01b9ba9",
   "metadata": {},
   "source": [
    "Now let's handle the `timestamp` feature. Let's first take a look at what we are working with."
   ]
  },
  {
   "cell_type": "code",
   "execution_count": 24,
   "id": "273a20ec",
   "metadata": {},
   "outputs": [
    {
     "data": {
      "text/plain": [
       "0     964982703\n",
       "1     847434962\n",
       "2    1106635946\n",
       "3    1510577970\n",
       "4    1305696483\n",
       "Name: timestamp, dtype: int64"
      ]
     },
     "execution_count": 24,
     "metadata": {},
     "output_type": "execute_result"
    }
   ],
   "source": [
    "df['timestamp'].head()"
   ]
  },
  {
   "cell_type": "markdown",
   "id": "11a4ee31",
   "metadata": {},
   "source": [
    "These numbers are too large for us to directly use in a deep model. So we will first preprocess it.<br>\n",
    "\n",
    "There are a few methods to do this. However to keep things simple, we will do this as per the [tensorflow-recommenders guide](https://www.tensorflow.org/recommenders/examples/featurization), with discretion."
   ]
  },
  {
   "cell_type": "code",
   "execution_count": 106,
   "id": "ced620a9",
   "metadata": {},
   "outputs": [],
   "source": [
    "# NEED TO CHECK, FINAL MODEL MAY NOT REQUIRE US TO USE NORMALIZATION. DURING CLEANUP, REMOVE IF THAT IS THE CASE.\n",
    "\n",
    "# timestamp_normalization = tf.keras.layers.Normalization(\n",
    "#     axis=None\n",
    "# )\n",
    "# timestamp_normalization.adapt(retrieval_dataset.map(lambda x: x['timestamp']).batch(1024))\n",
    "\n",
    "# # sanity check to ensure that normalization has taken place\n",
    "# for x in retrieval_dataset.take(3).as_numpy_iterator():\n",
    "#   print(f\"Normalized timestamp: {timestamp_normalization(x['timestamp'])}.\")"
   ]
  },
  {
   "cell_type": "code",
   "execution_count": 25,
   "id": "13487a80",
   "metadata": {},
   "outputs": [
    {
     "name": "stdout",
     "output_type": "stream",
     "text": [
      "Buckets: [8.28124615e+08 8.28835000e+08 8.29545385e+08]\n"
     ]
    }
   ],
   "source": [
    "max_timestamp = retrieval_dataset.map(lambda x: x[\"timestamp\"]).reduce(\n",
    "    tf.cast(0, tf.int32), tf.maximum).numpy().max()\n",
    "min_timestamp = retrieval_dataset.map(lambda x: x[\"timestamp\"]).reduce(\n",
    "    np.int32(1e9), tf.minimum).numpy().min()\n",
    "\n",
    "timestamp_buckets = np.linspace(\n",
    "    min_timestamp, max_timestamp, num=1000)\n",
    "\n",
    "print(f\"Buckets: {timestamp_buckets[:3]}\")"
   ]
  },
  {
   "cell_type": "code",
   "execution_count": 26,
   "id": "9354d181",
   "metadata": {},
   "outputs": [
    {
     "name": "stdout",
     "output_type": "stream",
     "text": [
      "Timestamp embedding: [[-0.02859758  0.04812067 -0.04115045  0.0166784  -0.04171146  0.02487776\n",
      "   0.02345314 -0.00947617  0.02378613  0.0014785   0.02938877 -0.00154354\n",
      "   0.03436743 -0.02186853  0.04073776 -0.03272225  0.03824681 -0.01272387\n",
      "   0.0039858  -0.00520881  0.04363341  0.03625294 -0.01143221  0.00464549\n",
      "  -0.04138755 -0.04707613  0.04044684  0.01498796  0.03483767 -0.01105011\n",
      "  -0.00559451  0.04857378]].\n"
     ]
    }
   ],
   "source": [
    "timestamp_embedding_model = tf.keras.Sequential([\n",
    "  tf.keras.layers.Discretization(timestamp_buckets.tolist()),\n",
    "  tf.keras.layers.Embedding(len(timestamp_buckets) + 1, 32)\n",
    "])\n",
    "\n",
    "for timestamp in retrieval_dataset.take(1).map(lambda x: x[\"timestamp\"]).batch(1).as_numpy_iterator():\n",
    "  print(f\"Timestamp embedding: {timestamp_embedding_model(timestamp)}.\")"
   ]
  },
  {
   "cell_type": "markdown",
   "id": "c760f949",
   "metadata": {},
   "source": [
    "With this done, we can move on to building the candidate and query towers."
   ]
  },
  {
   "cell_type": "markdown",
   "id": "61b97c59",
   "metadata": {},
   "source": [
    "## Query Tower"
   ]
  },
  {
   "cell_type": "code",
   "execution_count": 28,
   "id": "f7ea1172",
   "metadata": {},
   "outputs": [],
   "source": [
    "class UserModel(tf.keras.Model):\n",
    "\n",
    "  def __init__(self):\n",
    "    super().__init__()\n",
    "    \n",
    "    # using previously defined and created user_id_model\n",
    "    self.user_embedding = user_id_model\n",
    "    \n",
    "    # using previously defined and created timestamp_embedding_model\n",
    "    self.timestamp_embedding = timestamp_embedding_model\n",
    "    self.normalized_timestamp = tf.keras.layers.Normalization(\n",
    "        axis=None\n",
    "    )\n",
    "\n",
    "    self.normalized_timestamp.adapt(timestamps)\n",
    "    \n",
    "    # using previously defined and created genres_model\n",
    "    self.genre_text_embedding = genres_model\n",
    "    \n",
    "    # using previously defined and created titles_model\n",
    "    self.title_text_embedding = titles_model\n",
    "\n",
    "  def call(self, inputs):\n",
    "    # Take the input dictionary, pass it through each input layer,\n",
    "    # and concatenate the result.\n",
    "    return tf.concat([\n",
    "        self.user_embedding(inputs['userId']),\n",
    "        self.timestamp_embedding(inputs['timestamp']),\n",
    "        tf.reshape(self.normalized_timestamp(inputs['timestamp']), (-1, 1)),\n",
    "        self.genre_text_embedding(inputs['genres']),\n",
    "        self.title_text_embedding(inputs['title'])\n",
    "    ], axis=1)"
   ]
  },
  {
   "cell_type": "code",
   "execution_count": 29,
   "id": "279abb36",
   "metadata": {},
   "outputs": [],
   "source": [
    "class QueryModel(tf.keras.Model):\n",
    "  \"\"\"Model for encoding user queries.\"\"\"\n",
    "\n",
    "  def __init__(self, layer_sizes):\n",
    "    \"\"\"Model for encoding user queries.\n",
    "\n",
    "    Args:\n",
    "      layer_sizes:\n",
    "        A list of integers where the i-th entry represents the number of units\n",
    "        the i-th layer contains.\n",
    "    \"\"\"\n",
    "    super().__init__()\n",
    "\n",
    "    # We first use the user model for generating embeddings.\n",
    "    self.embedding_model = UserModel()\n",
    "\n",
    "    # Then construct the layers.\n",
    "    self.dense_layers = tf.keras.Sequential()    \n",
    "\n",
    "    # Use the ReLU activation for all but the last layer.\n",
    "    for layer_size in layer_sizes[:-1]:\n",
    "      self.dense_layers.add(tf.keras.layers.Dense(layer_size, \n",
    "                                                  activation=\"relu\"))\n",
    "\n",
    "    # No activation for the last layer.\n",
    "    for layer_size in layer_sizes[-1:]:\n",
    "      self.dense_layers.add(tf.keras.layers.Dense(layer_size))\n",
    "\n",
    "  def call(self, inputs):\n",
    "    feature_embedding = self.embedding_model(inputs)\n",
    "    return self.dense_layers(feature_embedding)"
   ]
  },
  {
   "cell_type": "markdown",
   "id": "46f1a772",
   "metadata": {},
   "source": [
    "## Candidate Tower"
   ]
  },
  {
   "cell_type": "code",
   "execution_count": 30,
   "id": "e201ad5d",
   "metadata": {},
   "outputs": [],
   "source": [
    "class MovieModel(tf.keras.Model):\n",
    "\n",
    "  def __init__(self):\n",
    "    super().__init__()\n",
    "\n",
    "    # using previously defined and created movie_id_model\n",
    "    self.movie_id_embedding = movie_id_model\n",
    "\n",
    "  def call(self, inputs):\n",
    "    return self.movie_id_embedding(inputs)"
   ]
  },
  {
   "cell_type": "code",
   "execution_count": 31,
   "id": "d66d51cf",
   "metadata": {},
   "outputs": [],
   "source": [
    "class CandidateModel(tf.keras.Model):\n",
    "  \"\"\"Model for encoding movies.\"\"\"\n",
    "\n",
    "  def __init__(self, layer_sizes):\n",
    "    \"\"\"Model for encoding movies.\n",
    "\n",
    "    Args:\n",
    "      layer_sizes:\n",
    "        A list of integers where the i-th entry represents the number of units\n",
    "        the i-th layer contains.\n",
    "    \"\"\"\n",
    "    super().__init__()\n",
    "\n",
    "    self.embedding_model = MovieModel()\n",
    "\n",
    "    # Then construct the layers.\n",
    "    self.dense_layers = tf.keras.Sequential()\n",
    "\n",
    "    # Use the ReLU activation for all but the last layer.\n",
    "    for layer_size in layer_sizes[:-1]:\n",
    "      self.dense_layers.add(tf.keras.layers.Dense(layer_size, \n",
    "                                                  activation=\"relu\"))\n",
    "\n",
    "    # No activation for the last layer.\n",
    "    for layer_size in layer_sizes[-1:]:\n",
    "      self.dense_layers.add(tf.keras.layers.Dense(layer_size))\n",
    "\n",
    "  def call(self, inputs):\n",
    "    feature_embedding = self.embedding_model(inputs)\n",
    "    return self.dense_layers(feature_embedding)"
   ]
  },
  {
   "cell_type": "markdown",
   "id": "7d95ce37",
   "metadata": {},
   "source": [
    "Now all that is left to do is to combine these two towers into one retrieval model."
   ]
  },
  {
   "cell_type": "markdown",
   "id": "3bc921cf",
   "metadata": {},
   "source": [
    "---"
   ]
  },
  {
   "cell_type": "markdown",
   "id": "312b06d9",
   "metadata": {},
   "source": [
    "## Combined Retreival Model"
   ]
  },
  {
   "cell_type": "code",
   "execution_count": 32,
   "id": "720b2466",
   "metadata": {},
   "outputs": [],
   "source": [
    "class MovielensModel_retrieval(tfrs.models.Model):\n",
    "\n",
    "  def __init__(self, layer_sizes):\n",
    "    super().__init__()\n",
    "    self.query_model = QueryModel(layer_sizes)\n",
    "    self.candidate_model = CandidateModel(layer_sizes)\n",
    "    self.task = tfrs.tasks.Retrieval(\n",
    "        metrics=tfrs.metrics.FactorizedTopK(\n",
    "            candidates=movies.batch(128).map(self.candidate_model),\n",
    "        ),\n",
    "    )\n",
    "\n",
    "  def compute_loss(self, features, training=False):\n",
    "    # We only pass the user id and timestamp features into the query model. This\n",
    "    # is to ensure that the training inputs would have the same keys as the\n",
    "    # query inputs. Otherwise the discrepancy in input structure would cause an\n",
    "    # error when loading the query model after saving it.\n",
    "    query_embeddings = self.query_model({\n",
    "        'userId': features['userId'],\n",
    "        'timestamp': features['timestamp'],\n",
    "        'genres': features['genres'],\n",
    "        'title': features['title']\n",
    "    })\n",
    "    movie_embeddings = self.candidate_model(features['movieId'])\n",
    "\n",
    "    return self.task(\n",
    "        query_embeddings, movie_embeddings, compute_metrics=not training)"
   ]
  },
  {
   "cell_type": "markdown",
   "id": "389e3891",
   "metadata": {},
   "source": [
    "Now with the model built, we are ready to train our model."
   ]
  },
  {
   "cell_type": "markdown",
   "id": "72b32c81",
   "metadata": {},
   "source": [
    "---"
   ]
  },
  {
   "cell_type": "markdown",
   "id": "4264741b",
   "metadata": {},
   "source": [
    "## Train, Test split"
   ]
  },
  {
   "cell_type": "markdown",
   "id": "daac30f8",
   "metadata": {},
   "source": [
    "Now we are ready to train our model, let's do a train_test_split on our data."
   ]
  },
  {
   "cell_type": "code",
   "execution_count": 33,
   "id": "ad4c1fb1",
   "metadata": {},
   "outputs": [],
   "source": [
    "tf.random.set_seed(42)\n",
    "retrieval_shuffled = retrieval_dataset.shuffle(100_000, \n",
    "                           seed=42,\n",
    "                           reshuffle_each_iteration=False)\n",
    "\n",
    "retrieval_train = retrieval_shuffled.take(80_000)\n",
    "retrieval_test = retrieval_shuffled.skip(80_000).take(20_000)\n",
    "\n",
    "retrieval_cached_train = retrieval_train.shuffle(100_000).batch(8192).cache()\n",
    "retrieval_cached_test = retrieval_test.batch(4096).cache()"
   ]
  },
  {
   "cell_type": "code",
   "execution_count": 80,
   "id": "0f1ae0ce",
   "metadata": {},
   "outputs": [],
   "source": [
    "num_epochs = 30\n",
    "\n",
    "retrieval_model_1 = MovielensModel_retrieval([32])\n",
    "retrieval_model_1.compile(optimizer=tf.keras.optimizers.Adagrad(0.1))\n",
    "\n",
    "one_layer_history = retrieval_model_1.fit(\n",
    "    retrieval_cached_train,\n",
    "    validation_data=retrieval_cached_test,\n",
    "    validation_freq=5,\n",
    "    epochs=num_epochs,\n",
    "    verbose=0\n",
    ")"
   ]
  },
  {
   "cell_type": "code",
   "execution_count": 81,
   "id": "18c3d48a",
   "metadata": {},
   "outputs": [],
   "source": [
    "retrieval_model_2 = MovielensModel_retrieval([64, 32])\n",
    "retrieval_model_2.compile(optimizer=tf.keras.optimizers.Adagrad(0.1))\n",
    "\n",
    "two_layer_history= retrieval_model_2.fit(\n",
    "    retrieval_cached_train,\n",
    "    validation_data=retrieval_cached_test,\n",
    "    validation_freq=5,\n",
    "    epochs=num_epochs,\n",
    "    verbose=0\n",
    ")"
   ]
  },
  {
   "cell_type": "code",
   "execution_count": 42,
   "id": "c18a86d8",
   "metadata": {},
   "outputs": [],
   "source": [
    "final_v1 = final_history"
   ]
  },
  {
   "cell_type": "code",
   "execution_count": 45,
   "id": "b9c45456",
   "metadata": {},
   "outputs": [
    {
     "name": "stdout",
     "output_type": "stream",
     "text": [
      "Top-100 accuracy: 0.87.\n"
     ]
    }
   ],
   "source": [
    "accuracy = final_history.history[\"val_factorized_top_k/top_100_categorical_accuracy\"][-1]\n",
    "print(f\"Top-100 accuracy: {accuracy:.2f}.\")"
   ]
  },
  {
   "cell_type": "code",
   "execution_count": 46,
   "id": "0ccdc940",
   "metadata": {},
   "outputs": [
    {
     "data": {
      "image/png": "[encoded data removed]",
      "text/plain": [
       "<Figure size 864x576 with 1 Axes>"
      ]
     },
     "metadata": {
      "needs_background": "light"
     },
     "output_type": "display_data"
    }
   ],
   "source": [
    "train_loss = final_history.history['loss']\n",
    "test_loss = final_history.history['val_loss']\n",
    "\n",
    "plt.figure(figsize=(12, 8))\n",
    "plt.plot(train_loss, label='Training loss', color='navy')\n",
    "plt.plot(test_loss, label='Testing loss', color='skyblue')\n",
    "plt.legend();"
   ]
  },
  {
   "cell_type": "code",
   "execution_count": 82,
   "id": "3815df73",
   "metadata": {},
   "outputs": [
    {
     "data": {
      "text/plain": [
       "<matplotlib.legend.Legend at 0x299bb439250>"
      ]
     },
     "execution_count": 82,
     "metadata": {},
     "output_type": "execute_result"
    },
    {
     "data": {
      "image/png": "[encoded data removed]",
      "text/plain": [
       "<Figure size 432x288 with 1 Axes>"
      ]
     },
     "metadata": {
      "needs_background": "light"
     },
     "output_type": "display_data"
    }
   ],
   "source": [
    "num_validation_runs = len(final_history.history[\"val_factorized_top_k/top_100_categorical_accuracy\"])\n",
    "epochs = [x*5 for x in range(1, 7)]\n",
    "\n",
    "plt.plot(epochs, one_layer_history.history[\"val_factorized_top_k/top_100_categorical_accuracy\"], label=\"1 layer\")\n",
    "plt.plot(epochs, two_layer_history.history[\"val_factorized_top_k/top_100_categorical_accuracy\"], label=\"2 layers\")\n",
    "plt.title(\"Accuracy vs epoch\")\n",
    "plt.xlabel(\"epoch\")\n",
    "plt.ylabel(\"Top-100 accuracy\");\n",
    "plt.legend()"
   ]
  },
  {
   "cell_type": "markdown",
   "id": "e49bd721",
   "metadata": {},
   "source": [
    "I will try again with higher number of epochs, seems that the 1 layer model is performing better, most likely due to the learning rate."
   ]
  },
  {
   "cell_type": "code",
   "execution_count": 84,
   "id": "1a9cacf8",
   "metadata": {},
   "outputs": [],
   "source": [
    "num_epochs = 100\n",
    "\n",
    "retrieval_model_3 = MovielensModel_retrieval([32])\n",
    "retrieval_model_3.compile(optimizer=tf.keras.optimizers.Adagrad(0.1))\n",
    "\n",
    "one_layer_history_2 = retrieval_model_3.fit(\n",
    "    retrieval_cached_train,\n",
    "    validation_data=retrieval_cached_test,\n",
    "    validation_freq=1,\n",
    "    epochs=num_epochs,\n",
    "    verbose=0\n",
    ")"
   ]
  },
  {
   "cell_type": "code",
   "execution_count": 83,
   "id": "7cc28101",
   "metadata": {},
   "outputs": [],
   "source": [
    "retrieval_model_4 = MovielensModel_retrieval([64, 32])\n",
    "retrieval_model_4.compile(optimizer=tf.keras.optimizers.Adagrad(0.1))\n",
    "\n",
    "two_layer_history_2 = retrieval_model_4.fit(\n",
    "    retrieval_cached_train,\n",
    "    validation_data=retrieval_cached_test,\n",
    "    validation_freq=1,\n",
    "    epochs=num_epochs,\n",
    "    verbose=0\n",
    ")"
   ]
  },
  {
   "cell_type": "code",
   "execution_count": 90,
   "id": "e1bfbddb",
   "metadata": {},
   "outputs": [
    {
     "data": {
      "text/plain": [
       "30"
      ]
     },
     "execution_count": 90,
     "metadata": {},
     "output_type": "execute_result"
    }
   ],
   "source": [
    "len(two_layer_history_2.history[\"val_factorized_top_k/top_100_categorical_accuracy\"])"
   ]
  },
  {
   "cell_type": "code",
   "execution_count": 88,
   "id": "ce03a0c5",
   "metadata": {},
   "outputs": [
    {
     "ename": "ValueError",
     "evalue": "x and y must have same first dimension, but have shapes (100,) and (30,)",
     "output_type": "error",
     "traceback": [
      "\u001b[1;31m---------------------------------------------------------------------------\u001b[0m",
      "\u001b[1;31mValueError\u001b[0m                                Traceback (most recent call last)",
      "Input \u001b[1;32mIn [88]\u001b[0m, in \u001b[0;36m<cell line: 2>\u001b[1;34m()\u001b[0m\n\u001b[0;32m      1\u001b[0m plt\u001b[38;5;241m.\u001b[39mplot([x \u001b[38;5;28;01mfor\u001b[39;00m x \u001b[38;5;129;01min\u001b[39;00m \u001b[38;5;28mrange\u001b[39m(\u001b[38;5;241m100\u001b[39m)], one_layer_history_2\u001b[38;5;241m.\u001b[39mhistory[\u001b[38;5;124m\"\u001b[39m\u001b[38;5;124mval_factorized_top_k/top_100_categorical_accuracy\u001b[39m\u001b[38;5;124m\"\u001b[39m], label\u001b[38;5;241m=\u001b[39m\u001b[38;5;124m\"\u001b[39m\u001b[38;5;124m1 layer\u001b[39m\u001b[38;5;124m\"\u001b[39m)\n\u001b[1;32m----> 2\u001b[0m \u001b[43mplt\u001b[49m\u001b[38;5;241;43m.\u001b[39;49m\u001b[43mplot\u001b[49m\u001b[43m(\u001b[49m\u001b[43m[\u001b[49m\u001b[43mx\u001b[49m\u001b[43m \u001b[49m\u001b[38;5;28;43;01mfor\u001b[39;49;00m\u001b[43m \u001b[49m\u001b[43mx\u001b[49m\u001b[43m \u001b[49m\u001b[38;5;129;43;01min\u001b[39;49;00m\u001b[43m \u001b[49m\u001b[38;5;28;43mrange\u001b[39;49m\u001b[43m(\u001b[49m\u001b[38;5;241;43m100\u001b[39;49m\u001b[43m)\u001b[49m\u001b[43m]\u001b[49m\u001b[43m,\u001b[49m\u001b[43m \u001b[49m\u001b[43mtwo_layer_history_2\u001b[49m\u001b[38;5;241;43m.\u001b[39;49m\u001b[43mhistory\u001b[49m\u001b[43m[\u001b[49m\u001b[38;5;124;43m\"\u001b[39;49m\u001b[38;5;124;43mval_factorized_top_k/top_100_categorical_accuracy\u001b[39;49m\u001b[38;5;124;43m\"\u001b[39;49m\u001b[43m]\u001b[49m\u001b[43m,\u001b[49m\u001b[43m \u001b[49m\u001b[43mlabel\u001b[49m\u001b[38;5;241;43m=\u001b[39;49m\u001b[38;5;124;43m\"\u001b[39;49m\u001b[38;5;124;43m2 layers\u001b[39;49m\u001b[38;5;124;43m\"\u001b[39;49m\u001b[43m)\u001b[49m\n\u001b[0;32m      3\u001b[0m plt\u001b[38;5;241m.\u001b[39mtitle(\u001b[38;5;124m\"\u001b[39m\u001b[38;5;124mAccuracy vs epoch\u001b[39m\u001b[38;5;124m\"\u001b[39m)\n\u001b[0;32m      4\u001b[0m plt\u001b[38;5;241m.\u001b[39mxlabel(\u001b[38;5;124m\"\u001b[39m\u001b[38;5;124mepoch\u001b[39m\u001b[38;5;124m\"\u001b[39m)\n",
      "File \u001b[1;32m~\\.conda\\envs\\dsicapstone\\lib\\site-packages\\matplotlib\\pyplot.py:2757\u001b[0m, in \u001b[0;36mplot\u001b[1;34m(scalex, scaley, data, *args, **kwargs)\u001b[0m\n\u001b[0;32m   2755\u001b[0m \u001b[38;5;129m@_copy_docstring_and_deprecators\u001b[39m(Axes\u001b[38;5;241m.\u001b[39mplot)\n\u001b[0;32m   2756\u001b[0m \u001b[38;5;28;01mdef\u001b[39;00m \u001b[38;5;21mplot\u001b[39m(\u001b[38;5;241m*\u001b[39margs, scalex\u001b[38;5;241m=\u001b[39m\u001b[38;5;28;01mTrue\u001b[39;00m, scaley\u001b[38;5;241m=\u001b[39m\u001b[38;5;28;01mTrue\u001b[39;00m, data\u001b[38;5;241m=\u001b[39m\u001b[38;5;28;01mNone\u001b[39;00m, \u001b[38;5;241m*\u001b[39m\u001b[38;5;241m*\u001b[39mkwargs):\n\u001b[1;32m-> 2757\u001b[0m     \u001b[38;5;28;01mreturn\u001b[39;00m \u001b[43mgca\u001b[49m\u001b[43m(\u001b[49m\u001b[43m)\u001b[49m\u001b[38;5;241;43m.\u001b[39;49m\u001b[43mplot\u001b[49m\u001b[43m(\u001b[49m\n\u001b[0;32m   2758\u001b[0m \u001b[43m        \u001b[49m\u001b[38;5;241;43m*\u001b[39;49m\u001b[43margs\u001b[49m\u001b[43m,\u001b[49m\u001b[43m \u001b[49m\u001b[43mscalex\u001b[49m\u001b[38;5;241;43m=\u001b[39;49m\u001b[43mscalex\u001b[49m\u001b[43m,\u001b[49m\u001b[43m \u001b[49m\u001b[43mscaley\u001b[49m\u001b[38;5;241;43m=\u001b[39;49m\u001b[43mscaley\u001b[49m\u001b[43m,\u001b[49m\n\u001b[0;32m   2759\u001b[0m \u001b[43m        \u001b[49m\u001b[38;5;241;43m*\u001b[39;49m\u001b[38;5;241;43m*\u001b[39;49m\u001b[43m(\u001b[49m\u001b[43m{\u001b[49m\u001b[38;5;124;43m\"\u001b[39;49m\u001b[38;5;124;43mdata\u001b[39;49m\u001b[38;5;124;43m\"\u001b[39;49m\u001b[43m:\u001b[49m\u001b[43m \u001b[49m\u001b[43mdata\u001b[49m\u001b[43m}\u001b[49m\u001b[43m \u001b[49m\u001b[38;5;28;43;01mif\u001b[39;49;00m\u001b[43m \u001b[49m\u001b[43mdata\u001b[49m\u001b[43m \u001b[49m\u001b[38;5;129;43;01mis\u001b[39;49;00m\u001b[43m \u001b[49m\u001b[38;5;129;43;01mnot\u001b[39;49;00m\u001b[43m \u001b[49m\u001b[38;5;28;43;01mNone\u001b[39;49;00m\u001b[43m \u001b[49m\u001b[38;5;28;43;01melse\u001b[39;49;00m\u001b[43m \u001b[49m\u001b[43m{\u001b[49m\u001b[43m}\u001b[49m\u001b[43m)\u001b[49m\u001b[43m,\u001b[49m\u001b[43m \u001b[49m\u001b[38;5;241;43m*\u001b[39;49m\u001b[38;5;241;43m*\u001b[39;49m\u001b[43mkwargs\u001b[49m\u001b[43m)\u001b[49m\n",
      "File \u001b[1;32m~\\.conda\\envs\\dsicapstone\\lib\\site-packages\\matplotlib\\axes\\_axes.py:1632\u001b[0m, in \u001b[0;36mAxes.plot\u001b[1;34m(self, scalex, scaley, data, *args, **kwargs)\u001b[0m\n\u001b[0;32m   1390\u001b[0m \u001b[38;5;124;03m\"\"\"\u001b[39;00m\n\u001b[0;32m   1391\u001b[0m \u001b[38;5;124;03mPlot y versus x as lines and/or markers.\u001b[39;00m\n\u001b[0;32m   1392\u001b[0m \n\u001b[1;32m   (...)\u001b[0m\n\u001b[0;32m   1629\u001b[0m \u001b[38;5;124;03m(``'green'``) or hex strings (``'#008000'``).\u001b[39;00m\n\u001b[0;32m   1630\u001b[0m \u001b[38;5;124;03m\"\"\"\u001b[39;00m\n\u001b[0;32m   1631\u001b[0m kwargs \u001b[38;5;241m=\u001b[39m cbook\u001b[38;5;241m.\u001b[39mnormalize_kwargs(kwargs, mlines\u001b[38;5;241m.\u001b[39mLine2D)\n\u001b[1;32m-> 1632\u001b[0m lines \u001b[38;5;241m=\u001b[39m [\u001b[38;5;241m*\u001b[39m\u001b[38;5;28mself\u001b[39m\u001b[38;5;241m.\u001b[39m_get_lines(\u001b[38;5;241m*\u001b[39margs, data\u001b[38;5;241m=\u001b[39mdata, \u001b[38;5;241m*\u001b[39m\u001b[38;5;241m*\u001b[39mkwargs)]\n\u001b[0;32m   1633\u001b[0m \u001b[38;5;28;01mfor\u001b[39;00m line \u001b[38;5;129;01min\u001b[39;00m lines:\n\u001b[0;32m   1634\u001b[0m     \u001b[38;5;28mself\u001b[39m\u001b[38;5;241m.\u001b[39madd_line(line)\n",
      "File \u001b[1;32m~\\.conda\\envs\\dsicapstone\\lib\\site-packages\\matplotlib\\axes\\_base.py:312\u001b[0m, in \u001b[0;36m_process_plot_var_args.__call__\u001b[1;34m(self, data, *args, **kwargs)\u001b[0m\n\u001b[0;32m    310\u001b[0m     this \u001b[38;5;241m+\u001b[39m\u001b[38;5;241m=\u001b[39m args[\u001b[38;5;241m0\u001b[39m],\n\u001b[0;32m    311\u001b[0m     args \u001b[38;5;241m=\u001b[39m args[\u001b[38;5;241m1\u001b[39m:]\n\u001b[1;32m--> 312\u001b[0m \u001b[38;5;28;01myield from\u001b[39;00m \u001b[38;5;28;43mself\u001b[39;49m\u001b[38;5;241;43m.\u001b[39;49m\u001b[43m_plot_args\u001b[49m\u001b[43m(\u001b[49m\u001b[43mthis\u001b[49m\u001b[43m,\u001b[49m\u001b[43m \u001b[49m\u001b[43mkwargs\u001b[49m\u001b[43m)\u001b[49m\n",
      "File \u001b[1;32m~\\.conda\\envs\\dsicapstone\\lib\\site-packages\\matplotlib\\axes\\_base.py:498\u001b[0m, in \u001b[0;36m_process_plot_var_args._plot_args\u001b[1;34m(self, tup, kwargs, return_kwargs)\u001b[0m\n\u001b[0;32m    495\u001b[0m     \u001b[38;5;28mself\u001b[39m\u001b[38;5;241m.\u001b[39maxes\u001b[38;5;241m.\u001b[39myaxis\u001b[38;5;241m.\u001b[39mupdate_units(y)\n\u001b[0;32m    497\u001b[0m \u001b[38;5;28;01mif\u001b[39;00m x\u001b[38;5;241m.\u001b[39mshape[\u001b[38;5;241m0\u001b[39m] \u001b[38;5;241m!=\u001b[39m y\u001b[38;5;241m.\u001b[39mshape[\u001b[38;5;241m0\u001b[39m]:\n\u001b[1;32m--> 498\u001b[0m     \u001b[38;5;28;01mraise\u001b[39;00m \u001b[38;5;167;01mValueError\u001b[39;00m(\u001b[38;5;124mf\u001b[39m\u001b[38;5;124m\"\u001b[39m\u001b[38;5;124mx and y must have same first dimension, but \u001b[39m\u001b[38;5;124m\"\u001b[39m\n\u001b[0;32m    499\u001b[0m                      \u001b[38;5;124mf\u001b[39m\u001b[38;5;124m\"\u001b[39m\u001b[38;5;124mhave shapes \u001b[39m\u001b[38;5;132;01m{\u001b[39;00mx\u001b[38;5;241m.\u001b[39mshape\u001b[38;5;132;01m}\u001b[39;00m\u001b[38;5;124m and \u001b[39m\u001b[38;5;132;01m{\u001b[39;00my\u001b[38;5;241m.\u001b[39mshape\u001b[38;5;132;01m}\u001b[39;00m\u001b[38;5;124m\"\u001b[39m)\n\u001b[0;32m    500\u001b[0m \u001b[38;5;28;01mif\u001b[39;00m x\u001b[38;5;241m.\u001b[39mndim \u001b[38;5;241m>\u001b[39m \u001b[38;5;241m2\u001b[39m \u001b[38;5;129;01mor\u001b[39;00m y\u001b[38;5;241m.\u001b[39mndim \u001b[38;5;241m>\u001b[39m \u001b[38;5;241m2\u001b[39m:\n\u001b[0;32m    501\u001b[0m     \u001b[38;5;28;01mraise\u001b[39;00m \u001b[38;5;167;01mValueError\u001b[39;00m(\u001b[38;5;124mf\u001b[39m\u001b[38;5;124m\"\u001b[39m\u001b[38;5;124mx and y can be no greater than 2D, but have \u001b[39m\u001b[38;5;124m\"\u001b[39m\n\u001b[0;32m    502\u001b[0m                      \u001b[38;5;124mf\u001b[39m\u001b[38;5;124m\"\u001b[39m\u001b[38;5;124mshapes \u001b[39m\u001b[38;5;132;01m{\u001b[39;00mx\u001b[38;5;241m.\u001b[39mshape\u001b[38;5;132;01m}\u001b[39;00m\u001b[38;5;124m and \u001b[39m\u001b[38;5;132;01m{\u001b[39;00my\u001b[38;5;241m.\u001b[39mshape\u001b[38;5;132;01m}\u001b[39;00m\u001b[38;5;124m\"\u001b[39m)\n",
      "\u001b[1;31mValueError\u001b[0m: x and y must have same first dimension, but have shapes (100,) and (30,)"
     ]
    },
    {
     "data": {
      "image/png": "[encoded data removed]",
      "text/plain": [
       "<Figure size 432x288 with 1 Axes>"
      ]
     },
     "metadata": {
      "needs_background": "light"
     },
     "output_type": "display_data"
    }
   ],
   "source": [
    "plt.plot([x for x in range(100)], one_layer_history_2.history[\"val_factorized_top_k/top_100_categorical_accuracy\"], label=\"1 layer\")\n",
    "plt.plot([x for x in range(100)], two_layer_history_2.history[\"val_factorized_top_k/top_100_categorical_accuracy\"], label=\"2 layers\")\n",
    "plt.title(\"Accuracy vs epoch\")\n",
    "plt.xlabel(\"epoch\")\n",
    "plt.ylabel(\"Top-100 accuracy\");\n",
    "plt.legend()"
   ]
  },
  {
   "cell_type": "code",
   "execution_count": null,
   "id": "67e79d5a",
   "metadata": {},
   "outputs": [],
   "source": []
  },
  {
   "cell_type": "code",
   "execution_count": 75,
   "id": "39c59d49",
   "metadata": {},
   "outputs": [
    {
     "data": {
      "text/plain": [
       "[5, 10, 15, 20, 25, 30, 35, 40, 45, 50]"
      ]
     },
     "execution_count": 75,
     "metadata": {},
     "output_type": "execute_result"
    }
   ],
   "source": [
    "epochs"
   ]
  },
  {
   "cell_type": "code",
   "execution_count": 78,
   "id": "f279a96c",
   "metadata": {},
   "outputs": [
    {
     "data": {
      "text/plain": [
       "[0.6983000040054321,\n",
       " 0.8637999892234802,\n",
       " 0.8673499822616577,\n",
       " 0.8675000071525574,\n",
       " 0.866349995136261,\n",
       " 0.8666499853134155,\n",
       " 0.865149974822998,\n",
       " 0.8649500012397766,\n",
       " 0.8658000230789185,\n",
       " 0.8659999966621399]"
      ]
     },
     "execution_count": 78,
     "metadata": {},
     "output_type": "execute_result"
    }
   ],
   "source": [
    "final_history.history[\"val_factorized_top_k/top_100_categorical_accuracy\"][4:54:5]"
   ]
  },
  {
   "cell_type": "code",
   "execution_count": 53,
   "id": "ee4f7d11",
   "metadata": {},
   "outputs": [
    {
     "name": "stdout",
     "output_type": "stream",
     "text": [
      "Recommendations for user 42: [[7454 7454 7454 7454 7454 7454 7454 7454 7454 7454 7454 7454 7454 7454\n",
      "  7454 7454 7454 7454 7454 7454 7454 7454 7454 7454 5419 5419 5419 5419\n",
      "  5419 5419 5419 5419 5419 5419 5419 5419 5419 5419 5419 5419 5419 7376\n",
      "  7376 7376 7376 7376 7376 2103 2103 2103  704  704  704  704  704  704\n",
      "   704 2492 2492 2492 2492 2492 2492 2492 3176 3176 3176 3176 3176 3176\n",
      "  3176 3176 3176 3176 3176 3176 3176 3176 3176 3176 3176 3176 3176 3176\n",
      "  3176 3176 3176 3176 3176 3176 3176 3176 3176 3176 3176 3176 3176 3176\n",
      "  3176 3176]]\n"
     ]
    }
   ],
   "source": [
    "# Create a model that takes in raw query features, and\n",
    "index = tfrs.layers.factorized_top_k.BruteForce(model_1.query_model.embedding_model.user_embedding,\n",
    "                                               k=100)\n",
    "# recommends movies out of the entire movies dataset.\n",
    "index.index_from_dataset(\n",
    "  tf.data.Dataset.zip((movies.batch(1024), \n",
    "                       movies.batch(1024).map(model_1.candidate_model.embedding_model.movie_id_embedding)))\n",
    ")\n",
    "\n",
    "# Get recommendations.\n",
    "_, titles = index(tf.constant([42]))\n",
    "print(f\"Recommendations for user 42: {titles}\")"
   ]
  },
  {
   "cell_type": "code",
   "execution_count": 54,
   "id": "486e89e4",
   "metadata": {},
   "outputs": [],
   "source": [
    "seen = df.loc[df['userId'] == 42, 'movieId'].unique().tolist()"
   ]
  },
  {
   "cell_type": "code",
   "execution_count": 55,
   "id": "f3ddefd3",
   "metadata": {},
   "outputs": [],
   "source": [
    "reco = [x for x in titles.numpy()[0]]"
   ]
  },
  {
   "cell_type": "code",
   "execution_count": 56,
   "id": "9d51abf2",
   "metadata": {},
   "outputs": [],
   "source": [
    "list_reco = list(set(reco))"
   ]
  },
  {
   "cell_type": "code",
   "execution_count": null,
   "id": "1348449f",
   "metadata": {},
   "outputs": [],
   "source": []
  },
  {
   "cell_type": "code",
   "execution_count": 57,
   "id": "9ded38e5",
   "metadata": {},
   "outputs": [
    {
     "name": "stdout",
     "output_type": "stream",
     "text": [
      "704 is a new movie.\n",
      "3176 is already seen.\n",
      "5419 is a new movie.\n",
      "7376 is a new movie.\n",
      "2103 is a new movie.\n",
      "2492 is already seen.\n",
      "7454 is a new movie.\n"
     ]
    }
   ],
   "source": [
    "for x in list_reco:\n",
    "    if x in seen:\n",
    "        print(f'{x} is already seen.')\n",
    "    else:\n",
    "        print(f'{x} is a new movie.')"
   ]
  },
  {
   "cell_type": "code",
   "execution_count": null,
   "id": "18c37a7f",
   "metadata": {},
   "outputs": [],
   "source": []
  },
  {
   "cell_type": "code",
   "execution_count": null,
   "id": "6915fa01",
   "metadata": {},
   "outputs": [],
   "source": []
  },
  {
   "cell_type": "markdown",
   "id": "1d5104d5",
   "metadata": {},
   "source": [
    "# Ranking Model"
   ]
  },
  {
   "cell_type": "code",
   "execution_count": 177,
   "id": "f35380c0",
   "metadata": {},
   "outputs": [],
   "source": [
    "ranking_dataset = {\n",
    "    'movieId': df['movieId'].tolist(),\n",
    "    'genres': df['genres'].tolist(),\n",
    "    'title': df['title'].tolist(),\n",
    "    'userId': df['userId'].tolist(),\n",
    "    'timestamp': df['timestamp'].tolist(), \n",
    "    'rating': df['rating'].tolist()\n",
    "}\n",
    "\n",
    "ranking_dataset = tf.data.Dataset.from_tensor_slices(ranking_dataset)\n",
    "\n",
    "ranking_dataset = ranking_dataset.map(lambda x: {\n",
    "    'movieId': x['movieId'],\n",
    "    'genres': x['genres'],\n",
    "    'title': x['title'],\n",
    "    'userId': x['userId'],\n",
    "    'timestamp': x['timestamp'],\n",
    "    'rating': x['rating']\n",
    "})"
   ]
  },
  {
   "cell_type": "code",
   "execution_count": 178,
   "id": "91031adf",
   "metadata": {},
   "outputs": [],
   "source": [
    "tf.random.set_seed(42)\n",
    "shuffled_ranking = ranking_dataset.shuffle(100_000,\n",
    "                                           seed=42, \n",
    "                                           reshuffle_each_iteration=False\n",
    "                                          )\n",
    "\n",
    "ranking_train = shuffled_ranking.take(80_000)\n",
    "ranking_test = shuffled_ranking.skip(80_000).take(20_000)"
   ]
  },
  {
   "cell_type": "code",
   "execution_count": 190,
   "id": "45ea96cc",
   "metadata": {},
   "outputs": [],
   "source": [
    "class RankingModel(tf.keras.Model):\n",
    "\n",
    "  def __init__(self):\n",
    "    super().__init__()\n",
    "    embedding_dimension = 32\n",
    "\n",
    "    # Compute embeddings for users.\n",
    "    # using previously defined and created user_id_model\n",
    "    self.user_embedding = user_id_model\n",
    "\n",
    "    # Compute embeddings for movies.\n",
    "    # using previously defined and created movie_id_model\n",
    "    self.movie_id_embedding = movie_id_model\n",
    "    \n",
    "    # using previously defined and created timestamp_embedding_model\n",
    "    self.timestamp_embedding = timestamp_embedding_model\n",
    "    self.normalized_timestamp = tf.keras.layers.Normalization(\n",
    "        axis=None\n",
    "    )\n",
    "\n",
    "    self.normalized_timestamp.adapt(timestamps)\n",
    "    \n",
    "    # using previously defined and created genres_model\n",
    "    self.genre_text_embedding = genres_model\n",
    "    \n",
    "    # using previously defined and created titles_model\n",
    "    self.title_text_embedding = titles_model\n",
    "\n",
    "    # Compute predictions.\n",
    "    self.ratings = tf.keras.Sequential([\n",
    "        # Learn multiple dense layers.\n",
    "        tf.keras.layers.Dense(256, activation=\"relu\"),\n",
    "        tf.keras.layers.Dense(64, activation=\"relu\"),\n",
    "        tf.keras.layers.Dense(32, activation=\"relu\"),\n",
    "        # Make rating predictions in the final layer.\n",
    "        tf.keras.layers.Dense(1)\n",
    "    ])\n",
    "\n",
    "  def call(self, inputs):\n",
    "\n",
    "    return self.ratings(tf.concat([\n",
    "        self.user_embedding(inputs['userId']),\n",
    "        self.movie_id_embedding(inputs['movieId']),\n",
    "        self.timestamp_embedding(inputs['timestamp']),\n",
    "        tf.reshape(self.normalized_timestamp(inputs['timestamp']), (-1, 1)),\n",
    "        self.genre_text_embedding(inputs['genres']),\n",
    "        self.title_text_embedding(inputs['title'])\n",
    "    ], axis=1))"
   ]
  },
  {
   "cell_type": "code",
   "execution_count": 108,
   "id": "47a970d7",
   "metadata": {},
   "outputs": [],
   "source": [
    "# ranking_task = tfrs.tasks.Ranking(\n",
    "#   loss = tf.keras.losses.MeanSquaredError(),\n",
    "#   metrics=[tf.keras.metrics.RootMeanSquaredError()]\n",
    "# )"
   ]
  },
  {
   "cell_type": "code",
   "execution_count": 191,
   "id": "afdb2df0",
   "metadata": {},
   "outputs": [],
   "source": [
    "class MovielensModel_ranking(tfrs.models.Model):\n",
    "\n",
    "  def __init__(self):\n",
    "    super().__init__()\n",
    "    self.ranking_model: tf.keras.Model = RankingModel()\n",
    "    self.task: tf.keras.layers.Layer = tfrs.tasks.Ranking(\n",
    "      loss = tf.keras.losses.MeanSquaredError(),\n",
    "      metrics=[tf.keras.metrics.RootMeanSquaredError()]\n",
    "    )\n",
    "\n",
    "  def call(self, features)-> tf.Tensor:\n",
    "    return self.ranking_model(features)\n",
    "#         (features['userId'], \n",
    "#          features['movieId'],\n",
    "#          features['timestamp'],\n",
    "#          features['genres'],\n",
    "#          features['title'],\n",
    "#         ))\n",
    "\n",
    "  def compute_loss(self, features, training=False)-> tf.Tensor:\n",
    "    labels = features.pop(\"rating\")\n",
    "\n",
    "    rating_predictions = self(features)\n",
    "\n",
    "    # The task computes the loss and the metrics.\n",
    "    return self.task(labels=labels, predictions=rating_predictions)"
   ]
  },
  {
   "cell_type": "code",
   "execution_count": 192,
   "id": "406779eb",
   "metadata": {},
   "outputs": [],
   "source": [
    "ranking_model = MovielensModel_ranking()"
   ]
  },
  {
   "cell_type": "code",
   "execution_count": 193,
   "id": "00746ba7",
   "metadata": {},
   "outputs": [],
   "source": [
    "ranking_model.compile(optimizer=tf.keras.optimizers.Adagrad(learning_rate=0.1))"
   ]
  },
  {
   "cell_type": "code",
   "execution_count": 194,
   "id": "55bd7a9b",
   "metadata": {},
   "outputs": [],
   "source": [
    "cached_ranking_train = ranking_train.shuffle(100_000)\\\n",
    "                        .batch(8192).cache()\n",
    "\n",
    "cached_ranking_test = ranking_test.batch(4096).cache()"
   ]
  },
  {
   "cell_type": "code",
   "execution_count": 195,
   "id": "bcb08e36",
   "metadata": {},
   "outputs": [
    {
     "name": "stdout",
     "output_type": "stream",
     "text": [
      "Epoch 1/5\n",
      "10/10 [==============================] - 3s 77ms/step - root_mean_squared_error: 2.5543 - loss: 5.9301 - regularization_loss: 0.0000e+00 - total_loss: 5.9301\n",
      "Epoch 2/5\n",
      "10/10 [==============================] - 0s 28ms/step - root_mean_squared_error: 1.1813 - loss: 1.3580 - regularization_loss: 0.0000e+00 - total_loss: 1.3580\n",
      "Epoch 3/5\n",
      "10/10 [==============================] - 0s 26ms/step - root_mean_squared_error: 1.0094 - loss: 1.0098 - regularization_loss: 0.0000e+00 - total_loss: 1.0098\n",
      "Epoch 4/5\n",
      "10/10 [==============================] - 0s 25ms/step - root_mean_squared_error: 0.9604 - loss: 0.9191 - regularization_loss: 0.0000e+00 - total_loss: 0.9191\n",
      "Epoch 5/5\n",
      "10/10 [==============================] - 0s 26ms/step - root_mean_squared_error: 0.9434 - loss: 0.8880 - regularization_loss: 0.0000e+00 - total_loss: 0.8880\n"
     ]
    },
    {
     "data": {
      "text/plain": [
       "<keras.callbacks.History at 0x20274b12970>"
      ]
     },
     "execution_count": 195,
     "metadata": {},
     "output_type": "execute_result"
    }
   ],
   "source": [
    "ranking_history = ranking_model.fit(\n",
    "    cached_ranking_train, \n",
    "    validation_data=cached_ranking_test,\n",
    "    validation_freq=1,\n",
    "    epochs=num_epochs,\n",
    "    verbose=0\n",
    ")"
   ]
  },
  {
   "cell_type": "code",
   "execution_count": null,
   "id": "f3a62a0f",
   "metadata": {},
   "outputs": [],
   "source": [
    "final_history= model_1.fit(\n",
    "    retrieval_cached_train,\n",
    "    validation_data=retrieval_cached_test,\n",
    "    validation_freq=1,\n",
    "    epochs=num_epochs,\n",
    "    verbose=0\n",
    ")"
   ]
  },
  {
   "cell_type": "code",
   "execution_count": 196,
   "id": "6f50a1fd",
   "metadata": {},
   "outputs": [
    {
     "name": "stdout",
     "output_type": "stream",
     "text": [
      "5/5 [==============================] - 1s 47ms/step - root_mean_squared_error: 0.9418 - loss: 0.8855 - regularization_loss: 0.0000e+00 - total_loss: 0.8855\n"
     ]
    },
    {
     "data": {
      "text/plain": [
       "{'root_mean_squared_error': 0.9418408274650574,\n",
       " 'loss': 0.8785831332206726,\n",
       " 'regularization_loss': 0,\n",
       " 'total_loss': 0.8785831332206726}"
      ]
     },
     "execution_count": 196,
     "metadata": {},
     "output_type": "execute_result"
    }
   ],
   "source": [
    "ranking_model.evaluate(cached_ranking_test, return_dict=True)"
   ]
  },
  {
   "cell_type": "code",
   "execution_count": 124,
   "id": "638a63f2",
   "metadata": {},
   "outputs": [
    {
     "name": "stdout",
     "output_type": "stream",
     "text": [
      "Ratings:\n",
      "6: [[3.6608787]]\n",
      "9772: [[3.6205494]]\n",
      "160341: [[3.5841904]]\n"
     ]
    }
   ],
   "source": [
    "test_ratings = {}\n",
    "# test_movie_titles = [\"M*A*S*H (1970)\", \"Dances with Wolves (1990)\", \"Speed (1994)\"]\n",
    "test_movie_ids = [160341, 6, 9772]\n",
    "for movie_id in test_movie_ids:\n",
    "  test_ratings[movie_id] = ranking_model({\n",
    "      \"userId\": np.array([42]),\n",
    "      \"movieId\": np.array([movie_id])\n",
    "  })\n",
    "\n",
    "print(\"Ratings:\")\n",
    "for movie_id, score in sorted(test_ratings.items(), key=lambda x: x[1], reverse=True):\n",
    "  print(f\"{movie_id}: {score}\")"
   ]
  },
  {
   "cell_type": "code",
   "execution_count": 198,
   "id": "88b30b4d",
   "metadata": {},
   "outputs": [],
   "source": [
    "# def get_top_movies(userID):\n",
    "#     \"\"\"This function accepts input of a userId (int), and \n",
    "#     outputs the top 5 movies that should be recommender to\n",
    "#     them, with the predicted rating the user will give.\"\"\""
   ]
  },
  {
   "cell_type": "code",
   "execution_count": null,
   "id": "f1dae162",
   "metadata": {},
   "outputs": [],
   "source": []
  },
  {
   "cell_type": "code",
   "execution_count": null,
   "id": "25700eb3",
   "metadata": {},
   "outputs": [],
   "source": [
    "results = {'retrieval_NN': ['1st_run', '2nd_run', '3rd_run'],\n",
    "           'top-100 accuracy': [0.27, 0.86, 0.88],\n",
    "           'ranking_NN': ['1st_run', '2nd_run', '3rd_run'],\n",
    "           'rating_rmse': [1.1813, 0.9418, ]\n",
    "          }\n",
    "\n",
    "# the difference between the runs for retrieval is, I added deeper layers, and I added in all the features\n",
    "# the difference between the runs for ranking is, I added 1 more deeper layer, and I added in all the features"
   ]
  },
  {
   "cell_type": "code",
   "execution_count": null,
   "id": "48fddf9b",
   "metadata": {},
   "outputs": [],
   "source": []
  },
  {
   "cell_type": "code",
   "execution_count": null,
   "id": "cb952cc1",
   "metadata": {},
   "outputs": [],
   "source": []
  },
  {
   "cell_type": "code",
   "execution_count": null,
   "id": "713ee680",
   "metadata": {},
   "outputs": [],
   "source": []
  },
  {
   "cell_type": "code",
   "execution_count": null,
   "id": "26f45aa2",
   "metadata": {},
   "outputs": [],
   "source": []
  },
  {
   "cell_type": "code",
   "execution_count": null,
   "id": "6d814556",
   "metadata": {},
   "outputs": [],
   "source": []
  },
  {
   "cell_type": "code",
   "execution_count": null,
   "id": "658affd2",
   "metadata": {},
   "outputs": [],
   "source": []
  },
  {
   "cell_type": "code",
   "execution_count": null,
   "id": "6b69bba2",
   "metadata": {},
   "outputs": [],
   "source": []
  },
  {
   "cell_type": "code",
   "execution_count": null,
   "id": "19308f4b",
   "metadata": {},
   "outputs": [],
   "source": []
  },
  {
   "cell_type": "code",
   "execution_count": null,
   "id": "c4579b6f",
   "metadata": {},
   "outputs": [],
   "source": []
  },
  {
   "cell_type": "code",
   "execution_count": null,
   "id": "6f8f0d8c",
   "metadata": {},
   "outputs": [],
   "source": []
  },
  {
   "cell_type": "code",
   "execution_count": null,
   "id": "453b2483",
   "metadata": {},
   "outputs": [],
   "source": []
  },
  {
   "cell_type": "code",
   "execution_count": null,
   "id": "23d2ac44",
   "metadata": {},
   "outputs": [],
   "source": []
  },
  {
   "cell_type": "code",
   "execution_count": null,
   "id": "344bcf53",
   "metadata": {},
   "outputs": [],
   "source": []
  },
  {
   "cell_type": "code",
   "execution_count": null,
   "id": "61d9822b",
   "metadata": {},
   "outputs": [],
   "source": []
  },
  {
   "cell_type": "code",
   "execution_count": null,
   "id": "ddfa1b8a",
   "metadata": {},
   "outputs": [],
   "source": []
  },
  {
   "cell_type": "code",
   "execution_count": null,
   "id": "7c221766",
   "metadata": {},
   "outputs": [],
   "source": []
  },
  {
   "cell_type": "markdown",
   "id": "70c20f31",
   "metadata": {},
   "source": [
    "Retrieval, Ranking, and Post-Ranking"
   ]
  },
  {
   "cell_type": "markdown",
   "id": "3d18aabd",
   "metadata": {},
   "source": [
    "**One thing I need to figure out is how I can pass in the movie genres into the Neural Network. I will need to create embeddings for it, and then compile it into the model.**"
   ]
  },
  {
   "cell_type": "markdown",
   "id": "151b7ffb",
   "metadata": {},
   "source": [
    "## What are Embeddings?"
   ]
  },
  {
   "cell_type": "markdown",
   "id": "1ce4e17e",
   "metadata": {},
   "source": [
    "They allow additionaly information to be inserted in your neural network. This can be an alternative to 1-hot-encoding. It gets impractical the more dimensionality you will have. 1 dummy variable for every variable may not be useful. It will increase the dimensionality of the data, however the hope is to improve the model score at the end of the day."
   ]
  },
  {
   "cell_type": "markdown",
   "id": "1214421f",
   "metadata": {},
   "source": [
    "How to \"train\" the embedding layer?\n",
    "What's the vocabulary size? Let's say you have 10 genres, so your input_dim is 10, and you can set the output_dim to be a vector with n number of rows. Let's say output_dim=4. It won't just be 0s and 1s either. Input length is just referring to the length of the sequence. So for me, it's just going to be 1, as 1 word = 1 feature for genre.\n",
    "\n",
    "so this \"neural network\" has only 1 layer. It only kicks out the embeddings. It doesn't really do anything much, but you've created the embedding layer. \n",
    "Now you have a \"lookup table\" that is your embedding. \n",
    "so in the above example, we will have a table of 10 cols, and 4 rows. So an array of [1, 2] will return a \"prediction\". What it outputs is actually a bunch of random weights. You' can't really make sense of this. It will make sense if you compare it to the embedding layer weights. Be careful that this weights should not be trained, because they aren't meant to be treated as weights, but rather as lookup table."
   ]
  }
 ],
 "metadata": {
  "kernelspec": {
   "display_name": "Python 3 (ipykernel)",
   "language": "python",
   "name": "python3"
  },
  "language_info": {
   "codemirror_mode": {
    "name": "ipython",
    "version": 3
   },
   "file_extension": ".py",
   "mimetype": "text/x-python",
   "name": "python",
   "nbconvert_exporter": "python",
   "pygments_lexer": "ipython3",
   "version": "3.8.13"
  }
 },
 "nbformat": 4,
 "nbformat_minor": 5
}
