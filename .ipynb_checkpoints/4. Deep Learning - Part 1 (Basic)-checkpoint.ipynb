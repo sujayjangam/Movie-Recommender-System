{
 "cells": [
  {
   "cell_type": "markdown",
   "id": "13c38d51",
   "metadata": {},
   "source": [
    "# Neural Network for Recommender Systems"
   ]
  },
  {
   "cell_type": "markdown",
   "id": "fc464e9d",
   "metadata": {},
   "source": [
    "asdfasdf"
   ]
  },
  {
   "cell_type": "code",
   "execution_count": 1,
   "id": "68334c8b",
   "metadata": {},
   "outputs": [],
   "source": [
    "import os\n",
    "import pprint\n",
    "import tempfile\n",
    "\n",
    "from typing import Dict, Text\n",
    "\n",
    "import numpy as np\n",
    "import tensorflow as tf\n",
    "import tensorflow_datasets as tfds"
   ]
  },
  {
   "cell_type": "code",
   "execution_count": 2,
   "id": "0892506d",
   "metadata": {},
   "outputs": [],
   "source": [
    "import tensorflow_recommenders as tfrs"
   ]
  },
  {
   "cell_type": "code",
   "execution_count": 3,
   "id": "aac09783",
   "metadata": {},
   "outputs": [],
   "source": [
    "import pandas as pd\n",
    "import numpy as np\n",
    "import matplotlib.pyplot as plt"
   ]
  },
  {
   "cell_type": "code",
   "execution_count": 4,
   "id": "bc300ba5",
   "metadata": {},
   "outputs": [],
   "source": [
    "df = pd.read_csv('./datasets/merged_users+movies.csv')\n",
    "movie_df = pd.read_csv('./datasets/movies.csv')"
   ]
  },
  {
   "cell_type": "code",
   "execution_count": 5,
   "id": "50ba6e67",
   "metadata": {},
   "outputs": [
    {
     "data": {
      "text/html": [
       "<div>\n",
       "<style scoped>\n",
       "    .dataframe tbody tr th:only-of-type {\n",
       "        vertical-align: middle;\n",
       "    }\n",
       "\n",
       "    .dataframe tbody tr th {\n",
       "        vertical-align: top;\n",
       "    }\n",
       "\n",
       "    .dataframe thead th {\n",
       "        text-align: right;\n",
       "    }\n",
       "</style>\n",
       "<table border=\"1\" class=\"dataframe\">\n",
       "  <thead>\n",
       "    <tr style=\"text-align: right;\">\n",
       "      <th></th>\n",
       "      <th>userId</th>\n",
       "      <th>movieId</th>\n",
       "      <th>rating</th>\n",
       "      <th>timestamp</th>\n",
       "      <th>title</th>\n",
       "      <th>genres</th>\n",
       "    </tr>\n",
       "  </thead>\n",
       "  <tbody>\n",
       "    <tr>\n",
       "      <th>0</th>\n",
       "      <td>1</td>\n",
       "      <td>1</td>\n",
       "      <td>4.0</td>\n",
       "      <td>964982703</td>\n",
       "      <td>Toy Story (1995)</td>\n",
       "      <td>Adventure Animation Children Comedy Fantasy</td>\n",
       "    </tr>\n",
       "    <tr>\n",
       "      <th>1</th>\n",
       "      <td>5</td>\n",
       "      <td>1</td>\n",
       "      <td>4.0</td>\n",
       "      <td>847434962</td>\n",
       "      <td>Toy Story (1995)</td>\n",
       "      <td>Adventure Animation Children Comedy Fantasy</td>\n",
       "    </tr>\n",
       "    <tr>\n",
       "      <th>2</th>\n",
       "      <td>7</td>\n",
       "      <td>1</td>\n",
       "      <td>4.5</td>\n",
       "      <td>1106635946</td>\n",
       "      <td>Toy Story (1995)</td>\n",
       "      <td>Adventure Animation Children Comedy Fantasy</td>\n",
       "    </tr>\n",
       "    <tr>\n",
       "      <th>3</th>\n",
       "      <td>15</td>\n",
       "      <td>1</td>\n",
       "      <td>2.5</td>\n",
       "      <td>1510577970</td>\n",
       "      <td>Toy Story (1995)</td>\n",
       "      <td>Adventure Animation Children Comedy Fantasy</td>\n",
       "    </tr>\n",
       "    <tr>\n",
       "      <th>4</th>\n",
       "      <td>17</td>\n",
       "      <td>1</td>\n",
       "      <td>4.5</td>\n",
       "      <td>1305696483</td>\n",
       "      <td>Toy Story (1995)</td>\n",
       "      <td>Adventure Animation Children Comedy Fantasy</td>\n",
       "    </tr>\n",
       "    <tr>\n",
       "      <th>...</th>\n",
       "      <td>...</td>\n",
       "      <td>...</td>\n",
       "      <td>...</td>\n",
       "      <td>...</td>\n",
       "      <td>...</td>\n",
       "      <td>...</td>\n",
       "    </tr>\n",
       "    <tr>\n",
       "      <th>100831</th>\n",
       "      <td>610</td>\n",
       "      <td>160341</td>\n",
       "      <td>2.5</td>\n",
       "      <td>1479545749</td>\n",
       "      <td>Bloodmoon (1997)</td>\n",
       "      <td>Action Thriller</td>\n",
       "    </tr>\n",
       "    <tr>\n",
       "      <th>100832</th>\n",
       "      <td>610</td>\n",
       "      <td>160527</td>\n",
       "      <td>4.5</td>\n",
       "      <td>1479544998</td>\n",
       "      <td>Sympathy for the Underdog (1971)</td>\n",
       "      <td>Action Crime Drama</td>\n",
       "    </tr>\n",
       "    <tr>\n",
       "      <th>100833</th>\n",
       "      <td>610</td>\n",
       "      <td>160836</td>\n",
       "      <td>3.0</td>\n",
       "      <td>1493844794</td>\n",
       "      <td>Hazard (2005)</td>\n",
       "      <td>Action Drama Thriller</td>\n",
       "    </tr>\n",
       "    <tr>\n",
       "      <th>100834</th>\n",
       "      <td>610</td>\n",
       "      <td>163937</td>\n",
       "      <td>3.5</td>\n",
       "      <td>1493848789</td>\n",
       "      <td>Blair Witch (2016)</td>\n",
       "      <td>Horror Thriller</td>\n",
       "    </tr>\n",
       "    <tr>\n",
       "      <th>100835</th>\n",
       "      <td>610</td>\n",
       "      <td>163981</td>\n",
       "      <td>3.5</td>\n",
       "      <td>1493850155</td>\n",
       "      <td>31 (2016)</td>\n",
       "      <td>Horror</td>\n",
       "    </tr>\n",
       "  </tbody>\n",
       "</table>\n",
       "<p>100836 rows × 6 columns</p>\n",
       "</div>"
      ],
      "text/plain": [
       "        userId  movieId  rating   timestamp                             title  \\\n",
       "0            1        1     4.0   964982703                  Toy Story (1995)   \n",
       "1            5        1     4.0   847434962                  Toy Story (1995)   \n",
       "2            7        1     4.5  1106635946                  Toy Story (1995)   \n",
       "3           15        1     2.5  1510577970                  Toy Story (1995)   \n",
       "4           17        1     4.5  1305696483                  Toy Story (1995)   \n",
       "...        ...      ...     ...         ...                               ...   \n",
       "100831     610   160341     2.5  1479545749                  Bloodmoon (1997)   \n",
       "100832     610   160527     4.5  1479544998  Sympathy for the Underdog (1971)   \n",
       "100833     610   160836     3.0  1493844794                     Hazard (2005)   \n",
       "100834     610   163937     3.5  1493848789                Blair Witch (2016)   \n",
       "100835     610   163981     3.5  1493850155                         31 (2016)   \n",
       "\n",
       "                                             genres  \n",
       "0       Adventure Animation Children Comedy Fantasy  \n",
       "1       Adventure Animation Children Comedy Fantasy  \n",
       "2       Adventure Animation Children Comedy Fantasy  \n",
       "3       Adventure Animation Children Comedy Fantasy  \n",
       "4       Adventure Animation Children Comedy Fantasy  \n",
       "...                                             ...  \n",
       "100831                              Action Thriller  \n",
       "100832                           Action Crime Drama  \n",
       "100833                        Action Drama Thriller  \n",
       "100834                              Horror Thriller  \n",
       "100835                                       Horror  \n",
       "\n",
       "[100836 rows x 6 columns]"
      ]
     },
     "execution_count": 5,
     "metadata": {},
     "output_type": "execute_result"
    }
   ],
   "source": [
    "df"
   ]
  },
  {
   "cell_type": "markdown",
   "id": "41d36e34",
   "metadata": {},
   "source": [
    "In a deep learning model, we can make use of features that we were not able to do so with our `SVD` model previously.<br>\n",
    "\n",
    "We will attempt to create a deep learning model using all 6 features of our dataset. Namely these are: `userId`, `movieId`, `rating`, `timestamp`, `title`, `genres`.\n",
    "\n",
    "We will be building a two step model, as is outlined in the tensorflow-recommenders guide. A retrieval model, and a ranking model. These two models will allow us to ....\n",
    "\n",
    "We will first start with the retrieval model."
   ]
  },
  {
   "cell_type": "markdown",
   "id": "ea6b9e76",
   "metadata": {},
   "source": [
    "## Retrieval Model"
   ]
  },
  {
   "cell_type": "markdown",
   "id": "03dbace3",
   "metadata": {},
   "source": [
    "In order to add all the features to our model, we will need to create `embeddings` for each of them. We can use the `Embedding` method in `Keras` to help with this. Let's start by first creating a tensorflow compatible dataset that we will then use for creation of any `embeddings` we need."
   ]
  },
  {
   "cell_type": "markdown",
   "id": "27805aa0",
   "metadata": {},
   "source": [
    "Converting our all our `movieIds` to a tensorflow dataset that will work with methods like `batch` and `map`."
   ]
  },
  {
   "cell_type": "markdown",
   "id": "e51269e1",
   "metadata": {},
   "source": [
    "We will continue to follow the documentation and steps outlined in the `TFRS` guide and documentation."
   ]
  },
  {
   "cell_type": "code",
   "execution_count": null,
   "id": "e9953abc",
   "metadata": {},
   "outputs": [],
   "source": [
    "# defining an empty dictionary to store the predicted ratingsaaaaaaaaaaaaaaaaaa"
   ]
  },
  {
   "cell_type": "code",
   "execution_count": 6,
   "id": "06858ec3",
   "metadata": {},
   "outputs": [],
   "source": [
    "# creating a dict of our data for conversion to tensorflow MapDataset object\n",
    "\n",
    "retrieval_dataset = {\n",
    "    'movieId': df['movieId'].tolist(),\n",
    "    'userId': df['userId'].tolist(),\n",
    "}"
   ]
  },
  {
   "cell_type": "code",
   "execution_count": 7,
   "id": "d4cb3961",
   "metadata": {},
   "outputs": [],
   "source": [
    "# converting to tensor\n",
    "retrieval_dataset = tf.data.Dataset.from_tensor_slices(retrieval_dataset)"
   ]
  },
  {
   "cell_type": "code",
   "execution_count": 8,
   "id": "fc883a20",
   "metadata": {},
   "outputs": [],
   "source": [
    "# converting to tensorflow MapDataset object\n",
    "retrieval_dataset = retrieval_dataset.map(lambda x: {\n",
    "    'movieId': x['movieId'],\n",
    "    'userId': x['userId'],\n",
    "})\n",
    "\n",
    "# creating separate datasets in case we need to use them\n",
    "movies = retrieval_dataset.map(lambda x: x['movieId'])\n",
    "users = retrieval_dataset.map(lambda x: x['userId'])"
   ]
  },
  {
   "cell_type": "code",
   "execution_count": 9,
   "id": "6668d6cb",
   "metadata": {},
   "outputs": [
    {
     "data": {
      "text/plain": [
       "<MapDataset element_spec={'movieId': TensorSpec(shape=(), dtype=tf.int32, name=None), 'userId': TensorSpec(shape=(), dtype=tf.int32, name=None)}>"
      ]
     },
     "execution_count": 9,
     "metadata": {},
     "output_type": "execute_result"
    }
   ],
   "source": [
    "# sanity check once again to ensure that we have \n",
    "# a 'MapDataset' object\n",
    "retrieval_dataset"
   ]
  },
  {
   "cell_type": "markdown",
   "id": "02d12431",
   "metadata": {},
   "source": [
    "Now let's create the vocabularies for our `categorical` embeddings."
   ]
  },
  {
   "cell_type": "markdown",
   "id": "a827a9f2",
   "metadata": {},
   "source": [
    "### MovieIds and UserIds"
   ]
  },
  {
   "cell_type": "code",
   "execution_count": 10,
   "id": "3052824b",
   "metadata": {},
   "outputs": [],
   "source": [
    "# creating a list of unique userIds\n",
    "unique_user_ids = np.unique(df['userId'].tolist())\n",
    "\n",
    "# creating a list of unique movieIds\n",
    "unique_movie_ids = np.unique(df['movieId'].tolist())"
   ]
  },
  {
   "cell_type": "code",
   "execution_count": null,
   "id": "0b52e587",
   "metadata": {},
   "outputs": [],
   "source": [
    "# defining an empty dictionary to store the predicted ratingsaaaaaaaaaaaaaaaaaa"
   ]
  },
  {
   "cell_type": "code",
   "execution_count": 11,
   "id": "7d0d6b31",
   "metadata": {},
   "outputs": [],
   "source": [
    "# defining the embedding dimension that we will use across all \n",
    "# embedding layers. We have kept this number relatively small \n",
    "# so that the model will work a little faster.\n",
    "embedding_dimension = 32"
   ]
  },
  {
   "cell_type": "markdown",
   "id": "24f26b1f",
   "metadata": {},
   "source": [
    "## Simple Query Tower"
   ]
  },
  {
   "cell_type": "markdown",
   "id": "927f9b96",
   "metadata": {},
   "source": [
    "For a simple candidate tower, all we need to do is to create the embeddings for our `userId`s, and encode them as vectors categorically. This will then be passed into the combined `RetrievalModel`."
   ]
  },
  {
   "cell_type": "code",
   "execution_count": 12,
   "id": "c9e4ba21",
   "metadata": {},
   "outputs": [],
   "source": [
    "# embedding unique userIds\n",
    "user_id_model = tf.keras.Sequential([\n",
    "    tf.keras.layers.IntegerLookup(\n",
    "        vocabulary=unique_user_ids, mask_token=None),\n",
    "    # We add some additional embeddings to account for unknown tokens.\n",
    "    tf.keras.layers.Embedding(len(unique_user_ids) + 1, \n",
    "                              embedding_dimension)\n",
    "])"
   ]
  },
  {
   "cell_type": "code",
   "execution_count": 32,
   "id": "d1545f4d",
   "metadata": {},
   "outputs": [
    {
     "name": "stdout",
     "output_type": "stream",
     "text": [
      "WARNING:tensorflow:Layers in a Sequential model should only have a single input tensor. Received: inputs=[<tf.Tensor: shape=(), dtype=int32, numpy=42>]. Consider rewriting this model with the Functional API.\n"
     ]
    },
    {
     "data": {
      "text/plain": [
       "<tf.Tensor: shape=(32,), dtype=float32, numpy=\n",
       "array([ 0.03218628, -0.29991904, -1.4709533 ,  0.79982907,  0.28533638,\n",
       "        0.4449038 ,  1.0216197 , -0.24397618, -0.17255548, -0.68335485,\n",
       "       -1.2154953 ,  0.4581853 ,  0.9837076 ,  1.6405902 , -0.26882863,\n",
       "       -0.66250825, -0.12483787,  0.8568213 , -0.11697305, -0.08447923,\n",
       "        0.23856436,  0.32793072, -1.0313882 ,  0.05914577,  0.6341576 ,\n",
       "       -0.87166214,  0.42953235,  0.94289476,  0.5656831 , -0.33060247,\n",
       "       -0.81066746,  0.02939052], dtype=float32)>"
      ]
     },
     "execution_count": 32,
     "metadata": {},
     "output_type": "execute_result"
    }
   ],
   "source": [
    "# check to see how the vector looks like\n",
    "user_id_model([42])"
   ]
  },
  {
   "cell_type": "markdown",
   "id": "7569c6f8",
   "metadata": {},
   "source": [
    "## Simple Candidate Tower"
   ]
  },
  {
   "cell_type": "markdown",
   "id": "70a6a0bc",
   "metadata": {},
   "source": [
    "For a simple candidate tower, all we need to do is to create the embeddings for our `movieId`s, and encode them as vectors categorically. This will then be passed into the combined `RetrievalModel`."
   ]
  },
  {
   "cell_type": "code",
   "execution_count": 13,
   "id": "f21d671d",
   "metadata": {},
   "outputs": [],
   "source": [
    "# embedding unique movie titles\n",
    "movie_id_model = tf.keras.Sequential([\n",
    "    tf.keras.layers.IntegerLookup(\n",
    "        vocabulary=unique_movie_ids, mask_token=None), \n",
    "    # We add some additional embeddings to account for unknown tokens.    \n",
    "    tf.keras.layers.Embedding(len(unique_movie_ids) + 1, \n",
    "                              embedding_dimension)\n",
    "])\n"
   ]
  },
  {
   "cell_type": "code",
   "execution_count": 33,
   "id": "20199fe9",
   "metadata": {},
   "outputs": [
    {
     "name": "stdout",
     "output_type": "stream",
     "text": [
      "WARNING:tensorflow:Layers in a Sequential model should only have a single input tensor. Received: inputs=[<tf.Tensor: shape=(), dtype=int32, numpy=9772>]. Consider rewriting this model with the Functional API.\n"
     ]
    },
    {
     "data": {
      "text/plain": [
       "<tf.Tensor: shape=(32,), dtype=float32, numpy=\n",
       "array([ 9.3959272e-05,  3.8053963e-02,  2.0446051e-02, -3.0094778e-02,\n",
       "        1.1327885e-02,  3.7371647e-02,  1.3864052e-02,  3.5115704e-03,\n",
       "       -2.6398674e-03, -1.6805209e-02,  4.6330545e-02,  4.5780730e-02,\n",
       "       -2.2825075e-02,  2.8061774e-02, -4.6135593e-02,  2.7647782e-02,\n",
       "       -2.4097705e-02, -2.7792191e-02,  4.5997944e-02, -3.6104809e-02,\n",
       "       -3.6425449e-02,  3.0514430e-02,  2.6748668e-02, -4.7357868e-02,\n",
       "       -1.6277611e-02, -2.5751472e-02, -4.0266119e-02, -2.1884179e-02,\n",
       "        1.5574638e-02, -4.1466225e-02,  2.7105678e-02,  2.0292174e-02],\n",
       "      dtype=float32)>"
      ]
     },
     "execution_count": 33,
     "metadata": {},
     "output_type": "execute_result"
    }
   ],
   "source": [
    "movie_id_model([9772])"
   ]
  },
  {
   "cell_type": "markdown",
   "id": "d1df2cd0",
   "metadata": {},
   "source": [
    "---"
   ]
  },
  {
   "cell_type": "markdown",
   "id": "c760f949",
   "metadata": {},
   "source": [
    "With this done, we can move on to building the candidate and query towers."
   ]
  },
  {
   "cell_type": "markdown",
   "id": "d8930808",
   "metadata": {},
   "source": [
    "## Basic Retreival Model"
   ]
  },
  {
   "cell_type": "markdown",
   "id": "2907dbd8",
   "metadata": {},
   "source": [
    "First we need to define the metrics and task. We will pass the `userId` and `movieId` embeddings into the model. The model will then calculate affinity scores for each (`userId`, `movieId`) pair. This score then gets compared to all other possible candidates. The highest possible score is the pair that will eventually get recommended.\n",
    "\n",
    "We can use the `FactorizedTopK` metric that is inbuilt into the `tensorflow-recommenders` library. We only need to pass our `movieId` dataset into the metric, and convert it to embeddings, via our `movie_id_model`. We can think of it as sort of like our `target`."
   ]
  },
  {
   "cell_type": "code",
   "execution_count": 14,
   "id": "56828ff1",
   "metadata": {},
   "outputs": [],
   "source": [
    "# instantiating 'FactorizedTopK' metric and passing in the movies data\n",
    "metrics = tfrs.metrics.FactorizedTopK(\n",
    "  candidates=movies.batch(128).map(movie_id_model)\n",
    ")"
   ]
  },
  {
   "cell_type": "markdown",
   "id": "13a80456",
   "metadata": {},
   "source": [
    "In the `TFRS`, there are several loss layers and tasks to help define the loss function that will train our model.\n",
    "In this instance, we'll make use of the `Retrieval` task object: a convenience wrapper that bundles together the loss function and metric computation."
   ]
  },
  {
   "cell_type": "code",
   "execution_count": null,
   "id": "02dcceef",
   "metadata": {},
   "outputs": [],
   "source": [
    "# using the wrapper to bundle our metric and loss function together\n",
    "task = tfrs.tasks.Retrieval(\n",
    "  metrics=metrics\n",
    ")"
   ]
  },
  {
   "cell_type": "code",
   "execution_count": null,
   "id": "b270694f",
   "metadata": {},
   "outputs": [],
   "source": [
    "# defining an empty dictionary to store the predicted ratingsaaaaaaaaaaaaaaaaaa"
   ]
  },
  {
   "cell_type": "code",
   "execution_count": 16,
   "id": "f7ea1172",
   "metadata": {},
   "outputs": [],
   "source": [
    "class MovielensModel_basic_retrieval(tfrs.Model):\n",
    "\n",
    "    def __init__(self, user_model, movie_model):\n",
    "        super().__init__()\n",
    "        self.movie_model: tf.keras.Model = movie_model\n",
    "        self.user_model: tf.keras.Model = user_model\n",
    "        self.task: tf.keras.layers.Layer = task\n",
    "\n",
    "    def compute_loss(self, features, training=False) -> tf.Tensor:\n",
    "        # We pick out the user features and pass them into the user model.\n",
    "        user_embeddings = self.user_model(features['userId'])\n",
    "        # And pick out the movie features and pass them into the movie model,\n",
    "        # getting embeddings back.\n",
    "        positive_movie_embeddings = self.movie_model(features['movieId'])\n",
    "\n",
    "        # The task computes the loss and the metrics.\n",
    "        return self.task(user_embeddings, positive_movie_embeddings)"
   ]
  },
  {
   "cell_type": "markdown",
   "id": "389e3891",
   "metadata": {},
   "source": [
    "With this, we can move on to training our model."
   ]
  },
  {
   "cell_type": "markdown",
   "id": "72b32c81",
   "metadata": {},
   "source": [
    "---"
   ]
  },
  {
   "cell_type": "markdown",
   "id": "4264741b",
   "metadata": {},
   "source": [
    "## Train, Test split"
   ]
  },
  {
   "cell_type": "markdown",
   "id": "daac30f8",
   "metadata": {},
   "source": [
    "Now we are ready to train our model, let's do a `train_test_split` on our data."
   ]
  },
  {
   "cell_type": "code",
   "execution_count": null,
   "id": "79ee7ebd",
   "metadata": {},
   "outputs": [],
   "source": [
    "# defining an empty dictionary to store the predicted ratingsaaaaaaaaaaaaaaaaaa"
   ]
  },
  {
   "cell_type": "code",
   "execution_count": 17,
   "id": "ad4c1fb1",
   "metadata": {},
   "outputs": [],
   "source": [
    "# setting random seed\n",
    "tf.random.set_seed(42)\n",
    "\n",
    "# shuffling the dataset to create a \"training\" dataset\n",
    "retrieval_shuffled = retrieval_dataset.shuffle(100_000, \n",
    "                           seed=42,\n",
    "                           reshuffle_each_iteration=False\n",
    "                                              )\n",
    "\n",
    "# taking the first 80_836 ratings\n",
    "retrieval_train = retrieval_shuffled.take(80_836)\n",
    "\n",
    "# taking the next 20_000 ratings\n",
    "retrieval_test = retrieval_shuffled.skip(80_836).take(20_000)\n",
    "\n",
    "\n",
    "# caching the train and test dataset to speed up model fitting\n",
    "retrieval_cached_train = retrieval_train.shuffle(100_000)\\\n",
    "                            .batch(8192).cache()\n",
    "retrieval_cached_test = retrieval_test.batch(4096).cache()"
   ]
  },
  {
   "cell_type": "code",
   "execution_count": 18,
   "id": "0f1ae0ce",
   "metadata": {},
   "outputs": [],
   "source": [
    "# defining the number of epochs we will run\n",
    "num_epochs = 10\n",
    "\n",
    "# instantiate our basic retrieval model\n",
    "basic_retrieval_model = MovielensModel_basic_retrieval(user_id_model, \n",
    "                                                       movie_id_model)\n",
    "\n",
    "# compiling model with Adagrad optimizer, and a learning rate of 0.1\n",
    "basic_retrieval_model.compile(optimizer=tf.keras.optimizers.Adagrad(0.1))"
   ]
  },
  {
   "cell_type": "code",
   "execution_count": 19,
   "id": "7eda7361",
   "metadata": {},
   "outputs": [
    {
     "name": "stdout",
     "output_type": "stream",
     "text": [
      "Epoch 1/10\n",
      "10/10 [==============================] - 121s 12s/step - factorized_top_k/top_1_categorical_accuracy: 6.1854e-05 - factorized_top_k/top_5_categorical_accuracy: 6.1854e-05 - factorized_top_k/top_10_categorical_accuracy: 6.1854e-05 - factorized_top_k/top_50_categorical_accuracy: 9.8966e-05 - factorized_top_k/top_100_categorical_accuracy: 1.3608e-04 - loss: 71386.6065 - regularization_loss: 0.0000e+00 - total_loss: 71386.6065\n",
      "Epoch 2/10\n",
      "10/10 [==============================] - 120s 12s/step - factorized_top_k/top_1_categorical_accuracy: 7.7936e-04 - factorized_top_k/top_5_categorical_accuracy: 7.7936e-04 - factorized_top_k/top_10_categorical_accuracy: 7.9173e-04 - factorized_top_k/top_50_categorical_accuracy: 0.0015 - factorized_top_k/top_100_categorical_accuracy: 0.0027 - loss: 68684.2124 - regularization_loss: 0.0000e+00 - total_loss: 68684.2124\n",
      "Epoch 3/10\n",
      "10/10 [==============================] - 121s 12s/step - factorized_top_k/top_1_categorical_accuracy: 0.0010 - factorized_top_k/top_5_categorical_accuracy: 0.0010 - factorized_top_k/top_10_categorical_accuracy: 0.0011 - factorized_top_k/top_50_categorical_accuracy: 0.0035 - factorized_top_k/top_100_categorical_accuracy: 0.0067 - loss: 66540.2372 - regularization_loss: 0.0000e+00 - total_loss: 66540.2372\n",
      "Epoch 4/10\n",
      "10/10 [==============================] - 122s 12s/step - factorized_top_k/top_1_categorical_accuracy: 7.4224e-04 - factorized_top_k/top_5_categorical_accuracy: 8.9069e-04 - factorized_top_k/top_10_categorical_accuracy: 0.0012 - factorized_top_k/top_50_categorical_accuracy: 0.0052 - factorized_top_k/top_100_categorical_accuracy: 0.0114 - loss: 64896.6129 - regularization_loss: 0.0000e+00 - total_loss: 64896.6129\n",
      "Epoch 5/10\n",
      "10/10 [==============================] - 154s 16s/step - factorized_top_k/top_1_categorical_accuracy: 6.5565e-04 - factorized_top_k/top_5_categorical_accuracy: 9.5255e-04 - factorized_top_k/top_10_categorical_accuracy: 0.0018 - factorized_top_k/top_50_categorical_accuracy: 0.0088 - factorized_top_k/top_100_categorical_accuracy: 0.0179 - loss: 63558.8544 - regularization_loss: 0.0000e+00 - total_loss: 63558.8544 - val_factorized_top_k/top_1_categorical_accuracy: 2.5000e-04 - val_factorized_top_k/top_5_categorical_accuracy: 2.5000e-04 - val_factorized_top_k/top_10_categorical_accuracy: 3.0000e-04 - val_factorized_top_k/top_50_categorical_accuracy: 7.0000e-04 - val_factorized_top_k/top_100_categorical_accuracy: 0.0012 - val_loss: 28618.0898 - val_regularization_loss: 0.0000e+00 - val_total_loss: 28618.0898\n",
      "Epoch 6/10\n",
      "10/10 [==============================] - 123s 12s/step - factorized_top_k/top_1_categorical_accuracy: 6.0617e-04 - factorized_top_k/top_5_categorical_accuracy: 0.0013 - factorized_top_k/top_10_categorical_accuracy: 0.0026 - factorized_top_k/top_50_categorical_accuracy: 0.0161 - factorized_top_k/top_100_categorical_accuracy: 0.0354 - loss: 62510.7070 - regularization_loss: 0.0000e+00 - total_loss: 62510.7070\n",
      "Epoch 7/10\n",
      "10/10 [==============================] - 124s 12s/step - factorized_top_k/top_1_categorical_accuracy: 5.5668e-04 - factorized_top_k/top_5_categorical_accuracy: 0.0020 - factorized_top_k/top_10_categorical_accuracy: 0.0047 - factorized_top_k/top_50_categorical_accuracy: 0.0314 - factorized_top_k/top_100_categorical_accuracy: 0.0525 - loss: 61718.1506 - regularization_loss: 0.0000e+00 - total_loss: 61718.1506\n",
      "Epoch 8/10\n",
      "10/10 [==============================] - 123s 12s/step - factorized_top_k/top_1_categorical_accuracy: 5.0720e-04 - factorized_top_k/top_5_categorical_accuracy: 0.0040 - factorized_top_k/top_10_categorical_accuracy: 0.0092 - factorized_top_k/top_50_categorical_accuracy: 0.0394 - factorized_top_k/top_100_categorical_accuracy: 0.0613 - loss: 61118.1857 - regularization_loss: 0.0000e+00 - total_loss: 61118.1857\n",
      "Epoch 9/10\n",
      "10/10 [==============================] - 123s 12s/step - factorized_top_k/top_1_categorical_accuracy: 5.9379e-04 - factorized_top_k/top_5_categorical_accuracy: 0.0062 - factorized_top_k/top_10_categorical_accuracy: 0.0127 - factorized_top_k/top_50_categorical_accuracy: 0.0424 - factorized_top_k/top_100_categorical_accuracy: 0.0668 - loss: 60657.2184 - regularization_loss: 0.0000e+00 - total_loss: 60657.2184\n",
      "Epoch 10/10\n",
      "10/10 [==============================] - 155s 16s/step - factorized_top_k/top_1_categorical_accuracy: 8.9069e-04 - factorized_top_k/top_5_categorical_accuracy: 0.0077 - factorized_top_k/top_10_categorical_accuracy: 0.0142 - factorized_top_k/top_50_categorical_accuracy: 0.0449 - factorized_top_k/top_100_categorical_accuracy: 0.0704 - loss: 60293.3338 - regularization_loss: 0.0000e+00 - total_loss: 60293.3338 - val_factorized_top_k/top_1_categorical_accuracy: 0.0000e+00 - val_factorized_top_k/top_5_categorical_accuracy: 0.0000e+00 - val_factorized_top_k/top_10_categorical_accuracy: 5.0000e-05 - val_factorized_top_k/top_50_categorical_accuracy: 1.5000e-04 - val_factorized_top_k/top_100_categorical_accuracy: 0.0010 - val_loss: 29720.1309 - val_regularization_loss: 0.0000e+00 - val_total_loss: 29720.1309\n"
     ]
    }
   ],
   "source": [
    "# fitting our model\n",
    "basic_retrieval_hist = basic_retrieval_model.fit(\n",
    "    retrieval_cached_train,\n",
    "    validation_data=retrieval_cached_test,\n",
    "    validation_freq=1,\n",
    "    epochs=num_epochs,\n",
    "    verbose=1\n",
    ")"
   ]
  },
  {
   "cell_type": "code",
   "execution_count": 24,
   "id": "5d0caeec",
   "metadata": {},
   "outputs": [
    {
     "name": "stdout",
     "output_type": "stream",
     "text": [
      "5/5 [==============================] - 31s 6s/step - factorized_top_k/top_1_categorical_accuracy: 0.0000e+00 - factorized_top_k/top_5_categorical_accuracy: 0.0000e+00 - factorized_top_k/top_10_categorical_accuracy: 5.0000e-05 - factorized_top_k/top_50_categorical_accuracy: 1.5000e-04 - factorized_top_k/top_100_categorical_accuracy: 0.0010 - loss: 32726.7572 - regularization_loss: 0.0000e+00 - total_loss: 32726.7572\n"
     ]
    },
    {
     "data": {
      "text/plain": [
       "{'factorized_top_k/top_1_categorical_accuracy': 0.0,\n",
       " 'factorized_top_k/top_5_categorical_accuracy': 0.0,\n",
       " 'factorized_top_k/top_10_categorical_accuracy': 4.999999873689376e-05,\n",
       " 'factorized_top_k/top_50_categorical_accuracy': 0.0001500000071246177,\n",
       " 'factorized_top_k/top_100_categorical_accuracy': 0.0010499999625608325,\n",
       " 'loss': 29720.130859375,\n",
       " 'regularization_loss': 0,\n",
       " 'total_loss': 29720.130859375}"
      ]
     },
     "execution_count": 24,
     "metadata": {},
     "output_type": "execute_result"
    }
   ],
   "source": [
    "basic_retrieval_model.evaluate(retrieval_cached_test, return_dict=True)"
   ]
  },
  {
   "cell_type": "markdown",
   "id": "c9b36f67",
   "metadata": {},
   "source": [
    "As we can see from the above, the model's accuracy score is pretty bad. The model has got only **0.105%** for the `factorized_top_k/top_100_categorical_accuracy` metric. <br>\n",
    "The way to interprete this metric is that, the chance of a true positive for a user being in the top 100 recommendations, is only **0.1%**."
   ]
  },
  {
   "cell_type": "markdown",
   "id": "eda76e93",
   "metadata": {},
   "source": [
    "Now let's evaluate the model by plotting the `train_loss` against the `test_loss`."
   ]
  },
  {
   "cell_type": "code",
   "execution_count": 21,
   "id": "0ccdc940",
   "metadata": {},
   "outputs": [
    {
     "data": {
      "image/png": "[encoded data removed]",
      "text/plain": [
       "<Figure size 864x576 with 1 Axes>"
      ]
     },
     "metadata": {
      "needs_background": "light"
     },
     "output_type": "display_data"
    }
   ],
   "source": [
    "# defining train and test loss from the model history\n",
    "train_loss = basic_retrieval_hist.history['loss']\n",
    "test_loss = basic_retrieval_hist.history['val_loss']\n",
    "\n",
    "# creating a train vs test loss plot\n",
    "plt.figure(figsize=(12, 8))\n",
    "plt.plot(train_loss, label='Training loss', color='navy')\n",
    "plt.plot(test_loss, label='Testing loss', color='skyblue')\n",
    "plt.title('Basic Retrieval Model')\n",
    "plt.legend();"
   ]
  },
  {
   "cell_type": "markdown",
   "id": "bc8b3bd2",
   "metadata": {},
   "source": [
    "EVALUATION OF GRAPH"
   ]
  },
  {
   "cell_type": "markdown",
   "id": "bcc08d43",
   "metadata": {},
   "source": [
    "Let's test querying the model for retrieving potential recommendations for a `userId`. For this we will make use of `BruteForce` as outlined in the tensorflow-recommender system guide."
   ]
  },
  {
   "cell_type": "code",
   "execution_count": 31,
   "id": "ee4f7d11",
   "metadata": {},
   "outputs": [
    {
     "name": "stdout",
     "output_type": "stream",
     "text": [
      "Recommendations for user 42: [ 408  418  424  459  486  490 2263 2497 2500 2771 3142 3326 3502 3694\n",
      " 3695 3764 3824 4207 4317 4442 4466 4541 4565 4577 4629 4686]\n"
     ]
    }
   ],
   "source": [
    "# Create a model that takes in raw query features, and\n",
    "index = tfrs.layers.factorized_top_k.BruteForce(basic_retrieval_model\\\n",
    "                                                .user_model,\n",
    "                                                k=100)\n",
    "\n",
    "# recommends movies out of the entire movies dataset.\n",
    "index.index_from_dataset(\n",
    "  tf.data.Dataset.zip((movies.batch(1024), \n",
    "                       movies.batch(1024).map(basic_retrieval_model\\\n",
    "                                              .movie_model)\n",
    "                      )\n",
    "                     )\n",
    ")\n",
    "\n",
    "# Get recommendations for a random 'userId', 42\n",
    "_, titles = index(tf.constant([42]))\n",
    "print(f\"Recommendations for user 42: {np.unique(titles)}\")"
   ]
  },
  {
   "cell_type": "markdown",
   "id": "1d300153",
   "metadata": {},
   "source": [
    "Now we have recommendations for `userId` **42**. However, just for sanity's sake, lets check once to see if these are new titles that are being recommended, or if some of these titles have already been seen by this user."
   ]
  },
  {
   "cell_type": "code",
   "execution_count": 34,
   "id": "486e89e4",
   "metadata": {},
   "outputs": [
    {
     "name": "stdout",
     "output_type": "stream",
     "text": [
      "408 is a repeated title\n",
      "418 is a repeated title\n",
      "424 is a repeated title\n",
      "459 is a repeated title\n",
      "486 is a repeated title\n",
      "490 is a repeated title\n",
      "2263 is a repeated title\n",
      "2497 is a repeated title\n",
      "2500 is a repeated title\n",
      "2771 is a repeated title\n",
      "3142 is a repeated title\n",
      "3326 is a repeated title\n",
      "3502 is a repeated title\n",
      "3694 is a repeated title\n",
      "3695 is a repeated title\n",
      "3764 is a repeated title\n",
      "3824 is a repeated title\n",
      "4207 is a repeated title\n",
      "4317 is a repeated title\n",
      "4442 is a repeated title\n",
      "4466 is a repeated title\n",
      "4541 is a repeated title\n",
      "4565 is a repeated title\n",
      "4577 is a repeated title\n",
      "4629 is a repeated title\n",
      "4686 is a repeated title\n"
     ]
    }
   ],
   "source": [
    "# get a list of movieIds already watched by userId 42\n",
    "seen_titles_42 = df.loc[df['userId'] == 42, 'movieId'].unique().tolist()\n",
    "\n",
    "# defining a list of unique recommended titles for userId 42\n",
    "unique_reco_titles = np.unique([title for title in titles.numpy()[0]])\n",
    "\n",
    "# getting a list of repeated titles\n",
    "repeated_title_reco = [title for title in unique_reco_titles if title in seen_titles_42]\n",
    "\n",
    "if repeated_title_reco:\n",
    "    for title in repeated_title_reco:\n",
    "        print(f'{title} is a repeated title')\n",
    "else:\n",
    "    print(f'{len(repeated_title_reco)} recommendations are repeated.')"
   ]
  },
  {
   "cell_type": "markdown",
   "id": "08b0ebae",
   "metadata": {},
   "source": [
    "Here it seems that the model is recommending movies that the user has already watched. If a user has already watched a movie, it might skew the accuracy rating is it has already been a true positive. Most likely, this can be avoided with more training and a deeper model. We will explore this in the next notebook, [Deep Learning - Part 2](5_Deep_Learning_Part_2_(Introducing_more_features_and_layers).ipynb). "
   ]
  },
  {
   "cell_type": "markdown",
   "id": "9243903c",
   "metadata": {},
   "source": [
    "For now we will continue on building a basic model."
   ]
  },
  {
   "cell_type": "markdown",
   "id": "1d5104d5",
   "metadata": {},
   "source": [
    "## Basic Ranking Model"
   ]
  },
  {
   "cell_type": "code",
   "execution_count": 35,
   "id": "f35380c0",
   "metadata": {},
   "outputs": [],
   "source": [
    "ranking_dataset = {\n",
    "    'movieId': df['movieId'].tolist(),\n",
    "    'userId': df['userId'].tolist(),\n",
    "    'rating': df['rating'].tolist()\n",
    "}\n",
    "\n",
    "ranking_dataset = tf.data.Dataset.from_tensor_slices(ranking_dataset)\n",
    "\n",
    "ranking_dataset = ranking_dataset.map(lambda x: {\n",
    "    'movieId': x['movieId'],\n",
    "    'userId': x['userId'],\n",
    "    'rating': x['rating']\n",
    "})"
   ]
  },
  {
   "cell_type": "code",
   "execution_count": 36,
   "id": "91031adf",
   "metadata": {},
   "outputs": [],
   "source": [
    "tf.random.set_seed(42)\n",
    "shuffled_ranking = ranking_dataset.shuffle(100_000,\n",
    "                                           seed=42, \n",
    "                                           reshuffle_each_iteration=False\n",
    "                                          )\n",
    "\n",
    "ranking_train = shuffled_ranking.take(80_836)\n",
    "ranking_test = shuffled_ranking.skip(80_836).take(20_000)"
   ]
  },
  {
   "cell_type": "code",
   "execution_count": 37,
   "id": "11bd364f",
   "metadata": {},
   "outputs": [],
   "source": [
    "cached_ranking_train = ranking_train.shuffle(100_000)\\\n",
    "                        .batch(8192).cache()\n",
    "\n",
    "cached_ranking_test = ranking_test.batch(4096).cache()"
   ]
  },
  {
   "cell_type": "code",
   "execution_count": 56,
   "id": "45ea96cc",
   "metadata": {},
   "outputs": [],
   "source": [
    "class RankingModel_basic(tf.keras.Model):\n",
    "\n",
    "    def __init__(self):\n",
    "        super().__init__()\n",
    "        embedding_dimension = 32\n",
    "\n",
    "        # Compute embeddings for users.\n",
    "        # using previously defined and created user_id_model\n",
    "        self.user_embedding = user_id_model\n",
    "\n",
    "        # Compute embeddings for movies.\n",
    "        # using previously defined and created movie_id_model\n",
    "        self.movie_id_embedding = movie_id_model\n",
    "\n",
    "        # Compute predictions.\n",
    "        self.ratings = tf.keras.Sequential([\n",
    "            # Learn multiple dense layers.\n",
    "            tf.keras.layers.Dense(256, activation=\"relu\"),\n",
    "            tf.keras.layers.Dense(64, activation=\"relu\"),\n",
    "            # Make rating predictions in the final layer.\n",
    "            tf.keras.layers.Dense(1)\n",
    "        ])\n",
    "\n",
    "    def call(self, inputs):\n",
    "\n",
    "        userId, movieId = inputs\n",
    "\n",
    "        user_embedding = self.user_embedding(userId)\n",
    "        movie_id_embedding = self.movie_id_embedding(movieId)\n",
    "\n",
    "        return self.ratings(tf.concat([user_embedding, movie_id_embedding], axis=1))"
   ]
  },
  {
   "cell_type": "code",
   "execution_count": 57,
   "id": "afdb2df0",
   "metadata": {},
   "outputs": [],
   "source": [
    "class MovielensModel_basic_ranking(tfrs.models.Model):\n",
    "\n",
    "    def __init__(self):\n",
    "        super().__init__()\n",
    "        self.ranking_model: tf.keras.Model = RankingModel_basic()\n",
    "        self.task: tf.keras.layers.Layer = tfrs.tasks.Ranking(\n",
    "          loss = tf.keras.losses.MeanSquaredError(),\n",
    "          metrics=[tf.keras.metrics.RootMeanSquaredError()]\n",
    "        )\n",
    "\n",
    "    def call(self, features):\n",
    "        return self.ranking_model(\n",
    "            (features['userId'], features['movieId']))\n",
    "\n",
    "    def compute_loss(self, features, training=False):\n",
    "        labels = features.pop('rating')\n",
    "\n",
    "        rating_predictions = self(features)\n",
    "\n",
    "        # The task computes the loss and the metrics.\n",
    "        return self.task(labels=labels, predictions=rating_predictions)"
   ]
  },
  {
   "cell_type": "code",
   "execution_count": 58,
   "id": "406779eb",
   "metadata": {},
   "outputs": [],
   "source": [
    "basic_ranking_model = MovielensModel_basic_ranking()\n",
    "\n",
    "basic_ranking_model.compile(optimizer=tf.keras.optimizers.Adagrad(learning_rate=0.1))"
   ]
  },
  {
   "cell_type": "code",
   "execution_count": 59,
   "id": "bcb08e36",
   "metadata": {},
   "outputs": [
    {
     "name": "stdout",
     "output_type": "stream",
     "text": [
      "Epoch 1/10\n",
      "10/10 [==============================] - 2s 95ms/step - root_mean_squared_error: 3.4005 - loss: 10.5093 - regularization_loss: 0.0000e+00 - total_loss: 10.5093 - val_root_mean_squared_error: 1.1042 - val_loss: 1.2172 - val_regularization_loss: 0.0000e+00 - val_total_loss: 1.2172\n",
      "Epoch 2/10\n",
      "10/10 [==============================] - 0s 29ms/step - root_mean_squared_error: 1.0452 - loss: 1.0814 - regularization_loss: 0.0000e+00 - total_loss: 1.0814 - val_root_mean_squared_error: 1.0083 - val_loss: 1.0129 - val_regularization_loss: 0.0000e+00 - val_total_loss: 1.0129\n",
      "Epoch 3/10\n",
      "10/10 [==============================] - 0s 10ms/step - root_mean_squared_error: 0.9644 - loss: 0.9245 - regularization_loss: 0.0000e+00 - total_loss: 0.9245 - val_root_mean_squared_error: 0.9487 - val_loss: 0.8955 - val_regularization_loss: 0.0000e+00 - val_total_loss: 0.8955\n",
      "Epoch 4/10\n",
      "10/10 [==============================] - 0s 11ms/step - root_mean_squared_error: 0.9340 - loss: 0.8695 - regularization_loss: 0.0000e+00 - total_loss: 0.8695 - val_root_mean_squared_error: 0.9341 - val_loss: 0.8671 - val_regularization_loss: 0.0000e+00 - val_total_loss: 0.8671\n",
      "Epoch 5/10\n",
      "10/10 [==============================] - 0s 12ms/step - root_mean_squared_error: 0.9240 - loss: 0.8514 - regularization_loss: 0.0000e+00 - total_loss: 0.8514 - val_root_mean_squared_error: 0.9272 - val_loss: 0.8531 - val_regularization_loss: 0.0000e+00 - val_total_loss: 0.8531\n",
      "Epoch 6/10\n",
      "10/10 [==============================] - 0s 10ms/step - root_mean_squared_error: 0.9183 - loss: 0.8410 - regularization_loss: 0.0000e+00 - total_loss: 0.8410 - val_root_mean_squared_error: 0.9227 - val_loss: 0.8438 - val_regularization_loss: 0.0000e+00 - val_total_loss: 0.8438\n",
      "Epoch 7/10\n",
      "10/10 [==============================] - 0s 10ms/step - root_mean_squared_error: 0.9141 - loss: 0.8334 - regularization_loss: 0.0000e+00 - total_loss: 0.8334 - val_root_mean_squared_error: 0.9192 - val_loss: 0.8367 - val_regularization_loss: 0.0000e+00 - val_total_loss: 0.8367\n",
      "Epoch 8/10\n",
      "10/10 [==============================] - 0s 11ms/step - root_mean_squared_error: 0.9103 - loss: 0.8266 - regularization_loss: 0.0000e+00 - total_loss: 0.8266 - val_root_mean_squared_error: 0.9161 - val_loss: 0.8303 - val_regularization_loss: 0.0000e+00 - val_total_loss: 0.8303\n",
      "Epoch 9/10\n",
      "10/10 [==============================] - 0s 11ms/step - root_mean_squared_error: 0.9066 - loss: 0.8198 - regularization_loss: 0.0000e+00 - total_loss: 0.8198 - val_root_mean_squared_error: 0.9130 - val_loss: 0.8244 - val_regularization_loss: 0.0000e+00 - val_total_loss: 0.8244\n",
      "Epoch 10/10\n",
      "10/10 [==============================] - 0s 15ms/step - root_mean_squared_error: 0.9030 - loss: 0.8134 - regularization_loss: 0.0000e+00 - total_loss: 0.8134 - val_root_mean_squared_error: 0.9103 - val_loss: 0.8191 - val_regularization_loss: 0.0000e+00 - val_total_loss: 0.8191\n"
     ]
    }
   ],
   "source": [
    "num_epochs = 10\n",
    "\n",
    "basic_ranking_hist = basic_ranking_model.fit(\n",
    "    cached_ranking_train, \n",
    "    validation_data=cached_ranking_test,\n",
    "    validation_freq=1,\n",
    "    epochs=num_epochs,\n",
    "    verbose=1\n",
    ")"
   ]
  },
  {
   "cell_type": "code",
   "execution_count": 63,
   "id": "9d70d2b2",
   "metadata": {},
   "outputs": [
    {
     "data": {
      "image/png": "[encoded data removed]",
      "text/plain": [
       "<Figure size 864x576 with 1 Axes>"
      ]
     },
     "metadata": {
      "needs_background": "light"
     },
     "output_type": "display_data"
    }
   ],
   "source": [
    "# defining train and test loss from the model history\n",
    "ranking_train_rmse = basic_ranking_hist.history['loss']\n",
    "ranking_test_rmse = basic_ranking_hist.history['val_loss']\n",
    "\n",
    "# creating a train vs test loss plot\n",
    "plt.figure(figsize=(12, 8))\n",
    "plt.plot(ranking_train_rmse, label='Training RMSE', color='navy')\n",
    "plt.plot(ranking_test_rmse, label='Testing RMSE', color='skyblue')\n",
    "plt.title('Basic Ranking Model')\n",
    "plt.legend();"
   ]
  },
  {
   "cell_type": "markdown",
   "id": "2fc5c346",
   "metadata": {},
   "source": [
    "From the above chart, we can see that after the first epoch, we already seem to be experiencing overfitting. However, at the very least, we can see that the `val_rmse` did continue dropping and it does seem to have more to go if the model is tuned.<br>\n",
    "\n",
    "Let's also evaluate the model."
   ]
  },
  {
   "cell_type": "code",
   "execution_count": 61,
   "id": "6f50a1fd",
   "metadata": {},
   "outputs": [
    {
     "name": "stdout",
     "output_type": "stream",
     "text": [
      "5/5 [==============================] - 0s 17ms/step - root_mean_squared_error: 0.9103 - loss: 0.8268 - regularization_loss: 0.0000e+00 - total_loss: 0.8268\n"
     ]
    },
    {
     "data": {
      "text/plain": [
       "{'root_mean_squared_error': 0.9102557301521301,\n",
       " 'loss': 0.8191344738006592,\n",
       " 'regularization_loss': 0,\n",
       " 'total_loss': 0.8191344738006592}"
      ]
     },
     "execution_count": 61,
     "metadata": {},
     "output_type": "execute_result"
    }
   ],
   "source": [
    "basic_ranking_model.evaluate(cached_ranking_test, return_dict=True)"
   ]
  },
  {
   "cell_type": "markdown",
   "id": "4c16b47e",
   "metadata": {},
   "source": [
    "Even a simple Neural Network like this has given us a `val_rmse` of **0.9103**. This isn't the best score, however, now that we have a baseline, we can attempt to improve this score."
   ]
  },
  {
   "cell_type": "markdown",
   "id": "2085ac36",
   "metadata": {},
   "source": [
    "---"
   ]
  },
  {
   "cell_type": "markdown",
   "id": "ff9ac057",
   "metadata": {},
   "source": [
    "Now let's take a look at how we can obtain the predicted ratings for a given `userId` and a given set of `movieId`s."
   ]
  },
  {
   "cell_type": "code",
   "execution_count": 76,
   "id": "638a63f2",
   "metadata": {},
   "outputs": [
    {
     "name": "stdout",
     "output_type": "stream",
     "text": [
      "Ratings:\n",
      "6: 4.075359344482422\n",
      "9772: 3.523047924041748\n",
      "160341: 3.3970587253570557\n",
      "\n",
      "\n",
      "CPU times: total: 46.9 ms\n",
      "Wall time: 37.9 ms\n"
     ]
    }
   ],
   "source": [
    "%%time\n",
    "# defining an empty dictionary to store the predicted ratings\n",
    "test_ratings = {}\n",
    "\n",
    "# defining the movie ids\n",
    "test_movie_ids = [160341, 6, 9772]\n",
    "for movie_id in test_movie_ids:\n",
    "    test_ratings[movie_id] = basic_ranking_model({\n",
    "      \"userId\": np.array([42]),\n",
    "      \"movieId\": np.array([movie_id])\n",
    "    })[0][0]\n",
    "\n",
    "print(\"Ratings:\")\n",
    "for movie_id, score in sorted(test_ratings.items(), key=lambda x: x[1], reverse=True):\n",
    "  print(f\"{movie_id}: {score}\")\n",
    "print('\\n')"
   ]
  },
  {
   "cell_type": "markdown",
   "id": "77404046",
   "metadata": {},
   "source": [
    "So as we can see from the above, we can obtain the `predicted_ratings` fairly quickly, in about **45ms**.\n",
    "\n",
    "Having a model that can return the score quickly is important so the the user will not have to wait for recommenders to appear on their page as we have mentioned before.\n",
    "\n",
    "---\n",
    "We will save the scores that we saw for the basic models as a csv so that we can access them again in the next notebook."
   ]
  },
  {
   "cell_type": "raw",
   "id": "921c1a44",
   "metadata": {},
   "source": []
  },
  {
   "cell_type": "code",
   "execution_count": null,
   "id": "25700eb3",
   "metadata": {},
   "outputs": [],
   "source": [
    "results = {'retrieval_NN': ['1st_run', '2nd_run', '3rd_run'],\n",
    "           'top-100 accuracy': [0.27, 0.86, 0.88],\n",
    "           'ranking_NN': ['1st_run', '2nd_run', '3rd_run'],\n",
    "           'rating_rmse': [1.1813, 0.9418, ]\n",
    "          }\n",
    "\n",
    "# the difference between the runs for retrieval is, I added deeper layers, and I added in all the features\n",
    "# the difference between the runs for ranking is, I added 1 more deeper layer, and I added in all the features"
   ]
  },
  {
   "cell_type": "code",
   "execution_count": null,
   "id": "48fddf9b",
   "metadata": {},
   "outputs": [],
   "source": []
  },
  {
   "cell_type": "code",
   "execution_count": null,
   "id": "cb952cc1",
   "metadata": {},
   "outputs": [],
   "source": []
  },
  {
   "cell_type": "code",
   "execution_count": null,
   "id": "713ee680",
   "metadata": {},
   "outputs": [],
   "source": []
  },
  {
   "cell_type": "code",
   "execution_count": null,
   "id": "26f45aa2",
   "metadata": {},
   "outputs": [],
   "source": []
  },
  {
   "cell_type": "code",
   "execution_count": null,
   "id": "6d814556",
   "metadata": {},
   "outputs": [],
   "source": []
  },
  {
   "cell_type": "code",
   "execution_count": null,
   "id": "658affd2",
   "metadata": {},
   "outputs": [],
   "source": []
  },
  {
   "cell_type": "code",
   "execution_count": null,
   "id": "6b69bba2",
   "metadata": {},
   "outputs": [],
   "source": []
  },
  {
   "cell_type": "code",
   "execution_count": null,
   "id": "19308f4b",
   "metadata": {},
   "outputs": [],
   "source": []
  },
  {
   "cell_type": "code",
   "execution_count": null,
   "id": "c4579b6f",
   "metadata": {},
   "outputs": [],
   "source": []
  },
  {
   "cell_type": "code",
   "execution_count": null,
   "id": "6f8f0d8c",
   "metadata": {},
   "outputs": [],
   "source": []
  },
  {
   "cell_type": "code",
   "execution_count": null,
   "id": "453b2483",
   "metadata": {},
   "outputs": [],
   "source": []
  },
  {
   "cell_type": "code",
   "execution_count": null,
   "id": "23d2ac44",
   "metadata": {},
   "outputs": [],
   "source": []
  },
  {
   "cell_type": "code",
   "execution_count": null,
   "id": "344bcf53",
   "metadata": {},
   "outputs": [],
   "source": []
  },
  {
   "cell_type": "code",
   "execution_count": null,
   "id": "61d9822b",
   "metadata": {},
   "outputs": [],
   "source": []
  },
  {
   "cell_type": "code",
   "execution_count": null,
   "id": "ddfa1b8a",
   "metadata": {},
   "outputs": [],
   "source": []
  },
  {
   "cell_type": "code",
   "execution_count": null,
   "id": "7c221766",
   "metadata": {},
   "outputs": [],
   "source": []
  },
  {
   "cell_type": "markdown",
   "id": "70c20f31",
   "metadata": {},
   "source": [
    "Retrieval, Ranking, and Post-Ranking"
   ]
  },
  {
   "cell_type": "markdown",
   "id": "3d18aabd",
   "metadata": {},
   "source": [
    "**One thing I need to figure out is how I can pass in the movie genres into the Neural Network. I will need to create embeddings for it, and then compile it into the model.**"
   ]
  },
  {
   "cell_type": "markdown",
   "id": "151b7ffb",
   "metadata": {},
   "source": [
    "## What are Embeddings?"
   ]
  },
  {
   "cell_type": "markdown",
   "id": "1ce4e17e",
   "metadata": {},
   "source": [
    "They allow additionaly information to be inserted in your neural network. This can be an alternative to 1-hot-encoding. It gets impractical the more dimensionality you will have. 1 dummy variable for every variable may not be useful. It will increase the dimensionality of the data, however the hope is to improve the model score at the end of the day."
   ]
  },
  {
   "cell_type": "markdown",
   "id": "1214421f",
   "metadata": {},
   "source": [
    "How to \"train\" the embedding layer?\n",
    "What's the vocabulary size? Let's say you have 10 genres, so your input_dim is 10, and you can set the output_dim to be a vector with n number of rows. Let's say output_dim=4. It won't just be 0s and 1s either. Input length is just referring to the length of the sequence. So for me, it's just going to be 1, as 1 word = 1 feature for genre.\n",
    "\n",
    "so this \"neural network\" has only 1 layer. It only kicks out the embeddings. It doesn't really do anything much, but you've created the embedding layer. \n",
    "Now you have a \"lookup table\" that is your embedding. \n",
    "so in the above example, we will have a table of 10 cols, and 4 rows. So an array of [1, 2] will return a \"prediction\". What it outputs is actually a bunch of random weights. You' can't really make sense of this. It will make sense if you compare it to the embedding layer weights. Be careful that this weights should not be trained, because they aren't meant to be treated as weights, but rather as lookup table."
   ]
  }
 ],
 "metadata": {
  "kernelspec": {
   "display_name": "Python 3 (ipykernel)",
   "language": "python",
   "name": "python3"
  },
  "language_info": {
   "codemirror_mode": {
    "name": "ipython",
    "version": 3
   },
   "file_extension": ".py",
   "mimetype": "text/x-python",
   "name": "python",
   "nbconvert_exporter": "python",
   "pygments_lexer": "ipython3",
   "version": "3.8.13"
  }
 },
 "nbformat": 4,
 "nbformat_minor": 5
}
