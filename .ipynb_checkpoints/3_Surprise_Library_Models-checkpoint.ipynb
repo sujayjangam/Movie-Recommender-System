{
 "cells": [
  {
   "cell_type": "markdown",
   "id": "791f10fa",
   "metadata": {},
   "source": [
    "# Singular Value Decomposition Model"
   ]
  },
  {
   "cell_type": "markdown",
   "id": "50c3e0b8",
   "metadata": {},
   "source": [
    "Previously we saw a RMSE of 3.2, which on the surface may seem to be alright, however if we interpret it, it means that our memory-based collaborative filtering approach predicts the rating to be either 64% more or less than the actual rating. This is not ideal, and there are a few possible reasons for this. \n",
    "\n",
    "1. Overfit\n",
    "2. Doesn't scale well to massive datasets, the dataset we have elected to use is the 100k dataset, and in reality, there are many many more times larger datasets in real-life production scenarios.\n",
    "\n",
    "As such we most likely need to explore some dimensionality reduction techniques to help us improve our RMSE score. \n",
    "Here are some benefits we are likely to see from reducing dimensionality."
   ]
  },
  {
   "cell_type": "markdown",
   "id": "ad2d3349",
   "metadata": {},
   "source": [
    "To achieve this, we will make use of the `surprise` library that is available in python for building and analyzing recommender systems that deal with explicit rating data. [A paper going into much greater detail about this awesome library is cited here!](https://doi.org/10.21105/joss.02174). This is relevant here as we have a 100 Thousand dataset with explicit rating for movies."
   ]
  },
  {
   "cell_type": "markdown",
   "id": "a0028f5b",
   "metadata": {},
   "source": [
    "### I will be running ALL the surprise models. I think it will actually be quite simple. What I am concerned about is actually error analysis. How can this be done? Additionally, I think using neural networks for recommender systems is actually going to be not as easy as plug and play like some previous examples that I saw..."
   ]
  },
  {
   "cell_type": "code",
   "execution_count": 1,
   "id": "5c3cffeb",
   "metadata": {},
   "outputs": [],
   "source": [
    "from surprise import (BaselineOnly, KNNBasic, KNNWithMeans, KNNWithZScore, KNNBaseline, SVD, SVDpp, NMF, SlopeOne, \n",
    "CoClustering)\n",
    "from surprise import Dataset, Reader\n",
    "from surprise.model_selection import cross_validate, GridSearchCV, train_test_split\n",
    "from surprise.accuracy import rmse, mae\n",
    "from sklearn.metrics import mean_squared_error"
   ]
  },
  {
   "cell_type": "code",
   "execution_count": 2,
   "id": "5ab3ef9c",
   "metadata": {},
   "outputs": [],
   "source": [
    "import pandas as pd\n",
    "import numpy as np\n",
    "import matplotlib.pyplot as plt\n",
    "import seaborn as sns\n",
    "from math import sqrt"
   ]
  },
  {
   "cell_type": "code",
   "execution_count": 3,
   "id": "8859941b",
   "metadata": {},
   "outputs": [],
   "source": [
    "import statistics"
   ]
  },
  {
   "cell_type": "markdown",
   "id": "e500b736",
   "metadata": {},
   "source": [
    "In order to have reproducible results, we will create a random seed for this whole notebook."
   ]
  },
  {
   "cell_type": "code",
   "execution_count": 4,
   "id": "bcf61121",
   "metadata": {},
   "outputs": [],
   "source": [
    "import random\n",
    "\n",
    "my_seed = 42\n",
    "random.seed(my_seed)\n",
    "np.random.seed(my_seed)"
   ]
  },
  {
   "cell_type": "code",
   "execution_count": 5,
   "id": "7ea1e59c",
   "metadata": {},
   "outputs": [],
   "source": [
    "df = pd.read_csv('./datasets/merged_users+movies.csv')"
   ]
  },
  {
   "cell_type": "code",
   "execution_count": 4,
   "id": "46ba34d4",
   "metadata": {},
   "outputs": [
    {
     "data": {
      "text/html": [
       "<div>\n",
       "<style scoped>\n",
       "    .dataframe tbody tr th:only-of-type {\n",
       "        vertical-align: middle;\n",
       "    }\n",
       "\n",
       "    .dataframe tbody tr th {\n",
       "        vertical-align: top;\n",
       "    }\n",
       "\n",
       "    .dataframe thead th {\n",
       "        text-align: right;\n",
       "    }\n",
       "</style>\n",
       "<table border=\"1\" class=\"dataframe\">\n",
       "  <thead>\n",
       "    <tr style=\"text-align: right;\">\n",
       "      <th></th>\n",
       "      <th>userId</th>\n",
       "      <th>movieId</th>\n",
       "      <th>rating</th>\n",
       "      <th>timestamp</th>\n",
       "      <th>title</th>\n",
       "      <th>genres</th>\n",
       "    </tr>\n",
       "  </thead>\n",
       "  <tbody>\n",
       "    <tr>\n",
       "      <th>0</th>\n",
       "      <td>1</td>\n",
       "      <td>1</td>\n",
       "      <td>4.0</td>\n",
       "      <td>964982703</td>\n",
       "      <td>Toy Story (1995)</td>\n",
       "      <td>Adventure Animation Children Comedy Fantasy</td>\n",
       "    </tr>\n",
       "    <tr>\n",
       "      <th>1</th>\n",
       "      <td>5</td>\n",
       "      <td>1</td>\n",
       "      <td>4.0</td>\n",
       "      <td>847434962</td>\n",
       "      <td>Toy Story (1995)</td>\n",
       "      <td>Adventure Animation Children Comedy Fantasy</td>\n",
       "    </tr>\n",
       "    <tr>\n",
       "      <th>2</th>\n",
       "      <td>7</td>\n",
       "      <td>1</td>\n",
       "      <td>4.5</td>\n",
       "      <td>1106635946</td>\n",
       "      <td>Toy Story (1995)</td>\n",
       "      <td>Adventure Animation Children Comedy Fantasy</td>\n",
       "    </tr>\n",
       "    <tr>\n",
       "      <th>3</th>\n",
       "      <td>15</td>\n",
       "      <td>1</td>\n",
       "      <td>2.5</td>\n",
       "      <td>1510577970</td>\n",
       "      <td>Toy Story (1995)</td>\n",
       "      <td>Adventure Animation Children Comedy Fantasy</td>\n",
       "    </tr>\n",
       "    <tr>\n",
       "      <th>4</th>\n",
       "      <td>17</td>\n",
       "      <td>1</td>\n",
       "      <td>4.5</td>\n",
       "      <td>1305696483</td>\n",
       "      <td>Toy Story (1995)</td>\n",
       "      <td>Adventure Animation Children Comedy Fantasy</td>\n",
       "    </tr>\n",
       "  </tbody>\n",
       "</table>\n",
       "</div>"
      ],
      "text/plain": [
       "   userId  movieId  rating   timestamp             title  \\\n",
       "0       1        1     4.0   964982703  Toy Story (1995)   \n",
       "1       5        1     4.0   847434962  Toy Story (1995)   \n",
       "2       7        1     4.5  1106635946  Toy Story (1995)   \n",
       "3      15        1     2.5  1510577970  Toy Story (1995)   \n",
       "4      17        1     4.5  1305696483  Toy Story (1995)   \n",
       "\n",
       "                                        genres  \n",
       "0  Adventure Animation Children Comedy Fantasy  \n",
       "1  Adventure Animation Children Comedy Fantasy  \n",
       "2  Adventure Animation Children Comedy Fantasy  \n",
       "3  Adventure Animation Children Comedy Fantasy  \n",
       "4  Adventure Animation Children Comedy Fantasy  "
      ]
     },
     "execution_count": 4,
     "metadata": {},
     "output_type": "execute_result"
    }
   ],
   "source": [
    "df.head()"
   ]
  },
  {
   "cell_type": "markdown",
   "id": "19301eee",
   "metadata": {},
   "source": [
    "# Start HERE"
   ]
  },
  {
   "cell_type": "markdown",
   "id": "c8108bdd",
   "metadata": {},
   "source": [
    "Even though the surprise library has been modeled and inspired by the excellent scikit library, the way some of the methods are used is different since we are dealing with a library that has been built specifically for recommender systems for datasets with explicit ratings. We will make use of the documentation found [here](http://surpriselib.com/)."
   ]
  },
  {
   "cell_type": "code",
   "execution_count": 159,
   "id": "5f5d30d3",
   "metadata": {},
   "outputs": [],
   "source": [
    "# we will use the min and max ratings observed from our data\n",
    "reader = Reader(rating_scale=(min(df['rating']), max(df['rating'])))\n",
    "data = Dataset.load_from_df(df[['userId', 'movieId', 'rating']], reader)"
   ]
  },
  {
   "cell_type": "markdown",
   "id": "035b443c",
   "metadata": {},
   "source": [
    "Now we are ready to start modeling."
   ]
  },
  {
   "cell_type": "markdown",
   "id": "6d326b5a",
   "metadata": {},
   "source": [
    "One of the metrics that we are interested in using is the precision@k and recall@k. In order to use this metric, we need to identify a `threshold`. We will go about doing this now. \n",
    "(also need to explain how this metric works)."
   ]
  },
  {
   "cell_type": "markdown",
   "id": "3e95579c",
   "metadata": {},
   "source": [
    "Now we are ready to start modeling. Due to the way the surprise library is built, the way we fit our data for our model with and without `GridSearchCV` is different. So we will need to redefine our `data` once we are ready to perform hyper parameter tuning. Let's start with all the base models first."
   ]
  },
  {
   "cell_type": "code",
   "execution_count": 26,
   "id": "7d14f3bf",
   "metadata": {},
   "outputs": [
    {
     "data": {
      "text/plain": [
       "<surprise.prediction_algorithms.matrix_factorization.SVD at 0x254649e23a0>"
      ]
     },
     "execution_count": 26,
     "metadata": {},
     "output_type": "execute_result"
    }
   ],
   "source": [
    "svd = SVD()\n",
    "svd.fit(data.build_full_trainset())"
   ]
  },
  {
   "cell_type": "code",
   "execution_count": 28,
   "id": "ac32c833",
   "metadata": {},
   "outputs": [
    {
     "data": {
      "text/plain": [
       "{'user_based': True}"
      ]
     },
     "execution_count": 28,
     "metadata": {},
     "output_type": "execute_result"
    }
   ],
   "source": [
    "svd.sim_options"
   ]
  },
  {
   "cell_type": "code",
   "execution_count": null,
   "id": "d4014e43",
   "metadata": {},
   "outputs": [],
   "source": []
  },
  {
   "cell_type": "code",
   "execution_count": 37,
   "id": "03315888",
   "metadata": {},
   "outputs": [
    {
     "name": "stdout",
     "output_type": "stream",
     "text": [
      "Evaluating RMSE, MAE of algorithm SVD on 3 split(s).\n",
      "\n",
      "                  Fold 1  Fold 2  Fold 3  Mean    Std     \n",
      "RMSE (testset)    0.8646  0.8615  0.8646  0.8636  0.0015  \n",
      "MAE (testset)     0.6633  0.6608  0.6638  0.6626  0.0013  \n",
      "RMSE (trainset)   0.6432  0.6422  0.6417  0.6424  0.0006  \n",
      "MAE (trainset)    0.4981  0.4976  0.4966  0.4974  0.0006  \n",
      "Fit time          2.21    2.29    2.32    2.27    0.05    \n",
      "Test time         0.20    0.14    0.13    0.16    0.03    \n"
     ]
    }
   ],
   "source": [
    "cross_val = cross_validate(svd, data, measures=['rmse', 'mae'], cv=3, verbose=True, return_train_measures=True)"
   ]
  },
  {
   "cell_type": "code",
   "execution_count": 35,
   "id": "a1fb4d3f",
   "metadata": {},
   "outputs": [
    {
     "data": {
      "text/html": [
       "<div>\n",
       "<style scoped>\n",
       "    .dataframe tbody tr th:only-of-type {\n",
       "        vertical-align: middle;\n",
       "    }\n",
       "\n",
       "    .dataframe tbody tr th {\n",
       "        vertical-align: top;\n",
       "    }\n",
       "\n",
       "    .dataframe thead th {\n",
       "        text-align: right;\n",
       "    }\n",
       "</style>\n",
       "<table border=\"1\" class=\"dataframe\">\n",
       "  <thead>\n",
       "    <tr style=\"text-align: right;\">\n",
       "      <th></th>\n",
       "      <th>test_rmse</th>\n",
       "      <th>test_mae</th>\n",
       "      <th>fit_time</th>\n",
       "      <th>test_time</th>\n",
       "    </tr>\n",
       "  </thead>\n",
       "  <tbody>\n",
       "    <tr>\n",
       "      <th>0</th>\n",
       "      <td>0.856328</td>\n",
       "      <td>0.657220</td>\n",
       "      <td>2.272714</td>\n",
       "      <td>0.203294</td>\n",
       "    </tr>\n",
       "    <tr>\n",
       "      <th>1</th>\n",
       "      <td>0.870410</td>\n",
       "      <td>0.666395</td>\n",
       "      <td>2.458013</td>\n",
       "      <td>0.206890</td>\n",
       "    </tr>\n",
       "    <tr>\n",
       "      <th>2</th>\n",
       "      <td>0.859516</td>\n",
       "      <td>0.660783</td>\n",
       "      <td>2.348071</td>\n",
       "      <td>0.142336</td>\n",
       "    </tr>\n",
       "  </tbody>\n",
       "</table>\n",
       "</div>"
      ],
      "text/plain": [
       "   test_rmse  test_mae  fit_time  test_time\n",
       "0   0.856328  0.657220  2.272714   0.203294\n",
       "1   0.870410  0.666395  2.458013   0.206890\n",
       "2   0.859516  0.660783  2.348071   0.142336"
      ]
     },
     "execution_count": 35,
     "metadata": {},
     "output_type": "execute_result"
    }
   ],
   "source": [
    "pd.DataFrame(cross_val)"
   ]
  },
  {
   "cell_type": "code",
   "execution_count": 92,
   "id": "4dd77989",
   "metadata": {},
   "outputs": [],
   "source": [
    "models = {'baseline': BaselineOnly(),\n",
    "          'knn_basic': KNNBasic(),\n",
    "          'knn_means': KNNWithMeans(),\n",
    "          'knn_zscore': KNNWithZScore(),\n",
    "          'knn_baseline': KNNBaseline(),\n",
    "          'svd': SVD(),\n",
    "          'svdpp': SVDpp(),\n",
    "          'nmf': NMF(),\n",
    "          'slope': SlopeOne(),\n",
    "          'cluster': CoClustering(),\n",
    "         }"
   ]
  },
  {
   "cell_type": "code",
   "execution_count": 93,
   "id": "b78a71f7",
   "metadata": {},
   "outputs": [],
   "source": [
    "model_eval = []"
   ]
  },
  {
   "cell_type": "code",
   "execution_count": 404,
   "id": "bd21e82e",
   "metadata": {},
   "outputs": [],
   "source": [
    "# Function to run model -- input model\n",
    "def get_base_model_scores(model_name,\n",
    "                          mod):\n",
    "    \n",
    "    \"\"\"Function accepts following inputs:\n",
    "    Name of model (str), model to be used (str).\"\"\"\n",
    "    \n",
    "    # empty dict for appending results\n",
    "    results = {}\n",
    "    \n",
    "    cross_val_model = cross_validate(models[mod],\n",
    "                                     data,\n",
    "                                     measures=['rmse'],\n",
    "                                     cv=3,\n",
    "                                     return_train_measures=True,\n",
    "                                     n_jobs=-1,\n",
    "                                     verbose=False\n",
    "                                    )\n",
    "    \n",
    "    results['model_name'] = model_name\n",
    "    results['model'] = mod\n",
    "    results['train_rmse'] = cross_val_model['train_rmse'].mean()\n",
    "    results['test_rmse'] = cross_val_model['test_rmse'].mean()\n",
    "    \n",
    "    # using statistics method as the below two attributes\n",
    "    # are tuples, so the .mean() method will not work\n",
    "    # the above are arrays, so the .mean() method works\n",
    "    \n",
    "    results['fit_time'] = statistics.mean(cross_val_model['fit_time'])\n",
    "    results['test_time'] = statistics.mean(cross_val_model['test_time'])\n",
    "    \n",
    "    model_eval.append(results)\n",
    "    print('Base model fit is complete.')\n",
    "    \n",
    "    return cross_val_model"
   ]
  },
  {
   "cell_type": "code",
   "execution_count": 414,
   "id": "3c424d06",
   "metadata": {},
   "outputs": [
    {
     "name": "stdout",
     "output_type": "stream",
     "text": [
      "Base model fit is complete.\n"
     ]
    }
   ],
   "source": [
    "base_baseline_only = get_base_model_scores('base_baseline_only', 'baseline')"
   ]
  },
  {
   "cell_type": "code",
   "execution_count": 413,
   "id": "74bb65ca",
   "metadata": {},
   "outputs": [
    {
     "name": "stdout",
     "output_type": "stream",
     "text": [
      "Base model fit is complete.\n"
     ]
    }
   ],
   "source": [
    "base_knn_basic = get_base_model_scores('base_knn_basic', 'knn_basic')"
   ]
  },
  {
   "cell_type": "code",
   "execution_count": 412,
   "id": "fb65af94",
   "metadata": {},
   "outputs": [
    {
     "name": "stdout",
     "output_type": "stream",
     "text": [
      "Base model fit is complete.\n"
     ]
    }
   ],
   "source": [
    "base_knn_means = get_base_model_scores('base_knn_means', 'knn_means')"
   ]
  },
  {
   "cell_type": "code",
   "execution_count": 411,
   "id": "8665c2ed",
   "metadata": {},
   "outputs": [
    {
     "name": "stdout",
     "output_type": "stream",
     "text": [
      "Base model fit is complete.\n"
     ]
    }
   ],
   "source": [
    "base_knn_zscore = get_base_model_scores('base_knn_zscore', 'knn_zscore')"
   ]
  },
  {
   "cell_type": "code",
   "execution_count": 410,
   "id": "a6190a02",
   "metadata": {},
   "outputs": [
    {
     "name": "stdout",
     "output_type": "stream",
     "text": [
      "Base model fit is complete.\n"
     ]
    }
   ],
   "source": [
    "base_knn_baseline = get_base_model_scores('base_knn_baseline', 'knn_baseline')"
   ]
  },
  {
   "cell_type": "code",
   "execution_count": 409,
   "id": "5704eeb5",
   "metadata": {},
   "outputs": [
    {
     "name": "stdout",
     "output_type": "stream",
     "text": [
      "Base model fit is complete.\n"
     ]
    }
   ],
   "source": [
    "base_svd = get_base_model_scores('base_svd', 'svd')"
   ]
  },
  {
   "cell_type": "code",
   "execution_count": 408,
   "id": "f59f4413",
   "metadata": {},
   "outputs": [
    {
     "name": "stdout",
     "output_type": "stream",
     "text": [
      "Base model fit is complete.\n"
     ]
    }
   ],
   "source": [
    "base_svdpp = get_base_model_scores('base_svdpp', 'svdpp')"
   ]
  },
  {
   "cell_type": "code",
   "execution_count": 407,
   "id": "741f06eb",
   "metadata": {},
   "outputs": [
    {
     "name": "stdout",
     "output_type": "stream",
     "text": [
      "Base model fit is complete.\n"
     ]
    }
   ],
   "source": [
    "base_nmf = get_base_model_scores('base_nmf', 'nmf')"
   ]
  },
  {
   "cell_type": "code",
   "execution_count": 406,
   "id": "c05bc548",
   "metadata": {},
   "outputs": [
    {
     "name": "stdout",
     "output_type": "stream",
     "text": [
      "Base model fit is complete.\n"
     ]
    }
   ],
   "source": [
    "base_slop = get_base_model_scores('base_slop', 'slope')"
   ]
  },
  {
   "cell_type": "code",
   "execution_count": 405,
   "id": "dc8a9d85",
   "metadata": {},
   "outputs": [
    {
     "name": "stdout",
     "output_type": "stream",
     "text": [
      "Base model fit is complete.\n"
     ]
    }
   ],
   "source": [
    "base_cluster = get_base_model_scores('base_cluster', 'cluster')"
   ]
  },
  {
   "cell_type": "code",
   "execution_count": 417,
   "id": "1c25b598",
   "metadata": {},
   "outputs": [],
   "source": [
    "base_model_scores = pd.DataFrame(model_eval)"
   ]
  },
  {
   "cell_type": "code",
   "execution_count": 418,
   "id": "a7a60e95",
   "metadata": {},
   "outputs": [
    {
     "data": {
      "text/html": [
       "<div>\n",
       "<style scoped>\n",
       "    .dataframe tbody tr th:only-of-type {\n",
       "        vertical-align: middle;\n",
       "    }\n",
       "\n",
       "    .dataframe tbody tr th {\n",
       "        vertical-align: top;\n",
       "    }\n",
       "\n",
       "    .dataframe thead th {\n",
       "        text-align: right;\n",
       "    }\n",
       "</style>\n",
       "<table border=\"1\" class=\"dataframe\">\n",
       "  <thead>\n",
       "    <tr style=\"text-align: right;\">\n",
       "      <th></th>\n",
       "      <th>model_name</th>\n",
       "      <th>model</th>\n",
       "      <th>train_rmse</th>\n",
       "      <th>test_rmse</th>\n",
       "      <th>fit_time</th>\n",
       "      <th>test_time</th>\n",
       "    </tr>\n",
       "  </thead>\n",
       "  <tbody>\n",
       "    <tr>\n",
       "      <th>6</th>\n",
       "      <td>base_svdpp</td>\n",
       "      <td>svdpp</td>\n",
       "      <td>0.675951</td>\n",
       "      <td>0.866679</td>\n",
       "      <td>302.668346</td>\n",
       "      <td>6.992896</td>\n",
       "    </tr>\n",
       "    <tr>\n",
       "      <th>0</th>\n",
       "      <td>base_baseline_only</td>\n",
       "      <td>baseline</td>\n",
       "      <td>0.837641</td>\n",
       "      <td>0.876241</td>\n",
       "      <td>0.050725</td>\n",
       "      <td>0.111516</td>\n",
       "    </tr>\n",
       "    <tr>\n",
       "      <th>5</th>\n",
       "      <td>base_svd</td>\n",
       "      <td>svd</td>\n",
       "      <td>0.639353</td>\n",
       "      <td>0.879827</td>\n",
       "      <td>2.926874</td>\n",
       "      <td>0.167982</td>\n",
       "    </tr>\n",
       "    <tr>\n",
       "      <th>4</th>\n",
       "      <td>base_knn_baseline</td>\n",
       "      <td>knn_baseline</td>\n",
       "      <td>0.655359</td>\n",
       "      <td>0.882639</td>\n",
       "      <td>0.160189</td>\n",
       "      <td>1.926270</td>\n",
       "    </tr>\n",
       "    <tr>\n",
       "      <th>3</th>\n",
       "      <td>base_knn_zscore</td>\n",
       "      <td>knn_zscore</td>\n",
       "      <td>0.668391</td>\n",
       "      <td>0.903679</td>\n",
       "      <td>0.157216</td>\n",
       "      <td>1.621699</td>\n",
       "    </tr>\n",
       "    <tr>\n",
       "      <th>2</th>\n",
       "      <td>base_knn_means</td>\n",
       "      <td>knn_means</td>\n",
       "      <td>0.673119</td>\n",
       "      <td>0.904506</td>\n",
       "      <td>0.111510</td>\n",
       "      <td>1.488612</td>\n",
       "    </tr>\n",
       "    <tr>\n",
       "      <th>8</th>\n",
       "      <td>base_slop</td>\n",
       "      <td>slope</td>\n",
       "      <td>0.551231</td>\n",
       "      <td>0.909538</td>\n",
       "      <td>2.661436</td>\n",
       "      <td>4.934569</td>\n",
       "    </tr>\n",
       "    <tr>\n",
       "      <th>7</th>\n",
       "      <td>base_nmf</td>\n",
       "      <td>nmf</td>\n",
       "      <td>0.577744</td>\n",
       "      <td>0.937035</td>\n",
       "      <td>3.727779</td>\n",
       "      <td>0.152249</td>\n",
       "    </tr>\n",
       "    <tr>\n",
       "      <th>9</th>\n",
       "      <td>base_cluster</td>\n",
       "      <td>cluster</td>\n",
       "      <td>0.812592</td>\n",
       "      <td>0.954283</td>\n",
       "      <td>1.698625</td>\n",
       "      <td>0.132729</td>\n",
       "    </tr>\n",
       "    <tr>\n",
       "      <th>1</th>\n",
       "      <td>base_knn_basic</td>\n",
       "      <td>knn_basic</td>\n",
       "      <td>0.697346</td>\n",
       "      <td>0.959823</td>\n",
       "      <td>0.094301</td>\n",
       "      <td>1.339809</td>\n",
       "    </tr>\n",
       "  </tbody>\n",
       "</table>\n",
       "</div>"
      ],
      "text/plain": [
       "           model_name         model  train_rmse  test_rmse    fit_time  \\\n",
       "6          base_svdpp         svdpp    0.675951   0.866679  302.668346   \n",
       "0  base_baseline_only      baseline    0.837641   0.876241    0.050725   \n",
       "5            base_svd           svd    0.639353   0.879827    2.926874   \n",
       "4   base_knn_baseline  knn_baseline    0.655359   0.882639    0.160189   \n",
       "3     base_knn_zscore    knn_zscore    0.668391   0.903679    0.157216   \n",
       "2      base_knn_means     knn_means    0.673119   0.904506    0.111510   \n",
       "8           base_slop         slope    0.551231   0.909538    2.661436   \n",
       "7            base_nmf           nmf    0.577744   0.937035    3.727779   \n",
       "9        base_cluster       cluster    0.812592   0.954283    1.698625   \n",
       "1      base_knn_basic     knn_basic    0.697346   0.959823    0.094301   \n",
       "\n",
       "   test_time  \n",
       "6   6.992896  \n",
       "0   0.111516  \n",
       "5   0.167982  \n",
       "4   1.926270  \n",
       "3   1.621699  \n",
       "2   1.488612  \n",
       "8   4.934569  \n",
       "7   0.152249  \n",
       "9   0.132729  \n",
       "1   1.339809  "
      ]
     },
     "execution_count": 418,
     "metadata": {},
     "output_type": "execute_result"
    }
   ],
   "source": [
    "base_model_scores.sort_values('test_rmse')"
   ]
  },
  {
   "cell_type": "markdown",
   "id": "49210b7b",
   "metadata": {},
   "source": [
    "Based on the above table, we can see that the lowest(below 90%) `rmse` scores are for the `SVD++`, `BaselineOnly`, `SVD` amd `KNNBaseline`. As `BaselineOnly` predicts a rating based on the distribution of the training set, (assumed to be normal), we will not further tune it's hyperparameters, instead, we will focus on the other three models.\n",
    "\n",
    "The reason for this is so that this model could be applicable to other movie rating datasets, and may follow a different distribution, (*not normal*).\n",
    "\n",
    "In the following section, we will tune the hyperparameters of these three models using the `surprise` library `GridSearchCV` method.\n",
    "\n",
    "Considering that the base `SVD++` model took 302s (5mins) on average to fit 1 fold, we will start with `SVD`, then move on to `KNNBaseline` and then move to `SVD++`. `SVD++` hyperparameters tuning will most likley take a lot of time, even if it is our best performing model so far.\n",
    "\n",
    "**Observations about fit_time.**"
   ]
  },
  {
   "cell_type": "markdown",
   "id": "df91e698",
   "metadata": {},
   "source": [
    "---"
   ]
  },
  {
   "cell_type": "markdown",
   "id": "b4329247",
   "metadata": {},
   "source": [
    "# Tuning our best models"
   ]
  },
  {
   "cell_type": "markdown",
   "id": "b7189602",
   "metadata": {},
   "source": [
    "Since we are using `GridSearchCV`, we will need to make some changes to our modeling function we used previously. We will also need to re-instantiate our models in the way that is specifically required for `GridSearchCV`. "
   ]
  },
  {
   "cell_type": "code",
   "execution_count": 440,
   "id": "1330920c",
   "metadata": {},
   "outputs": [],
   "source": [
    "# as per the surprise documentation, the models\n",
    "# must be instatiated in GridSearchCV without\n",
    "# parentheses\n",
    "model_tuned = {'knn_baseline': KNNBaseline,\n",
    "               'svd': SVD,\n",
    "               'svdpp': SVDpp,\n",
    "              }"
   ]
  },
  {
   "cell_type": "code",
   "execution_count": 319,
   "id": "50891a42",
   "metadata": {},
   "outputs": [],
   "source": [
    "# Function to run model -- input model\n",
    "def tuned_model_scores(model_name, \n",
    "                       mod, \n",
    "                       mod_params={}):\n",
    "    \n",
    "    \"\"\"Function accepts following inputs:\n",
    "    Name of model (str), model to be used (str), \n",
    "    model params(dict, optional).\"\"\"\n",
    "    \n",
    "    # empty dict for appending results\n",
    "    results = {}\n",
    "    \n",
    "    # instantiate GridSearchCV\n",
    "    gs = GridSearchCV(model_tuned[mod], \n",
    "                      param_grid=mod_params,\n",
    "                      measures=['rmse'],\n",
    "                      cv=3,\n",
    "                      n_jobs=-1,\n",
    "                      return_train_measures=True\n",
    "                     )\n",
    "\n",
    "    # fit model\n",
    "    gs.fit(data)\n",
    "    \n",
    "    temp_df = pd.DataFrame(gs.cv_results)\n",
    "    num_fits = len(temp_df)*3\n",
    "\n",
    "    temp_df = temp_df.loc[gs.best_index['rmse'], \n",
    "                          ['mean_train_rmse', \n",
    "                           'mean_test_rmse', \n",
    "                           'mean_fit_time', \n",
    "                           'mean_test_time', \n",
    "                           'params']].values.tolist()\n",
    "    \n",
    "    # Retrieve metrics and add to results\n",
    "    results['model_name'] = model_name\n",
    "    results['model'] = mod\n",
    "    results['train_rmse'] = temp_df[0]\n",
    "    results['test_rmse'] = temp_df[1]\n",
    "    results['fit_time'] = temp_df[2]\n",
    "    results['test_time'] = temp_df[3]\n",
    "    \n",
    "    # add results to list for model evaluation later\n",
    "    model_eval.append(results)\n",
    "    \n",
    "    print(f'{num_fits} fits have been completed.')\n",
    "    \n",
    "    return gs"
   ]
  },
  {
   "cell_type": "markdown",
   "id": "f30100f3",
   "metadata": {},
   "source": [
    "With this function, we are now ready to begin with hyperparameter tuning for our 3 selected models."
   ]
  },
  {
   "cell_type": "code",
   "execution_count": 304,
   "id": "da0998eb",
   "metadata": {},
   "outputs": [],
   "source": [
    "# defining SVD parameters\n",
    "svd_params = {'n_factors': [80, 90, 100, 110, 120], \n",
    "              'n_epochs': [15, 20, 25, 30, 35], \n",
    "              'biased': [True, False], \n",
    "              'lr_all': [0.003, 0.004, 0.005, 0.006, 0.007],\n",
    "              'reg_all': [0.01, 0.02, 0.03, 0.04]\n",
    "             }"
   ]
  },
  {
   "cell_type": "code",
   "execution_count": 338,
   "id": "f404ced3",
   "metadata": {},
   "outputs": [
    {
     "name": "stdout",
     "output_type": "stream",
     "text": [
      "3000 fits have been completed.\n"
     ]
    }
   ],
   "source": [
    "# first tuning attempt\n",
    "svd_tuned_1 = tuned_model_scores('svd_tuned_1', \n",
    "                                 'svd', \n",
    "                                 mod_params=svd_params)"
   ]
  },
  {
   "cell_type": "code",
   "execution_count": 339,
   "id": "9f8241b3",
   "metadata": {},
   "outputs": [
    {
     "data": {
      "text/plain": [
       "{'rmse': {'n_factors': 80,\n",
       "  'n_epochs': 25,\n",
       "  'biased': True,\n",
       "  'lr_all': 0.007,\n",
       "  'reg_all': 0.04}}"
      ]
     },
     "execution_count": 339,
     "metadata": {},
     "output_type": "execute_result"
    }
   ],
   "source": [
    "# getting best params\n",
    "svd_tuned_1.best_params"
   ]
  },
  {
   "cell_type": "code",
   "execution_count": 420,
   "id": "b53cb84c",
   "metadata": {},
   "outputs": [
    {
     "data": {
      "text/plain": [
       "{'rmse': 0.8705537233081375}"
      ]
     },
     "execution_count": 420,
     "metadata": {},
     "output_type": "execute_result"
    }
   ],
   "source": [
    "# getting rmse, base rmse was 0.879827\n",
    "svd_tuned_1.best_score"
   ]
  },
  {
   "cell_type": "markdown",
   "id": "f698707b",
   "metadata": {},
   "source": [
    "We have managed to see an improvement in `rmse` by almost **0.01**. <br>\n",
    "However, if we compare the best parameters chosen by `GridSeachCV`, we can see that more tuning can be done for `n_factors`, `lr_all`, and `reg_all`. Let's continue tuning the model, by redefining new params for `GridSearchCV` to search through."
   ]
  },
  {
   "cell_type": "code",
   "execution_count": 341,
   "id": "cc285b25",
   "metadata": {},
   "outputs": [],
   "source": [
    "# redefining new params based on previous tuned model\n",
    "svd_params_V2 = {'n_factors': [30, 50, 80], \n",
    "                 'n_epochs': [25], \n",
    "                 'biased': [True], \n",
    "                 'lr_all': [0.007, 0.008, 0.009],\n",
    "                 'reg_all': [0.04, 0.05, 0.06, 0.07, 0.08]\n",
    "                }"
   ]
  },
  {
   "cell_type": "code",
   "execution_count": 342,
   "id": "cb01576e",
   "metadata": {},
   "outputs": [
    {
     "name": "stdout",
     "output_type": "stream",
     "text": [
      "135 fits have been completed.\n"
     ]
    }
   ],
   "source": [
    "# second tuning attempt\n",
    "svd_tuned_2 = tuned_model_scores('svd_tuned_2', \n",
    "                                 'svd', \n",
    "                                 mod_params=svd_params_V2)"
   ]
  },
  {
   "cell_type": "code",
   "execution_count": 344,
   "id": "8f150c4b",
   "metadata": {},
   "outputs": [
    {
     "data": {
      "text/plain": [
       "{'rmse': {'n_factors': 80,\n",
       "  'n_epochs': 25,\n",
       "  'biased': True,\n",
       "  'lr_all': 0.009,\n",
       "  'reg_all': 0.08}}"
      ]
     },
     "execution_count": 344,
     "metadata": {},
     "output_type": "execute_result"
    }
   ],
   "source": [
    "svd_tuned_2.best_params"
   ]
  },
  {
   "cell_type": "code",
   "execution_count": 421,
   "id": "e7c350cb",
   "metadata": {},
   "outputs": [
    {
     "data": {
      "text/plain": [
       "{'rmse': 0.8655018320388175}"
      ]
     },
     "execution_count": 421,
     "metadata": {},
     "output_type": "execute_result"
    }
   ],
   "source": [
    "# getting rmse, base rmse was 0.879827\n",
    "svd_tuned_2.best_score"
   ]
  },
  {
   "cell_type": "markdown",
   "id": "12e97f93",
   "metadata": {},
   "source": [
    "We have managed to see an improvement in `rmse` by **0.005** more. <br>\n",
    "Again, if we compare the best parameters chosen by `GridSeachCV`, we can see that more tuning can be done for `lr_all`, and `reg_all`. Let's continue tuning the model, by redefining new params for `GridSearchCV` to search through."
   ]
  },
  {
   "cell_type": "code",
   "execution_count": 346,
   "id": "2e603665",
   "metadata": {},
   "outputs": [],
   "source": [
    "# redefining new params based on previous tuned model\n",
    "svd_params_V3 = {'n_factors': [60, 70, 80], \n",
    "                 'n_epochs': [25], \n",
    "                 'biased': [True], \n",
    "                 'lr_all': [0.0085, 0.009, 0.01],\n",
    "                 'reg_all': [0.075, 0.08, 0.09]\n",
    "                }"
   ]
  },
  {
   "cell_type": "code",
   "execution_count": 347,
   "id": "1a531a36",
   "metadata": {},
   "outputs": [
    {
     "name": "stdout",
     "output_type": "stream",
     "text": [
      "81 fits have been completed.\n"
     ]
    }
   ],
   "source": [
    "# third tuning attempt\n",
    "svd_tuned_3 = tuned_model_scores('svd_tuned_3', \n",
    "                                 'svd', \n",
    "                                 mod_params=svd_params_V3)"
   ]
  },
  {
   "cell_type": "code",
   "execution_count": 348,
   "id": "7e0f9075",
   "metadata": {},
   "outputs": [
    {
     "data": {
      "text/plain": [
       "{'rmse': {'n_factors': 80,\n",
       "  'n_epochs': 25,\n",
       "  'biased': True,\n",
       "  'lr_all': 0.01,\n",
       "  'reg_all': 0.075}}"
      ]
     },
     "execution_count": 348,
     "metadata": {},
     "output_type": "execute_result"
    }
   ],
   "source": [
    "# getting best params\n",
    "svd_tuned_3.best_params"
   ]
  },
  {
   "cell_type": "code",
   "execution_count": 422,
   "id": "b484f724",
   "metadata": {},
   "outputs": [
    {
     "data": {
      "text/plain": [
       "{'rmse': 0.8629833150886892}"
      ]
     },
     "execution_count": 422,
     "metadata": {},
     "output_type": "execute_result"
    }
   ],
   "source": [
    "# getting rmse, base rmse was 0.879827\n",
    "svd_tuned_3.best_score"
   ]
  },
  {
   "cell_type": "markdown",
   "id": "9d5a663b",
   "metadata": {},
   "source": [
    "We have managed to see an improvement in `rmse` by **0.003** more. <br>\n",
    "Again, if we compare the best parameters chosen by `GridSeachCV`, we can see that more tuning can be done for `lr_all`. Let's continue tuning the model, by redefining new params for `GridSearchCV` to search through."
   ]
  },
  {
   "cell_type": "code",
   "execution_count": 350,
   "id": "63f2862c",
   "metadata": {},
   "outputs": [],
   "source": [
    "# redefining new params based on previous tuned model\n",
    "svd_params_V4 = {'n_factors': [80], \n",
    "                 'n_epochs': [25], \n",
    "                 'biased': [True], \n",
    "                 'lr_all': [0.0095, 0.01, 0.012, 0.014],\n",
    "                 'reg_all': [0.075]\n",
    "                }"
   ]
  },
  {
   "cell_type": "code",
   "execution_count": 351,
   "id": "0a5c9649",
   "metadata": {},
   "outputs": [
    {
     "name": "stdout",
     "output_type": "stream",
     "text": [
      "12 fits have been completed.\n"
     ]
    }
   ],
   "source": [
    "# fourth tuning attempt\n",
    "svd_tuned_4 = tuned_model_scores('svd_tuned_4', \n",
    "                                 'svd', \n",
    "                                 mod_params=svd_params_V4)"
   ]
  },
  {
   "cell_type": "code",
   "execution_count": 353,
   "id": "d71b88d2",
   "metadata": {},
   "outputs": [
    {
     "data": {
      "text/plain": [
       "{'rmse': {'n_factors': 80,\n",
       "  'n_epochs': 25,\n",
       "  'biased': True,\n",
       "  'lr_all': 0.014,\n",
       "  'reg_all': 0.075}}"
      ]
     },
     "execution_count": 353,
     "metadata": {},
     "output_type": "execute_result"
    }
   ],
   "source": [
    "# getting best params\n",
    "svd_tuned_4.best_params"
   ]
  },
  {
   "cell_type": "code",
   "execution_count": 423,
   "id": "4d4b0300",
   "metadata": {},
   "outputs": [
    {
     "data": {
      "text/plain": [
       "{'rmse': 0.8621820643257244}"
      ]
     },
     "execution_count": 423,
     "metadata": {},
     "output_type": "execute_result"
    }
   ],
   "source": [
    "# getting rmse, base rmse was 0.879827\n",
    "svd_tuned_4.best_score"
   ]
  },
  {
   "cell_type": "markdown",
   "id": "14cb7135",
   "metadata": {},
   "source": [
    "We have managed to see an improvement in `rmse` by **0.0008** more. This is now a very small improvement in the model. <br>\n",
    "Again, if we compare the best parameters chosen by `GridSeachCV`, we can see that more tuning can be done for `lr_all`. Let's make one final attempt to tune our `SVD` model. "
   ]
  },
  {
   "cell_type": "code",
   "execution_count": null,
   "id": "ed5dda2f",
   "metadata": {},
   "outputs": [],
   "source": [
    "# redefining new params based on previous tuned model\n",
    "svd_params_V5 = {'n_factors': [80], \n",
    "                 'n_epochs': [25], \n",
    "                 'biased': [True], \n",
    "                 'lr_all': [0.014, 0.018, 0.02, 0.03, 0.05],\n",
    "                 'reg_all': [0.075]\n",
    "                }"
   ]
  },
  {
   "cell_type": "code",
   "execution_count": 367,
   "id": "174b9bf7",
   "metadata": {},
   "outputs": [
    {
     "name": "stdout",
     "output_type": "stream",
     "text": [
      "15 fits have been completed.\n"
     ]
    }
   ],
   "source": [
    "# fifth tuning attempt\n",
    "svd_tuned_5 = tuned_model_scores('svd_tuned_5', \n",
    "                                 'svd', \n",
    "                                 mod_params=svd_params_V5)"
   ]
  },
  {
   "cell_type": "code",
   "execution_count": 368,
   "id": "e6d37de5",
   "metadata": {},
   "outputs": [
    {
     "data": {
      "text/plain": [
       "{'rmse': {'n_factors': 80,\n",
       "  'n_epochs': 25,\n",
       "  'biased': True,\n",
       "  'lr_all': 0.014,\n",
       "  'reg_all': 0.075}}"
      ]
     },
     "execution_count": 368,
     "metadata": {},
     "output_type": "execute_result"
    }
   ],
   "source": [
    "svd_tuned_5.best_params"
   ]
  },
  {
   "cell_type": "code",
   "execution_count": 380,
   "id": "e7324849",
   "metadata": {},
   "outputs": [
    {
     "data": {
      "text/plain": [
       "{'rmse': 0.861168716056909}"
      ]
     },
     "execution_count": 380,
     "metadata": {},
     "output_type": "execute_result"
    }
   ],
   "source": [
    "svd_tuned_5.best_score"
   ]
  },
  {
   "cell_type": "markdown",
   "id": "9babb681",
   "metadata": {},
   "source": [
    "We have managed to see an improvement in `rmse` by **0.001** more. Oddly enough we are seeing the same parameters.<br>\n",
    "Most likely we are close to the best possible model, if not the best for `SVD`. As such, this will be our final `SVD` tuned model. Let's take a look at all the scores so far."
   ]
  },
  {
   "cell_type": "code",
   "execution_count": 34,
   "id": "a3755c52",
   "metadata": {},
   "outputs": [
    {
     "data": {
      "text/html": [
       "<div>\n",
       "<style scoped>\n",
       "    .dataframe tbody tr th:only-of-type {\n",
       "        vertical-align: middle;\n",
       "    }\n",
       "\n",
       "    .dataframe tbody tr th {\n",
       "        vertical-align: top;\n",
       "    }\n",
       "\n",
       "    .dataframe thead th {\n",
       "        text-align: right;\n",
       "    }\n",
       "</style>\n",
       "<table border=\"1\" class=\"dataframe\">\n",
       "  <thead>\n",
       "    <tr style=\"text-align: right;\">\n",
       "      <th></th>\n",
       "      <th>model_name</th>\n",
       "      <th>model</th>\n",
       "      <th>train_rmse</th>\n",
       "      <th>test_rmse</th>\n",
       "      <th>fit_time</th>\n",
       "      <th>test_time</th>\n",
       "    </tr>\n",
       "  </thead>\n",
       "  <tbody>\n",
       "    <tr>\n",
       "      <th>5</th>\n",
       "      <td>base_svd</td>\n",
       "      <td>svd</td>\n",
       "      <td>0.639353</td>\n",
       "      <td>0.879827</td>\n",
       "      <td>2.926874</td>\n",
       "      <td>0.167982</td>\n",
       "    </tr>\n",
       "    <tr>\n",
       "      <th>10</th>\n",
       "      <td>svd_tuned_1</td>\n",
       "      <td>svd</td>\n",
       "      <td>0.569728</td>\n",
       "      <td>0.870554</td>\n",
       "      <td>7.784396</td>\n",
       "      <td>0.455209</td>\n",
       "    </tr>\n",
       "    <tr>\n",
       "      <th>11</th>\n",
       "      <td>svd_tuned_2</td>\n",
       "      <td>svd</td>\n",
       "      <td>0.644704</td>\n",
       "      <td>0.865502</td>\n",
       "      <td>6.249327</td>\n",
       "      <td>0.207198</td>\n",
       "    </tr>\n",
       "    <tr>\n",
       "      <th>12</th>\n",
       "      <td>svd_tuned_3</td>\n",
       "      <td>svd</td>\n",
       "      <td>0.603065</td>\n",
       "      <td>0.862983</td>\n",
       "      <td>7.057509</td>\n",
       "      <td>0.376290</td>\n",
       "    </tr>\n",
       "    <tr>\n",
       "      <th>13</th>\n",
       "      <td>svd_tuned_4</td>\n",
       "      <td>svd</td>\n",
       "      <td>0.521653</td>\n",
       "      <td>0.862182</td>\n",
       "      <td>6.787233</td>\n",
       "      <td>0.303089</td>\n",
       "    </tr>\n",
       "    <tr>\n",
       "      <th>14</th>\n",
       "      <td>svd_tuned_5</td>\n",
       "      <td>svd</td>\n",
       "      <td>0.521521</td>\n",
       "      <td>0.861169</td>\n",
       "      <td>6.284704</td>\n",
       "      <td>0.372672</td>\n",
       "    </tr>\n",
       "  </tbody>\n",
       "</table>\n",
       "</div>"
      ],
      "text/plain": [
       "     model_name model  train_rmse  test_rmse  fit_time  test_time\n",
       "5      base_svd   svd    0.639353   0.879827  2.926874   0.167982\n",
       "10  svd_tuned_1   svd    0.569728   0.870554  7.784396   0.455209\n",
       "11  svd_tuned_2   svd    0.644704   0.865502  6.249327   0.207198\n",
       "12  svd_tuned_3   svd    0.603065   0.862983  7.057509   0.376290\n",
       "13  svd_tuned_4   svd    0.521653   0.862182  6.787233   0.303089\n",
       "14  svd_tuned_5   svd    0.521521   0.861169  6.284704   0.372672"
      ]
     },
     "execution_count": 34,
     "metadata": {},
     "output_type": "execute_result"
    }
   ],
   "source": [
    "model_scores = pd.DataFrame(model_eval)\n",
    "model_scores[model_scores['model'] == 'svd']"
   ]
  },
  {
   "cell_type": "markdown",
   "id": "ee776f76",
   "metadata": {},
   "source": [
    "As we can see from the above, we have managed to see an improvement in our `test_rmse` score for the `SVD` model, by **0.01866**. I believe we have pushed this model as far as it can go. Let's move on to tuning the `KNNBaseline` model."
   ]
  },
  {
   "cell_type": "code",
   "execution_count": 438,
   "id": "ff5b7baa",
   "metadata": {},
   "outputs": [],
   "source": [
    "knnbase_params_als = {'k': [20, 30, 40, 50, 60], \n",
    "                      'min_k': [1, 2, 3],\n",
    "                      'bsl_options': {'method': ['als'],\n",
    "                                      'n_epochs': [8, 9, 10, 11, 12], \n",
    "                                      'reg_u': [13, 14, 15, 16, 17],\n",
    "                                      'reg_i': [8, 9, 10, 11, 12]\n",
    "                                  }\n",
    "                     }\n",
    "\n",
    "knnbase_params_sgd = {'k': [20, 30, 40, 50, 60], \n",
    "                      'min_k': [1, 2, 3], \n",
    "                      'bsl_options': {'method': ['sgd'], \n",
    "                                      'learning_rate': [0.00003, 0.00004, 0.00005, 0.00006, 0.00007]\n",
    "                                     }\n",
    "                     }"
   ]
  },
  {
   "cell_type": "code",
   "execution_count": 441,
   "id": "343fd4aa",
   "metadata": {},
   "outputs": [
    {
     "name": "stdout",
     "output_type": "stream",
     "text": [
      "5625 fits have been completed.\n"
     ]
    }
   ],
   "source": [
    "knn_als_tuned_1 = tuned_model_scores('knn_als_tuned_1', \n",
    "                                     'knn_baseline', \n",
    "                                     mod_params=knnbase_params_als)"
   ]
  },
  {
   "cell_type": "code",
   "execution_count": 442,
   "id": "b32fef89",
   "metadata": {},
   "outputs": [
    {
     "name": "stdout",
     "output_type": "stream",
     "text": [
      "225 fits have been completed.\n"
     ]
    }
   ],
   "source": [
    "knn_sgd_tuned_1 = tuned_model_scores('knn_sgd_tuned_1', \n",
    "                                     'knn_baseline', \n",
    "                                     mod_params=knnbase_params_sgd)"
   ]
  },
  {
   "cell_type": "code",
   "execution_count": 33,
   "id": "4128c079",
   "metadata": {},
   "outputs": [
    {
     "data": {
      "text/html": [
       "<div>\n",
       "<style scoped>\n",
       "    .dataframe tbody tr th:only-of-type {\n",
       "        vertical-align: middle;\n",
       "    }\n",
       "\n",
       "    .dataframe tbody tr th {\n",
       "        vertical-align: top;\n",
       "    }\n",
       "\n",
       "    .dataframe thead th {\n",
       "        text-align: right;\n",
       "    }\n",
       "</style>\n",
       "<table border=\"1\" class=\"dataframe\">\n",
       "  <thead>\n",
       "    <tr style=\"text-align: right;\">\n",
       "      <th></th>\n",
       "      <th>model_name</th>\n",
       "      <th>model</th>\n",
       "      <th>train_rmse</th>\n",
       "      <th>test_rmse</th>\n",
       "      <th>fit_time</th>\n",
       "      <th>test_time</th>\n",
       "    </tr>\n",
       "  </thead>\n",
       "  <tbody>\n",
       "    <tr>\n",
       "      <th>0</th>\n",
       "      <td>base_baseline_only</td>\n",
       "      <td>baseline</td>\n",
       "      <td>0.837641</td>\n",
       "      <td>0.876241</td>\n",
       "      <td>0.050725</td>\n",
       "      <td>0.111516</td>\n",
       "    </tr>\n",
       "    <tr>\n",
       "      <th>1</th>\n",
       "      <td>base_knn_basic</td>\n",
       "      <td>knn_basic</td>\n",
       "      <td>0.697346</td>\n",
       "      <td>0.959823</td>\n",
       "      <td>0.094301</td>\n",
       "      <td>1.339809</td>\n",
       "    </tr>\n",
       "    <tr>\n",
       "      <th>2</th>\n",
       "      <td>base_knn_means</td>\n",
       "      <td>knn_means</td>\n",
       "      <td>0.673119</td>\n",
       "      <td>0.904506</td>\n",
       "      <td>0.111510</td>\n",
       "      <td>1.488612</td>\n",
       "    </tr>\n",
       "    <tr>\n",
       "      <th>3</th>\n",
       "      <td>base_knn_zscore</td>\n",
       "      <td>knn_zscore</td>\n",
       "      <td>0.668391</td>\n",
       "      <td>0.903679</td>\n",
       "      <td>0.157216</td>\n",
       "      <td>1.621699</td>\n",
       "    </tr>\n",
       "    <tr>\n",
       "      <th>4</th>\n",
       "      <td>base_knn_baseline</td>\n",
       "      <td>knn_baseline</td>\n",
       "      <td>0.655359</td>\n",
       "      <td>0.882639</td>\n",
       "      <td>0.160189</td>\n",
       "      <td>1.926270</td>\n",
       "    </tr>\n",
       "    <tr>\n",
       "      <th>5</th>\n",
       "      <td>base_svd</td>\n",
       "      <td>svd</td>\n",
       "      <td>0.639353</td>\n",
       "      <td>0.879827</td>\n",
       "      <td>2.926874</td>\n",
       "      <td>0.167982</td>\n",
       "    </tr>\n",
       "    <tr>\n",
       "      <th>6</th>\n",
       "      <td>base_svdpp</td>\n",
       "      <td>svdpp</td>\n",
       "      <td>0.675951</td>\n",
       "      <td>0.866679</td>\n",
       "      <td>302.668346</td>\n",
       "      <td>6.992896</td>\n",
       "    </tr>\n",
       "    <tr>\n",
       "      <th>7</th>\n",
       "      <td>base_nmf</td>\n",
       "      <td>nmf</td>\n",
       "      <td>0.577744</td>\n",
       "      <td>0.937035</td>\n",
       "      <td>3.727779</td>\n",
       "      <td>0.152249</td>\n",
       "    </tr>\n",
       "    <tr>\n",
       "      <th>8</th>\n",
       "      <td>base_slop</td>\n",
       "      <td>slope</td>\n",
       "      <td>0.551231</td>\n",
       "      <td>0.909538</td>\n",
       "      <td>2.661436</td>\n",
       "      <td>4.934569</td>\n",
       "    </tr>\n",
       "    <tr>\n",
       "      <th>9</th>\n",
       "      <td>base_cluster</td>\n",
       "      <td>cluster</td>\n",
       "      <td>0.812592</td>\n",
       "      <td>0.954283</td>\n",
       "      <td>1.698625</td>\n",
       "      <td>0.132729</td>\n",
       "    </tr>\n",
       "    <tr>\n",
       "      <th>10</th>\n",
       "      <td>svd_tuned_1</td>\n",
       "      <td>svd</td>\n",
       "      <td>0.569728</td>\n",
       "      <td>0.870554</td>\n",
       "      <td>7.784396</td>\n",
       "      <td>0.455209</td>\n",
       "    </tr>\n",
       "    <tr>\n",
       "      <th>11</th>\n",
       "      <td>svd_tuned_2</td>\n",
       "      <td>svd</td>\n",
       "      <td>0.644704</td>\n",
       "      <td>0.865502</td>\n",
       "      <td>6.249327</td>\n",
       "      <td>0.207198</td>\n",
       "    </tr>\n",
       "    <tr>\n",
       "      <th>12</th>\n",
       "      <td>svd_tuned_3</td>\n",
       "      <td>svd</td>\n",
       "      <td>0.603065</td>\n",
       "      <td>0.862983</td>\n",
       "      <td>7.057509</td>\n",
       "      <td>0.376290</td>\n",
       "    </tr>\n",
       "    <tr>\n",
       "      <th>13</th>\n",
       "      <td>svd_tuned_4</td>\n",
       "      <td>svd</td>\n",
       "      <td>0.521653</td>\n",
       "      <td>0.862182</td>\n",
       "      <td>6.787233</td>\n",
       "      <td>0.303089</td>\n",
       "    </tr>\n",
       "    <tr>\n",
       "      <th>14</th>\n",
       "      <td>svd_tuned_5</td>\n",
       "      <td>svd</td>\n",
       "      <td>0.521521</td>\n",
       "      <td>0.861169</td>\n",
       "      <td>6.284704</td>\n",
       "      <td>0.372672</td>\n",
       "    </tr>\n",
       "    <tr>\n",
       "      <th>15</th>\n",
       "      <td>knn_als_tuned_1</td>\n",
       "      <td>knn_baseline</td>\n",
       "      <td>0.684323</td>\n",
       "      <td>0.872226</td>\n",
       "      <td>0.390730</td>\n",
       "      <td>4.714972</td>\n",
       "    </tr>\n",
       "    <tr>\n",
       "      <th>16</th>\n",
       "      <td>knn_sgd_tuned_1</td>\n",
       "      <td>knn_baseline</td>\n",
       "      <td>0.691578</td>\n",
       "      <td>0.909773</td>\n",
       "      <td>0.749931</td>\n",
       "      <td>4.241354</td>\n",
       "    </tr>\n",
       "    <tr>\n",
       "      <th>17</th>\n",
       "      <td>knn_als_tuned_2</td>\n",
       "      <td>knn_baseline</td>\n",
       "      <td>0.701165</td>\n",
       "      <td>0.870031</td>\n",
       "      <td>0.392658</td>\n",
       "      <td>4.737912</td>\n",
       "    </tr>\n",
       "    <tr>\n",
       "      <th>18</th>\n",
       "      <td>knn_als_tuned_3</td>\n",
       "      <td>knn_baseline</td>\n",
       "      <td>0.701315</td>\n",
       "      <td>0.863918</td>\n",
       "      <td>0.667222</td>\n",
       "      <td>4.990317</td>\n",
       "    </tr>\n",
       "    <tr>\n",
       "      <th>19</th>\n",
       "      <td>knn_als_tuned_4</td>\n",
       "      <td>knn_baseline</td>\n",
       "      <td>0.701389</td>\n",
       "      <td>0.864760</td>\n",
       "      <td>0.633972</td>\n",
       "      <td>5.162850</td>\n",
       "    </tr>\n",
       "    <tr>\n",
       "      <th>20</th>\n",
       "      <td>knn_als_tuned_5</td>\n",
       "      <td>knn_baseline</td>\n",
       "      <td>0.701122</td>\n",
       "      <td>0.863791</td>\n",
       "      <td>1.595689</td>\n",
       "      <td>3.787077</td>\n",
       "    </tr>\n",
       "    <tr>\n",
       "      <th>21</th>\n",
       "      <td>svdpp_tuned_1</td>\n",
       "      <td>svdpp</td>\n",
       "      <td>0.543026</td>\n",
       "      <td>0.855228</td>\n",
       "      <td>2312.054770</td>\n",
       "      <td>18.585806</td>\n",
       "    </tr>\n",
       "    <tr>\n",
       "      <th>22</th>\n",
       "      <td>svdpp_tuned_2</td>\n",
       "      <td>svdpp</td>\n",
       "      <td>0.613652</td>\n",
       "      <td>0.853009</td>\n",
       "      <td>1801.290747</td>\n",
       "      <td>14.459661</td>\n",
       "    </tr>\n",
       "  </tbody>\n",
       "</table>\n",
       "</div>"
      ],
      "text/plain": [
       "            model_name         model  train_rmse  test_rmse     fit_time  \\\n",
       "0   base_baseline_only      baseline    0.837641   0.876241     0.050725   \n",
       "1       base_knn_basic     knn_basic    0.697346   0.959823     0.094301   \n",
       "2       base_knn_means     knn_means    0.673119   0.904506     0.111510   \n",
       "3      base_knn_zscore    knn_zscore    0.668391   0.903679     0.157216   \n",
       "4    base_knn_baseline  knn_baseline    0.655359   0.882639     0.160189   \n",
       "5             base_svd           svd    0.639353   0.879827     2.926874   \n",
       "6           base_svdpp         svdpp    0.675951   0.866679   302.668346   \n",
       "7             base_nmf           nmf    0.577744   0.937035     3.727779   \n",
       "8            base_slop         slope    0.551231   0.909538     2.661436   \n",
       "9         base_cluster       cluster    0.812592   0.954283     1.698625   \n",
       "10         svd_tuned_1           svd    0.569728   0.870554     7.784396   \n",
       "11         svd_tuned_2           svd    0.644704   0.865502     6.249327   \n",
       "12         svd_tuned_3           svd    0.603065   0.862983     7.057509   \n",
       "13         svd_tuned_4           svd    0.521653   0.862182     6.787233   \n",
       "14         svd_tuned_5           svd    0.521521   0.861169     6.284704   \n",
       "15     knn_als_tuned_1  knn_baseline    0.684323   0.872226     0.390730   \n",
       "16     knn_sgd_tuned_1  knn_baseline    0.691578   0.909773     0.749931   \n",
       "17     knn_als_tuned_2  knn_baseline    0.701165   0.870031     0.392658   \n",
       "18     knn_als_tuned_3  knn_baseline    0.701315   0.863918     0.667222   \n",
       "19     knn_als_tuned_4  knn_baseline    0.701389   0.864760     0.633972   \n",
       "20     knn_als_tuned_5  knn_baseline    0.701122   0.863791     1.595689   \n",
       "21       svdpp_tuned_1         svdpp    0.543026   0.855228  2312.054770   \n",
       "22       svdpp_tuned_2         svdpp    0.613652   0.853009  1801.290747   \n",
       "\n",
       "    test_time  \n",
       "0    0.111516  \n",
       "1    1.339809  \n",
       "2    1.488612  \n",
       "3    1.621699  \n",
       "4    1.926270  \n",
       "5    0.167982  \n",
       "6    6.992896  \n",
       "7    0.152249  \n",
       "8    4.934569  \n",
       "9    0.132729  \n",
       "10   0.455209  \n",
       "11   0.207198  \n",
       "12   0.376290  \n",
       "13   0.303089  \n",
       "14   0.372672  \n",
       "15   4.714972  \n",
       "16   4.241354  \n",
       "17   4.737912  \n",
       "18   4.990317  \n",
       "19   5.162850  \n",
       "20   3.787077  \n",
       "21  18.585806  \n",
       "22  14.459661  "
      ]
     },
     "execution_count": 33,
     "metadata": {},
     "output_type": "execute_result"
    }
   ],
   "source": [
    "model_scores = pd.DataFrame(model_eval)\n",
    "model_scores"
   ]
  },
  {
   "cell_type": "code",
   "execution_count": 444,
   "id": "4e79ea18",
   "metadata": {},
   "outputs": [
    {
     "data": {
      "text/plain": [
       "{'rmse': {'k': 30,\n",
       "  'min_k': 3,\n",
       "  'bsl_options': {'method': 'als', 'n_epochs': 12, 'reg_u': 13, 'reg_i': 8}}}"
      ]
     },
     "execution_count": 444,
     "metadata": {},
     "output_type": "execute_result"
    }
   ],
   "source": [
    "knn_als_tuned_1.best_params"
   ]
  },
  {
   "cell_type": "code",
   "execution_count": 446,
   "id": "d7269de3",
   "metadata": {},
   "outputs": [],
   "source": [
    "knnbase_params_als_V2 = {'k': [30], \n",
    "                         'min_k': [3, 4, 5], \n",
    "                         'bsl_options': {'method': ['als'], \n",
    "                                         'n_epochs': [12, 13, 14], \n",
    "                                         'reg_u': [11, 12, 13], \n",
    "                                         'reg_i': [6, 7, 8] \n",
    "                                        }\n",
    "                        }"
   ]
  },
  {
   "cell_type": "code",
   "execution_count": 447,
   "id": "b9441f96",
   "metadata": {},
   "outputs": [
    {
     "name": "stdout",
     "output_type": "stream",
     "text": [
      "243 fits have been completed.\n"
     ]
    }
   ],
   "source": [
    "knn_als_tuned_2 = tuned_model_scores('knn_als_tuned_2', \n",
    "                                     'knn_baseline', \n",
    "                                     mod_params=knnbase_params_als_V2)"
   ]
  },
  {
   "cell_type": "code",
   "execution_count": 450,
   "id": "301cb74c",
   "metadata": {},
   "outputs": [
    {
     "data": {
      "text/plain": [
       "{'rmse': 0.8700311882994001}"
      ]
     },
     "execution_count": 450,
     "metadata": {},
     "output_type": "execute_result"
    }
   ],
   "source": [
    "knn_als_tuned_2.best_score"
   ]
  },
  {
   "cell_type": "code",
   "execution_count": 451,
   "id": "38e677cb",
   "metadata": {},
   "outputs": [
    {
     "data": {
      "text/plain": [
       "{'rmse': {'k': 30,\n",
       "  'min_k': 5,\n",
       "  'bsl_options': {'method': 'als', 'n_epochs': 14, 'reg_u': 11, 'reg_i': 6}}}"
      ]
     },
     "execution_count": 451,
     "metadata": {},
     "output_type": "execute_result"
    }
   ],
   "source": [
    "knn_als_tuned_2.best_params"
   ]
  },
  {
   "cell_type": "code",
   "execution_count": 452,
   "id": "de5b6d40",
   "metadata": {},
   "outputs": [],
   "source": [
    "knnbase_params_als_V3 = {'k': [30], \n",
    "                         'min_k': [5, 10, 15], \n",
    "                         'bsl_options': {'method': ['als'], \n",
    "                                         'n_epochs': [14, 18, 22], \n",
    "                                         'reg_u': [7, 9, 11], \n",
    "                                         'reg_i': [2, 4, 6] \n",
    "                                        }\n",
    "                        }"
   ]
  },
  {
   "cell_type": "code",
   "execution_count": 453,
   "id": "29265b3d",
   "metadata": {},
   "outputs": [
    {
     "name": "stdout",
     "output_type": "stream",
     "text": [
      "243 fits have been completed.\n"
     ]
    }
   ],
   "source": [
    "knn_als_tuned_3 = tuned_model_scores('knn_als_tuned_3', \n",
    "                                     'knn_baseline', \n",
    "                                     mod_params=knnbase_params_als_V3)"
   ]
  },
  {
   "cell_type": "code",
   "execution_count": 455,
   "id": "5cfe39e4",
   "metadata": {},
   "outputs": [
    {
     "data": {
      "text/plain": [
       "{'rmse': {'k': 30,\n",
       "  'min_k': 10,\n",
       "  'bsl_options': {'method': 'als', 'n_epochs': 22, 'reg_u': 7, 'reg_i': 2}}}"
      ]
     },
     "execution_count": 455,
     "metadata": {},
     "output_type": "execute_result"
    }
   ],
   "source": [
    "knn_als_tuned_3.best_params"
   ]
  },
  {
   "cell_type": "code",
   "execution_count": 457,
   "id": "28f0c0a9",
   "metadata": {},
   "outputs": [
    {
     "data": {
      "text/plain": [
       "{'rmse': 0.86391808648022}"
      ]
     },
     "execution_count": 457,
     "metadata": {},
     "output_type": "execute_result"
    }
   ],
   "source": [
    "knn_als_tuned_3.best_score"
   ]
  },
  {
   "cell_type": "code",
   "execution_count": null,
   "id": "cb8c0ebf",
   "metadata": {},
   "outputs": [],
   "source": []
  },
  {
   "cell_type": "code",
   "execution_count": 458,
   "id": "00d393f7",
   "metadata": {},
   "outputs": [],
   "source": [
    "knnbase_params_als_V4 = {'k': [30], \n",
    "                         'min_k': [10], \n",
    "                         'bsl_options': {'method': ['als'], \n",
    "                                         'n_epochs': [22, 25, 30], \n",
    "                                         'reg_u': [3, 5, 7], \n",
    "                                         'reg_i': [0.5, 1, 1.5, 2] \n",
    "                                        }\n",
    "                        }"
   ]
  },
  {
   "cell_type": "code",
   "execution_count": 459,
   "id": "2b484733",
   "metadata": {},
   "outputs": [
    {
     "name": "stdout",
     "output_type": "stream",
     "text": [
      "108 fits have been completed.\n"
     ]
    }
   ],
   "source": [
    "knn_als_tuned_4 = tuned_model_scores('knn_als_tuned_4', \n",
    "                                     'knn_baseline', \n",
    "                                     mod_params=knnbase_params_als_V4)"
   ]
  },
  {
   "cell_type": "code",
   "execution_count": 461,
   "id": "99b9e246",
   "metadata": {},
   "outputs": [
    {
     "data": {
      "text/plain": [
       "{'rmse': {'k': 30,\n",
       "  'min_k': 10,\n",
       "  'bsl_options': {'method': 'als', 'n_epochs': 30, 'reg_u': 7, 'reg_i': 2}}}"
      ]
     },
     "execution_count": 461,
     "metadata": {},
     "output_type": "execute_result"
    }
   ],
   "source": [
    "knn_als_tuned_4.best_params"
   ]
  },
  {
   "cell_type": "code",
   "execution_count": 462,
   "id": "6791f10f",
   "metadata": {},
   "outputs": [
    {
     "data": {
      "text/plain": [
       "{'rmse': 0.8647604619133166}"
      ]
     },
     "execution_count": 462,
     "metadata": {},
     "output_type": "execute_result"
    }
   ],
   "source": [
    "knn_als_tuned_4.best_score"
   ]
  },
  {
   "cell_type": "markdown",
   "id": "e55cdde0",
   "metadata": {},
   "source": [
    "We will attempt tuning one more time, as I think we can make just a bit more improvement on this model."
   ]
  },
  {
   "cell_type": "code",
   "execution_count": 483,
   "id": "7c574937",
   "metadata": {},
   "outputs": [],
   "source": [
    "knnbase_params_als_V5 = {'k': [30], \n",
    "                         'min_k': [10], \n",
    "                         'bsl_options': {'method': ['als'], \n",
    "                                         'n_epochs': [30, 50, 100, 120], \n",
    "                                         'reg_u': [7], \n",
    "                                         'reg_i': [2] \n",
    "                                        }\n",
    "                        }"
   ]
  },
  {
   "cell_type": "code",
   "execution_count": 484,
   "id": "cd602890",
   "metadata": {},
   "outputs": [
    {
     "name": "stdout",
     "output_type": "stream",
     "text": [
      "12 fits have been completed.\n"
     ]
    }
   ],
   "source": [
    "knn_als_tuned_5 = tuned_model_scores('knn_als_tuned_5', \n",
    "                                     'knn_baseline', \n",
    "                                     mod_params=knnbase_params_als_V5)"
   ]
  },
  {
   "cell_type": "code",
   "execution_count": 485,
   "id": "edaef6cd",
   "metadata": {},
   "outputs": [
    {
     "data": {
      "text/plain": [
       "{'rmse': 0.8637914129499696}"
      ]
     },
     "execution_count": 485,
     "metadata": {},
     "output_type": "execute_result"
    }
   ],
   "source": [
    "knn_als_tuned_5.best_score"
   ]
  },
  {
   "cell_type": "code",
   "execution_count": 486,
   "id": "e248b9be",
   "metadata": {},
   "outputs": [
    {
     "data": {
      "text/plain": [
       "{'rmse': {'k': 30,\n",
       "  'min_k': 10,\n",
       "  'bsl_options': {'method': 'als', 'n_epochs': 120, 'reg_u': 7, 'reg_i': 2}}}"
      ]
     },
     "execution_count": 486,
     "metadata": {},
     "output_type": "execute_result"
    }
   ],
   "source": [
    "knn_als_tuned_5.best_params"
   ]
  },
  {
   "cell_type": "markdown",
   "id": "408f386b",
   "metadata": {},
   "source": [
    "Based on this result here, after tuning our model, we still see that the `SVD` tuned model has the lowest `rmse` score so far. We will stop tuning this model here. <br>\n",
    "Let's evaluate the score of this model vs all the tuning iterations that we have done so far."
   ]
  },
  {
   "cell_type": "code",
   "execution_count": 32,
   "id": "3f2e4875",
   "metadata": {},
   "outputs": [
    {
     "data": {
      "text/html": [
       "<div>\n",
       "<style scoped>\n",
       "    .dataframe tbody tr th:only-of-type {\n",
       "        vertical-align: middle;\n",
       "    }\n",
       "\n",
       "    .dataframe tbody tr th {\n",
       "        vertical-align: top;\n",
       "    }\n",
       "\n",
       "    .dataframe thead th {\n",
       "        text-align: right;\n",
       "    }\n",
       "</style>\n",
       "<table border=\"1\" class=\"dataframe\">\n",
       "  <thead>\n",
       "    <tr style=\"text-align: right;\">\n",
       "      <th></th>\n",
       "      <th>model_name</th>\n",
       "      <th>model</th>\n",
       "      <th>train_rmse</th>\n",
       "      <th>test_rmse</th>\n",
       "      <th>fit_time</th>\n",
       "      <th>test_time</th>\n",
       "    </tr>\n",
       "  </thead>\n",
       "  <tbody>\n",
       "    <tr>\n",
       "      <th>4</th>\n",
       "      <td>base_knn_baseline</td>\n",
       "      <td>knn_baseline</td>\n",
       "      <td>0.655359</td>\n",
       "      <td>0.882639</td>\n",
       "      <td>0.160189</td>\n",
       "      <td>1.926270</td>\n",
       "    </tr>\n",
       "    <tr>\n",
       "      <th>15</th>\n",
       "      <td>knn_als_tuned_1</td>\n",
       "      <td>knn_baseline</td>\n",
       "      <td>0.684323</td>\n",
       "      <td>0.872226</td>\n",
       "      <td>0.390730</td>\n",
       "      <td>4.714972</td>\n",
       "    </tr>\n",
       "    <tr>\n",
       "      <th>16</th>\n",
       "      <td>knn_sgd_tuned_1</td>\n",
       "      <td>knn_baseline</td>\n",
       "      <td>0.691578</td>\n",
       "      <td>0.909773</td>\n",
       "      <td>0.749931</td>\n",
       "      <td>4.241354</td>\n",
       "    </tr>\n",
       "    <tr>\n",
       "      <th>17</th>\n",
       "      <td>knn_als_tuned_2</td>\n",
       "      <td>knn_baseline</td>\n",
       "      <td>0.701165</td>\n",
       "      <td>0.870031</td>\n",
       "      <td>0.392658</td>\n",
       "      <td>4.737912</td>\n",
       "    </tr>\n",
       "    <tr>\n",
       "      <th>18</th>\n",
       "      <td>knn_als_tuned_3</td>\n",
       "      <td>knn_baseline</td>\n",
       "      <td>0.701315</td>\n",
       "      <td>0.863918</td>\n",
       "      <td>0.667222</td>\n",
       "      <td>4.990317</td>\n",
       "    </tr>\n",
       "    <tr>\n",
       "      <th>19</th>\n",
       "      <td>knn_als_tuned_4</td>\n",
       "      <td>knn_baseline</td>\n",
       "      <td>0.701389</td>\n",
       "      <td>0.864760</td>\n",
       "      <td>0.633972</td>\n",
       "      <td>5.162850</td>\n",
       "    </tr>\n",
       "    <tr>\n",
       "      <th>20</th>\n",
       "      <td>knn_als_tuned_5</td>\n",
       "      <td>knn_baseline</td>\n",
       "      <td>0.701122</td>\n",
       "      <td>0.863791</td>\n",
       "      <td>1.595689</td>\n",
       "      <td>3.787077</td>\n",
       "    </tr>\n",
       "  </tbody>\n",
       "</table>\n",
       "</div>"
      ],
      "text/plain": [
       "           model_name         model  train_rmse  test_rmse  fit_time  \\\n",
       "4   base_knn_baseline  knn_baseline    0.655359   0.882639  0.160189   \n",
       "15    knn_als_tuned_1  knn_baseline    0.684323   0.872226  0.390730   \n",
       "16    knn_sgd_tuned_1  knn_baseline    0.691578   0.909773  0.749931   \n",
       "17    knn_als_tuned_2  knn_baseline    0.701165   0.870031  0.392658   \n",
       "18    knn_als_tuned_3  knn_baseline    0.701315   0.863918  0.667222   \n",
       "19    knn_als_tuned_4  knn_baseline    0.701389   0.864760  0.633972   \n",
       "20    knn_als_tuned_5  knn_baseline    0.701122   0.863791  1.595689   \n",
       "\n",
       "    test_time  \n",
       "4    1.926270  \n",
       "15   4.714972  \n",
       "16   4.241354  \n",
       "17   4.737912  \n",
       "18   4.990317  \n",
       "19   5.162850  \n",
       "20   3.787077  "
      ]
     },
     "execution_count": 32,
     "metadata": {},
     "output_type": "execute_result"
    }
   ],
   "source": [
    "model_scores = pd.DataFrame(model_eval)\n",
    "model_scores[model_scores['model'] == 'knn_baseline']"
   ]
  },
  {
   "cell_type": "markdown",
   "id": "db501bbb",
   "metadata": {},
   "source": [
    "From this we can see that we have improved the `knn_baseline` model `test_rmse` performance by **0.0188**. This is a great improvement, however our best model so far is the `SVD` tuned model that we tuned before.<br>\n",
    "Let's move on to our final model we are going to tune from the surprise library, `SVD++`."
   ]
  },
  {
   "cell_type": "markdown",
   "id": "cf8685ad",
   "metadata": {},
   "source": [
    "---"
   ]
  },
  {
   "cell_type": "markdown",
   "id": "b71631db",
   "metadata": {},
   "source": [
    "## SVDpp Tuning"
   ]
  },
  {
   "cell_type": "markdown",
   "id": "c95e9167",
   "metadata": {},
   "source": [
    "When we ran the base models, our `SVD++` model took the longest time for fitting. **302s** to be exact. This was much longer than any of the other models. As such, let's first try out the hyperparamters that we have tuned for our `SVD` model, and see if we can use that to help us tune the `SVD++` model."
   ]
  },
  {
   "cell_type": "code",
   "execution_count": 498,
   "id": "6d0e9e71",
   "metadata": {},
   "outputs": [
    {
     "data": {
      "text/plain": [
       "{'rmse': {'n_factors': 80,\n",
       "  'n_epochs': 25,\n",
       "  'biased': True,\n",
       "  'lr_all': 0.014,\n",
       "  'reg_all': 0.075}}"
      ]
     },
     "execution_count": 498,
     "metadata": {},
     "output_type": "execute_result"
    }
   ],
   "source": [
    "svd_tuned_5.best_params"
   ]
  },
  {
   "cell_type": "code",
   "execution_count": 501,
   "id": "10e8773d",
   "metadata": {},
   "outputs": [],
   "source": [
    "svdpp_params = {'n_factors': [80], \n",
    "                'n_epochs': [25], \n",
    "                'lr_all': [0.014],\n",
    "                'reg_all': [0.075], \n",
    "                'init_mean': [0, 5, 10], \n",
    "                'init_std_dev': [0.05, 0.1, 0.2]\n",
    "               }"
   ]
  },
  {
   "cell_type": "code",
   "execution_count": 502,
   "id": "206c874c",
   "metadata": {},
   "outputs": [
    {
     "name": "stdout",
     "output_type": "stream",
     "text": [
      "27 fits have been completed.\n"
     ]
    }
   ],
   "source": [
    "svdpp_tuned_1 = tuned_model_scores('svdpp_tuned_1', \n",
    "                                   'svdpp', \n",
    "                                   mod_params=svdpp_params\n",
    "                                  )"
   ]
  },
  {
   "cell_type": "code",
   "execution_count": 503,
   "id": "26c4ab35",
   "metadata": {},
   "outputs": [
    {
     "data": {
      "text/plain": [
       "{'rmse': 0.8552280403135537}"
      ]
     },
     "execution_count": 503,
     "metadata": {},
     "output_type": "execute_result"
    }
   ],
   "source": [
    "svdpp_tuned_1.best_score"
   ]
  },
  {
   "cell_type": "code",
   "execution_count": 504,
   "id": "f3c130b6",
   "metadata": {},
   "outputs": [
    {
     "data": {
      "text/plain": [
       "{'rmse': {'n_factors': 80,\n",
       "  'n_epochs': 25,\n",
       "  'lr_all': 0.014,\n",
       "  'reg_all': 0.075,\n",
       "  'init_mean': 0,\n",
       "  'init_std_dev': 0.05}}"
      ]
     },
     "execution_count": 504,
     "metadata": {},
     "output_type": "execute_result"
    }
   ],
   "source": [
    "svdpp_tuned_1.best_params"
   ]
  },
  {
   "cell_type": "markdown",
   "id": "b1f50b96",
   "metadata": {},
   "source": [
    "This fit took a couple of hours, so let's just try one more tuning attempt. So far this is the best model we have with the lowest `test_rmse` score."
   ]
  },
  {
   "cell_type": "code",
   "execution_count": 507,
   "id": "adc7f435",
   "metadata": {},
   "outputs": [],
   "source": [
    "svdpp_params_V2 = {'n_factors': [80], \n",
    "                   'n_epochs': [25], \n",
    "                   'lr_all': [0.014], \n",
    "                   'reg_all': [0.075], \n",
    "                   'init_mean': [0], \n",
    "                   'init_std_dev': [0.01, 0.025, 0.05]\n",
    "                  }"
   ]
  },
  {
   "cell_type": "code",
   "execution_count": 508,
   "id": "9684419d",
   "metadata": {},
   "outputs": [
    {
     "name": "stdout",
     "output_type": "stream",
     "text": [
      "9 fits have been completed.\n"
     ]
    }
   ],
   "source": [
    "svdpp_tuned_2 = tuned_model_scores('svdpp_tuned_2', \n",
    "                                   'svdpp', \n",
    "                                   mod_params=svdpp_params_V2\n",
    "                                  )"
   ]
  },
  {
   "cell_type": "code",
   "execution_count": 509,
   "id": "61967b23",
   "metadata": {},
   "outputs": [
    {
     "data": {
      "text/plain": [
       "{'rmse': {'n_factors': 80,\n",
       "  'n_epochs': 25,\n",
       "  'lr_all': 0.014,\n",
       "  'reg_all': 0.075,\n",
       "  'init_mean': 0,\n",
       "  'init_std_dev': 0.025}}"
      ]
     },
     "execution_count": 509,
     "metadata": {},
     "output_type": "execute_result"
    }
   ],
   "source": [
    "svdpp_tuned_2.best_params"
   ]
  },
  {
   "cell_type": "code",
   "execution_count": 510,
   "id": "388a3da5",
   "metadata": {},
   "outputs": [
    {
     "data": {
      "text/plain": [
       "{'rmse': 0.853009224619437}"
      ]
     },
     "execution_count": 510,
     "metadata": {},
     "output_type": "execute_result"
    }
   ],
   "source": [
    "svdpp_tuned_2.best_score"
   ]
  },
  {
   "cell_type": "markdown",
   "id": "a91cbe87",
   "metadata": {},
   "source": [
    "Let's take a look at all the `SVD++` scores so far."
   ]
  },
  {
   "cell_type": "code",
   "execution_count": 29,
   "id": "90e1f6fa",
   "metadata": {},
   "outputs": [
    {
     "data": {
      "text/html": [
       "<div>\n",
       "<style scoped>\n",
       "    .dataframe tbody tr th:only-of-type {\n",
       "        vertical-align: middle;\n",
       "    }\n",
       "\n",
       "    .dataframe tbody tr th {\n",
       "        vertical-align: top;\n",
       "    }\n",
       "\n",
       "    .dataframe thead th {\n",
       "        text-align: right;\n",
       "    }\n",
       "</style>\n",
       "<table border=\"1\" class=\"dataframe\">\n",
       "  <thead>\n",
       "    <tr style=\"text-align: right;\">\n",
       "      <th></th>\n",
       "      <th>model_name</th>\n",
       "      <th>model</th>\n",
       "      <th>train_rmse</th>\n",
       "      <th>test_rmse</th>\n",
       "      <th>fit_time</th>\n",
       "      <th>test_time</th>\n",
       "    </tr>\n",
       "  </thead>\n",
       "  <tbody>\n",
       "    <tr>\n",
       "      <th>6</th>\n",
       "      <td>base_svdpp</td>\n",
       "      <td>svdpp</td>\n",
       "      <td>0.675951</td>\n",
       "      <td>0.866679</td>\n",
       "      <td>302.668346</td>\n",
       "      <td>6.992896</td>\n",
       "    </tr>\n",
       "    <tr>\n",
       "      <th>21</th>\n",
       "      <td>svdpp_tuned_1</td>\n",
       "      <td>svdpp</td>\n",
       "      <td>0.543026</td>\n",
       "      <td>0.855228</td>\n",
       "      <td>2312.054770</td>\n",
       "      <td>18.585806</td>\n",
       "    </tr>\n",
       "    <tr>\n",
       "      <th>22</th>\n",
       "      <td>svdpp_tuned_2</td>\n",
       "      <td>svdpp</td>\n",
       "      <td>0.613652</td>\n",
       "      <td>0.853009</td>\n",
       "      <td>1801.290747</td>\n",
       "      <td>14.459661</td>\n",
       "    </tr>\n",
       "  </tbody>\n",
       "</table>\n",
       "</div>"
      ],
      "text/plain": [
       "       model_name  model  train_rmse  test_rmse     fit_time  test_time\n",
       "6      base_svdpp  svdpp    0.675951   0.866679   302.668346   6.992896\n",
       "21  svdpp_tuned_1  svdpp    0.543026   0.855228  2312.054770  18.585806\n",
       "22  svdpp_tuned_2  svdpp    0.613652   0.853009  1801.290747  14.459661"
      ]
     },
     "execution_count": 29,
     "metadata": {},
     "output_type": "execute_result"
    }
   ],
   "source": [
    "model_scores = pd.DataFrame(model_eval)\n",
    "model_scores[model_scores['model'] == 'svdpp']"
   ]
  },
  {
   "cell_type": "markdown",
   "id": "e08df131",
   "metadata": {},
   "source": [
    "From this we can see that we managed to improve our based model `test_rmse` score by **0.0137**. Considering the amount of time taken for this model to be trained, we will stop here for the tuning of this model.\n",
    "\n",
    "Now lets take a look at our three best models and compare the `test_rmse` scores."
   ]
  },
  {
   "cell_type": "code",
   "execution_count": 31,
   "id": "10700c56",
   "metadata": {},
   "outputs": [
    {
     "data": {
      "text/html": [
       "<div>\n",
       "<style scoped>\n",
       "    .dataframe tbody tr th:only-of-type {\n",
       "        vertical-align: middle;\n",
       "    }\n",
       "\n",
       "    .dataframe tbody tr th {\n",
       "        vertical-align: top;\n",
       "    }\n",
       "\n",
       "    .dataframe thead th {\n",
       "        text-align: right;\n",
       "    }\n",
       "</style>\n",
       "<table border=\"1\" class=\"dataframe\">\n",
       "  <thead>\n",
       "    <tr style=\"text-align: right;\">\n",
       "      <th></th>\n",
       "      <th>model_name</th>\n",
       "      <th>model</th>\n",
       "      <th>test_rmse</th>\n",
       "    </tr>\n",
       "  </thead>\n",
       "  <tbody>\n",
       "    <tr>\n",
       "      <th>14</th>\n",
       "      <td>svd_tuned_5</td>\n",
       "      <td>svd</td>\n",
       "      <td>0.861169</td>\n",
       "    </tr>\n",
       "    <tr>\n",
       "      <th>20</th>\n",
       "      <td>knn_als_tuned_5</td>\n",
       "      <td>knn_baseline</td>\n",
       "      <td>0.863791</td>\n",
       "    </tr>\n",
       "    <tr>\n",
       "      <th>22</th>\n",
       "      <td>svdpp_tuned_2</td>\n",
       "      <td>svdpp</td>\n",
       "      <td>0.853009</td>\n",
       "    </tr>\n",
       "  </tbody>\n",
       "</table>\n",
       "</div>"
      ],
      "text/plain": [
       "         model_name         model  test_rmse\n",
       "14      svd_tuned_5           svd   0.861169\n",
       "20  knn_als_tuned_5  knn_baseline   0.863791\n",
       "22    svdpp_tuned_2         svdpp   0.853009"
      ]
     },
     "execution_count": 31,
     "metadata": {},
     "output_type": "execute_result"
    }
   ],
   "source": [
    "model_scores.loc[[14, 20, 22],['model_name', 'model', 'test_rmse']]"
   ]
  },
  {
   "cell_type": "markdown",
   "id": "a45a6630",
   "metadata": {},
   "source": [
    "From the above table, we can see that our best model is indeed the `SVD++` model with a `test_rmse` of **0.853**. Interpreting this with reference to our dataset, this means that our model is likely to predict a rating for a movie for a specific user within a range of plus-minus **17%** of the actual rating. <br>\n",
    "\n",
    "Let's take a closer look at our best model and conduct some error analysis on our model."
   ]
  },
  {
   "cell_type": "code",
   "execution_count": 521,
   "id": "4580edc2",
   "metadata": {},
   "outputs": [],
   "source": [
    "best_model = svdpp_tuned_2.best_estimator['rmse']"
   ]
  },
  {
   "cell_type": "code",
   "execution_count": null,
   "id": "5beeb21f",
   "metadata": {},
   "outputs": [],
   "source": []
  },
  {
   "cell_type": "markdown",
   "id": "0113d69e",
   "metadata": {},
   "source": [
    "*What I am going to do here is stop working here, and use this part to instantiate a new SVDpp() model. Then, I will input all of the hyperparameters as per what the best model is. Then I will pretend it has been loaded from the \"best model\". This will ensure some sort of flow in my notebook. All that is pending for this notebook now, is error analysis of the SVD++ model. And then start with my research for neural network. By friday EOD, the neural network should have been fit and rmse obtained. Then I have Sat to finish up everything to do with the neural network and check through everything once, to ensure that my whole project seems to be fine. I might want to check once with Chee Yong if he might have time for a quick 10min call on Sat. After that, my main work will be markdown, comments, cleanup, readme, and slides. Make sure all the formulas, and hyperparameters have been input. I may have to write down the formulas for each of the models that I am hyper parameter tuning. That might be required. Its good practice for me to know also.*"
   ]
  },
  {
   "cell_type": "markdown",
   "id": "41efee5a",
   "metadata": {},
   "source": [
    "**Just realized while looking at the test time, that SVDpp takes 18 SECONDS to produce the test results. Thats way too long mate!! this means we are going to use our second best model, SVD.** "
   ]
  },
  {
   "cell_type": "code",
   "execution_count": null,
   "id": "24b33953",
   "metadata": {},
   "outputs": [],
   "source": []
  },
  {
   "cell_type": "code",
   "execution_count": 522,
   "id": "4f1ebe41",
   "metadata": {},
   "outputs": [
    {
     "data": {
      "text/plain": [
       "<surprise.prediction_algorithms.matrix_factorization.SVDpp at 0x25470d06ca0>"
      ]
     },
     "execution_count": 522,
     "metadata": {},
     "output_type": "execute_result"
    }
   ],
   "source": [
    "best_model.fit()"
   ]
  },
  {
   "cell_type": "code",
   "execution_count": 523,
   "id": "b64ce635",
   "metadata": {},
   "outputs": [
    {
     "data": {
      "text/plain": [
       "{'rmse': {'n_factors': 80,\n",
       "  'n_epochs': 25,\n",
       "  'lr_all': 0.014,\n",
       "  'reg_all': 0.075,\n",
       "  'init_mean': 0,\n",
       "  'init_std_dev': 0.025}}"
      ]
     },
     "execution_count": 523,
     "metadata": {},
     "output_type": "execute_result"
    }
   ],
   "source": [
    "svdpp_tuned_2.best_params"
   ]
  },
  {
   "cell_type": "markdown",
   "id": "70480703",
   "metadata": {},
   "source": [
    "# add in that most likely, to let the ratings make sense, we need to view the history of each user, then we need to make changes to the ratings. So for the specific user, what is the mean? if the mean is 3.5, bring it down to 2.5. And replicate this for all. If this isn't done, it will result in mismatch of recommendations. Because if 1 user likes something 5, that could be a 4 for another user. So we have to look at the distributions for each user, and \"normalize\" (wrong word) it so that across the board, a 2.5 refers to an average movie. I will try this during the error evaluation portion."
   ]
  },
  {
   "cell_type": "code",
   "execution_count": null,
   "id": "8c25c511",
   "metadata": {},
   "outputs": [],
   "source": []
  },
  {
   "cell_type": "code",
   "execution_count": 6,
   "id": "ba0711c0",
   "metadata": {},
   "outputs": [],
   "source": [
    "# we will use the min and max ratings observed from our data\n",
    "reader = Reader(rating_scale=(min(df['rating']), max(df['rating'])))\n",
    "data = Dataset.load_from_df(df[['userId', 'movieId', 'rating']], reader)"
   ]
  },
  {
   "cell_type": "code",
   "execution_count": 8,
   "id": "f9b1c25a",
   "metadata": {},
   "outputs": [],
   "source": [
    "trainset, testset = train_test_split(data,\n",
    "                                    test_size=0.2,\n",
    "                                    random_state=42\n",
    "                                    )"
   ]
  },
  {
   "cell_type": "markdown",
   "id": "eb9d271e",
   "metadata": {},
   "source": [
    "We will define all the parameters of the `SVDpp` model as per the best params that we saw earlier."
   ]
  },
  {
   "cell_type": "code",
   "execution_count": 26,
   "id": "39cd918c",
   "metadata": {},
   "outputs": [],
   "source": [
    "algo_best_model = SVDpp(n_factors=80, \n",
    "                        n_epochs=25, \n",
    "                        lr_all=0.014, \n",
    "                        reg_all=0.075, \n",
    "                        init_mean=0, \n",
    "                        init_std_dev=0.025, \n",
    "                        verbose=False\n",
    "                       )"
   ]
  },
  {
   "cell_type": "code",
   "execution_count": 10,
   "id": "ea6b8ec9",
   "metadata": {},
   "outputs": [
    {
     "data": {
      "text/plain": [
       "<surprise.prediction_algorithms.matrix_factorization.SVDpp at 0x28057f60b80>"
      ]
     },
     "execution_count": 10,
     "metadata": {},
     "output_type": "execute_result"
    }
   ],
   "source": [
    "algo1.fit(trainset);"
   ]
  },
  {
   "cell_type": "code",
   "execution_count": 13,
   "id": "999eb893",
   "metadata": {},
   "outputs": [],
   "source": [
    "predictions = algo1.test(testset)"
   ]
  },
  {
   "cell_type": "code",
   "execution_count": 14,
   "id": "f6baa3d1",
   "metadata": {},
   "outputs": [
    {
     "name": "stdout",
     "output_type": "stream",
     "text": [
      "RMSE: 0.8442\n"
     ]
    },
    {
     "data": {
      "text/plain": [
       "0.8442193432294534"
      ]
     },
     "execution_count": 14,
     "metadata": {},
     "output_type": "execute_result"
    }
   ],
   "source": [
    "rmse(predictions)"
   ]
  },
  {
   "cell_type": "markdown",
   "id": "f9948b1e",
   "metadata": {},
   "source": [
    "Here we can see that the `rmse` is even better than when we were tuning. However the predictions took about **8 seconds** to generate, and due to that reason, this model may not be the best model when it comes to movie recommendations. Users will not wait around for **8 seconds** for an app to load on their mobile device, they tend to just switch apps, and now that there is so much fierce competition in the video streaming space, this length of time is too long. \n",
    "\n",
    "Let's test out how long the `SVD` model (our 2nd best model) takes to create predictions."
   ]
  },
  {
   "cell_type": "code",
   "execution_count": null,
   "id": "a6791a6c",
   "metadata": {},
   "outputs": [],
   "source": []
  },
  {
   "cell_type": "code",
   "execution_count": 498,
   "id": "4fb6cf64",
   "metadata": {},
   "outputs": [
    {
     "data": {
      "text/plain": [
       "{'rmse': {'n_factors': 80,\n",
       "  'n_epochs': 25,\n",
       "  'biased': True,\n",
       "  'lr_all': 0.014,\n",
       "  'reg_all': 0.075}}"
      ]
     },
     "execution_count": 498,
     "metadata": {},
     "output_type": "execute_result"
    }
   ],
   "source": [
    "svd_tuned_5.best_params"
   ]
  },
  {
   "cell_type": "code",
   "execution_count": 29,
   "id": "7d0bf1d4",
   "metadata": {},
   "outputs": [],
   "source": [
    "algo2 = SVD(n_factors=80,\n",
    "            n_epochs=25,\n",
    "            biased=True,\n",
    "            lr_all=0.014,\n",
    "            reg_all=0.075,\n",
    "            verbose=False\n",
    ")"
   ]
  },
  {
   "cell_type": "code",
   "execution_count": 30,
   "id": "8e285b57",
   "metadata": {},
   "outputs": [],
   "source": [
    "algo2.fit(trainset);"
   ]
  },
  {
   "cell_type": "code",
   "execution_count": 17,
   "id": "cc219834",
   "metadata": {},
   "outputs": [],
   "source": [
    "predictions2 = algo2.test(testset)"
   ]
  },
  {
   "cell_type": "code",
   "execution_count": 18,
   "id": "ce8e9fac",
   "metadata": {},
   "outputs": [
    {
     "name": "stdout",
     "output_type": "stream",
     "text": [
      "RMSE: 0.8533\n"
     ]
    },
    {
     "data": {
      "text/plain": [
       "0.8533256808314602"
      ]
     },
     "execution_count": 18,
     "metadata": {},
     "output_type": "execute_result"
    }
   ],
   "source": [
    "rmse(predictions2)"
   ]
  },
  {
   "cell_type": "markdown",
   "id": "905a3ff2",
   "metadata": {},
   "source": [
    "The cell generating the predictions took a split second to run. If we refer back to the model scores table, we can see that the test times were very different for these two models."
   ]
  },
  {
   "cell_type": "markdown",
   "id": "9977c312",
   "metadata": {},
   "source": [
    "## Next step: Error Analysis. Find that the ratings can be quite wrong. Then do mean-centering on all the user ratings, then rerun the model, see if it improves the `rmse` and the error analysis. I think it should."
   ]
  },
  {
   "cell_type": "code",
   "execution_count": 31,
   "id": "8ba88154",
   "metadata": {},
   "outputs": [
    {
     "data": {
      "text/plain": [
       "7"
      ]
     },
     "execution_count": 31,
     "metadata": {},
     "output_type": "execute_result"
    }
   ],
   "source": [
    "7"
   ]
  },
  {
   "cell_type": "markdown",
   "id": "5ab75fb5",
   "metadata": {},
   "source": [
    "After consideration of these results, I realized something about the ratings, which was also made clear by the EDA done earlier. \n",
    "\n",
    "The ratings for each user might mean something different. \n",
    "\n",
    "For example, user A may give a 3 for an average movie, and a 4 for movies they really like, maybe a maximum rating of 4.5.\n",
    "\n",
    "User B, may give a rating of 2.5 for an average movie. 3 for a movie they like, and 5 for a movie they will watch again. \n",
    "\n",
    "User C may give a 2 for any movie they would not watch again (below average) and a 4 for any movie they like, regardless of how much they like it. \n",
    "\n",
    "Given these discrepancies between users, it might be better for us to do some feature engineering on the ratings given by all the users. This would have to be done on a per user basis, by analysis the distribution of all of the users past ratings, and normalizing it to a mean of 3. i.e. users who have a mean of 2.5 will get 0.5 added to all their ratings, and users who have a mean of 3.5 will get 0.5 subtracted from their ratings.\n",
    "\n",
    "These new ratings, would then \"mean\" the same across all the users. \n",
    "\n",
    "### my thoughts: I think this is relevant because the model is recommending movies based on other user's rating of the movies, and the movies that the user has watched."
   ]
  },
  {
   "cell_type": "markdown",
   "id": "e8d1acc1",
   "metadata": {},
   "source": [
    "# From Chee Yong for Neural Networks"
   ]
  },
  {
   "cell_type": "markdown",
   "id": "77f13916",
   "metadata": {},
   "source": [
    "1. key thing to tune in the NN is the learning rate. \n",
    "2. look at regularization aspects to make sure that you don't overfit\n",
    "3. depending on architecture, how many layers? more/less complex\n",
    "4. depending on how fast the model runs, batch size (using batch normalization)"
   ]
  },
  {
   "cell_type": "code",
   "execution_count": null,
   "id": "8a26b46c",
   "metadata": {},
   "outputs": [],
   "source": []
  },
  {
   "cell_type": "code",
   "execution_count": null,
   "id": "c35e64ac",
   "metadata": {},
   "outputs": [],
   "source": []
  },
  {
   "cell_type": "code",
   "execution_count": null,
   "id": "b88f8e64",
   "metadata": {},
   "outputs": [],
   "source": []
  },
  {
   "cell_type": "code",
   "execution_count": null,
   "id": "647ec292",
   "metadata": {},
   "outputs": [],
   "source": []
  },
  {
   "cell_type": "code",
   "execution_count": null,
   "id": "047eedd2",
   "metadata": {},
   "outputs": [],
   "source": []
  },
  {
   "cell_type": "code",
   "execution_count": null,
   "id": "9e470460",
   "metadata": {},
   "outputs": [],
   "source": []
  },
  {
   "cell_type": "code",
   "execution_count": null,
   "id": "6868c6ca",
   "metadata": {},
   "outputs": [],
   "source": []
  },
  {
   "cell_type": "code",
   "execution_count": null,
   "id": "33becb7d",
   "metadata": {},
   "outputs": [],
   "source": []
  },
  {
   "cell_type": "code",
   "execution_count": null,
   "id": "f7810410",
   "metadata": {},
   "outputs": [],
   "source": []
  },
  {
   "cell_type": "markdown",
   "id": "672928eb",
   "metadata": {},
   "source": [
    "# Everything below this is meant to be removed!"
   ]
  },
  {
   "cell_type": "markdown",
   "id": "75918580",
   "metadata": {},
   "source": [
    "## Testing out the surprise library"
   ]
  },
  {
   "cell_type": "code",
   "execution_count": null,
   "id": "4544dfed",
   "metadata": {},
   "outputs": [],
   "source": []
  },
  {
   "cell_type": "code",
   "execution_count": 7,
   "id": "010eb895",
   "metadata": {},
   "outputs": [],
   "source": [
    "model_df = df[['userId', 'movieId', 'rating']]\n",
    "reader = Reader(rating_scale=(1, 5))\n",
    "\n",
    "data = Dataset.load_from_df(model_df, reader)"
   ]
  },
  {
   "cell_type": "code",
   "execution_count": 14,
   "id": "79d5c0de",
   "metadata": {},
   "outputs": [
    {
     "data": {
      "text/plain": [
       "{'test_rmse': array([0.88826356, 0.89173906]),\n",
       " 'test_mae': array([0.68305157, 0.68694068]),\n",
       " 'fit_time': (2.442307233810425, 2.249831438064575),\n",
       " 'test_time': (0.43283677101135254, 0.3179023265838623)}"
      ]
     },
     "execution_count": 14,
     "metadata": {},
     "output_type": "execute_result"
    }
   ],
   "source": [
    "cross_validate(\n",
    "    SVD(),\n",
    "    data,\n",
    "    cv=2)"
   ]
  },
  {
   "cell_type": "code",
   "execution_count": 15,
   "id": "0d1b04f1",
   "metadata": {},
   "outputs": [],
   "source": [
    "model_eval = []"
   ]
  },
  {
   "cell_type": "code",
   "execution_count": 16,
   "id": "8960eb62",
   "metadata": {},
   "outputs": [],
   "source": [
    "model_eval.append(cross_validate(\n",
    "    SVD(),\n",
    "    data,\n",
    "    cv=2))"
   ]
  },
  {
   "cell_type": "code",
   "execution_count": 17,
   "id": "06626cc3",
   "metadata": {},
   "outputs": [
    {
     "data": {
      "text/plain": [
       "[{'test_rmse': array([0.88875795, 0.89281425]),\n",
       "  'test_mae': array([0.68532927, 0.68730914]),\n",
       "  'fit_time': (3.0132787227630615, 3.4397733211517334),\n",
       "  'test_time': (0.3871781826019287, 0.30802178382873535)}]"
      ]
     },
     "execution_count": 17,
     "metadata": {},
     "output_type": "execute_result"
    }
   ],
   "source": [
    "model_eval"
   ]
  },
  {
   "cell_type": "code",
   "execution_count": null,
   "id": "b9c57315",
   "metadata": {},
   "outputs": [],
   "source": []
  },
  {
   "cell_type": "code",
   "execution_count": 31,
   "id": "c8a7d789",
   "metadata": {},
   "outputs": [
    {
     "data": {
      "text/plain": [
       "<surprise.prediction_algorithms.matrix_factorization.SVD at 0x2e801dd3e50>"
      ]
     },
     "execution_count": 31,
     "metadata": {},
     "output_type": "execute_result"
    }
   ],
   "source": [
    "algo.fit(trainset)"
   ]
  },
  {
   "cell_type": "code",
   "execution_count": 41,
   "id": "23808aba",
   "metadata": {},
   "outputs": [
    {
     "name": "stdout",
     "output_type": "stream",
     "text": [
      "RMSE: 0.6363\n"
     ]
    },
    {
     "data": {
      "text/plain": [
       "0.6363030508187035"
      ]
     },
     "execution_count": 41,
     "metadata": {},
     "output_type": "execute_result"
    }
   ],
   "source": [
    "rmse(algo.test(trainset.build_testset()))"
   ]
  },
  {
   "cell_type": "code",
   "execution_count": 40,
   "id": "b538c1c0",
   "metadata": {},
   "outputs": [
    {
     "name": "stdout",
     "output_type": "stream",
     "text": [
      "RMSE: 0.8726\n"
     ]
    },
    {
     "data": {
      "text/plain": [
       "0.8726184158765463"
      ]
     },
     "execution_count": 40,
     "metadata": {},
     "output_type": "execute_result"
    }
   ],
   "source": [
    "rmse(algo.test(testset))"
   ]
  },
  {
   "cell_type": "code",
   "execution_count": null,
   "id": "d62759e0",
   "metadata": {},
   "outputs": [],
   "source": []
  },
  {
   "cell_type": "code",
   "execution_count": 27,
   "id": "753f661f",
   "metadata": {},
   "outputs": [
    {
     "data": {
      "text/plain": [
       "<surprise.dataset.DatasetAutoFolds at 0x2e8041683a0>"
      ]
     },
     "execution_count": 27,
     "metadata": {},
     "output_type": "execute_result"
    }
   ],
   "source": [
    "train_data"
   ]
  },
  {
   "cell_type": "code",
   "execution_count": 29,
   "id": "f0edc9a3",
   "metadata": {},
   "outputs": [],
   "source": [
    "# please take note that this train_test_split is from the \n",
    "# SURPRISE library, it is built to accept the type\n",
    "# of data that the surprise algorithms take\n",
    "trainset, testset = train_test_split(data,\n",
    "                                    test_size=0.2, \n",
    "                                    random_state=42)"
   ]
  },
  {
   "cell_type": "code",
   "execution_count": 30,
   "id": "daddb140",
   "metadata": {},
   "outputs": [
    {
     "data": {
      "text/plain": [
       "<surprise.trainset.Trainset at 0x2e801ee34c0>"
      ]
     },
     "execution_count": 30,
     "metadata": {},
     "output_type": "execute_result"
    }
   ],
   "source": [
    "trainset"
   ]
  },
  {
   "cell_type": "code",
   "execution_count": null,
   "id": "50c5e4a2",
   "metadata": {},
   "outputs": [],
   "source": []
  },
  {
   "cell_type": "code",
   "execution_count": 110,
   "id": "74108137",
   "metadata": {},
   "outputs": [],
   "source": [
    "# method for splitting the data if we want to\n",
    "# tune the hyperparameters for our model\n",
    "raw_ratings = data.raw_ratings\n",
    "\n",
    "# shuffling our raw_ratings\n",
    "random.shuffle(raw_ratings)\n",
    "\n",
    "# train = 80% of the data, test = 20% of the data\n",
    "# this gets the last row of the train set\n",
    "train_rows = int(0.8 * len(raw_ratings))\n",
    "\n",
    "# splitting raw_ratings into train and test set\n",
    "train_raw_ratings = raw_ratings[:train_rows]\n",
    "test_raw_ratings = raw_ratings[train_rows:]  # we can use our testset as is\n",
    "\n",
    "# redefining 'data' as our train set\n",
    "data.raw_ratings = train_raw_ratings "
   ]
  }
 ],
 "metadata": {
  "kernelspec": {
   "display_name": "Python 3 (ipykernel)",
   "language": "python",
   "name": "python3"
  },
  "language_info": {
   "codemirror_mode": {
    "name": "ipython",
    "version": 3
   },
   "file_extension": ".py",
   "mimetype": "text/x-python",
   "name": "python",
   "nbconvert_exporter": "python",
   "pygments_lexer": "ipython3",
   "version": "3.8.12"
  }
 },
 "nbformat": 4,
 "nbformat_minor": 5
}
